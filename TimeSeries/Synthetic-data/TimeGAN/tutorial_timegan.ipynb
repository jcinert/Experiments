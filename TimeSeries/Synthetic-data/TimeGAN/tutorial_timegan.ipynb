{
 "cells": [
  {
   "cell_type": "markdown",
   "metadata": {},
   "source": [
    "# TimeGAN Tutorial\n",
    "\n",
    "## Time-series Generative Adversarial Networks\n",
    "\n",
    "- Paper: Jinsung Yoon, Daniel Jarrett, Mihaela van der Schaar, \"Time-series Generative Adversarial Networks,\" Neural Information Processing Systems (NeurIPS), 2019.\n",
    "\n",
    "- Paper link: https://papers.nips.cc/paper/8789-time-series-generative-adversarial-networks\n",
    "\n",
    "- Last updated Date: April 24th 2020\n",
    "\n",
    "- Code author: Jinsung Yoon (jsyoon0823@gmail.com)\n",
    "\n",
    "This notebook describes the user-guide of a time-series synthetic data generation application using timeGAN framework. We use Stock, Energy, and Sine dataset as examples.\n",
    "\n",
    "### Prerequisite\n",
    "Clone https://github.com/jsyoon0823/timeGAN.git to the current directory."
   ]
  },
  {
   "cell_type": "markdown",
   "metadata": {},
   "source": [
    "## Necessary packages and functions call\n",
    "\n",
    "- timegan: Synthetic time-series data generation module\n",
    "- data_loading: 2 real datasets and 1 synthetic datasets loading and preprocessing\n",
    "- metrics: \n",
    "    - discriminative_metrics: classify real data from synthetic data\n",
    "    - predictive_metrics: train on synthetic, test on real\n",
    "    - visualization: PCA and tSNE analyses"
   ]
  },
  {
   "cell_type": "code",
   "execution_count": 1,
   "metadata": {},
   "outputs": [],
   "source": [
    "## Necessary packages\n",
    "from __future__ import absolute_import\n",
    "from __future__ import division\n",
    "from __future__ import print_function\n",
    "\n",
    "import numpy as np\n",
    "import warnings\n",
    "warnings.filterwarnings(\"ignore\")\n",
    "\n",
    "# 1. TimeGAN model\n",
    "from timegan import timegan\n",
    "# 2. Data loading\n",
    "from data_loading import real_data_loading, sine_data_generation\n",
    "# 3. Metrics\n",
    "from metrics.discriminative_metrics import discriminative_score_metrics\n",
    "from metrics.predictive_metrics import predictive_score_metrics\n",
    "from metrics.visualization_metrics import visualization"
   ]
  },
  {
   "cell_type": "markdown",
   "metadata": {},
   "source": [
    "## Data Loading\n",
    "\n",
    "Load original dataset and preprocess the loaded data.\n",
    "\n",
    "- data_name: stock, energy, or sine\n",
    "- seq_len: sequence length of the time-series data"
   ]
  },
  {
   "cell_type": "code",
   "execution_count": 2,
   "metadata": {},
   "outputs": [
    {
     "name": "stdout",
     "output_type": "stream",
     "text": [
      "mystock dataset is ready.\n"
     ]
    }
   ],
   "source": [
    "## Data loading\n",
    "data_name = 'mystock'\n",
    "seq_len = 20\n",
    "\n",
    "if data_name in ['stock', 'energy', 'mystock']:\n",
    "  ori_data = real_data_loading(data_name, seq_len)\n",
    "elif data_name == 'sine':\n",
    "  # Set number of samples and its dimensions\n",
    "  no, dim = 1000, 5\n",
    "  ori_data = sine_data_generation(no, seq_len, dim)\n",
    "    \n",
    "print(data_name + ' dataset is ready.')"
   ]
  },
  {
   "cell_type": "markdown",
   "metadata": {},
   "source": [
    "## Set network parameters\n",
    "\n",
    "TimeGAN network parameters should be optimized for different datasets.\n",
    "\n",
    "- module: gru, lstm, or lstmLN\n",
    "- hidden_dim: hidden dimensions\n",
    "- num_layer: number of layers\n",
    "- iteration: number of training iterations\n",
    "- batch_size: the number of samples in each batch"
   ]
  },
  {
   "cell_type": "code",
   "execution_count": 3,
   "metadata": {},
   "outputs": [],
   "source": [
    "## Newtork parameters\n",
    "parameters = dict()\n",
    "\n",
    "parameters['module'] = 'gru' \n",
    "parameters['hidden_dim'] = 24\n",
    "parameters['num_layer'] = 3\n",
    "parameters['iterations'] = 30000\n",
    "parameters['batch_size'] = 128"
   ]
  },
  {
   "cell_type": "markdown",
   "metadata": {},
   "source": [
    "## Run TimeGAN for synthetic time-series data generation\n",
    "\n",
    "TimeGAN uses the original data and network parameters to return the generated synthetic data."
   ]
  },
  {
   "cell_type": "code",
   "execution_count": 4,
   "metadata": {},
   "outputs": [
    {
     "name": "stdout",
     "output_type": "stream",
     "text": [
      "WARNING:tensorflow:From b:\\Honza\\AI\\GitHub_Projects\\Crypto\\Crypto\\Synthetic-data\\TimeGAN\\timegan.py:38: The name tf.reset_default_graph is deprecated. Please use tf.compat.v1.reset_default_graph instead.\n",
      "\n",
      "WARNING:tensorflow:From b:\\Honza\\AI\\GitHub_Projects\\Crypto\\Crypto\\Synthetic-data\\TimeGAN\\timegan.py:80: The name tf.placeholder is deprecated. Please use tf.compat.v1.placeholder instead.\n",
      "\n",
      "WARNING:tensorflow:From b:\\Honza\\AI\\GitHub_Projects\\Crypto\\Crypto\\Synthetic-data\\TimeGAN\\timegan.py:94: The name tf.variable_scope is deprecated. Please use tf.compat.v1.variable_scope instead.\n",
      "\n",
      "WARNING:tensorflow:From b:\\Honza\\AI\\GitHub_Projects\\Crypto\\Crypto\\Synthetic-data\\TimeGAN\\timegan.py:94: The name tf.AUTO_REUSE is deprecated. Please use tf.compat.v1.AUTO_REUSE instead.\n",
      "\n",
      "WARNING:tensorflow:From b:\\Honza\\AI\\GitHub_Projects\\Crypto\\Crypto\\Synthetic-data\\TimeGAN\\utils.py:95: GRUCell.__init__ (from tensorflow.python.ops.rnn_cell_impl) is deprecated and will be removed in a future version.\n",
      "Instructions for updating:\n",
      "This class is equivalent as tf.keras.layers.GRUCell, and will be replaced by that in Tensorflow 2.0.\n",
      "WARNING:tensorflow:From b:\\Honza\\AI\\GitHub_Projects\\Crypto\\Crypto\\Synthetic-data\\TimeGAN\\timegan.py:95: MultiRNNCell.__init__ (from tensorflow.python.ops.rnn_cell_impl) is deprecated and will be removed in a future version.\n",
      "Instructions for updating:\n",
      "This class is equivalent as tf.keras.layers.StackedRNNCells, and will be replaced by that in Tensorflow 2.0.\n",
      "WARNING:tensorflow:From b:\\Honza\\AI\\GitHub_Projects\\Crypto\\Crypto\\Synthetic-data\\TimeGAN\\timegan.py:96: dynamic_rnn (from tensorflow.python.ops.rnn) is deprecated and will be removed in a future version.\n",
      "Instructions for updating:\n",
      "Please use `keras.layers.RNN(cell)`, which is equivalent to this API\n",
      "WARNING:tensorflow:From c:\\Miniconda3\\lib\\site-packages\\tensorflow_core\\python\\ops\\rnn_cell_impl.py:559: Layer.add_variable (from tensorflow.python.keras.engine.base_layer) is deprecated and will be removed in a future version.\n",
      "Instructions for updating:\n",
      "Please use `layer.add_weight` method instead.\n",
      "WARNING:tensorflow:From c:\\Miniconda3\\lib\\site-packages\\tensorflow_core\\python\\ops\\rnn_cell_impl.py:565: calling Constant.__init__ (from tensorflow.python.ops.init_ops) with dtype is deprecated and will be removed in a future version.\n",
      "Instructions for updating:\n",
      "Call initializer instance with the dtype argument instead of passing it to the constructor\n",
      "WARNING:tensorflow:From c:\\Miniconda3\\lib\\site-packages\\tensorflow_core\\python\\ops\\rnn_cell_impl.py:575: calling Zeros.__init__ (from tensorflow.python.ops.init_ops) with dtype is deprecated and will be removed in a future version.\n",
      "Instructions for updating:\n",
      "Call initializer instance with the dtype argument instead of passing it to the constructor\n",
      "WARNING:tensorflow:From c:\\Miniconda3\\lib\\site-packages\\tensorflow_core\\python\\ops\\rnn.py:244: where (from tensorflow.python.ops.array_ops) is deprecated and will be removed in a future version.\n",
      "Instructions for updating:\n",
      "Use tf.where in 2.0, which has the same broadcast rule as np.where\n",
      "WARNING:tensorflow:\n",
      "The TensorFlow contrib module will not be included in TensorFlow 2.0.\n",
      "For more information, please see:\n",
      "  * https://github.com/tensorflow/community/blob/master/rfcs/20180907-contrib-sunset.md\n",
      "  * https://github.com/tensorflow/addons\n",
      "  * https://github.com/tensorflow/io (for I/O related ops)\n",
      "If you depend on functionality not listed there, please file an issue.\n",
      "\n",
      "WARNING:tensorflow:From c:\\Miniconda3\\lib\\site-packages\\tensorflow_core\\contrib\\layers\\python\\layers\\layers.py:1866: Layer.apply (from tensorflow.python.keras.engine.base_layer) is deprecated and will be removed in a future version.\n",
      "Instructions for updating:\n",
      "Please use `layer.__call__` method instead.\n",
      "WARNING:tensorflow:From b:\\Honza\\AI\\GitHub_Projects\\Crypto\\Crypto\\Synthetic-data\\TimeGAN\\timegan.py:182: The name tf.trainable_variables is deprecated. Please use tf.compat.v1.trainable_variables instead.\n",
      "\n",
      "WARNING:tensorflow:From b:\\Honza\\AI\\GitHub_Projects\\Crypto\\Crypto\\Synthetic-data\\TimeGAN\\timegan.py:189: The name tf.losses.sigmoid_cross_entropy is deprecated. Please use tf.compat.v1.losses.sigmoid_cross_entropy instead.\n",
      "\n",
      "WARNING:tensorflow:From b:\\Honza\\AI\\GitHub_Projects\\Crypto\\Crypto\\Synthetic-data\\TimeGAN\\timegan.py:200: The name tf.losses.mean_squared_error is deprecated. Please use tf.compat.v1.losses.mean_squared_error instead.\n",
      "\n",
      "WARNING:tensorflow:From b:\\Honza\\AI\\GitHub_Projects\\Crypto\\Crypto\\Synthetic-data\\TimeGAN\\timegan.py:217: The name tf.train.AdamOptimizer is deprecated. Please use tf.compat.v1.train.AdamOptimizer instead.\n",
      "\n",
      "WARNING:tensorflow:From b:\\Honza\\AI\\GitHub_Projects\\Crypto\\Crypto\\Synthetic-data\\TimeGAN\\timegan.py:224: The name tf.Session is deprecated. Please use tf.compat.v1.Session instead.\n",
      "\n",
      "WARNING:tensorflow:From b:\\Honza\\AI\\GitHub_Projects\\Crypto\\Crypto\\Synthetic-data\\TimeGAN\\timegan.py:225: The name tf.global_variables_initializer is deprecated. Please use tf.compat.v1.global_variables_initializer instead.\n",
      "\n",
      "Start Embedding Network Training\n",
      "step: 0/30000, e_loss: 0.3315\n",
      "step: 1000/30000, e_loss: 0.0214\n",
      "step: 2000/30000, e_loss: 0.018\n",
      "step: 3000/30000, e_loss: 0.017\n",
      "step: 4000/30000, e_loss: 0.0117\n",
      "step: 5000/30000, e_loss: 0.0104\n",
      "step: 6000/30000, e_loss: 0.0103\n",
      "step: 7000/30000, e_loss: 0.0098\n",
      "step: 8000/30000, e_loss: 0.009\n",
      "step: 9000/30000, e_loss: 0.0089\n",
      "step: 10000/30000, e_loss: 0.0139\n",
      "step: 11000/30000, e_loss: 0.0097\n",
      "step: 12000/30000, e_loss: 0.0096\n",
      "step: 13000/30000, e_loss: 0.0085\n",
      "step: 14000/30000, e_loss: 0.0085\n",
      "step: 15000/30000, e_loss: 0.0078\n",
      "step: 16000/30000, e_loss: 0.0074\n",
      "step: 17000/30000, e_loss: 0.0076\n",
      "step: 18000/30000, e_loss: 0.006\n",
      "step: 19000/30000, e_loss: 0.0054\n",
      "step: 20000/30000, e_loss: 0.0038\n",
      "step: 21000/30000, e_loss: 0.0036\n",
      "step: 22000/30000, e_loss: 0.0037\n",
      "step: 23000/30000, e_loss: 0.0027\n",
      "step: 24000/30000, e_loss: 0.0047\n",
      "step: 25000/30000, e_loss: 0.0026\n",
      "step: 26000/30000, e_loss: 0.0026\n",
      "step: 27000/30000, e_loss: 0.0022\n",
      "step: 28000/30000, e_loss: 0.0021\n",
      "step: 29000/30000, e_loss: 0.0023\n",
      "Finish Embedding Network Training\n",
      "Start Training with Supervised Loss Only\n",
      "step: 0/30000, s_loss: 0.3142\n",
      "step: 1000/30000, s_loss: 0.047\n",
      "step: 2000/30000, s_loss: 0.0414\n",
      "step: 3000/30000, s_loss: 0.04\n",
      "step: 4000/30000, s_loss: 0.0387\n",
      "step: 5000/30000, s_loss: 0.0412\n",
      "step: 6000/30000, s_loss: 0.0373\n",
      "step: 7000/30000, s_loss: 0.0383\n",
      "step: 8000/30000, s_loss: 0.0337\n",
      "step: 9000/30000, s_loss: 0.0353\n",
      "step: 10000/30000, s_loss: 0.0333\n",
      "step: 11000/30000, s_loss: 0.0329\n",
      "step: 12000/30000, s_loss: 0.0316\n",
      "step: 13000/30000, s_loss: 0.0312\n",
      "step: 14000/30000, s_loss: 0.0299\n",
      "step: 15000/30000, s_loss: 0.0295\n",
      "step: 16000/30000, s_loss: 0.0294\n",
      "step: 17000/30000, s_loss: 0.0285\n",
      "step: 18000/30000, s_loss: 0.0289\n",
      "step: 19000/30000, s_loss: 0.0281\n",
      "step: 20000/30000, s_loss: 0.0288\n",
      "step: 21000/30000, s_loss: 0.0269\n",
      "step: 22000/30000, s_loss: 0.027\n",
      "step: 23000/30000, s_loss: 0.0267\n",
      "step: 24000/30000, s_loss: 0.0264\n",
      "step: 25000/30000, s_loss: 0.0255\n",
      "step: 26000/30000, s_loss: 0.0257\n",
      "step: 27000/30000, s_loss: 0.0262\n",
      "step: 28000/30000, s_loss: 0.0259\n",
      "step: 29000/30000, s_loss: 0.0251\n",
      "Finish Training with Supervised Loss Only\n",
      "Start Joint Training\n",
      "step: 0/30000, d_loss: 2.0296, g_loss_u: 0.6796, g_loss_s: 0.0381, g_loss_v: 0.4193, e_loss_t0: 0.0442\n",
      "step: 1000/30000, d_loss: 1.1138, g_loss_u: 1.3997, g_loss_s: 0.0358, g_loss_v: 0.0276, e_loss_t0: 0.0024\n",
      "step: 2000/30000, d_loss: 1.2903, g_loss_u: 1.1835, g_loss_s: 0.0362, g_loss_v: 0.0349, e_loss_t0: 0.0021\n",
      "step: 3000/30000, d_loss: 1.1798, g_loss_u: 1.674, g_loss_s: 0.0395, g_loss_v: 0.0343, e_loss_t0: 0.0017\n",
      "step: 4000/30000, d_loss: 1.2784, g_loss_u: 1.4427, g_loss_s: 0.0401, g_loss_v: 0.0361, e_loss_t0: 0.0023\n",
      "step: 5000/30000, d_loss: 1.213, g_loss_u: 1.2343, g_loss_s: 0.0433, g_loss_v: 0.0608, e_loss_t0: 0.0027\n",
      "step: 6000/30000, d_loss: 1.2389, g_loss_u: 1.7247, g_loss_s: 0.0376, g_loss_v: 0.0204, e_loss_t0: 0.0015\n",
      "step: 7000/30000, d_loss: 1.1425, g_loss_u: 1.6143, g_loss_s: 0.0356, g_loss_v: 0.028, e_loss_t0: 0.0019\n",
      "step: 8000/30000, d_loss: 1.3174, g_loss_u: 1.6149, g_loss_s: 0.0363, g_loss_v: 0.0222, e_loss_t0: 0.0015\n",
      "step: 9000/30000, d_loss: 1.2669, g_loss_u: 1.6504, g_loss_s: 0.038, g_loss_v: 0.0211, e_loss_t0: 0.0016\n",
      "step: 10000/30000, d_loss: 1.5223, g_loss_u: 1.6873, g_loss_s: 0.0391, g_loss_v: 0.0428, e_loss_t0: 0.0012\n",
      "step: 11000/30000, d_loss: 1.0946, g_loss_u: 1.8492, g_loss_s: 0.0351, g_loss_v: 0.0268, e_loss_t0: 0.0036\n",
      "step: 12000/30000, d_loss: 1.0981, g_loss_u: 1.5603, g_loss_s: 0.0344, g_loss_v: 0.0277, e_loss_t0: 0.0032\n",
      "step: 13000/30000, d_loss: 1.1993, g_loss_u: 1.6709, g_loss_s: 0.0338, g_loss_v: 0.0334, e_loss_t0: 0.0014\n",
      "step: 14000/30000, d_loss: 1.2936, g_loss_u: 1.7828, g_loss_s: 0.0368, g_loss_v: 0.0237, e_loss_t0: 0.0026\n",
      "step: 15000/30000, d_loss: 1.5019, g_loss_u: 1.5939, g_loss_s: 0.0377, g_loss_v: 0.0291, e_loss_t0: 0.0032\n",
      "step: 16000/30000, d_loss: 1.1725, g_loss_u: 1.9509, g_loss_s: 0.0358, g_loss_v: 0.0355, e_loss_t0: 0.0012\n",
      "step: 17000/30000, d_loss: 1.0875, g_loss_u: 2.0337, g_loss_s: 0.0364, g_loss_v: 0.0416, e_loss_t0: 0.0023\n",
      "step: 18000/30000, d_loss: 1.1557, g_loss_u: 1.6252, g_loss_s: 0.0399, g_loss_v: 0.0597, e_loss_t0: 0.0013\n",
      "step: 19000/30000, d_loss: 1.3571, g_loss_u: 1.6106, g_loss_s: 0.0361, g_loss_v: 0.0373, e_loss_t0: 0.0032\n",
      "step: 20000/30000, d_loss: 1.2989, g_loss_u: 1.575, g_loss_s: 0.035, g_loss_v: 0.033, e_loss_t0: 0.0022\n",
      "step: 21000/30000, d_loss: 1.1296, g_loss_u: 1.9178, g_loss_s: 0.0361, g_loss_v: 0.0321, e_loss_t0: 0.0009\n",
      "step: 22000/30000, d_loss: 1.1103, g_loss_u: 1.7131, g_loss_s: 0.035, g_loss_v: 0.0486, e_loss_t0: 0.0011\n",
      "step: 23000/30000, d_loss: 1.0378, g_loss_u: 1.9431, g_loss_s: 0.0354, g_loss_v: 0.0638, e_loss_t0: 0.0009\n",
      "step: 24000/30000, d_loss: 1.1195, g_loss_u: 2.0104, g_loss_s: 0.0377, g_loss_v: 0.0269, e_loss_t0: 0.0019\n",
      "step: 25000/30000, d_loss: 1.0666, g_loss_u: 1.9313, g_loss_s: 0.0398, g_loss_v: 0.0248, e_loss_t0: 0.0013\n",
      "step: 26000/30000, d_loss: 1.0462, g_loss_u: 1.8921, g_loss_s: 0.0415, g_loss_v: 0.0614, e_loss_t0: 0.0009\n",
      "step: 27000/30000, d_loss: 0.9949, g_loss_u: 1.9642, g_loss_s: 0.0393, g_loss_v: 0.0451, e_loss_t0: 0.0011\n",
      "step: 28000/30000, d_loss: 0.957, g_loss_u: 2.1747, g_loss_s: 0.0391, g_loss_v: 0.068, e_loss_t0: 0.0013\n",
      "step: 29000/30000, d_loss: 1.1597, g_loss_u: 2.0559, g_loss_s: 0.0377, g_loss_v: 0.025, e_loss_t0: 0.0012\n",
      "Finish Joint Training\n",
      "Finish Synthetic Data Generation\n"
     ]
    }
   ],
   "source": [
    "# Run TimeGAN\n",
    "generated_data = timegan(ori_data, parameters)   \n",
    "print('Finish Synthetic Data Generation')"
   ]
  },
  {
   "cell_type": "markdown",
   "metadata": {},
   "source": [
    "## Evaluate the generated data\n",
    "\n",
    "### 1. Discriminative score\n",
    "\n",
    "To evaluate the classification accuracy between original and synthetic data using post-hoc RNN network. The output is |classification accuracy - 0.5|.\n",
    "\n",
    "- metric_iteration: the number of iterations for metric computation."
   ]
  },
  {
   "cell_type": "code",
   "execution_count": 5,
   "metadata": {},
   "outputs": [
    {
     "name": "stdout",
     "output_type": "stream",
     "text": [
      "WARNING:tensorflow:From b:\\Honza\\AI\\GitHub_Projects\\Crypto\\Crypto\\Synthetic-data\\TimeGAN\\metrics\\discriminative_metrics.py:81: all_variables (from tensorflow.python.ops.variables) is deprecated and will be removed after 2017-03-02.\n",
      "Instructions for updating:\n",
      "Please use tf.global_variables instead.\n",
      "Discriminative score: 0.0712\n"
     ]
    }
   ],
   "source": [
    "metric_iteration = 5\n",
    "\n",
    "discriminative_score = list()\n",
    "for _ in range(metric_iteration):\n",
    "  temp_disc = discriminative_score_metrics(ori_data, generated_data)\n",
    "  discriminative_score.append(temp_disc)\n",
    "\n",
    "print('Discriminative score: ' + str(np.round(np.mean(discriminative_score), 4)))"
   ]
  },
  {
   "cell_type": "markdown",
   "metadata": {},
   "source": [
    "## Evaluate the generated data\n",
    "\n",
    "### 2. Predictive score\n",
    "\n",
    "To evaluate the prediction performance on train on synthetic, test on real setting. More specifically, we use Post-hoc RNN architecture to predict one-step ahead and report the performance in terms of MAE."
   ]
  },
  {
   "cell_type": "code",
   "execution_count": 6,
   "metadata": {},
   "outputs": [
    {
     "name": "stdout",
     "output_type": "stream",
     "text": [
      "WARNING:tensorflow:From b:\\Honza\\AI\\GitHub_Projects\\Crypto\\Crypto\\Synthetic-data\\TimeGAN\\metrics\\predictive_metrics.py:81: The name tf.losses.absolute_difference is deprecated. Please use tf.compat.v1.losses.absolute_difference instead.\n",
      "\n",
      "Predictive score: 0.2014\n"
     ]
    }
   ],
   "source": [
    "predictive_score = list()\n",
    "for tt in range(metric_iteration):\n",
    "  temp_pred = predictive_score_metrics(ori_data, generated_data)\n",
    "  predictive_score.append(temp_pred)   \n",
    "    \n",
    "print('Predictive score: ' + str(np.round(np.mean(predictive_score), 4)))"
   ]
  },
  {
   "cell_type": "markdown",
   "metadata": {},
   "source": [
    "## Evaluate the generated data\n",
    "\n",
    "### 3. Visualization\n",
    "\n",
    "We visualize the original and synthetic data distributions using PCA and tSNE analysis."
   ]
  },
  {
   "cell_type": "code",
   "execution_count": 7,
   "metadata": {},
   "outputs": [
    {
     "data": {
      "image/png": "[encoded data removed]",
      "text/plain": [
       "<Figure size 640x480 with 1 Axes>"
      ]
     },
     "metadata": {},
     "output_type": "display_data"
    },
    {
     "name": "stdout",
     "output_type": "stream",
     "text": [
      "[t-SNE] Computing 121 nearest neighbors...\n",
      "[t-SNE] Indexed 2000 samples in 0.001s...\n",
      "[t-SNE] Computed neighbors for 2000 samples in 0.149s...\n",
      "[t-SNE] Computed conditional probabilities for sample 1000 / 2000\n",
      "[t-SNE] Computed conditional probabilities for sample 2000 / 2000\n",
      "[t-SNE] Mean sigma: 0.049000\n",
      "[t-SNE] KL divergence after 250 iterations with early exaggeration: 59.149307\n",
      "[t-SNE] KL divergence after 300 iterations: 0.869112\n"
     ]
    },
    {
     "data": {
      "image/png": "[encoded data removed]",
      "text/plain": [
       "<Figure size 640x480 with 1 Axes>"
      ]
     },
     "metadata": {},
     "output_type": "display_data"
    }
   ],
   "source": [
    "visualization(ori_data, generated_data, 'pca')\n",
    "visualization(ori_data, generated_data, 'tsne')"
   ]
  },
  {
   "attachments": {},
   "cell_type": "markdown",
   "metadata": {},
   "source": [
    "# Test"
   ]
  },
  {
   "cell_type": "code",
   "execution_count": 8,
   "metadata": {},
   "outputs": [
    {
     "data": {
      "text/plain": [
       "(1612, 20, 3)"
      ]
     },
     "execution_count": 8,
     "metadata": {},
     "output_type": "execute_result"
    }
   ],
   "source": [
    "np_ori_data = np.asarray(ori_data)\n",
    "np_ori_data.shape"
   ]
  },
  {
   "cell_type": "code",
   "execution_count": 9,
   "metadata": {},
   "outputs": [
    {
     "data": {
      "text/plain": [
       "(1612, 20, 3)"
      ]
     },
     "execution_count": 9,
     "metadata": {},
     "output_type": "execute_result"
    }
   ],
   "source": [
    "np_gen_data = np.asarray(generated_data)\n",
    "np_gen_data.shape"
   ]
  },
  {
   "attachments": {},
   "cell_type": "markdown",
   "metadata": {},
   "source": [
    "## Viz - randomly selected windows"
   ]
  },
  {
   "cell_type": "code",
   "execution_count": 10,
   "metadata": {},
   "outputs": [
    {
     "data": {
      "application/vnd.plotly.v1+json": {
       "config": {
        "plotlyServerURL": "https://plot.ly"
       },
       "data": [
        {
         "line": {
          "color": "rgb(31, 119, 180)",
          "width": 2
         },
         "name": "Ori",
         "showlegend": true,
         "type": "scatter",
         "x": [
          0,
          1,
          2,
          3,
          4,
          5,
          6,
          7,
          8,
          9,
          10,
          11,
          12,
          13,
          14,
          15,
          16,
          17,
          18,
          19
         ],
         "xaxis": "x",
         "y": [
          0.5520996746536109,
          0.5480266669208116,
          0.5392962335485189,
          0.542897916925057,
          0.5371261371664495,
          0.5269840994946893,
          0.522528322935452,
          0.5242174984086455,
          0.5196195349527578,
          0.5137254295171516,
          0.49462561735641236,
          0.5167707557927421,
          0.5825115143153191,
          0.5987510678955101,
          0.608547022296397,
          0.6066195121873827,
          0.6201166382760908,
          0.620955000401023,
          0.6198643947127463,
          0.6120429006434754
         ],
         "yaxis": "y"
        },
        {
         "line": {
          "color": "rgb(255, 127, 14)",
          "width": 2
         },
         "name": "Gen",
         "showlegend": true,
         "type": "scatter",
         "x": [
          0,
          1,
          2,
          3,
          4,
          5,
          6,
          7,
          8,
          9,
          10,
          11,
          12,
          13,
          14,
          15,
          16,
          17,
          18,
          19
         ],
         "xaxis": "x",
         "y": [
          0.19157698750466123,
          0.21470180153813356,
          0.2276855409141815,
          0.23663827776872082,
          0.23990553617440113,
          0.2589910924430635,
          0.2618716657157641,
          0.260030925273491,
          0.24420154094658075,
          0.23421728610956014,
          0.2204650938507467,
          0.21729671955074856,
          0.20808488130537103,
          0.21761980652775306,
          0.22922229766810062,
          0.23483380675279344,
          0.22658938169444137,
          0.2369947135444771,
          0.23444402217828536,
          0.24790063500365814
         ],
         "yaxis": "y"
        },
        {
         "line": {
          "color": "rgb(31, 119, 180)",
          "width": 2
         },
         "name": "Ori",
         "showlegend": true,
         "type": "scatter",
         "x": [
          0,
          1,
          2,
          3,
          4,
          5,
          6,
          7,
          8,
          9,
          10,
          11,
          12,
          13,
          14,
          15,
          16,
          17,
          18,
          19
         ],
         "xaxis": "x2",
         "y": [
          0.24750503392861034,
          0.24041794945389267,
          0.2520575352349283,
          0.24830962590636713,
          0.24202506832846388,
          0.2549621019492256,
          0.23233157838492394,
          0.2251995176620347,
          0.21576601533537315,
          0.2164032142814475,
          0.24090703958002588,
          0.24673117521429017,
          0.23523444444432753,
          0.23531221903687813,
          0.23954484537898862,
          0.23921962549940087,
          0.2267147404346699,
          0.2265091434055534,
          0.22404200942499233,
          0.20912289289443017
         ],
         "yaxis": "y2"
        },
        {
         "line": {
          "color": "rgb(255, 127, 14)",
          "width": 2
         },
         "name": "Gen",
         "showlegend": true,
         "type": "scatter",
         "x": [
          0,
          1,
          2,
          3,
          4,
          5,
          6,
          7,
          8,
          9,
          10,
          11,
          12,
          13,
          14,
          15,
          16,
          17,
          18,
          19
         ],
         "xaxis": "x2",
         "y": [
          0.4405831098549668,
          0.4273245036595376,
          0.43266344070367296,
          0.4214443564408425,
          0.41508385538990333,
          0.41260662674839715,
          0.4223912358277429,
          0.39499861001906966,
          0.3670691251749053,
          0.34601712226813874,
          0.34013730287498994,
          0.32359844446131936,
          0.307075440883159,
          0.3385901749128799,
          0.3259579539293943,
          0.34011399745888277,
          0.36809730529727924,
          0.39289745688377326,
          0.40851593017514604,
          0.417903006076163
         ],
         "yaxis": "y2"
        },
        {
         "line": {
          "color": "rgb(31, 119, 180)",
          "width": 2
         },
         "name": "Ori",
         "showlegend": true,
         "type": "scatter",
         "x": [
          0,
          1,
          2,
          3,
          4,
          5,
          6,
          7,
          8,
          9,
          10,
          11,
          12,
          13,
          14,
          15,
          16,
          17,
          18,
          19
         ],
         "xaxis": "x3",
         "y": [
          0.26129461192136444,
          0.26473783070441215,
          0.28547385508594025,
          0.2823543377406109,
          0.28439117566422184,
          0.2824411926155405,
          0.2844690413632846,
          0.27869932668561953,
          0.2742282442323387,
          0.31061985981992457,
          0.3126058603097481,
          0.32100654884568225,
          0.3248132218745891,
          0.3278013939982155,
          0.32952327670927584,
          0.3291054926133296,
          0.32218649965355434,
          0.3220487769759999,
          0.3098359793892664,
          0.3199207414337129
         ],
         "yaxis": "y3"
        },
        {
         "line": {
          "color": "rgb(255, 127, 14)",
          "width": 2
         },
         "name": "Gen",
         "showlegend": true,
         "type": "scatter",
         "x": [
          0,
          1,
          2,
          3,
          4,
          5,
          6,
          7,
          8,
          9,
          10,
          11,
          12,
          13,
          14,
          15,
          16,
          17,
          18,
          19
         ],
         "xaxis": "x3",
         "y": [
          0.09388390183434193,
          0.09059342741952162,
          0.09089162945733244,
          0.08806222677217143,
          0.09261542558655643,
          0.08993518352494562,
          0.09280246496186131,
          0.08570319414125468,
          0.10510763525946487,
          0.1038248240946109,
          0.11961829662304399,
          0.12466371059398342,
          0.11320880055409949,
          0.12194728851299398,
          0.12864759564379716,
          0.13283622264841408,
          0.1281915009019766,
          0.11742430925351005,
          0.1219711303709041,
          0.1336720287797757
         ],
         "yaxis": "y3"
        },
        {
         "line": {
          "color": "rgb(31, 119, 180)",
          "width": 2
         },
         "name": "Ori",
         "showlegend": true,
         "type": "scatter",
         "x": [
          0,
          1,
          2,
          3,
          4,
          5,
          6,
          7,
          8,
          9,
          10,
          11,
          12,
          13,
          14,
          15,
          16,
          17,
          18,
          19
         ],
         "xaxis": "x4",
         "y": [
          0.2742282442323387,
          0.31061985981992457,
          0.3126058603097481,
          0.32100654884568225,
          0.3248132218745891,
          0.3278013939982155,
          0.32952327670927584,
          0.3291054926133296,
          0.32218649965355434,
          0.3220487769759999,
          0.3098359793892664,
          0.3199207414337129,
          0.31009453967078754,
          0.30673565514916623,
          0.31183440073358154,
          0.3015007964355781,
          0.30494301304699195,
          0.3070123759954454,
          0.3120988829383934,
          0.3125386844414459
         ],
         "yaxis": "y4"
        },
        {
         "line": {
          "color": "rgb(255, 127, 14)",
          "width": 2
         },
         "name": "Gen",
         "showlegend": true,
         "type": "scatter",
         "x": [
          0,
          1,
          2,
          3,
          4,
          5,
          6,
          7,
          8,
          9,
          10,
          11,
          12,
          13,
          14,
          15,
          16,
          17,
          18,
          19
         ],
         "xaxis": "x4",
         "y": [
          0.0786862969397275,
          0.0783501863478396,
          0.08948749303803835,
          0.09733158349975711,
          0.10004925727828681,
          0.09452641010269726,
          0.0913106203077804,
          0.08723449707017686,
          0.08158871531473826,
          0.08543744683252402,
          0.08137965202318889,
          0.08359926938997622,
          0.08288249373423087,
          0.08397427201258001,
          0.0851551592348682,
          0.08685028552995529,
          0.08796322345719966,
          0.08854648470864833,
          0.08872979879365477,
          0.08879998326287768
         ],
         "yaxis": "y4"
        },
        {
         "line": {
          "color": "rgb(31, 119, 180)",
          "width": 2
         },
         "name": "Ori",
         "showlegend": true,
         "type": "scatter",
         "x": [
          0,
          1,
          2,
          3,
          4,
          5,
          6,
          7,
          8,
          9,
          10,
          11,
          12,
          13,
          14,
          15,
          16,
          17,
          18,
          19
         ],
         "xaxis": "x5",
         "y": [
          0.009530534558220768,
          0.007936732418844185,
          0.009804548781867721,
          0.009113335062394227,
          0.010825370677931514,
          0.006481647536446487,
          0.009615620448372506,
          0.009071073029064198,
          0.013134977702856498,
          0.011880205671869828,
          0.01220148899091115,
          0.010290366665772373,
          0.013953983490058556,
          0.007866477909651797,
          0.007316513448974411,
          0.004796613613451776,
          0.00026197297962262284,
          0,
          0.00012008217913669455,
          0.0011735847403346127
         ],
         "yaxis": "y5"
        },
        {
         "line": {
          "color": "rgb(255, 127, 14)",
          "width": 2
         },
         "name": "Gen",
         "showlegend": true,
         "type": "scatter",
         "x": [
          0,
          1,
          2,
          3,
          4,
          5,
          6,
          7,
          8,
          9,
          10,
          11,
          12,
          13,
          14,
          15,
          16,
          17,
          18,
          19
         ],
         "xaxis": "x5",
         "y": [
          0.2000761926171053,
          0.22039633989299837,
          0.23124551773035334,
          0.24085855483971338,
          0.24349480867348003,
          0.2627608180041996,
          0.2659623026843704,
          0.2634342014785485,
          0.24466505646667586,
          0.23562788963281234,
          0.21882429718937227,
          0.2135463953014868,
          0.20968529581991016,
          0.21524772047963053,
          0.22855699062311874,
          0.23304963111841207,
          0.22548460960353123,
          0.2379933893676872,
          0.23650443553887787,
          0.24716272950133994
         ],
         "yaxis": "y5"
        },
        {
         "line": {
          "color": "rgb(31, 119, 180)",
          "width": 2
         },
         "name": "Ori",
         "showlegend": true,
         "type": "scatter",
         "x": [
          0,
          1,
          2,
          3,
          4,
          5,
          6,
          7,
          8,
          9,
          10,
          11,
          12,
          13,
          14,
          15,
          16,
          17,
          18,
          19
         ],
         "xaxis": "x6",
         "y": [
          0.09668259133827536,
          0.09562167118854543,
          0.09704467898645208,
          0.09709414982255708,
          0.09460563618047492,
          0.10314798015840526,
          0.10196690570354984,
          0.10165967936011447,
          0.10143737947043456,
          0.09977271164901315,
          0.09995776415963673,
          0.10206170202945639,
          0.09981705015159958,
          0.097918633388803,
          0.10770216693519824,
          0.09682779993424592,
          0.10050510171588005,
          0.09644387709198725,
          0.09783458763133179,
          0.09249495642875513
         ],
         "yaxis": "y6"
        },
        {
         "line": {
          "color": "rgb(255, 127, 14)",
          "width": 2
         },
         "name": "Gen",
         "showlegend": true,
         "type": "scatter",
         "x": [
          0,
          1,
          2,
          3,
          4,
          5,
          6,
          7,
          8,
          9,
          10,
          11,
          12,
          13,
          14,
          15,
          16,
          17,
          18,
          19
         ],
         "xaxis": "x6",
         "y": [
          0.08138346672045452,
          0.08242860436426698,
          0.09029129147515563,
          0.08687388896928631,
          0.0866919755934321,
          0.0869211852549155,
          0.0863256752489655,
          0.08519995212541684,
          0.0836632251738201,
          0.07873868942248499,
          0.07560321688640283,
          0.070840150117764,
          0.06923145055760109,
          0.07594645023334139,
          0.0728696882723629,
          0.07097035646427563,
          0.07353615760791789,
          0.07177519798267648,
          0.07155367732036909,
          0.07242521643627349
         ],
         "yaxis": "y6"
        },
        {
         "line": {
          "color": "rgb(31, 119, 180)",
          "width": 2
         },
         "name": "Ori",
         "showlegend": true,
         "type": "scatter",
         "x": [
          0,
          1,
          2,
          3,
          4,
          5,
          6,
          7,
          8,
          9,
          10,
          11,
          12,
          13,
          14,
          15,
          16,
          17,
          18,
          19
         ],
         "xaxis": "x7",
         "y": [
          0.056647018952507344,
          0.05665236386788763,
          0.06142724857818831,
          0.0625786223100783,
          0.059956607258838626,
          0.060333841364662605,
          0.052931057640878326,
          0.05612024109917567,
          0.05608479307373457,
          0.057986960387948566,
          0.05631470035718017,
          0.05646043281559568,
          0.06324555994016479,
          0.06377656665410274,
          0.06130922768388933,
          0.06277642973240483,
          0.0552260003134496,
          0.056384199441542535,
          0.054453735963092297,
          0.05537133038476971
         ],
         "yaxis": "y7"
        },
        {
         "line": {
          "color": "rgb(255, 127, 14)",
          "width": 2
         },
         "name": "Gen",
         "showlegend": true,
         "type": "scatter",
         "x": [
          0,
          1,
          2,
          3,
          4,
          5,
          6,
          7,
          8,
          9,
          10,
          11,
          12,
          13,
          14,
          15,
          16,
          17,
          18,
          19
         ],
         "xaxis": "x7",
         "y": [
          0.0829832851885459,
          0.08344373106943508,
          0.09148874878869137,
          0.08594319224344242,
          0.08651944994913,
          0.08659824728952295,
          0.08288976550089346,
          0.07921972870814403,
          0.07853826880442806,
          0.07238984107959935,
          0.07116702198971173,
          0.07616242766368468,
          0.07127308845508938,
          0.0724191665648288,
          0.0752056539057516,
          0.07059806585300912,
          0.0724080502985782,
          0.07209762930858846,
          0.0702248513697486,
          0.0711410343645897
         ],
         "yaxis": "y7"
        },
        {
         "line": {
          "color": "rgb(31, 119, 180)",
          "width": 2
         },
         "name": "Ori",
         "showlegend": true,
         "type": "scatter",
         "x": [
          0,
          1,
          2,
          3,
          4,
          5,
          6,
          7,
          8,
          9,
          10,
          11,
          12,
          13,
          14,
          15,
          16,
          17,
          18,
          19
         ],
         "xaxis": "x8",
         "y": [
          0.6627361431910139,
          0.6693657211304819,
          0.6579942921835821,
          0.6814417071047826,
          0.6875796135669393,
          0.6820370577929363,
          0.6777053683032662,
          0.6416865301946176,
          0.6392687455748121,
          0.633277581334914,
          0.616517566619568,
          0.6083968180266761,
          0.5883345566714374,
          0.5910093831308948,
          0.605707293049923,
          0.5995381674229314,
          0.5863246255377522,
          0.5893722598449843,
          0.5613023434472865,
          0.5664129328782831
         ],
         "yaxis": "y8"
        },
        {
         "line": {
          "color": "rgb(255, 127, 14)",
          "width": 2
         },
         "name": "Gen",
         "showlegend": true,
         "type": "scatter",
         "x": [
          0,
          1,
          2,
          3,
          4,
          5,
          6,
          7,
          8,
          9,
          10,
          11,
          12,
          13,
          14,
          15,
          16,
          17,
          18,
          19
         ],
         "xaxis": "x8",
         "y": [
          0.13695785403230354,
          0.12517002224902718,
          0.1122957170007867,
          0.10716679692251709,
          0.10203987359984744,
          0.10084834694846685,
          0.09292927384362076,
          0.10703173279745626,
          0.10830155014974921,
          0.10611838102324198,
          0.12644609808902152,
          0.14287215471245485,
          0.1370001137254492,
          0.14563974738098387,
          0.1585699617860236,
          0.15740463137602173,
          0.1600989997384443,
          0.13562780618646514,
          0.12951317429522405,
          0.15221434831595596
         ],
         "yaxis": "y8"
        },
        {
         "line": {
          "color": "rgb(31, 119, 180)",
          "width": 2
         },
         "name": "Ori",
         "showlegend": true,
         "type": "scatter",
         "x": [
          0,
          1,
          2,
          3,
          4,
          5,
          6,
          7,
          8,
          9,
          10,
          11,
          12,
          13,
          14,
          15,
          16,
          17,
          18,
          19
         ],
         "xaxis": "x9",
         "y": [
          0.31934798516057583,
          0.3077920958953814,
          0.3085464578160985,
          0.30778070758136095,
          0.30899722246944816,
          0.30169412445438987,
          0.30620887729583457,
          0.30296633579024657,
          0.3038510407610328,
          0.302287470799276,
          0.2775328596415477,
          0.27133467103717585,
          0.27870956098381927,
          0.2789394227140088,
          0.2743741361271505,
          0.27585531543307384,
          0.25926551805128745,
          0.2430693615397239,
          0.23138732012401989,
          0.22095040104122254
         ],
         "yaxis": "y9"
        },
        {
         "line": {
          "color": "rgb(255, 127, 14)",
          "width": 2
         },
         "name": "Gen",
         "showlegend": true,
         "type": "scatter",
         "x": [
          0,
          1,
          2,
          3,
          4,
          5,
          6,
          7,
          8,
          9,
          10,
          11,
          12,
          13,
          14,
          15,
          16,
          17,
          18,
          19
         ],
         "xaxis": "x9",
         "y": [
          0.6532624959935521,
          0.6088035702695918,
          0.5815925002089041,
          0.5750460028639435,
          0.5586028695097821,
          0.5559618473044334,
          0.5618301033964959,
          0.5613199472418641,
          0.5391713976851663,
          0.5686174631109934,
          0.5492408871642156,
          0.5665690302840006,
          0.5557729005804957,
          0.5635735392561733,
          0.5319080352774933,
          0.5533506274214723,
          0.5699445009222706,
          0.5724291205397288,
          0.5637828111639793,
          0.559107959269608
         ],
         "yaxis": "y9"
        },
        {
         "line": {
          "color": "rgb(31, 119, 180)",
          "width": 2
         },
         "name": "Ori",
         "showlegend": true,
         "type": "scatter",
         "x": [
          0,
          1,
          2,
          3,
          4,
          5,
          6,
          7,
          8,
          9,
          10,
          11,
          12,
          13,
          14,
          15,
          16,
          17,
          18,
          19
         ],
         "xaxis": "x10",
         "y": [
          0.06309976674407451,
          0.06505633983046905,
          0.06346063204654637,
          0.06301568302555657,
          0.062224400190785054,
          0.0627943928997198,
          0.06358670827496252,
          0.06403198376095423,
          0.06643442452566956,
          0.06149434093218768,
          0.061951558963482214,
          0.06176564094099308,
          0.06283779756055656,
          0.0530436956587503,
          0.057453615273531745,
          0.06091086445945267,
          0.0604533655164123,
          0.06270270937964553,
          0.062325794146614134,
          0.06189161847068771
         ],
         "yaxis": "y10"
        },
        {
         "line": {
          "color": "rgb(255, 127, 14)",
          "width": 2
         },
         "name": "Gen",
         "showlegend": true,
         "type": "scatter",
         "x": [
          0,
          1,
          2,
          3,
          4,
          5,
          6,
          7,
          8,
          9,
          10,
          11,
          12,
          13,
          14,
          15,
          16,
          17,
          18,
          19
         ],
         "xaxis": "x10",
         "y": [
          0.7279926538456087,
          0.6330631375302962,
          0.6271434426297927,
          0.6298058629026158,
          0.6487126946439193,
          0.6498249769200711,
          0.6734317541111966,
          0.6646818518628276,
          0.670826494692713,
          0.675585806368731,
          0.7033471465099843,
          0.6683342456807235,
          0.6727864742268592,
          0.645461738108585,
          0.6778506636609029,
          0.6634498834599669,
          0.735812485216904,
          0.7780190706240955,
          0.687456488608245,
          0.7153421640384996
         ],
         "yaxis": "y10"
        }
       ],
       "layout": {
        "height": 1400,
        "template": {
         "data": {
          "bar": [
           {
            "error_x": {
             "color": "#f2f5fa"
            },
            "error_y": {
             "color": "#f2f5fa"
            },
            "marker": {
             "line": {
              "color": "rgb(17,17,17)",
              "width": 0.5
             },
             "pattern": {
              "fillmode": "overlay",
              "size": 10,
              "solidity": 0.2
             }
            },
            "type": "bar"
           }
          ],
          "barpolar": [
           {
            "marker": {
             "line": {
              "color": "rgb(17,17,17)",
              "width": 0.5
             },
             "pattern": {
              "fillmode": "overlay",
              "size": 10,
              "solidity": 0.2
             }
            },
            "type": "barpolar"
           }
          ],
          "carpet": [
           {
            "aaxis": {
             "endlinecolor": "#A2B1C6",
             "gridcolor": "#506784",
             "linecolor": "#506784",
             "minorgridcolor": "#506784",
             "startlinecolor": "#A2B1C6"
            },
            "baxis": {
             "endlinecolor": "#A2B1C6",
             "gridcolor": "#506784",
             "linecolor": "#506784",
             "minorgridcolor": "#506784",
             "startlinecolor": "#A2B1C6"
            },
            "type": "carpet"
           }
          ],
          "choropleth": [
           {
            "colorbar": {
             "outlinewidth": 0,
             "ticks": ""
            },
            "type": "choropleth"
           }
          ],
          "contour": [
           {
            "colorbar": {
             "outlinewidth": 0,
             "ticks": ""
            },
            "colorscale": [
             [
              0,
              "#0d0887"
             ],
             [
              0.1111111111111111,
              "#46039f"
             ],
             [
              0.2222222222222222,
              "#7201a8"
             ],
             [
              0.3333333333333333,
              "#9c179e"
             ],
             [
              0.4444444444444444,
              "#bd3786"
             ],
             [
              0.5555555555555556,
              "#d8576b"
             ],
             [
              0.6666666666666666,
              "#ed7953"
             ],
             [
              0.7777777777777778,
              "#fb9f3a"
             ],
             [
              0.8888888888888888,
              "#fdca26"
             ],
             [
              1,
              "#f0f921"
             ]
            ],
            "type": "contour"
           }
          ],
          "contourcarpet": [
           {
            "colorbar": {
             "outlinewidth": 0,
             "ticks": ""
            },
            "type": "contourcarpet"
           }
          ],
          "heatmap": [
           {
            "colorbar": {
             "outlinewidth": 0,
             "ticks": ""
            },
            "colorscale": [
             [
              0,
              "#0d0887"
             ],
             [
              0.1111111111111111,
              "#46039f"
             ],
             [
              0.2222222222222222,
              "#7201a8"
             ],
             [
              0.3333333333333333,
              "#9c179e"
             ],
             [
              0.4444444444444444,
              "#bd3786"
             ],
             [
              0.5555555555555556,
              "#d8576b"
             ],
             [
              0.6666666666666666,
              "#ed7953"
             ],
             [
              0.7777777777777778,
              "#fb9f3a"
             ],
             [
              0.8888888888888888,
              "#fdca26"
             ],
             [
              1,
              "#f0f921"
             ]
            ],
            "type": "heatmap"
           }
          ],
          "heatmapgl": [
           {
            "colorbar": {
             "outlinewidth": 0,
             "ticks": ""
            },
            "colorscale": [
             [
              0,
              "#0d0887"
             ],
             [
              0.1111111111111111,
              "#46039f"
             ],
             [
              0.2222222222222222,
              "#7201a8"
             ],
             [
              0.3333333333333333,
              "#9c179e"
             ],
             [
              0.4444444444444444,
              "#bd3786"
             ],
             [
              0.5555555555555556,
              "#d8576b"
             ],
             [
              0.6666666666666666,
              "#ed7953"
             ],
             [
              0.7777777777777778,
              "#fb9f3a"
             ],
             [
              0.8888888888888888,
              "#fdca26"
             ],
             [
              1,
              "#f0f921"
             ]
            ],
            "type": "heatmapgl"
           }
          ],
          "histogram": [
           {
            "marker": {
             "pattern": {
              "fillmode": "overlay",
              "size": 10,
              "solidity": 0.2
             }
            },
            "type": "histogram"
           }
          ],
          "histogram2d": [
           {
            "colorbar": {
             "outlinewidth": 0,
             "ticks": ""
            },
            "colorscale": [
             [
              0,
              "#0d0887"
             ],
             [
              0.1111111111111111,
              "#46039f"
             ],
             [
              0.2222222222222222,
              "#7201a8"
             ],
             [
              0.3333333333333333,
              "#9c179e"
             ],
             [
              0.4444444444444444,
              "#bd3786"
             ],
             [
              0.5555555555555556,
              "#d8576b"
             ],
             [
              0.6666666666666666,
              "#ed7953"
             ],
             [
              0.7777777777777778,
              "#fb9f3a"
             ],
             [
              0.8888888888888888,
              "#fdca26"
             ],
             [
              1,
              "#f0f921"
             ]
            ],
            "type": "histogram2d"
           }
          ],
          "histogram2dcontour": [
           {
            "colorbar": {
             "outlinewidth": 0,
             "ticks": ""
            },
            "colorscale": [
             [
              0,
              "#0d0887"
             ],
             [
              0.1111111111111111,
              "#46039f"
             ],
             [
              0.2222222222222222,
              "#7201a8"
             ],
             [
              0.3333333333333333,
              "#9c179e"
             ],
             [
              0.4444444444444444,
              "#bd3786"
             ],
             [
              0.5555555555555556,
              "#d8576b"
             ],
             [
              0.6666666666666666,
              "#ed7953"
             ],
             [
              0.7777777777777778,
              "#fb9f3a"
             ],
             [
              0.8888888888888888,
              "#fdca26"
             ],
             [
              1,
              "#f0f921"
             ]
            ],
            "type": "histogram2dcontour"
           }
          ],
          "mesh3d": [
           {
            "colorbar": {
             "outlinewidth": 0,
             "ticks": ""
            },
            "type": "mesh3d"
           }
          ],
          "parcoords": [
           {
            "line": {
             "colorbar": {
              "outlinewidth": 0,
              "ticks": ""
             }
            },
            "type": "parcoords"
           }
          ],
          "pie": [
           {
            "automargin": true,
            "type": "pie"
           }
          ],
          "scatter": [
           {
            "marker": {
             "line": {
              "color": "#283442"
             }
            },
            "type": "scatter"
           }
          ],
          "scatter3d": [
           {
            "line": {
             "colorbar": {
              "outlinewidth": 0,
              "ticks": ""
             }
            },
            "marker": {
             "colorbar": {
              "outlinewidth": 0,
              "ticks": ""
             }
            },
            "type": "scatter3d"
           }
          ],
          "scattercarpet": [
           {
            "marker": {
             "colorbar": {
              "outlinewidth": 0,
              "ticks": ""
             }
            },
            "type": "scattercarpet"
           }
          ],
          "scattergeo": [
           {
            "marker": {
             "colorbar": {
              "outlinewidth": 0,
              "ticks": ""
             }
            },
            "type": "scattergeo"
           }
          ],
          "scattergl": [
           {
            "marker": {
             "line": {
              "color": "#283442"
             }
            },
            "type": "scattergl"
           }
          ],
          "scattermapbox": [
           {
            "marker": {
             "colorbar": {
              "outlinewidth": 0,
              "ticks": ""
             }
            },
            "type": "scattermapbox"
           }
          ],
          "scatterpolar": [
           {
            "marker": {
             "colorbar": {
              "outlinewidth": 0,
              "ticks": ""
             }
            },
            "type": "scatterpolar"
           }
          ],
          "scatterpolargl": [
           {
            "marker": {
             "colorbar": {
              "outlinewidth": 0,
              "ticks": ""
             }
            },
            "type": "scatterpolargl"
           }
          ],
          "scatterternary": [
           {
            "marker": {
             "colorbar": {
              "outlinewidth": 0,
              "ticks": ""
             }
            },
            "type": "scatterternary"
           }
          ],
          "surface": [
           {
            "colorbar": {
             "outlinewidth": 0,
             "ticks": ""
            },
            "colorscale": [
             [
              0,
              "#0d0887"
             ],
             [
              0.1111111111111111,
              "#46039f"
             ],
             [
              0.2222222222222222,
              "#7201a8"
             ],
             [
              0.3333333333333333,
              "#9c179e"
             ],
             [
              0.4444444444444444,
              "#bd3786"
             ],
             [
              0.5555555555555556,
              "#d8576b"
             ],
             [
              0.6666666666666666,
              "#ed7953"
             ],
             [
              0.7777777777777778,
              "#fb9f3a"
             ],
             [
              0.8888888888888888,
              "#fdca26"
             ],
             [
              1,
              "#f0f921"
             ]
            ],
            "type": "surface"
           }
          ],
          "table": [
           {
            "cells": {
             "fill": {
              "color": "#506784"
             },
             "line": {
              "color": "rgb(17,17,17)"
             }
            },
            "header": {
             "fill": {
              "color": "#2a3f5f"
             },
             "line": {
              "color": "rgb(17,17,17)"
             }
            },
            "type": "table"
           }
          ]
         },
         "layout": {
          "annotationdefaults": {
           "arrowcolor": "#f2f5fa",
           "arrowhead": 0,
           "arrowwidth": 1
          },
          "autotypenumbers": "strict",
          "coloraxis": {
           "colorbar": {
            "outlinewidth": 0,
            "ticks": ""
           }
          },
          "colorscale": {
           "diverging": [
            [
             0,
             "#8e0152"
            ],
            [
             0.1,
             "#c51b7d"
            ],
            [
             0.2,
             "#de77ae"
            ],
            [
             0.3,
             "#f1b6da"
            ],
            [
             0.4,
             "#fde0ef"
            ],
            [
             0.5,
             "#f7f7f7"
            ],
            [
             0.6,
             "#e6f5d0"
            ],
            [
             0.7,
             "#b8e186"
            ],
            [
             0.8,
             "#7fbc41"
            ],
            [
             0.9,
             "#4d9221"
            ],
            [
             1,
             "#276419"
            ]
           ],
           "sequential": [
            [
             0,
             "#0d0887"
            ],
            [
             0.1111111111111111,
             "#46039f"
            ],
            [
             0.2222222222222222,
             "#7201a8"
            ],
            [
             0.3333333333333333,
             "#9c179e"
            ],
            [
             0.4444444444444444,
             "#bd3786"
            ],
            [
             0.5555555555555556,
             "#d8576b"
            ],
            [
             0.6666666666666666,
             "#ed7953"
            ],
            [
             0.7777777777777778,
             "#fb9f3a"
            ],
            [
             0.8888888888888888,
             "#fdca26"
            ],
            [
             1,
             "#f0f921"
            ]
           ],
           "sequentialminus": [
            [
             0,
             "#0d0887"
            ],
            [
             0.1111111111111111,
             "#46039f"
            ],
            [
             0.2222222222222222,
             "#7201a8"
            ],
            [
             0.3333333333333333,
             "#9c179e"
            ],
            [
             0.4444444444444444,
             "#bd3786"
            ],
            [
             0.5555555555555556,
             "#d8576b"
            ],
            [
             0.6666666666666666,
             "#ed7953"
            ],
            [
             0.7777777777777778,
             "#fb9f3a"
            ],
            [
             0.8888888888888888,
             "#fdca26"
            ],
            [
             1,
             "#f0f921"
            ]
           ]
          },
          "colorway": [
           "#636efa",
           "#EF553B",
           "#00cc96",
           "#ab63fa",
           "#FFA15A",
           "#19d3f3",
           "#FF6692",
           "#B6E880",
           "#FF97FF",
           "#FECB52"
          ],
          "font": {
           "color": "#f2f5fa"
          },
          "geo": {
           "bgcolor": "rgb(17,17,17)",
           "lakecolor": "rgb(17,17,17)",
           "landcolor": "rgb(17,17,17)",
           "showlakes": true,
           "showland": true,
           "subunitcolor": "#506784"
          },
          "hoverlabel": {
           "align": "left"
          },
          "hovermode": "closest",
          "mapbox": {
           "style": "dark"
          },
          "paper_bgcolor": "rgb(17,17,17)",
          "plot_bgcolor": "rgb(17,17,17)",
          "polar": {
           "angularaxis": {
            "gridcolor": "#506784",
            "linecolor": "#506784",
            "ticks": ""
           },
           "bgcolor": "rgb(17,17,17)",
           "radialaxis": {
            "gridcolor": "#506784",
            "linecolor": "#506784",
            "ticks": ""
           }
          },
          "scene": {
           "xaxis": {
            "backgroundcolor": "rgb(17,17,17)",
            "gridcolor": "#506784",
            "gridwidth": 2,
            "linecolor": "#506784",
            "showbackground": true,
            "ticks": "",
            "zerolinecolor": "#C8D4E3"
           },
           "yaxis": {
            "backgroundcolor": "rgb(17,17,17)",
            "gridcolor": "#506784",
            "gridwidth": 2,
            "linecolor": "#506784",
            "showbackground": true,
            "ticks": "",
            "zerolinecolor": "#C8D4E3"
           },
           "zaxis": {
            "backgroundcolor": "rgb(17,17,17)",
            "gridcolor": "#506784",
            "gridwidth": 2,
            "linecolor": "#506784",
            "showbackground": true,
            "ticks": "",
            "zerolinecolor": "#C8D4E3"
           }
          },
          "shapedefaults": {
           "line": {
            "color": "#f2f5fa"
           }
          },
          "sliderdefaults": {
           "bgcolor": "#C8D4E3",
           "bordercolor": "rgb(17,17,17)",
           "borderwidth": 1,
           "tickwidth": 0
          },
          "ternary": {
           "aaxis": {
            "gridcolor": "#506784",
            "linecolor": "#506784",
            "ticks": ""
           },
           "baxis": {
            "gridcolor": "#506784",
            "linecolor": "#506784",
            "ticks": ""
           },
           "bgcolor": "rgb(17,17,17)",
           "caxis": {
            "gridcolor": "#506784",
            "linecolor": "#506784",
            "ticks": ""
           }
          },
          "title": {
           "x": 0.05
          },
          "updatemenudefaults": {
           "bgcolor": "#506784",
           "borderwidth": 0
          },
          "xaxis": {
           "automargin": true,
           "gridcolor": "#283442",
           "linecolor": "#506784",
           "ticks": "",
           "title": {
            "standoff": 15
           },
           "zerolinecolor": "#283442",
           "zerolinewidth": 2
          },
          "yaxis": {
           "automargin": true,
           "gridcolor": "#283442",
           "linecolor": "#506784",
           "ticks": "",
           "title": {
            "standoff": 15
           },
           "zerolinecolor": "#283442",
           "zerolinewidth": 2
          }
         }
        },
        "title": {
         "text": "Open"
        },
        "width": 1400,
        "xaxis": {
         "anchor": "y",
         "domain": [
          0,
          0.45
         ],
         "matches": "x9",
         "showticklabels": false
        },
        "xaxis10": {
         "anchor": "y10",
         "domain": [
          0.55,
          1
         ]
        },
        "xaxis2": {
         "anchor": "y2",
         "domain": [
          0.55,
          1
         ],
         "matches": "x10",
         "showticklabels": false
        },
        "xaxis3": {
         "anchor": "y3",
         "domain": [
          0,
          0.45
         ],
         "matches": "x9",
         "showticklabels": false
        },
        "xaxis4": {
         "anchor": "y4",
         "domain": [
          0.55,
          1
         ],
         "matches": "x10",
         "showticklabels": false
        },
        "xaxis5": {
         "anchor": "y5",
         "domain": [
          0,
          0.45
         ],
         "matches": "x9",
         "showticklabels": false
        },
        "xaxis6": {
         "anchor": "y6",
         "domain": [
          0.55,
          1
         ],
         "matches": "x10",
         "showticklabels": false
        },
        "xaxis7": {
         "anchor": "y7",
         "domain": [
          0,
          0.45
         ],
         "matches": "x9",
         "showticklabels": false
        },
        "xaxis8": {
         "anchor": "y8",
         "domain": [
          0.55,
          1
         ],
         "matches": "x10",
         "showticklabels": false
        },
        "xaxis9": {
         "anchor": "y9",
         "domain": [
          0,
          0.45
         ]
        },
        "yaxis": {
         "anchor": "x",
         "domain": [
          0.816,
          1
         ]
        },
        "yaxis10": {
         "anchor": "x10",
         "domain": [
          0,
          0.184
         ]
        },
        "yaxis2": {
         "anchor": "x2",
         "domain": [
          0.816,
          1
         ]
        },
        "yaxis3": {
         "anchor": "x3",
         "domain": [
          0.6120000000000001,
          0.796
         ]
        },
        "yaxis4": {
         "anchor": "x4",
         "domain": [
          0.6120000000000001,
          0.796
         ]
        },
        "yaxis5": {
         "anchor": "x5",
         "domain": [
          0.408,
          0.592
         ]
        },
        "yaxis6": {
         "anchor": "x6",
         "domain": [
          0.408,
          0.592
         ]
        },
        "yaxis7": {
         "anchor": "x7",
         "domain": [
          0.204,
          0.388
         ]
        },
        "yaxis8": {
         "anchor": "x8",
         "domain": [
          0.204,
          0.388
         ]
        },
        "yaxis9": {
         "anchor": "x9",
         "domain": [
          0,
          0.184
         ]
        }
       }
      }
     },
     "metadata": {},
     "output_type": "display_data"
    }
   ],
   "source": [
    "from plotly.subplots import make_subplots\n",
    "from plotly import colors\n",
    "import plotly.graph_objects as go\n",
    "\n",
    "n_samples = 10 # to be divided by 2\n",
    "mycolors = colors.DEFAULT_PLOTLY_COLORS\n",
    "\n",
    "# VIZ - Open samples\n",
    "# get random samples from all generated\n",
    "samples = np.random.choice(np_ori_data.shape[0], n_samples)\n",
    "x = np.array(range(np_ori_data.shape[1]))\n",
    "\n",
    "fig = make_subplots(rows=int(n_samples/2), cols=2,\n",
    "                    shared_xaxes=True,\n",
    "                    vertical_spacing=0.02)\n",
    "row = 0\n",
    "col = 1\n",
    "i = 0\n",
    "\n",
    "for s in samples:\n",
    "    if i % 2 == 0:\n",
    "        row = row + 1\n",
    "        col = 1\n",
    "    else:\n",
    "        col = 2\n",
    "\n",
    "    fig.add_trace(go.Scatter(name='Ori', x=x, y=np_ori_data[s,:,0], line=dict(width=2, color=mycolors[0]), showlegend=True),\n",
    "                row=row, col=col)\n",
    "    fig.add_trace(go.Scatter(name='Gen', x=x, y=np_gen_data[s,:,0], line=dict(width=2, color=mycolors[1]), showlegend=True),\n",
    "                row=row, col=col)\n",
    "    i = i + 1\n",
    "\n",
    "fig.update_layout(height=1400, width=1400,\n",
    "                  title_text=\"Open\")\n",
    "fig.update_layout()\n",
    "fig.update_layout(template=\"plotly_dark\")\n",
    "fig.show()"
   ]
  },
  {
   "cell_type": "code",
   "execution_count": 11,
   "metadata": {},
   "outputs": [
    {
     "data": {
      "application/vnd.plotly.v1+json": {
       "config": {
        "plotlyServerURL": "https://plot.ly"
       },
       "data": [
        {
         "line": {
          "color": "rgb(31, 119, 180)",
          "width": 2
         },
         "name": "Ori",
         "showlegend": true,
         "type": "scatter",
         "x": [
          0,
          1,
          2,
          3,
          4,
          5,
          6,
          7,
          8,
          9,
          10,
          11,
          12,
          13,
          14,
          15,
          16,
          17,
          18,
          19
         ],
         "xaxis": "x",
         "y": [
          0.04625173470339464,
          0.04950927471546894,
          0.05079189937784482,
          0.03328366845538889,
          0.04061510264409004,
          0.05511521972111377,
          0.06317088110786184,
          0.08123095803625609,
          0.06715693277110596,
          0.1115038587295147,
          0.06597783236589318,
          0.10534620105072394,
          0.11482469932911725,
          0.04977812369621875,
          0.057566220433853586,
          0.05562794377541279,
          0.05354028410262454,
          0.04264990233056246,
          0.043998695596510914,
          0.058962755870706034
         ],
         "yaxis": "y"
        },
        {
         "line": {
          "color": "rgb(255, 127, 14)",
          "width": 2
         },
         "name": "Gen",
         "showlegend": true,
         "type": "scatter",
         "x": [
          0,
          1,
          2,
          3,
          4,
          5,
          6,
          7,
          8,
          9,
          10,
          11,
          12,
          13,
          14,
          15,
          16,
          17,
          18,
          19
         ],
         "xaxis": "x",
         "y": [
          0.07030272483825684,
          0.11187288165092468,
          0.08363378047943115,
          0.09101292490959167,
          0.07420790195465088,
          0.07535916566848755,
          0.07148498296737671,
          0.07756489515304565,
          0.04954886436462402,
          0.07144433259963989,
          0.05434906482696533,
          0.07323423027992249,
          0.057968974113464355,
          0.06885740160942078,
          0.061047762632369995,
          0.07910093665122986,
          0.056972384452819824,
          0.07455146312713623,
          0.06394904851913452,
          0.07063880562782288
         ],
         "yaxis": "y"
        },
        {
         "line": {
          "color": "rgb(31, 119, 180)",
          "width": 2
         },
         "name": "Ori",
         "showlegend": true,
         "type": "scatter",
         "x": [
          0,
          1,
          2,
          3,
          4,
          5,
          6,
          7,
          8,
          9,
          10,
          11,
          12,
          13,
          14,
          15,
          16,
          17,
          18,
          19
         ],
         "xaxis": "x2",
         "y": [
          0.0638962224353773,
          0.06949742232334587,
          0.08855421580926846,
          0.08297201167496046,
          0.09865846863602115,
          0.13385773248143262,
          0.12838157009825976,
          0.0806829896929582,
          0.0848999098872819,
          0.1029665475524908,
          0.16766930124187768,
          0.11683205054581133,
          0.13913478236913077,
          0.11404609433485766,
          0.10984758424685546,
          0.10516174006628953,
          0.09752360585933796,
          0.09750113245578593,
          0.13222263033043444,
          0.10331248940893141
         ],
         "yaxis": "y2"
        },
        {
         "line": {
          "color": "rgb(255, 127, 14)",
          "width": 2
         },
         "name": "Gen",
         "showlegend": true,
         "type": "scatter",
         "x": [
          0,
          1,
          2,
          3,
          4,
          5,
          6,
          7,
          8,
          9,
          10,
          11,
          12,
          13,
          14,
          15,
          16,
          17,
          18,
          19
         ],
         "xaxis": "x2",
         "y": [
          0.07726314663887024,
          0.052235931158065796,
          0.07751885056495667,
          0.07008171081542969,
          0.08507800102233887,
          0.08172273635864258,
          0.06739762425422668,
          0.06522881984710693,
          0.07052567601203918,
          0.0677143931388855,
          0.06925392150878906,
          0.08521178364753723,
          0.05877089500427246,
          0.07312837243080139,
          0.06229248642921448,
          0.08245405554771423,
          0.059455662965774536,
          0.06619179248809814,
          0.06543782353401184,
          0.06353101134300232
         ],
         "yaxis": "y2"
        },
        {
         "line": {
          "color": "rgb(31, 119, 180)",
          "width": 2
         },
         "name": "Ori",
         "showlegend": true,
         "type": "scatter",
         "x": [
          0,
          1,
          2,
          3,
          4,
          5,
          6,
          7,
          8,
          9,
          10,
          11,
          12,
          13,
          14,
          15,
          16,
          17,
          18,
          19
         ],
         "xaxis": "x3",
         "y": [
          0.06123179386066163,
          0.07775911360408186,
          0.11285518290693308,
          0.08038038283075753,
          0.0830638070297877,
          0.08282243949631268,
          0.08221370273305044,
          0.05759716134783825,
          0.07051269097755104,
          0.10763196108032339,
          0.05945199943016016,
          0.08010140776379897,
          0.0709668814617231,
          0.09215036286516473,
          0.057286230184287565,
          0.057266721159594094,
          0.06956453747563242,
          0.0979092371660676,
          0.08557938194896428,
          0.05890042779883177
         ],
         "yaxis": "y3"
        },
        {
         "line": {
          "color": "rgb(255, 127, 14)",
          "width": 2
         },
         "name": "Gen",
         "showlegend": true,
         "type": "scatter",
         "x": [
          0,
          1,
          2,
          3,
          4,
          5,
          6,
          7,
          8,
          9,
          10,
          11,
          12,
          13,
          14,
          15,
          16,
          17,
          18,
          19
         ],
         "xaxis": "x3",
         "y": [
          0.03331771492958069,
          0.03424006700515747,
          0.038544923067092896,
          0.030870914459228516,
          0.022977113723754883,
          0.03215548396110535,
          0.04628157615661621,
          0.025699853897094727,
          0.020873188972473145,
          0.03858429193496704,
          0.03458493947982788,
          0.018666237592697144,
          0.026044130325317383,
          0.016949594020843506,
          0.026204466819763184,
          0.01771751046180725,
          0.012030810117721558,
          0.012721925973892212,
          0.01601889729499817,
          0.021270275115966797
         ],
         "yaxis": "y3"
        },
        {
         "line": {
          "color": "rgb(31, 119, 180)",
          "width": 2
         },
         "name": "Ori",
         "showlegend": true,
         "type": "scatter",
         "x": [
          0,
          1,
          2,
          3,
          4,
          5,
          6,
          7,
          8,
          9,
          10,
          11,
          12,
          13,
          14,
          15,
          16,
          17,
          18,
          19
         ],
         "xaxis": "x4",
         "y": [
          0.07051269097755104,
          0.10763196108032339,
          0.05945199943016016,
          0.08010140776379897,
          0.0709668814617231,
          0.09215036286516473,
          0.057286230184287565,
          0.057266721159594094,
          0.06956453747563242,
          0.0979092371660676,
          0.08557938194896428,
          0.05890042779883177,
          0.07332919810687416,
          0.03685726610111425,
          0.037120105462739306,
          0.07420790106453967,
          0.06339738945513794,
          0.06675446639064833,
          0.07279372229342891,
          0.0654925926073566
         ],
         "yaxis": "y4"
        },
        {
         "line": {
          "color": "rgb(255, 127, 14)",
          "width": 2
         },
         "name": "Gen",
         "showlegend": true,
         "type": "scatter",
         "x": [
          0,
          1,
          2,
          3,
          4,
          5,
          6,
          7,
          8,
          9,
          10,
          11,
          12,
          13,
          14,
          15,
          16,
          17,
          18,
          19
         ],
         "xaxis": "x4",
         "y": [
          0.06819865107536316,
          0.082673579454422,
          0.0926065742969513,
          0.07664352655410767,
          0.09939694404602051,
          0.061983704566955566,
          0.08980602025985718,
          0.08448487520217896,
          0.08807668089866638,
          0.08640670776367188,
          0.08711802959442139,
          0.08989858627319336,
          0.09237915277481079,
          0.09398797154426575,
          0.09519907832145691,
          0.09692934155464172,
          0.09845632314682007,
          0.09757238626480103,
          0.09502297639846802,
          0.09350240230560303
         ],
         "yaxis": "y4"
        },
        {
         "line": {
          "color": "rgb(31, 119, 180)",
          "width": 2
         },
         "name": "Ori",
         "showlegend": true,
         "type": "scatter",
         "x": [
          0,
          1,
          2,
          3,
          4,
          5,
          6,
          7,
          8,
          9,
          10,
          11,
          12,
          13,
          14,
          15,
          16,
          17,
          18,
          19
         ],
         "xaxis": "x5",
         "y": [
          0.0062684746105007155,
          0.0036221811495099152,
          0.004592678476098267,
          0.0049052296300583845,
          0.005540684808070502,
          0.007379981262886662,
          0.005938974233478023,
          0.0065032839337207885,
          0.008893769776390597,
          0.01200601189921409,
          0.008873845300777398,
          0.007306020855570135,
          0.011905545092585188,
          0.016852639724787646,
          0.010769235399143116,
          0.00818414331961849,
          0.006740993247331055,
          0.0019551921423023697,
          0.0014019203145102907,
          0.003761767602543891
         ],
         "yaxis": "y5"
        },
        {
         "line": {
          "color": "rgb(255, 127, 14)",
          "width": 2
         },
         "name": "Gen",
         "showlegend": true,
         "type": "scatter",
         "x": [
          0,
          1,
          2,
          3,
          4,
          5,
          6,
          7,
          8,
          9,
          10,
          11,
          12,
          13,
          14,
          15,
          16,
          17,
          18,
          19
         ],
         "xaxis": "x5",
         "y": [
          0.06893590092658997,
          0.11172953248023987,
          0.08282890915870667,
          0.08885940909385681,
          0.07480451464653015,
          0.07464906573295593,
          0.07261371612548828,
          0.07518249750137329,
          0.0491003692150116,
          0.06797459721565247,
          0.05911380052566528,
          0.06591883301734924,
          0.06206589937210083,
          0.06703615188598633,
          0.06250903010368347,
          0.07861700654029846,
          0.05771726369857788,
          0.07388865947723389,
          0.06402572989463806,
          0.07267266511917114
         ],
         "yaxis": "y5"
        },
        {
         "line": {
          "color": "rgb(31, 119, 180)",
          "width": 2
         },
         "name": "Ori",
         "showlegend": true,
         "type": "scatter",
         "x": [
          0,
          1,
          2,
          3,
          4,
          5,
          6,
          7,
          8,
          9,
          10,
          11,
          12,
          13,
          14,
          15,
          16,
          17,
          18,
          19
         ],
         "xaxis": "x6",
         "y": [
          0.05317993445473745,
          0.0679373642783165,
          0.04578190190012112,
          0.041679014913505105,
          0.05618371587690487,
          0.07813396901586953,
          0.0650827336339584,
          0.05936642877970832,
          0.052952311555462345,
          0.06309564256602217,
          0.04994019511921683,
          0.05876794704342991,
          0.06570140293860918,
          0.06307324677298012,
          0.10368731399324159,
          0.09236708760010509,
          0.07102323223086697,
          0.08525039288841182,
          0.08574957354511015,
          0.08997611720122756
         ],
         "yaxis": "y6"
        },
        {
         "line": {
          "color": "rgb(255, 127, 14)",
          "width": 2
         },
         "name": "Gen",
         "showlegend": true,
         "type": "scatter",
         "x": [
          0,
          1,
          2,
          3,
          4,
          5,
          6,
          7,
          8,
          9,
          10,
          11,
          12,
          13,
          14,
          15,
          16,
          17,
          18,
          19
         ],
         "xaxis": "x6",
         "y": [
          0.0326479971408844,
          0.03017204999923706,
          0.03169625997543335,
          0.025361061096191406,
          0.02705785632133484,
          0.03255853056907654,
          0.03271365165710449,
          0.04049783945083618,
          0.04718330502510071,
          0.048566997051239014,
          0.03844422101974487,
          0.043193817138671875,
          0.029974251985549927,
          0.033479154109954834,
          0.03312084078788757,
          0.030689865350723267,
          0.03224742412567139,
          0.03249683976173401,
          0.031200706958770752,
          0.03261616826057434
         ],
         "yaxis": "y6"
        },
        {
         "line": {
          "color": "rgb(31, 119, 180)",
          "width": 2
         },
         "name": "Ori",
         "showlegend": true,
         "type": "scatter",
         "x": [
          0,
          1,
          2,
          3,
          4,
          5,
          6,
          7,
          8,
          9,
          10,
          11,
          12,
          13,
          14,
          15,
          16,
          17,
          18,
          19
         ],
         "xaxis": "x7",
         "y": [
          0.08676281832439822,
          0.08486743188796317,
          0.09969156077767617,
          0.08119247666666445,
          0.08445768333298435,
          0.08464806688089682,
          0.12566461869066672,
          0.08400101311526652,
          0.08923844494882607,
          0.10219855964208142,
          0.09397864339324495,
          0.08093630171128346,
          0.11658049724010704,
          0.09126401897299895,
          0.09916306891272887,
          0.11836444290878763,
          0.12599132452595554,
          0.07601633377323021,
          0.08658125876178373,
          0.1032252691564456
         ],
         "yaxis": "y7"
        },
        {
         "line": {
          "color": "rgb(255, 127, 14)",
          "width": 2
         },
         "name": "Gen",
         "showlegend": true,
         "type": "scatter",
         "x": [
          0,
          1,
          2,
          3,
          4,
          5,
          6,
          7,
          8,
          9,
          10,
          11,
          12,
          13,
          14,
          15,
          16,
          17,
          18,
          19
         ],
         "xaxis": "x7",
         "y": [
          0.03461077809333801,
          0.030496031045913696,
          0.031028836965560913,
          0.024648159742355347,
          0.02865612506866455,
          0.03641057014465332,
          0.04772093892097473,
          0.04238709807395935,
          0.04660159349441528,
          0.05242514610290527,
          0.030269920825958252,
          0.03665506839752197,
          0.03553038835525513,
          0.03023567795753479,
          0.035377711057662964,
          0.032086312770843506,
          0.03191310167312622,
          0.032756298780441284,
          0.03245949745178223,
          0.03233969211578369
         ],
         "yaxis": "y7"
        },
        {
         "line": {
          "color": "rgb(31, 119, 180)",
          "width": 2
         },
         "name": "Ori",
         "showlegend": true,
         "type": "scatter",
         "x": [
          0,
          1,
          2,
          3,
          4,
          5,
          6,
          7,
          8,
          9,
          10,
          11,
          12,
          13,
          14,
          15,
          16,
          17,
          18,
          19
         ],
         "xaxis": "x8",
         "y": [
          0.06424293281149011,
          0.07551672553007743,
          0.1008859432990842,
          0.08698780354996596,
          0.07550893535609382,
          0.08143923691041981,
          0.09571075404540234,
          0.07213733129733692,
          0.03991454403592759,
          0.07907465862355091,
          0.0804215226326619,
          0.06375011127271776,
          0.08318567690995017,
          0.061946740349600474,
          0.049047786239189796,
          0.04771669026780129,
          0.09013274616170215,
          0.05445633253290854,
          0.10506603974818025,
          0.05998774425753975
         ],
         "yaxis": "y8"
        },
        {
         "line": {
          "color": "rgb(255, 127, 14)",
          "width": 2
         },
         "name": "Gen",
         "showlegend": true,
         "type": "scatter",
         "x": [
          0,
          1,
          2,
          3,
          4,
          5,
          6,
          7,
          8,
          9,
          10,
          11,
          12,
          13,
          14,
          15,
          16,
          17,
          18,
          19
         ],
         "xaxis": "x8",
         "y": [
          0.050047457218170166,
          0.04335874319076538,
          0.04064294695854187,
          0.03520175814628601,
          0.022556781768798828,
          0.02776739001274109,
          0.038444727659225464,
          0.025477081537246704,
          0.029706746339797974,
          0.026581615209579468,
          0.021957963705062866,
          0.009694933891296387,
          0.00949108600616455,
          0.007676422595977783,
          0.014488667249679565,
          0.006132781505584717,
          0.005423784255981445,
          0.0030128955841064453,
          0.0023533403873443604,
          0.00958782434463501
         ],
         "yaxis": "y8"
        },
        {
         "line": {
          "color": "rgb(31, 119, 180)",
          "width": 2
         },
         "name": "Ori",
         "showlegend": true,
         "type": "scatter",
         "x": [
          0,
          1,
          2,
          3,
          4,
          5,
          6,
          7,
          8,
          9,
          10,
          11,
          12,
          13,
          14,
          15,
          16,
          17,
          18,
          19
         ],
         "xaxis": "x9",
         "y": [
          0.06939147497758795,
          0.07001834832912014,
          0.03348309114858326,
          0.06415364962732598,
          0.066954720983084,
          0.07939357908215776,
          0.06709047798793978,
          0.06741709345057409,
          0.06232282970842304,
          0.08444357036432261,
          0.07397193153016163,
          0.051993719139578766,
          0.07743976002875792,
          0.063051758368414,
          0.06820407378901311,
          0.04666339471144443,
          0.10320020400566035,
          0.07519604934243206,
          0.09171299217176514,
          0.044001384511378305
         ],
         "yaxis": "y9"
        },
        {
         "line": {
          "color": "rgb(255, 127, 14)",
          "width": 2
         },
         "name": "Gen",
         "showlegend": true,
         "type": "scatter",
         "x": [
          0,
          1,
          2,
          3,
          4,
          5,
          6,
          7,
          8,
          9,
          10,
          11,
          12,
          13,
          14,
          15,
          16,
          17,
          18,
          19
         ],
         "xaxis": "x9",
         "y": [
          0.062009960412979126,
          0.07828816771507263,
          0.07241079211235046,
          0.06813189387321472,
          0.06672665476799011,
          0.06738802790641785,
          0.06576976180076599,
          0.05788305401802063,
          0.06541499495506287,
          0.054889559745788574,
          0.07617238163948059,
          0.054181188344955444,
          0.08390587568283081,
          0.0565514862537384,
          0.051347970962524414,
          0.12447509169578552,
          0.11089012026786804,
          0.10592043399810791,
          0.06505820155143738,
          0.06480702757835388
         ],
         "yaxis": "y9"
        },
        {
         "line": {
          "color": "rgb(31, 119, 180)",
          "width": 2
         },
         "name": "Ori",
         "showlegend": true,
         "type": "scatter",
         "x": [
          0,
          1,
          2,
          3,
          4,
          5,
          6,
          7,
          8,
          9,
          10,
          11,
          12,
          13,
          14,
          15,
          16,
          17,
          18,
          19
         ],
         "xaxis": "x10",
         "y": [
          0.05203711575140706,
          0.05694130194680426,
          0.0557085651023785,
          0.052605453466149706,
          0.05666314848888937,
          0.05669088326760738,
          0.05316259616160255,
          0.0572790113807124,
          0.07119137561779043,
          0.05768980253966327,
          0.046704051411565646,
          0.056250546585709375,
          0.06565196211477115,
          0.08270241244395078,
          0.055474438717729,
          0.04929302426378484,
          0.03971527582216913,
          0.04045082353392703,
          0.04041836402534608,
          0.045596067478986986
         ],
         "yaxis": "y10"
        },
        {
         "line": {
          "color": "rgb(255, 127, 14)",
          "width": 2
         },
         "name": "Gen",
         "showlegend": true,
         "type": "scatter",
         "x": [
          0,
          1,
          2,
          3,
          4,
          5,
          6,
          7,
          8,
          9,
          10,
          11,
          12,
          13,
          14,
          15,
          16,
          17,
          18,
          19
         ],
         "xaxis": "x10",
         "y": [
          0.0802687406539917,
          0.07631790637969971,
          0.07952061295509338,
          0.0834522545337677,
          0.06607601046562195,
          0.06183212995529175,
          0.08223369717597961,
          0.0820460319519043,
          0.06887713074684143,
          0.08364477753639221,
          0.081266850233078,
          0.10091918706893921,
          0.05643552541732788,
          0.17380934953689575,
          0.09802103042602539,
          0.10362538695335388,
          0.13817256689071655,
          0.08249115943908691,
          0.2698337137699127,
          0.10183319449424744
         ],
         "yaxis": "y10"
        }
       ],
       "layout": {
        "height": 1400,
        "template": {
         "data": {
          "bar": [
           {
            "error_x": {
             "color": "#f2f5fa"
            },
            "error_y": {
             "color": "#f2f5fa"
            },
            "marker": {
             "line": {
              "color": "rgb(17,17,17)",
              "width": 0.5
             },
             "pattern": {
              "fillmode": "overlay",
              "size": 10,
              "solidity": 0.2
             }
            },
            "type": "bar"
           }
          ],
          "barpolar": [
           {
            "marker": {
             "line": {
              "color": "rgb(17,17,17)",
              "width": 0.5
             },
             "pattern": {
              "fillmode": "overlay",
              "size": 10,
              "solidity": 0.2
             }
            },
            "type": "barpolar"
           }
          ],
          "carpet": [
           {
            "aaxis": {
             "endlinecolor": "#A2B1C6",
             "gridcolor": "#506784",
             "linecolor": "#506784",
             "minorgridcolor": "#506784",
             "startlinecolor": "#A2B1C6"
            },
            "baxis": {
             "endlinecolor": "#A2B1C6",
             "gridcolor": "#506784",
             "linecolor": "#506784",
             "minorgridcolor": "#506784",
             "startlinecolor": "#A2B1C6"
            },
            "type": "carpet"
           }
          ],
          "choropleth": [
           {
            "colorbar": {
             "outlinewidth": 0,
             "ticks": ""
            },
            "type": "choropleth"
           }
          ],
          "contour": [
           {
            "colorbar": {
             "outlinewidth": 0,
             "ticks": ""
            },
            "colorscale": [
             [
              0,
              "#0d0887"
             ],
             [
              0.1111111111111111,
              "#46039f"
             ],
             [
              0.2222222222222222,
              "#7201a8"
             ],
             [
              0.3333333333333333,
              "#9c179e"
             ],
             [
              0.4444444444444444,
              "#bd3786"
             ],
             [
              0.5555555555555556,
              "#d8576b"
             ],
             [
              0.6666666666666666,
              "#ed7953"
             ],
             [
              0.7777777777777778,
              "#fb9f3a"
             ],
             [
              0.8888888888888888,
              "#fdca26"
             ],
             [
              1,
              "#f0f921"
             ]
            ],
            "type": "contour"
           }
          ],
          "contourcarpet": [
           {
            "colorbar": {
             "outlinewidth": 0,
             "ticks": ""
            },
            "type": "contourcarpet"
           }
          ],
          "heatmap": [
           {
            "colorbar": {
             "outlinewidth": 0,
             "ticks": ""
            },
            "colorscale": [
             [
              0,
              "#0d0887"
             ],
             [
              0.1111111111111111,
              "#46039f"
             ],
             [
              0.2222222222222222,
              "#7201a8"
             ],
             [
              0.3333333333333333,
              "#9c179e"
             ],
             [
              0.4444444444444444,
              "#bd3786"
             ],
             [
              0.5555555555555556,
              "#d8576b"
             ],
             [
              0.6666666666666666,
              "#ed7953"
             ],
             [
              0.7777777777777778,
              "#fb9f3a"
             ],
             [
              0.8888888888888888,
              "#fdca26"
             ],
             [
              1,
              "#f0f921"
             ]
            ],
            "type": "heatmap"
           }
          ],
          "heatmapgl": [
           {
            "colorbar": {
             "outlinewidth": 0,
             "ticks": ""
            },
            "colorscale": [
             [
              0,
              "#0d0887"
             ],
             [
              0.1111111111111111,
              "#46039f"
             ],
             [
              0.2222222222222222,
              "#7201a8"
             ],
             [
              0.3333333333333333,
              "#9c179e"
             ],
             [
              0.4444444444444444,
              "#bd3786"
             ],
             [
              0.5555555555555556,
              "#d8576b"
             ],
             [
              0.6666666666666666,
              "#ed7953"
             ],
             [
              0.7777777777777778,
              "#fb9f3a"
             ],
             [
              0.8888888888888888,
              "#fdca26"
             ],
             [
              1,
              "#f0f921"
             ]
            ],
            "type": "heatmapgl"
           }
          ],
          "histogram": [
           {
            "marker": {
             "pattern": {
              "fillmode": "overlay",
              "size": 10,
              "solidity": 0.2
             }
            },
            "type": "histogram"
           }
          ],
          "histogram2d": [
           {
            "colorbar": {
             "outlinewidth": 0,
             "ticks": ""
            },
            "colorscale": [
             [
              0,
              "#0d0887"
             ],
             [
              0.1111111111111111,
              "#46039f"
             ],
             [
              0.2222222222222222,
              "#7201a8"
             ],
             [
              0.3333333333333333,
              "#9c179e"
             ],
             [
              0.4444444444444444,
              "#bd3786"
             ],
             [
              0.5555555555555556,
              "#d8576b"
             ],
             [
              0.6666666666666666,
              "#ed7953"
             ],
             [
              0.7777777777777778,
              "#fb9f3a"
             ],
             [
              0.8888888888888888,
              "#fdca26"
             ],
             [
              1,
              "#f0f921"
             ]
            ],
            "type": "histogram2d"
           }
          ],
          "histogram2dcontour": [
           {
            "colorbar": {
             "outlinewidth": 0,
             "ticks": ""
            },
            "colorscale": [
             [
              0,
              "#0d0887"
             ],
             [
              0.1111111111111111,
              "#46039f"
             ],
             [
              0.2222222222222222,
              "#7201a8"
             ],
             [
              0.3333333333333333,
              "#9c179e"
             ],
             [
              0.4444444444444444,
              "#bd3786"
             ],
             [
              0.5555555555555556,
              "#d8576b"
             ],
             [
              0.6666666666666666,
              "#ed7953"
             ],
             [
              0.7777777777777778,
              "#fb9f3a"
             ],
             [
              0.8888888888888888,
              "#fdca26"
             ],
             [
              1,
              "#f0f921"
             ]
            ],
            "type": "histogram2dcontour"
           }
          ],
          "mesh3d": [
           {
            "colorbar": {
             "outlinewidth": 0,
             "ticks": ""
            },
            "type": "mesh3d"
           }
          ],
          "parcoords": [
           {
            "line": {
             "colorbar": {
              "outlinewidth": 0,
              "ticks": ""
             }
            },
            "type": "parcoords"
           }
          ],
          "pie": [
           {
            "automargin": true,
            "type": "pie"
           }
          ],
          "scatter": [
           {
            "marker": {
             "line": {
              "color": "#283442"
             }
            },
            "type": "scatter"
           }
          ],
          "scatter3d": [
           {
            "line": {
             "colorbar": {
              "outlinewidth": 0,
              "ticks": ""
             }
            },
            "marker": {
             "colorbar": {
              "outlinewidth": 0,
              "ticks": ""
             }
            },
            "type": "scatter3d"
           }
          ],
          "scattercarpet": [
           {
            "marker": {
             "colorbar": {
              "outlinewidth": 0,
              "ticks": ""
             }
            },
            "type": "scattercarpet"
           }
          ],
          "scattergeo": [
           {
            "marker": {
             "colorbar": {
              "outlinewidth": 0,
              "ticks": ""
             }
            },
            "type": "scattergeo"
           }
          ],
          "scattergl": [
           {
            "marker": {
             "line": {
              "color": "#283442"
             }
            },
            "type": "scattergl"
           }
          ],
          "scattermapbox": [
           {
            "marker": {
             "colorbar": {
              "outlinewidth": 0,
              "ticks": ""
             }
            },
            "type": "scattermapbox"
           }
          ],
          "scatterpolar": [
           {
            "marker": {
             "colorbar": {
              "outlinewidth": 0,
              "ticks": ""
             }
            },
            "type": "scatterpolar"
           }
          ],
          "scatterpolargl": [
           {
            "marker": {
             "colorbar": {
              "outlinewidth": 0,
              "ticks": ""
             }
            },
            "type": "scatterpolargl"
           }
          ],
          "scatterternary": [
           {
            "marker": {
             "colorbar": {
              "outlinewidth": 0,
              "ticks": ""
             }
            },
            "type": "scatterternary"
           }
          ],
          "surface": [
           {
            "colorbar": {
             "outlinewidth": 0,
             "ticks": ""
            },
            "colorscale": [
             [
              0,
              "#0d0887"
             ],
             [
              0.1111111111111111,
              "#46039f"
             ],
             [
              0.2222222222222222,
              "#7201a8"
             ],
             [
              0.3333333333333333,
              "#9c179e"
             ],
             [
              0.4444444444444444,
              "#bd3786"
             ],
             [
              0.5555555555555556,
              "#d8576b"
             ],
             [
              0.6666666666666666,
              "#ed7953"
             ],
             [
              0.7777777777777778,
              "#fb9f3a"
             ],
             [
              0.8888888888888888,
              "#fdca26"
             ],
             [
              1,
              "#f0f921"
             ]
            ],
            "type": "surface"
           }
          ],
          "table": [
           {
            "cells": {
             "fill": {
              "color": "#506784"
             },
             "line": {
              "color": "rgb(17,17,17)"
             }
            },
            "header": {
             "fill": {
              "color": "#2a3f5f"
             },
             "line": {
              "color": "rgb(17,17,17)"
             }
            },
            "type": "table"
           }
          ]
         },
         "layout": {
          "annotationdefaults": {
           "arrowcolor": "#f2f5fa",
           "arrowhead": 0,
           "arrowwidth": 1
          },
          "autotypenumbers": "strict",
          "coloraxis": {
           "colorbar": {
            "outlinewidth": 0,
            "ticks": ""
           }
          },
          "colorscale": {
           "diverging": [
            [
             0,
             "#8e0152"
            ],
            [
             0.1,
             "#c51b7d"
            ],
            [
             0.2,
             "#de77ae"
            ],
            [
             0.3,
             "#f1b6da"
            ],
            [
             0.4,
             "#fde0ef"
            ],
            [
             0.5,
             "#f7f7f7"
            ],
            [
             0.6,
             "#e6f5d0"
            ],
            [
             0.7,
             "#b8e186"
            ],
            [
             0.8,
             "#7fbc41"
            ],
            [
             0.9,
             "#4d9221"
            ],
            [
             1,
             "#276419"
            ]
           ],
           "sequential": [
            [
             0,
             "#0d0887"
            ],
            [
             0.1111111111111111,
             "#46039f"
            ],
            [
             0.2222222222222222,
             "#7201a8"
            ],
            [
             0.3333333333333333,
             "#9c179e"
            ],
            [
             0.4444444444444444,
             "#bd3786"
            ],
            [
             0.5555555555555556,
             "#d8576b"
            ],
            [
             0.6666666666666666,
             "#ed7953"
            ],
            [
             0.7777777777777778,
             "#fb9f3a"
            ],
            [
             0.8888888888888888,
             "#fdca26"
            ],
            [
             1,
             "#f0f921"
            ]
           ],
           "sequentialminus": [
            [
             0,
             "#0d0887"
            ],
            [
             0.1111111111111111,
             "#46039f"
            ],
            [
             0.2222222222222222,
             "#7201a8"
            ],
            [
             0.3333333333333333,
             "#9c179e"
            ],
            [
             0.4444444444444444,
             "#bd3786"
            ],
            [
             0.5555555555555556,
             "#d8576b"
            ],
            [
             0.6666666666666666,
             "#ed7953"
            ],
            [
             0.7777777777777778,
             "#fb9f3a"
            ],
            [
             0.8888888888888888,
             "#fdca26"
            ],
            [
             1,
             "#f0f921"
            ]
           ]
          },
          "colorway": [
           "#636efa",
           "#EF553B",
           "#00cc96",
           "#ab63fa",
           "#FFA15A",
           "#19d3f3",
           "#FF6692",
           "#B6E880",
           "#FF97FF",
           "#FECB52"
          ],
          "font": {
           "color": "#f2f5fa"
          },
          "geo": {
           "bgcolor": "rgb(17,17,17)",
           "lakecolor": "rgb(17,17,17)",
           "landcolor": "rgb(17,17,17)",
           "showlakes": true,
           "showland": true,
           "subunitcolor": "#506784"
          },
          "hoverlabel": {
           "align": "left"
          },
          "hovermode": "closest",
          "mapbox": {
           "style": "dark"
          },
          "paper_bgcolor": "rgb(17,17,17)",
          "plot_bgcolor": "rgb(17,17,17)",
          "polar": {
           "angularaxis": {
            "gridcolor": "#506784",
            "linecolor": "#506784",
            "ticks": ""
           },
           "bgcolor": "rgb(17,17,17)",
           "radialaxis": {
            "gridcolor": "#506784",
            "linecolor": "#506784",
            "ticks": ""
           }
          },
          "scene": {
           "xaxis": {
            "backgroundcolor": "rgb(17,17,17)",
            "gridcolor": "#506784",
            "gridwidth": 2,
            "linecolor": "#506784",
            "showbackground": true,
            "ticks": "",
            "zerolinecolor": "#C8D4E3"
           },
           "yaxis": {
            "backgroundcolor": "rgb(17,17,17)",
            "gridcolor": "#506784",
            "gridwidth": 2,
            "linecolor": "#506784",
            "showbackground": true,
            "ticks": "",
            "zerolinecolor": "#C8D4E3"
           },
           "zaxis": {
            "backgroundcolor": "rgb(17,17,17)",
            "gridcolor": "#506784",
            "gridwidth": 2,
            "linecolor": "#506784",
            "showbackground": true,
            "ticks": "",
            "zerolinecolor": "#C8D4E3"
           }
          },
          "shapedefaults": {
           "line": {
            "color": "#f2f5fa"
           }
          },
          "sliderdefaults": {
           "bgcolor": "#C8D4E3",
           "bordercolor": "rgb(17,17,17)",
           "borderwidth": 1,
           "tickwidth": 0
          },
          "ternary": {
           "aaxis": {
            "gridcolor": "#506784",
            "linecolor": "#506784",
            "ticks": ""
           },
           "baxis": {
            "gridcolor": "#506784",
            "linecolor": "#506784",
            "ticks": ""
           },
           "bgcolor": "rgb(17,17,17)",
           "caxis": {
            "gridcolor": "#506784",
            "linecolor": "#506784",
            "ticks": ""
           }
          },
          "title": {
           "x": 0.05
          },
          "updatemenudefaults": {
           "bgcolor": "#506784",
           "borderwidth": 0
          },
          "xaxis": {
           "automargin": true,
           "gridcolor": "#283442",
           "linecolor": "#506784",
           "ticks": "",
           "title": {
            "standoff": 15
           },
           "zerolinecolor": "#283442",
           "zerolinewidth": 2
          },
          "yaxis": {
           "automargin": true,
           "gridcolor": "#283442",
           "linecolor": "#506784",
           "ticks": "",
           "title": {
            "standoff": 15
           },
           "zerolinecolor": "#283442",
           "zerolinewidth": 2
          }
         }
        },
        "title": {
         "text": "Volume"
        },
        "width": 1400,
        "xaxis": {
         "anchor": "y",
         "domain": [
          0,
          0.45
         ],
         "matches": "x9",
         "showticklabels": false
        },
        "xaxis10": {
         "anchor": "y10",
         "domain": [
          0.55,
          1
         ]
        },
        "xaxis2": {
         "anchor": "y2",
         "domain": [
          0.55,
          1
         ],
         "matches": "x10",
         "showticklabels": false
        },
        "xaxis3": {
         "anchor": "y3",
         "domain": [
          0,
          0.45
         ],
         "matches": "x9",
         "showticklabels": false
        },
        "xaxis4": {
         "anchor": "y4",
         "domain": [
          0.55,
          1
         ],
         "matches": "x10",
         "showticklabels": false
        },
        "xaxis5": {
         "anchor": "y5",
         "domain": [
          0,
          0.45
         ],
         "matches": "x9",
         "showticklabels": false
        },
        "xaxis6": {
         "anchor": "y6",
         "domain": [
          0.55,
          1
         ],
         "matches": "x10",
         "showticklabels": false
        },
        "xaxis7": {
         "anchor": "y7",
         "domain": [
          0,
          0.45
         ],
         "matches": "x9",
         "showticklabels": false
        },
        "xaxis8": {
         "anchor": "y8",
         "domain": [
          0.55,
          1
         ],
         "matches": "x10",
         "showticklabels": false
        },
        "xaxis9": {
         "anchor": "y9",
         "domain": [
          0,
          0.45
         ]
        },
        "yaxis": {
         "anchor": "x",
         "domain": [
          0.816,
          1
         ]
        },
        "yaxis10": {
         "anchor": "x10",
         "domain": [
          0,
          0.184
         ]
        },
        "yaxis2": {
         "anchor": "x2",
         "domain": [
          0.816,
          1
         ]
        },
        "yaxis3": {
         "anchor": "x3",
         "domain": [
          0.6120000000000001,
          0.796
         ]
        },
        "yaxis4": {
         "anchor": "x4",
         "domain": [
          0.6120000000000001,
          0.796
         ]
        },
        "yaxis5": {
         "anchor": "x5",
         "domain": [
          0.408,
          0.592
         ]
        },
        "yaxis6": {
         "anchor": "x6",
         "domain": [
          0.408,
          0.592
         ]
        },
        "yaxis7": {
         "anchor": "x7",
         "domain": [
          0.204,
          0.388
         ]
        },
        "yaxis8": {
         "anchor": "x8",
         "domain": [
          0.204,
          0.388
         ]
        },
        "yaxis9": {
         "anchor": "x9",
         "domain": [
          0,
          0.184
         ]
        }
       }
      }
     },
     "metadata": {},
     "output_type": "display_data"
    }
   ],
   "source": [
    "# VIZ - Volume samples\n",
    "# get random samples from all generated\n",
    "fig = make_subplots(rows=int(n_samples/2), cols=2,\n",
    "                    shared_xaxes=True,\n",
    "                    vertical_spacing=0.02)\n",
    "row = 0\n",
    "col = 1\n",
    "i = 0\n",
    "\n",
    "for s in samples:\n",
    "    if i % 2 == 0:\n",
    "        row = row + 1\n",
    "        col = 1\n",
    "    else:\n",
    "        col = 2\n",
    "\n",
    "    fig.add_trace(go.Scatter(name='Ori', x=x, y=np_ori_data[s,:,1], line=dict(width=2, color=mycolors[0]), showlegend=True),\n",
    "                row=row, col=col)\n",
    "    fig.add_trace(go.Scatter(name='Gen', x=x, y=np_gen_data[s,:,1], line=dict(width=2, color=mycolors[1]), showlegend=True),\n",
    "                row=row, col=col)\n",
    "    i = i + 1\n",
    "\n",
    "fig.update_layout(height=1400, width=1400,\n",
    "                  title_text=\"Volume\")\n",
    "fig.update_layout()\n",
    "fig.update_layout(template=\"plotly_dark\")\n",
    "fig.show()"
   ]
  },
  {
   "cell_type": "code",
   "execution_count": 12,
   "metadata": {},
   "outputs": [
    {
     "data": {
      "application/vnd.plotly.v1+json": {
       "config": {
        "plotlyServerURL": "https://plot.ly"
       },
       "data": [
        {
         "line": {
          "color": "rgb(31, 119, 180)",
          "width": 2
         },
         "name": "Ori",
         "showlegend": true,
         "type": "scatter",
         "x": [
          0,
          1,
          2,
          3,
          4,
          5,
          6,
          7,
          8,
          9,
          10,
          11,
          12,
          13,
          14,
          15,
          16,
          17,
          18,
          19
         ],
         "xaxis": "x",
         "y": [
          0.25555552716049706,
          0.23333330740741035,
          0.16666664814815027,
          0.26666663703704035,
          0.21111108765432363,
          0.21111108765432363,
          0.16666664814815027,
          0.19999997777778028,
          0.07777776913580343,
          0.0888888790123468,
          0.06666665925926009,
          0.0888888790123468,
          0.1555555382716069,
          0.21111108765432363,
          0.21111108765432363,
          0.21111108765432363,
          0.1888888679012369,
          0.17777775802469356,
          0.19999997777778028,
          0.17777775802469356
         ],
         "yaxis": "y"
        },
        {
         "line": {
          "color": "rgb(255, 127, 14)",
          "width": 2
         },
         "name": "Gen",
         "showlegend": true,
         "type": "scatter",
         "x": [
          0,
          1,
          2,
          3,
          4,
          5,
          6,
          7,
          8,
          9,
          10,
          11,
          12,
          13,
          14,
          15,
          16,
          17,
          18,
          19
         ],
         "xaxis": "x",
         "y": [
          0.25911572676737765,
          0.2141664386251463,
          0.1768045825011951,
          0.15096248499068807,
          0.1490397287708407,
          0.16426606141244576,
          0.13460575038651793,
          0.136569782818286,
          0.12255175540131152,
          0.11614836951993385,
          0.10195790588478375,
          0.09283762138713184,
          0.08720057233848283,
          0.08601467845779764,
          0.08148779559706087,
          0.07507344246226312,
          0.07207076940836599,
          0.07501860619516268,
          0.06386097556081494,
          0.067577771784419
         ],
         "yaxis": "y"
        },
        {
         "line": {
          "color": "rgb(31, 119, 180)",
          "width": 2
         },
         "name": "Ori",
         "showlegend": true,
         "type": "scatter",
         "x": [
          0,
          1,
          2,
          3,
          4,
          5,
          6,
          7,
          8,
          9,
          10,
          11,
          12,
          13,
          14,
          15,
          16,
          17,
          18,
          19
         ],
         "xaxis": "x2",
         "y": [
          0.9999998888889013,
          0.9777776691358147,
          0.9666665592592714,
          0.9666665592592714,
          0.9666665592592714,
          0.9999998888889013,
          0.9222221197530979,
          0.9333332296296413,
          0.9111110098765546,
          0.8999999000000112,
          0.9777776691358147,
          0.9888887790123579,
          0.9222221197530979,
          0.9444443395061847,
          0.9888887790123579,
          0.955555449382728,
          0.8999999000000112,
          0.9888887790123579,
          0.955555449382728,
          0.8999999000000112
         ],
         "yaxis": "y2"
        },
        {
         "line": {
          "color": "rgb(255, 127, 14)",
          "width": 2
         },
         "name": "Gen",
         "showlegend": true,
         "type": "scatter",
         "x": [
          0,
          1,
          2,
          3,
          4,
          5,
          6,
          7,
          8,
          9,
          10,
          11,
          12,
          13,
          14,
          15,
          16,
          17,
          18,
          19
         ],
         "xaxis": "x2",
         "y": [
          0.18363294945260117,
          0.1622216819284479,
          0.14459906401919173,
          0.13587923328296844,
          0.12716718095202406,
          0.07903974370117418,
          0.15326626385992626,
          0.10889761430025899,
          0.0787042291930129,
          0.08841424198054715,
          0.0985818693774984,
          0.04229998118562221,
          0.06834929422066695,
          0.0878311894101379,
          0.04796438876318329,
          0.059378617364778195,
          0.08599676726403277,
          0.09861751295111368,
          0.1182300019027771,
          0.14626882835240015
         ],
         "yaxis": "y2"
        },
        {
         "line": {
          "color": "rgb(31, 119, 180)",
          "width": 2
         },
         "name": "Ori",
         "showlegend": true,
         "type": "scatter",
         "x": [
          0,
          1,
          2,
          3,
          4,
          5,
          6,
          7,
          8,
          9,
          10,
          11,
          12,
          13,
          14,
          15,
          16,
          17,
          18,
          19
         ],
         "xaxis": "x3",
         "y": [
          0.25555552716049706,
          0.25555552716049706,
          0.24444441728395372,
          0.222222197530867,
          0.222222197530867,
          0.25555552716049706,
          0.26666663703704035,
          0.24444441728395372,
          0.26666663703704035,
          0.3111110765432138,
          0.2777777469135837,
          0.39999995555556056,
          0.4333332851851906,
          0.444444395061734,
          0.46666661481482064,
          0.45555550493827734,
          0.4111110654321039,
          0.39999995555556056,
          0.2888888567901271,
          0.4111110654321039
         ],
         "yaxis": "y3"
        },
        {
         "line": {
          "color": "rgb(255, 127, 14)",
          "width": 2
         },
         "name": "Gen",
         "showlegend": true,
         "type": "scatter",
         "x": [
          0,
          1,
          2,
          3,
          4,
          5,
          6,
          7,
          8,
          9,
          10,
          11,
          12,
          13,
          14,
          15,
          16,
          17,
          18,
          19
         ],
         "xaxis": "x3",
         "y": [
          0.30659293702062024,
          0.30682515669086297,
          0.4034789650357184,
          0.26870605344150134,
          0.30849322229188403,
          0.32955976639128143,
          0.15243680571539392,
          0.17379538273942025,
          0.5764456942932213,
          0.3124085317628555,
          0.4225970931185437,
          0.5018949547052379,
          0.4031736104744624,
          0.4294173538391611,
          0.3976031100043108,
          0.3859781790068463,
          0.3911350232882184,
          0.4397611129418534,
          0.430247050402246,
          0.3883953258978508
         ],
         "yaxis": "y3"
        },
        {
         "line": {
          "color": "rgb(31, 119, 180)",
          "width": 2
         },
         "name": "Ori",
         "showlegend": true,
         "type": "scatter",
         "x": [
          0,
          1,
          2,
          3,
          4,
          5,
          6,
          7,
          8,
          9,
          10,
          11,
          12,
          13,
          14,
          15,
          16,
          17,
          18,
          19
         ],
         "xaxis": "x4",
         "y": [
          0.26666663703704035,
          0.3111110765432138,
          0.2777777469135837,
          0.39999995555556056,
          0.4333332851851906,
          0.444444395061734,
          0.46666661481482064,
          0.45555550493827734,
          0.4111110654321039,
          0.39999995555556056,
          0.2888888567901271,
          0.4111110654321039,
          0.2777777469135837,
          0.2777777469135837,
          0.2888888567901271,
          0.2888888567901271,
          0.2777777469135837,
          0.32222218641975714,
          0.2888888567901271,
          0.3111110765432138
         ],
         "yaxis": "y4"
        },
        {
         "line": {
          "color": "rgb(255, 127, 14)",
          "width": 2
         },
         "name": "Gen",
         "showlegend": true,
         "type": "scatter",
         "x": [
          0,
          1,
          2,
          3,
          4,
          5,
          6,
          7,
          8,
          9,
          10,
          11,
          12,
          13,
          14,
          15,
          16,
          17,
          18,
          19
         ],
         "xaxis": "x4",
         "y": [
          0.24439287450424804,
          0.27607789548358336,
          0.27536311666285673,
          0.33904042053120426,
          0.44738451635925863,
          0.46854747096086796,
          0.6621903637401875,
          0.573095377187299,
          0.6349560508940298,
          0.5576201057744493,
          0.5409670467117033,
          0.5388934013503724,
          0.5080745251703525,
          0.48607636057662906,
          0.4703024401243156,
          0.46885917341608724,
          0.47221360324204226,
          0.4754370220733377,
          0.4755190082531167,
          0.4722512733733547
         ],
         "yaxis": "y4"
        },
        {
         "line": {
          "color": "rgb(31, 119, 180)",
          "width": 2
         },
         "name": "Ori",
         "showlegend": true,
         "type": "scatter",
         "x": [
          0,
          1,
          2,
          3,
          4,
          5,
          6,
          7,
          8,
          9,
          10,
          11,
          12,
          13,
          14,
          15,
          16,
          17,
          18,
          19
         ],
         "xaxis": "x5",
         "y": [
          0.2777777469135837,
          0.21111108765432363,
          0.23333330740741035,
          0.19999997777778028,
          0.21111108765432363,
          0.17777775802469356,
          0.26666663703704035,
          0.23333330740741035,
          0.3111110765432138,
          0.222222197530867,
          0.2888888567901271,
          0.25555552716049706,
          0.33333329629630043,
          0.24444441728395372,
          0.17777775802469356,
          0.19999997777778028,
          0.1333333185185202,
          0.0888888790123468,
          0.06666665925926009,
          0.05555554938271675
         ],
         "yaxis": "y5"
        },
        {
         "line": {
          "color": "rgb(255, 127, 14)",
          "width": 2
         },
         "name": "Gen",
         "showlegend": true,
         "type": "scatter",
         "x": [
          0,
          1,
          2,
          3,
          4,
          5,
          6,
          7,
          8,
          9,
          10,
          11,
          12,
          13,
          14,
          15,
          16,
          17,
          18,
          19
         ],
         "xaxis": "x5",
         "y": [
          0.2540002481048834,
          0.20750421960259074,
          0.17402936074648848,
          0.1486499740419605,
          0.1464803056085658,
          0.16027931578264834,
          0.13384185734395354,
          0.1351959555135055,
          0.11976610283492821,
          0.11036663021216928,
          0.09841777780866415,
          0.08790396667332229,
          0.08549340609483362,
          0.08063085971434018,
          0.08006422822174199,
          0.06972929060549624,
          0.06883331368478555,
          0.07297786259409214,
          0.06109439647864047,
          0.06278120773836054
         ],
         "yaxis": "y5"
        },
        {
         "line": {
          "color": "rgb(31, 119, 180)",
          "width": 2
         },
         "name": "Ori",
         "showlegend": true,
         "type": "scatter",
         "x": [
          0,
          1,
          2,
          3,
          4,
          5,
          6,
          7,
          8,
          9,
          10,
          11,
          12,
          13,
          14,
          15,
          16,
          17,
          18,
          19
         ],
         "xaxis": "x6",
         "y": [
          0.37777773580247387,
          0.3555555160493872,
          0.38888884567901727,
          0.3666666259259305,
          0.3666666259259305,
          0.5222221641975374,
          0.5444443839506241,
          0.5222221641975374,
          0.5333332740740808,
          0.5444443839506241,
          0.5444443839506241,
          0.5333332740740808,
          0.5444443839506241,
          0.477777724691364,
          0.5666666037037108,
          0.49999994444445073,
          0.511111054320994,
          0.477777724691364,
          0.477777724691364,
          0.39999995555556056
         ],
         "yaxis": "y6"
        },
        {
         "line": {
          "color": "rgb(255, 127, 14)",
          "width": 2
         },
         "name": "Gen",
         "showlegend": true,
         "type": "scatter",
         "x": [
          0,
          1,
          2,
          3,
          4,
          5,
          6,
          7,
          8,
          9,
          10,
          11,
          12,
          13,
          14,
          15,
          16,
          17,
          18,
          19
         ],
         "xaxis": "x6",
         "y": [
          0.2840321046427358,
          0.30148532617036217,
          0.39165036498968625,
          0.337658486995635,
          0.34743355824571287,
          0.3712423031302803,
          0.3190148118325048,
          0.35517623054406156,
          0.23735162958767975,
          0.13654543432360064,
          0.12460266159318709,
          0.11012901632217373,
          0.1517135034314115,
          0.2588101933922071,
          0.17592365575161795,
          0.19915045075158194,
          0.23750084979929492,
          0.20085746798363577,
          0.22234476122375274,
          0.23097813543233564
         ],
         "yaxis": "y6"
        },
        {
         "line": {
          "color": "rgb(31, 119, 180)",
          "width": 2
         },
         "name": "Ori",
         "showlegend": true,
         "type": "scatter",
         "x": [
          0,
          1,
          2,
          3,
          4,
          5,
          6,
          7,
          8,
          9,
          10,
          11,
          12,
          13,
          14,
          15,
          16,
          17,
          18,
          19
         ],
         "xaxis": "x7",
         "y": [
          0.1555555382716069,
          0.1333333185185202,
          0.11111109876543347,
          0.12222220864197683,
          0.14444442839506355,
          0.11111109876543347,
          0.0888888790123468,
          0.14444442839506355,
          0.11111109876543347,
          0.06666665925926009,
          0.05555554938271675,
          0.11111109876543347,
          0.11111109876543347,
          0.1888888679012369,
          0.17777775802469356,
          0.16666664814815027,
          0.07777776913580343,
          0.07777776913580343,
          0.07777776913580343,
          0.09999998888889015
         ],
         "yaxis": "y7"
        },
        {
         "line": {
          "color": "rgb(255, 127, 14)",
          "width": 2
         },
         "name": "Gen",
         "showlegend": true,
         "type": "scatter",
         "x": [
          0,
          1,
          2,
          3,
          4,
          5,
          6,
          7,
          8,
          9,
          10,
          11,
          12,
          13,
          14,
          15,
          16,
          17,
          18,
          19
         ],
         "xaxis": "x7",
         "y": [
          0.2915772173679276,
          0.2945011824971441,
          0.3879644737709643,
          0.3004462981180851,
          0.34475632651612925,
          0.33519490809150954,
          0.19753638695272718,
          0.15177662474321515,
          0.11263941466956809,
          0.07595103135210371,
          0.17412764879480222,
          0.23175988006402676,
          0.12403304986868126,
          0.21167469652949372,
          0.2328160444497727,
          0.1629442987590916,
          0.23856634231091173,
          0.20824325751104547,
          0.19224999199033024,
          0.21903577993438914
         ],
         "yaxis": "y7"
        },
        {
         "line": {
          "color": "rgb(31, 119, 180)",
          "width": 2
         },
         "name": "Ori",
         "showlegend": true,
         "type": "scatter",
         "x": [
          0,
          1,
          2,
          3,
          4,
          5,
          6,
          7,
          8,
          9,
          10,
          11,
          12,
          13,
          14,
          15,
          16,
          17,
          18,
          19
         ],
         "xaxis": "x8",
         "y": [
          0.477777724691364,
          0.5222221641975374,
          0.49999994444445073,
          0.5222221641975374,
          0.5555554938271674,
          0.5666666037037108,
          0.6111110432098841,
          0.4888888345679073,
          0.511111054320994,
          0.46666661481482064,
          0.38888884567901727,
          0.2888888567901271,
          0.23333330740741035,
          0.2777777469135837,
          0.2888888567901271,
          0.25555552716049706,
          0.222222197530867,
          0.24444441728395372,
          0.21111108765432363,
          0.17777775802469356
         ],
         "yaxis": "y8"
        },
        {
         "line": {
          "color": "rgb(255, 127, 14)",
          "width": 2
         },
         "name": "Gen",
         "showlegend": true,
         "type": "scatter",
         "x": [
          0,
          1,
          2,
          3,
          4,
          5,
          6,
          7,
          8,
          9,
          10,
          11,
          12,
          13,
          14,
          15,
          16,
          17,
          18,
          19
         ],
         "xaxis": "x8",
         "y": [
          0.3727310779797382,
          0.4222960002889156,
          0.32608654452148816,
          0.39034505321646223,
          0.303025629229503,
          0.37775589798760223,
          0.30088543528967476,
          0.5538289527647497,
          0.43964673164123846,
          0.3170166855477134,
          0.49242812884136655,
          0.46331513740527547,
          0.42786438479441274,
          0.4564225464562599,
          0.4928155589893588,
          0.37969924760993135,
          0.49982932616773873,
          0.3243783351966713,
          0.43666033065355697,
          0.5219018475475575
         ],
         "yaxis": "y8"
        },
        {
         "line": {
          "color": "rgb(31, 119, 180)",
          "width": 2
         },
         "name": "Ori",
         "showlegend": true,
         "type": "scatter",
         "x": [
          0,
          1,
          2,
          3,
          4,
          5,
          6,
          7,
          8,
          9,
          10,
          11,
          12,
          13,
          14,
          15,
          16,
          17,
          18,
          19
         ],
         "xaxis": "x9",
         "y": [
          0.6222221530864275,
          0.5555554938271674,
          0.5222221641975374,
          0.5555554938271674,
          0.5444443839506241,
          0.511111054320994,
          0.5222221641975374,
          0.49999994444445073,
          0.5333332740740808,
          0.5333332740740808,
          0.511111054320994,
          0.444444395061734,
          0.5222221641975374,
          0.511111054320994,
          0.444444395061734,
          0.5222221641975374,
          0.45555550493827734,
          0.2888888567901271,
          0.2777777469135837,
          0.23333330740741035
         ],
         "yaxis": "y9"
        },
        {
         "line": {
          "color": "rgb(255, 127, 14)",
          "width": 2
         },
         "name": "Gen",
         "showlegend": true,
         "type": "scatter",
         "x": [
          0,
          1,
          2,
          3,
          4,
          5,
          6,
          7,
          8,
          9,
          10,
          11,
          12,
          13,
          14,
          15,
          16,
          17,
          18,
          19
         ],
         "xaxis": "x9",
         "y": [
          0.5782002164218829,
          0.3177283649272561,
          0.2108398143628895,
          0.20619950387574823,
          0.18688596198673946,
          0.16545922705898558,
          0.19024149449850028,
          0.2151837705891358,
          0.15741444865216014,
          0.22247767956683318,
          0.20428372139856474,
          0.24869591214640252,
          0.19574315161158554,
          0.23646334166529076,
          0.16922999528243687,
          0.2548566177435417,
          0.22588220709115547,
          0.22059518628005792,
          0.2591384063321947,
          0.23802364208053184
         ],
         "yaxis": "y9"
        },
        {
         "line": {
          "color": "rgb(31, 119, 180)",
          "width": 2
         },
         "name": "Ori",
         "showlegend": true,
         "type": "scatter",
         "x": [
          0,
          1,
          2,
          3,
          4,
          5,
          6,
          7,
          8,
          9,
          10,
          11,
          12,
          13,
          14,
          15,
          16,
          17,
          18,
          19
         ],
         "xaxis": "x10",
         "y": [
          0.3666666259259305,
          0.38888884567901727,
          0.3555555160493872,
          0.3555555160493872,
          0.3666666259259305,
          0.37777773580247387,
          0.1888888679012369,
          0.222222197530867,
          0.3111110765432138,
          0.16666664814815027,
          0.19999997777778028,
          0.19999997777778028,
          0.17777775802469356,
          0.11111109876543347,
          0.19999997777778028,
          0.21111108765432363,
          0.17777775802469356,
          0.24444441728395372,
          0.1888888679012369,
          0.19999997777778028
         ],
         "yaxis": "y10"
        },
        {
         "line": {
          "color": "rgb(255, 127, 14)",
          "width": 2
         },
         "name": "Gen",
         "showlegend": true,
         "type": "scatter",
         "x": [
          0,
          1,
          2,
          3,
          4,
          5,
          6,
          7,
          8,
          9,
          10,
          11,
          12,
          13,
          14,
          15,
          16,
          17,
          18,
          19
         ],
         "xaxis": "x10",
         "y": [
          0.3354171141825426,
          0.2126738788811657,
          0.1843419168211079,
          0.1703439463648718,
          0.17542223173315877,
          0.12267799802491884,
          0.232389781880024,
          0.12345151721654489,
          0.206615246226863,
          0.18432701566156975,
          0.3415409245086653,
          0.15593616421901713,
          0.21740019886116127,
          0.06014048384964541,
          0.16937817241288436,
          0.098755467886118,
          0.38652078983026894,
          0.40169833607554606,
          0.11841045494478426,
          0.2586076866340835
         ],
         "yaxis": "y10"
        }
       ],
       "layout": {
        "height": 1400,
        "template": {
         "data": {
          "bar": [
           {
            "error_x": {
             "color": "#f2f5fa"
            },
            "error_y": {
             "color": "#f2f5fa"
            },
            "marker": {
             "line": {
              "color": "rgb(17,17,17)",
              "width": 0.5
             },
             "pattern": {
              "fillmode": "overlay",
              "size": 10,
              "solidity": 0.2
             }
            },
            "type": "bar"
           }
          ],
          "barpolar": [
           {
            "marker": {
             "line": {
              "color": "rgb(17,17,17)",
              "width": 0.5
             },
             "pattern": {
              "fillmode": "overlay",
              "size": 10,
              "solidity": 0.2
             }
            },
            "type": "barpolar"
           }
          ],
          "carpet": [
           {
            "aaxis": {
             "endlinecolor": "#A2B1C6",
             "gridcolor": "#506784",
             "linecolor": "#506784",
             "minorgridcolor": "#506784",
             "startlinecolor": "#A2B1C6"
            },
            "baxis": {
             "endlinecolor": "#A2B1C6",
             "gridcolor": "#506784",
             "linecolor": "#506784",
             "minorgridcolor": "#506784",
             "startlinecolor": "#A2B1C6"
            },
            "type": "carpet"
           }
          ],
          "choropleth": [
           {
            "colorbar": {
             "outlinewidth": 0,
             "ticks": ""
            },
            "type": "choropleth"
           }
          ],
          "contour": [
           {
            "colorbar": {
             "outlinewidth": 0,
             "ticks": ""
            },
            "colorscale": [
             [
              0,
              "#0d0887"
             ],
             [
              0.1111111111111111,
              "#46039f"
             ],
             [
              0.2222222222222222,
              "#7201a8"
             ],
             [
              0.3333333333333333,
              "#9c179e"
             ],
             [
              0.4444444444444444,
              "#bd3786"
             ],
             [
              0.5555555555555556,
              "#d8576b"
             ],
             [
              0.6666666666666666,
              "#ed7953"
             ],
             [
              0.7777777777777778,
              "#fb9f3a"
             ],
             [
              0.8888888888888888,
              "#fdca26"
             ],
             [
              1,
              "#f0f921"
             ]
            ],
            "type": "contour"
           }
          ],
          "contourcarpet": [
           {
            "colorbar": {
             "outlinewidth": 0,
             "ticks": ""
            },
            "type": "contourcarpet"
           }
          ],
          "heatmap": [
           {
            "colorbar": {
             "outlinewidth": 0,
             "ticks": ""
            },
            "colorscale": [
             [
              0,
              "#0d0887"
             ],
             [
              0.1111111111111111,
              "#46039f"
             ],
             [
              0.2222222222222222,
              "#7201a8"
             ],
             [
              0.3333333333333333,
              "#9c179e"
             ],
             [
              0.4444444444444444,
              "#bd3786"
             ],
             [
              0.5555555555555556,
              "#d8576b"
             ],
             [
              0.6666666666666666,
              "#ed7953"
             ],
             [
              0.7777777777777778,
              "#fb9f3a"
             ],
             [
              0.8888888888888888,
              "#fdca26"
             ],
             [
              1,
              "#f0f921"
             ]
            ],
            "type": "heatmap"
           }
          ],
          "heatmapgl": [
           {
            "colorbar": {
             "outlinewidth": 0,
             "ticks": ""
            },
            "colorscale": [
             [
              0,
              "#0d0887"
             ],
             [
              0.1111111111111111,
              "#46039f"
             ],
             [
              0.2222222222222222,
              "#7201a8"
             ],
             [
              0.3333333333333333,
              "#9c179e"
             ],
             [
              0.4444444444444444,
              "#bd3786"
             ],
             [
              0.5555555555555556,
              "#d8576b"
             ],
             [
              0.6666666666666666,
              "#ed7953"
             ],
             [
              0.7777777777777778,
              "#fb9f3a"
             ],
             [
              0.8888888888888888,
              "#fdca26"
             ],
             [
              1,
              "#f0f921"
             ]
            ],
            "type": "heatmapgl"
           }
          ],
          "histogram": [
           {
            "marker": {
             "pattern": {
              "fillmode": "overlay",
              "size": 10,
              "solidity": 0.2
             }
            },
            "type": "histogram"
           }
          ],
          "histogram2d": [
           {
            "colorbar": {
             "outlinewidth": 0,
             "ticks": ""
            },
            "colorscale": [
             [
              0,
              "#0d0887"
             ],
             [
              0.1111111111111111,
              "#46039f"
             ],
             [
              0.2222222222222222,
              "#7201a8"
             ],
             [
              0.3333333333333333,
              "#9c179e"
             ],
             [
              0.4444444444444444,
              "#bd3786"
             ],
             [
              0.5555555555555556,
              "#d8576b"
             ],
             [
              0.6666666666666666,
              "#ed7953"
             ],
             [
              0.7777777777777778,
              "#fb9f3a"
             ],
             [
              0.8888888888888888,
              "#fdca26"
             ],
             [
              1,
              "#f0f921"
             ]
            ],
            "type": "histogram2d"
           }
          ],
          "histogram2dcontour": [
           {
            "colorbar": {
             "outlinewidth": 0,
             "ticks": ""
            },
            "colorscale": [
             [
              0,
              "#0d0887"
             ],
             [
              0.1111111111111111,
              "#46039f"
             ],
             [
              0.2222222222222222,
              "#7201a8"
             ],
             [
              0.3333333333333333,
              "#9c179e"
             ],
             [
              0.4444444444444444,
              "#bd3786"
             ],
             [
              0.5555555555555556,
              "#d8576b"
             ],
             [
              0.6666666666666666,
              "#ed7953"
             ],
             [
              0.7777777777777778,
              "#fb9f3a"
             ],
             [
              0.8888888888888888,
              "#fdca26"
             ],
             [
              1,
              "#f0f921"
             ]
            ],
            "type": "histogram2dcontour"
           }
          ],
          "mesh3d": [
           {
            "colorbar": {
             "outlinewidth": 0,
             "ticks": ""
            },
            "type": "mesh3d"
           }
          ],
          "parcoords": [
           {
            "line": {
             "colorbar": {
              "outlinewidth": 0,
              "ticks": ""
             }
            },
            "type": "parcoords"
           }
          ],
          "pie": [
           {
            "automargin": true,
            "type": "pie"
           }
          ],
          "scatter": [
           {
            "marker": {
             "line": {
              "color": "#283442"
             }
            },
            "type": "scatter"
           }
          ],
          "scatter3d": [
           {
            "line": {
             "colorbar": {
              "outlinewidth": 0,
              "ticks": ""
             }
            },
            "marker": {
             "colorbar": {
              "outlinewidth": 0,
              "ticks": ""
             }
            },
            "type": "scatter3d"
           }
          ],
          "scattercarpet": [
           {
            "marker": {
             "colorbar": {
              "outlinewidth": 0,
              "ticks": ""
             }
            },
            "type": "scattercarpet"
           }
          ],
          "scattergeo": [
           {
            "marker": {
             "colorbar": {
              "outlinewidth": 0,
              "ticks": ""
             }
            },
            "type": "scattergeo"
           }
          ],
          "scattergl": [
           {
            "marker": {
             "line": {
              "color": "#283442"
             }
            },
            "type": "scattergl"
           }
          ],
          "scattermapbox": [
           {
            "marker": {
             "colorbar": {
              "outlinewidth": 0,
              "ticks": ""
             }
            },
            "type": "scattermapbox"
           }
          ],
          "scatterpolar": [
           {
            "marker": {
             "colorbar": {
              "outlinewidth": 0,
              "ticks": ""
             }
            },
            "type": "scatterpolar"
           }
          ],
          "scatterpolargl": [
           {
            "marker": {
             "colorbar": {
              "outlinewidth": 0,
              "ticks": ""
             }
            },
            "type": "scatterpolargl"
           }
          ],
          "scatterternary": [
           {
            "marker": {
             "colorbar": {
              "outlinewidth": 0,
              "ticks": ""
             }
            },
            "type": "scatterternary"
           }
          ],
          "surface": [
           {
            "colorbar": {
             "outlinewidth": 0,
             "ticks": ""
            },
            "colorscale": [
             [
              0,
              "#0d0887"
             ],
             [
              0.1111111111111111,
              "#46039f"
             ],
             [
              0.2222222222222222,
              "#7201a8"
             ],
             [
              0.3333333333333333,
              "#9c179e"
             ],
             [
              0.4444444444444444,
              "#bd3786"
             ],
             [
              0.5555555555555556,
              "#d8576b"
             ],
             [
              0.6666666666666666,
              "#ed7953"
             ],
             [
              0.7777777777777778,
              "#fb9f3a"
             ],
             [
              0.8888888888888888,
              "#fdca26"
             ],
             [
              1,
              "#f0f921"
             ]
            ],
            "type": "surface"
           }
          ],
          "table": [
           {
            "cells": {
             "fill": {
              "color": "#506784"
             },
             "line": {
              "color": "rgb(17,17,17)"
             }
            },
            "header": {
             "fill": {
              "color": "#2a3f5f"
             },
             "line": {
              "color": "rgb(17,17,17)"
             }
            },
            "type": "table"
           }
          ]
         },
         "layout": {
          "annotationdefaults": {
           "arrowcolor": "#f2f5fa",
           "arrowhead": 0,
           "arrowwidth": 1
          },
          "autotypenumbers": "strict",
          "coloraxis": {
           "colorbar": {
            "outlinewidth": 0,
            "ticks": ""
           }
          },
          "colorscale": {
           "diverging": [
            [
             0,
             "#8e0152"
            ],
            [
             0.1,
             "#c51b7d"
            ],
            [
             0.2,
             "#de77ae"
            ],
            [
             0.3,
             "#f1b6da"
            ],
            [
             0.4,
             "#fde0ef"
            ],
            [
             0.5,
             "#f7f7f7"
            ],
            [
             0.6,
             "#e6f5d0"
            ],
            [
             0.7,
             "#b8e186"
            ],
            [
             0.8,
             "#7fbc41"
            ],
            [
             0.9,
             "#4d9221"
            ],
            [
             1,
             "#276419"
            ]
           ],
           "sequential": [
            [
             0,
             "#0d0887"
            ],
            [
             0.1111111111111111,
             "#46039f"
            ],
            [
             0.2222222222222222,
             "#7201a8"
            ],
            [
             0.3333333333333333,
             "#9c179e"
            ],
            [
             0.4444444444444444,
             "#bd3786"
            ],
            [
             0.5555555555555556,
             "#d8576b"
            ],
            [
             0.6666666666666666,
             "#ed7953"
            ],
            [
             0.7777777777777778,
             "#fb9f3a"
            ],
            [
             0.8888888888888888,
             "#fdca26"
            ],
            [
             1,
             "#f0f921"
            ]
           ],
           "sequentialminus": [
            [
             0,
             "#0d0887"
            ],
            [
             0.1111111111111111,
             "#46039f"
            ],
            [
             0.2222222222222222,
             "#7201a8"
            ],
            [
             0.3333333333333333,
             "#9c179e"
            ],
            [
             0.4444444444444444,
             "#bd3786"
            ],
            [
             0.5555555555555556,
             "#d8576b"
            ],
            [
             0.6666666666666666,
             "#ed7953"
            ],
            [
             0.7777777777777778,
             "#fb9f3a"
            ],
            [
             0.8888888888888888,
             "#fdca26"
            ],
            [
             1,
             "#f0f921"
            ]
           ]
          },
          "colorway": [
           "#636efa",
           "#EF553B",
           "#00cc96",
           "#ab63fa",
           "#FFA15A",
           "#19d3f3",
           "#FF6692",
           "#B6E880",
           "#FF97FF",
           "#FECB52"
          ],
          "font": {
           "color": "#f2f5fa"
          },
          "geo": {
           "bgcolor": "rgb(17,17,17)",
           "lakecolor": "rgb(17,17,17)",
           "landcolor": "rgb(17,17,17)",
           "showlakes": true,
           "showland": true,
           "subunitcolor": "#506784"
          },
          "hoverlabel": {
           "align": "left"
          },
          "hovermode": "closest",
          "mapbox": {
           "style": "dark"
          },
          "paper_bgcolor": "rgb(17,17,17)",
          "plot_bgcolor": "rgb(17,17,17)",
          "polar": {
           "angularaxis": {
            "gridcolor": "#506784",
            "linecolor": "#506784",
            "ticks": ""
           },
           "bgcolor": "rgb(17,17,17)",
           "radialaxis": {
            "gridcolor": "#506784",
            "linecolor": "#506784",
            "ticks": ""
           }
          },
          "scene": {
           "xaxis": {
            "backgroundcolor": "rgb(17,17,17)",
            "gridcolor": "#506784",
            "gridwidth": 2,
            "linecolor": "#506784",
            "showbackground": true,
            "ticks": "",
            "zerolinecolor": "#C8D4E3"
           },
           "yaxis": {
            "backgroundcolor": "rgb(17,17,17)",
            "gridcolor": "#506784",
            "gridwidth": 2,
            "linecolor": "#506784",
            "showbackground": true,
            "ticks": "",
            "zerolinecolor": "#C8D4E3"
           },
           "zaxis": {
            "backgroundcolor": "rgb(17,17,17)",
            "gridcolor": "#506784",
            "gridwidth": 2,
            "linecolor": "#506784",
            "showbackground": true,
            "ticks": "",
            "zerolinecolor": "#C8D4E3"
           }
          },
          "shapedefaults": {
           "line": {
            "color": "#f2f5fa"
           }
          },
          "sliderdefaults": {
           "bgcolor": "#C8D4E3",
           "bordercolor": "rgb(17,17,17)",
           "borderwidth": 1,
           "tickwidth": 0
          },
          "ternary": {
           "aaxis": {
            "gridcolor": "#506784",
            "linecolor": "#506784",
            "ticks": ""
           },
           "baxis": {
            "gridcolor": "#506784",
            "linecolor": "#506784",
            "ticks": ""
           },
           "bgcolor": "rgb(17,17,17)",
           "caxis": {
            "gridcolor": "#506784",
            "linecolor": "#506784",
            "ticks": ""
           }
          },
          "title": {
           "x": 0.05
          },
          "updatemenudefaults": {
           "bgcolor": "#506784",
           "borderwidth": 0
          },
          "xaxis": {
           "automargin": true,
           "gridcolor": "#283442",
           "linecolor": "#506784",
           "ticks": "",
           "title": {
            "standoff": 15
           },
           "zerolinecolor": "#283442",
           "zerolinewidth": 2
          },
          "yaxis": {
           "automargin": true,
           "gridcolor": "#283442",
           "linecolor": "#506784",
           "ticks": "",
           "title": {
            "standoff": 15
           },
           "zerolinecolor": "#283442",
           "zerolinewidth": 2
          }
         }
        },
        "title": {
         "text": "Volume"
        },
        "width": 1400,
        "xaxis": {
         "anchor": "y",
         "domain": [
          0,
          0.45
         ],
         "matches": "x9",
         "showticklabels": false
        },
        "xaxis10": {
         "anchor": "y10",
         "domain": [
          0.55,
          1
         ]
        },
        "xaxis2": {
         "anchor": "y2",
         "domain": [
          0.55,
          1
         ],
         "matches": "x10",
         "showticklabels": false
        },
        "xaxis3": {
         "anchor": "y3",
         "domain": [
          0,
          0.45
         ],
         "matches": "x9",
         "showticklabels": false
        },
        "xaxis4": {
         "anchor": "y4",
         "domain": [
          0.55,
          1
         ],
         "matches": "x10",
         "showticklabels": false
        },
        "xaxis5": {
         "anchor": "y5",
         "domain": [
          0,
          0.45
         ],
         "matches": "x9",
         "showticklabels": false
        },
        "xaxis6": {
         "anchor": "y6",
         "domain": [
          0.55,
          1
         ],
         "matches": "x10",
         "showticklabels": false
        },
        "xaxis7": {
         "anchor": "y7",
         "domain": [
          0,
          0.45
         ],
         "matches": "x9",
         "showticklabels": false
        },
        "xaxis8": {
         "anchor": "y8",
         "domain": [
          0.55,
          1
         ],
         "matches": "x10",
         "showticklabels": false
        },
        "xaxis9": {
         "anchor": "y9",
         "domain": [
          0,
          0.45
         ]
        },
        "yaxis": {
         "anchor": "x",
         "domain": [
          0.816,
          1
         ]
        },
        "yaxis10": {
         "anchor": "x10",
         "domain": [
          0,
          0.184
         ]
        },
        "yaxis2": {
         "anchor": "x2",
         "domain": [
          0.816,
          1
         ]
        },
        "yaxis3": {
         "anchor": "x3",
         "domain": [
          0.6120000000000001,
          0.796
         ]
        },
        "yaxis4": {
         "anchor": "x4",
         "domain": [
          0.6120000000000001,
          0.796
         ]
        },
        "yaxis5": {
         "anchor": "x5",
         "domain": [
          0.408,
          0.592
         ]
        },
        "yaxis6": {
         "anchor": "x6",
         "domain": [
          0.408,
          0.592
         ]
        },
        "yaxis7": {
         "anchor": "x7",
         "domain": [
          0.204,
          0.388
         ]
        },
        "yaxis8": {
         "anchor": "x8",
         "domain": [
          0.204,
          0.388
         ]
        },
        "yaxis9": {
         "anchor": "x9",
         "domain": [
          0,
          0.184
         ]
        }
       }
      }
     },
     "metadata": {},
     "output_type": "display_data"
    }
   ],
   "source": [
    "# VIZ - FGI samples\n",
    "# get random samples from all generated\n",
    "fig = make_subplots(rows=int(n_samples/2), cols=2,\n",
    "                    shared_xaxes=True,\n",
    "                    vertical_spacing=0.02)\n",
    "row = 0\n",
    "col = 1\n",
    "i = 0\n",
    "\n",
    "for s in samples:\n",
    "    if i % 2 == 0:\n",
    "        row = row + 1\n",
    "        col = 1\n",
    "    else:\n",
    "        col = 2\n",
    "\n",
    "    fig.add_trace(go.Scatter(name='Ori', x=x, y=np_ori_data[s,:,2], line=dict(width=2, color=mycolors[0]), showlegend=True),\n",
    "                row=row, col=col)\n",
    "    fig.add_trace(go.Scatter(name='Gen', x=x, y=np_gen_data[s,:,2], line=dict(width=2, color=mycolors[1]), showlegend=True),\n",
    "                row=row, col=col)\n",
    "    i = i + 1\n",
    "\n",
    "fig.update_layout(height=1400, width=1400,\n",
    "                  title_text=\"Volume\")\n",
    "fig.update_layout()\n",
    "fig.update_layout(template=\"plotly_dark\")\n",
    "fig.show()"
   ]
  },
  {
   "attachments": {},
   "cell_type": "markdown",
   "metadata": {},
   "source": [
    "# Export"
   ]
  },
  {
   "cell_type": "code",
   "execution_count": 16,
   "metadata": {},
   "outputs": [
    {
     "data": {
      "text/plain": [
       "array([[[0.09637389, 0.05755985, 0.36261245],\n",
       "        [0.09768003, 0.05855075, 0.50143302],\n",
       "        [0.10061276, 0.07035747, 0.56560898],\n",
       "        ...,\n",
       "        [0.08655581, 0.07994318, 0.42512817],\n",
       "        [0.0863485 , 0.07842386, 0.4124269 ],\n",
       "        [0.08612987, 0.07715487, 0.39844863]],\n",
       "\n",
       "       [[0.31533164, 0.13822541, 0.90821816],\n",
       "        [0.34379908, 0.19321585, 0.99580205],\n",
       "        [0.31963366, 0.16043094, 0.96214343],\n",
       "        ...,\n",
       "        [0.25967032, 0.11635047, 0.98136378],\n",
       "        [0.2495459 , 0.12037018, 0.97967191],\n",
       "        [0.24493995, 0.11160344, 0.98208118]],\n",
       "\n",
       "       [[0.08473563, 0.03454104, 0.30402919],\n",
       "        [0.08167604, 0.03707626, 0.32600325],\n",
       "        [0.09051931, 0.030637  , 0.35311045],\n",
       "        ...,\n",
       "        [0.06955984, 0.0243386 , 0.16873727],\n",
       "        [0.07186919, 0.03212196, 0.24323002],\n",
       "        [0.06562734, 0.0269182 , 0.12581761]],\n",
       "\n",
       "       ...,\n",
       "\n",
       "       [[0.49654093, 0.06767207, 0.18277485],\n",
       "        [0.4943592 , 0.05907372, 0.19758476],\n",
       "        [0.50285017, 0.10697511, 0.15898187],\n",
       "        ...,\n",
       "        [0.49686837, 0.07680559, 0.26295868],\n",
       "        [0.5124042 , 0.07888326, 0.27322599],\n",
       "        [0.50466597, 0.07386318, 0.22637988]],\n",
       "\n",
       "       [[0.6889292 , 0.26103431, 0.80984595],\n",
       "        [0.72835279, 0.21905199, 0.99706657],\n",
       "        [0.72391266, 0.23269042, 0.99691952],\n",
       "        ...,\n",
       "        [0.41514117, 0.20471245, 0.98670704],\n",
       "        [0.41179577, 0.20443982, 0.98411096],\n",
       "        [0.40933251, 0.20466256, 0.98163421]],\n",
       "\n",
       "       [[0.24320316, 0.06806222, 0.23360739],\n",
       "        [0.24839371, 0.10772887, 0.16928936],\n",
       "        [0.24984789, 0.08222872, 0.1632228 ],\n",
       "        ...,\n",
       "        [0.24334267, 0.05779722, 0.05653864],\n",
       "        [0.25771394, 0.07343036, 0.062754  ],\n",
       "        [0.26258358, 0.06356922, 0.05054864]]])"
      ]
     },
     "execution_count": 16,
     "metadata": {},
     "output_type": "execute_result"
    }
   ],
   "source": [
    "np_gen_data"
   ]
  },
  {
   "cell_type": "code",
   "execution_count": 20,
   "metadata": {},
   "outputs": [
    {
     "data": {
      "text/plain": [
       "array([[[0.09637389, 0.05755985, 0.36261245],\n",
       "        [0.09768003, 0.05855075, 0.50143302],\n",
       "        [0.10061276, 0.07035747, 0.56560898],\n",
       "        ...,\n",
       "        [0.08655581, 0.07994318, 0.42512817],\n",
       "        [0.0863485 , 0.07842386, 0.4124269 ],\n",
       "        [0.08612987, 0.07715487, 0.39844863]],\n",
       "\n",
       "       [[0.31533164, 0.13822541, 0.90821816],\n",
       "        [0.34379908, 0.19321585, 0.99580205],\n",
       "        [0.31963366, 0.16043094, 0.96214343],\n",
       "        ...,\n",
       "        [0.25967032, 0.11635047, 0.98136378],\n",
       "        [0.2495459 , 0.12037018, 0.97967191],\n",
       "        [0.24493995, 0.11160344, 0.98208118]],\n",
       "\n",
       "       [[0.08473563, 0.03454104, 0.30402919],\n",
       "        [0.08167604, 0.03707626, 0.32600325],\n",
       "        [0.09051931, 0.030637  , 0.35311045],\n",
       "        ...,\n",
       "        [0.06955984, 0.0243386 , 0.16873727],\n",
       "        [0.07186919, 0.03212196, 0.24323002],\n",
       "        [0.06562734, 0.0269182 , 0.12581761]],\n",
       "\n",
       "       ...,\n",
       "\n",
       "       [[0.49654093, 0.06767207, 0.18277485],\n",
       "        [0.4943592 , 0.05907372, 0.19758476],\n",
       "        [0.50285017, 0.10697511, 0.15898187],\n",
       "        ...,\n",
       "        [0.49686837, 0.07680559, 0.26295868],\n",
       "        [0.5124042 , 0.07888326, 0.27322599],\n",
       "        [0.50466597, 0.07386318, 0.22637988]],\n",
       "\n",
       "       [[0.6889292 , 0.26103431, 0.80984595],\n",
       "        [0.72835279, 0.21905199, 0.99706657],\n",
       "        [0.72391266, 0.23269042, 0.99691952],\n",
       "        ...,\n",
       "        [0.41514117, 0.20471245, 0.98670704],\n",
       "        [0.41179577, 0.20443982, 0.98411096],\n",
       "        [0.40933251, 0.20466256, 0.98163421]],\n",
       "\n",
       "       [[0.24320316, 0.06806222, 0.23360739],\n",
       "        [0.24839371, 0.10772887, 0.16928936],\n",
       "        [0.24984789, 0.08222872, 0.1632228 ],\n",
       "        ...,\n",
       "        [0.24334267, 0.05779722, 0.05653864],\n",
       "        [0.25771394, 0.07343036, 0.062754  ],\n",
       "        [0.26258358, 0.06356922, 0.05054864]]])"
      ]
     },
     "execution_count": 20,
     "metadata": {},
     "output_type": "execute_result"
    }
   ],
   "source": [
    "np.array(np_gen_data).reshape((1612,60)).reshape((1612,20,3))"
   ]
  },
  {
   "cell_type": "code",
   "execution_count": 21,
   "metadata": {},
   "outputs": [],
   "source": [
    "# export\n",
    "np.savetxt(\"./data/generated_stock_data.csv\", np.array(np_gen_data).reshape((1612,60)), delimiter=\",\")"
   ]
  },
  {
   "cell_type": "code",
   "execution_count": 22,
   "metadata": {},
   "outputs": [
    {
     "data": {
      "text/plain": [
       "array([[0.09637389, 0.05755985, 0.36261245, ..., 0.08612987, 0.07715487,\n",
       "        0.39844863],\n",
       "       [0.31533164, 0.13822541, 0.90821816, ..., 0.24493995, 0.11160344,\n",
       "        0.98208118],\n",
       "       [0.08473563, 0.03454104, 0.30402919, ..., 0.06562734, 0.0269182 ,\n",
       "        0.12581761],\n",
       "       ...,\n",
       "       [0.49654093, 0.06767207, 0.18277485, ..., 0.50466597, 0.07386318,\n",
       "        0.22637988],\n",
       "       [0.6889292 , 0.26103431, 0.80984595, ..., 0.40933251, 0.20466256,\n",
       "        0.98163421],\n",
       "       [0.24320316, 0.06806222, 0.23360739, ..., 0.26258358, 0.06356922,\n",
       "        0.05054864]])"
      ]
     },
     "execution_count": 22,
     "metadata": {},
     "output_type": "execute_result"
    }
   ],
   "source": [
    "a = np.genfromtxt(\"./data/generated_stock_data.csv\", delimiter=',')\n",
    "a"
   ]
  }
 ],
 "metadata": {
  "kernelspec": {
   "display_name": "base",
   "language": "python",
   "name": "python3"
  },
  "language_info": {
   "codemirror_mode": {
    "name": "ipython",
    "version": 3
   },
   "file_extension": ".py",
   "mimetype": "text/x-python",
   "name": "python",
   "nbconvert_exporter": "python",
   "pygments_lexer": "ipython3",
   "version": "3.7.15"
  },
  "vscode": {
   "interpreter": {
    "hash": "c585f91d3623973be3accc48b0d5e967ce904a396a0f0c8bda7b100d8b60333f"
   }
  }
 },
 "nbformat": 4,
 "nbformat_minor": 2
}
