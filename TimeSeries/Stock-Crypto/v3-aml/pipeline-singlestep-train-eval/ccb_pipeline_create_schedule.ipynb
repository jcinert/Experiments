{
  "cells": [
    {
      "cell_type": "code",
      "execution_count": 23,
      "metadata": {
        "gather": {
          "logged": 1686074043924
        }
      },
      "outputs": [
        {
          "name": "stderr",
          "output_type": "stream",
          "text": [
            "Found the config file in: /config.json\n"
          ]
        },
        {
          "name": "stdout",
          "output_type": "stream",
          "text": [
            "enable_node_public_ip: true\n",
            "id: /subscriptions/96c5f48d-9bf8-4453-a190-e2ce1e4fcea5/resourceGroups/rg-aml/providers/Microsoft.MachineLearningServices/workspaces/aml/computes/gpu-cluster-low\n",
            "identity:\n",
            "  principal_id: 076b32bf-1545-436f-b3ad-b665ecc2e68d\n",
            "  tenant_id: e0793d39-0939-496d-b129-198edd916feb\n",
            "  type: system_assigned\n",
            "idle_time_before_scale_down: 120\n",
            "location: eastus2\n",
            "max_instances: 1\n",
            "min_instances: 0\n",
            "name: gpu-cluster-low\n",
            "provisioning_state: Succeeded\n",
            "size: STANDARD_NC4AS_T4_V3\n",
            "ssh_public_access_enabled: false\n",
            "tier: low_priority\n",
            "type: amlcompute\n",
            "\n"
          ]
        }
      ],
      "source": [
        "from azure.ai.ml import command\n",
        "from azure.ai.ml.entities import Data\n",
        "from azure.ai.ml import Input, Output, load_component\n",
        "from azure.ai.ml.constants import AssetTypes\n",
        "from azure.ai.ml import MLClient\n",
        "from azure.ai.ml.dsl import pipeline\n",
        "# Identity\n",
        "from azure.identity import DefaultAzureCredential, InteractiveBrowserCredential\n",
        "# Schedule\n",
        "from azure.ai.ml.constants import TimeZone\n",
        "from azure.ai.ml.entities import (\n",
        "    JobSchedule,\n",
        "    CronTrigger,\n",
        "    RecurrenceTrigger,\n",
        "    RecurrencePattern,\n",
        ")\n",
        "from datetime import datetime\n",
        "\n",
        "try:\n",
        "    credential = DefaultAzureCredential()\n",
        "    # Check if given credential can get token successfully.\n",
        "    credential.get_token(\"https://management.azure.com/.default\")\n",
        "except Exception as ex:\n",
        "    # Fall back to InteractiveBrowserCredential in case DefaultAzureCredential not work\n",
        "    credential = InteractiveBrowserCredential()\n",
        "# Get a handle to workspace\n",
        "ml_client = MLClient.from_config(credential=credential)\n",
        "\n",
        "# Retrieve an already attached Azure Machine Learning Compute.\n",
        "cluster_name = \"gpu-cluster-low\"\n",
        "print(ml_client.compute.get(cluster_name))"
      ]
    },
    {
      "cell_type": "code",
      "execution_count": 24,
      "metadata": {
        "gather": {
          "logged": 1686074060785
        },
        "jupyter": {
          "outputs_hidden": false,
          "source_hidden": false
        },
        "nteract": {
          "transient": {
            "deleting": false
          }
        }
      },
      "outputs": [],
      "source": [
        "parent_dir = \".\"\n",
        "ccb_pipeline_single_step = load_component(source=parent_dir + \"/ccb_pipeline.yml\")\n",
        "\n",
        "# Construct pipeline\n",
        "@pipeline(name='ccb_pipeline',display_name='CryptoBotPipeline',experiment_name='ccb_v3')\n",
        "def ccb_pipeline(\n",
        "    data_path,\n",
        "):\n",
        "    \"\"\"Single script pipeline to dowload data / train / score models\"\"\"\n",
        "    # Call component obj as function: apply given inputs & parameters to create a node in pipeline\n",
        "    ccb_script = ccb_pipeline_single_step(\n",
        "        data_path=data_path,\n",
        "    )\n",
        "    ccb_script.outputs.output_folder = Output(\n",
        "        type=AssetTypes.URI_FOLDER,\n",
        "        # path=\"azureml:ccb_data_folder:1\",\n",
        "        path=\"azureml://subscriptions/<your subscription id>/resourcegroups/<your rg id>/workspaces/<your aml id>/datastores/<your datastore id>/paths/data/\"\n",
        "    )\n",
        "\n",
        "    # Return: pipeline outputs\n",
        "    return {\n",
        "        \"data_folder\": ccb_script.outputs.output_folder,\n",
        "    }"
      ]
    },
    {
      "cell_type": "code",
      "execution_count": 25,
      "metadata": {
        "gather": {
          "logged": 1686074065437
        },
        "jupyter": {
          "outputs_hidden": false,
          "source_hidden": false
        },
        "nteract": {
          "transient": {
            "deleting": false
          }
        }
      },
      "outputs": [],
      "source": [
        "# set run time settings\n",
        "pipeline_job = ccb_pipeline(\n",
        "    data_path=Input(type=\"uri_folder\", path=\"azureml:ccb_data_folder:1\"),\n",
        ")\n",
        "\n",
        "# set pipeline level compute\n",
        "pipeline_job.settings.default_compute = \"gpu-cluster-low\"\n",
        "# force tu run each time\n",
        "pipeline_job.settings.force_rerun = True"
      ]
    },
    {
      "attachments": {},
      "cell_type": "markdown",
      "metadata": {
        "nteract": {
          "transient": {
            "deleting": false
          }
        }
      },
      "source": [
        "# A. Submit to run __once__"
      ]
    },
    {
      "cell_type": "code",
      "execution_count": 20,
      "metadata": {
        "gather": {
          "logged": 1686050697427
        },
        "jupyter": {
          "outputs_hidden": false,
          "source_hidden": false
        },
        "nteract": {
          "transient": {
            "deleting": false
          }
        }
      },
      "outputs": [
        {
          "name": "stderr",
          "output_type": "stream",
          "text": [
            "\u001b[32mUploading v3-aml (7.83 MBs): 100%|██████████| 7830622/7830622 [00:00<00:00, 34040886.76it/s]\n",
            "\u001b[39m\n",
            "\n"
          ]
        },
        {
          "data": {
            "text/html": [
              "<table style=\"width:100%\"><tr><th>Experiment</th><th>Name</th><th>Type</th><th>Status</th><th>Details Page</th></tr><tr><td>ccb_v3</td><td>yellow_tree_5mk5d2d5lx</td><td>pipeline</td><td>Preparing</td><td><a href=\"https://ml.azure.com/runs/yellow_tree_5mk5d2d5lx?wsid=/subscriptions/96c5f48d-9bf8-4453-a190-e2ce1e4fcea5/resourcegroups/rg-aml/workspaces/aml&amp;tid=e0793d39-0939-496d-b129-198edd916feb\" target=\"_blank\" rel=\"noopener\">Link to Azure Machine Learning studio</a></td></tr></table>"
            ],
            "text/plain": [
              "PipelineJob({'inputs': {'data_path': <azure.ai.ml.entities._job.pipeline._io.base.PipelineInput object at 0x7f250a784cd0>}, 'outputs': {'data_folder': <azure.ai.ml.entities._job.pipeline._io.base.PipelineOutput object at 0x7f250a784400>}, 'jobs': {}, 'component': PipelineComponent({'auto_increment_version': False, 'source': 'REMOTE.WORKSPACE.JOB', 'is_anonymous': True, 'name': 'azureml_anonymous', 'description': 'Cina Crypto Bot single script pipeline to dowload data / train / score models', 'tags': {}, 'properties': {}, 'print_as_yaml': True, 'id': None, 'Resource__source_path': None, 'base_path': '/mnt/batch/tasks/shared/LS_root/mounts/clusters/ci-cpu/code/Users/jan.cinert/CinaCryptoBot/pipeline-singlestep-train-eval', 'creation_context': None, 'serialize': <msrest.serialization.Serializer object at 0x7f250a7847f0>, 'version': '1', 'latest_version': None, 'schema': None, 'type': 'pipeline', 'display_name': 'CinaCryptoBotPipeline', 'is_deterministic': None, 'inputs': {'data_path': {}}, 'outputs': {'data_folder': {}}, 'yaml_str': None, 'other_parameter': {}, 'jobs': {'ccb_script': Command({'parameters': {}, 'init': False, 'type': 'command', 'status': None, 'log_files': None, 'name': 'ccb_script', 'description': None, 'tags': {}, 'properties': {}, 'print_as_yaml': True, 'id': None, 'Resource__source_path': None, 'base_path': '/mnt/batch/tasks/shared/LS_root/mounts/clusters/ci-cpu/code/Users/jan.cinert/CinaCryptoBot/pipeline-singlestep-train-eval', 'creation_context': None, 'serialize': <msrest.serialization.Serializer object at 0x7f250a784e20>, 'allowed_keys': {}, 'key_restriction': False, 'logger': <Logger attr_dict (WARNING)>, 'display_name': None, 'experiment_name': None, 'compute': None, 'services': None, 'comment': None, 'job_inputs': {'data_path': '${{parent.inputs.data_path}}'}, 'job_outputs': {'output_folder': '${{parent.outputs.data_folder}}'}, 'inputs': {'data_path': <azure.ai.ml.entities._job.pipeline._io.base.NodeInput object at 0x7f250a784760>}, 'outputs': {'output_folder': <azure.ai.ml.entities._job.pipeline._io.base.NodeOutput object at 0x7f250a784d30>}, 'component': 'azureml_anonymous:1c6a947a-9e69-4143-a79f-15d9012b7e94', 'referenced_control_flow_node_instance_id': None, 'kwargs': {'services': None}, 'instance_id': '4d651f20-d3f0-4af4-8030-5b45efcef94b', 'source': 'REMOTE.WORKSPACE.COMPONENT', 'validate_required_input_not_provided': True, 'limits': None, 'identity': None, 'distribution': None, 'environment_variables': {}, 'environment': None, 'resources': None, 'queue_settings': None, 'swept': False})}, 'job_types': {'command': 1}, 'job_sources': {'REMOTE.WORKSPACE.COMPONENT': 1}, 'source_job_id': None}), 'type': 'pipeline', 'status': 'Preparing', 'log_files': None, 'name': 'yellow_tree_5mk5d2d5lx', 'description': 'Cina Crypto Bot single script pipeline to dowload data / train / score models', 'tags': {}, 'properties': {'azureml.DevPlatv2': 'true', 'azureml.DatasetAccessMode': 'Asset', 'azureml.runsource': 'azureml.PipelineRun', 'runSource': 'MFE', 'runType': 'HTTP', 'azureml.parameters': '{}', 'azureml.continue_on_step_failure': 'True', 'azureml.continue_on_failed_optional_input': 'True', 'azureml.enforceRerun': 'True', 'azureml.defaultComputeName': 'gpu-cluster-low', 'azureml.defaultDataStoreName': 'workspaceblobstore', 'azureml.pipelineComponent': 'pipelinerun'}, 'print_as_yaml': True, 'id': '/subscriptions/96c5f48d-9bf8-4453-a190-e2ce1e4fcea5/resourceGroups/rg-aml/providers/Microsoft.MachineLearningServices/workspaces/aml/jobs/yellow_tree_5mk5d2d5lx', 'Resource__source_path': None, 'base_path': '/mnt/batch/tasks/shared/LS_root/mounts/clusters/ci-cpu/code/Users/jan.cinert/CinaCryptoBot/pipeline-singlestep-train-eval', 'creation_context': <azure.ai.ml.entities._system_data.SystemData object at 0x7f250a7846d0>, 'serialize': <msrest.serialization.Serializer object at 0x7f250a784430>, 'display_name': 'CinaCryptoBotPipeline', 'experiment_name': 'ccb_v3', 'compute': None, 'services': {'Tracking': <azure.ai.ml.entities._job.job_service.JobService object at 0x7f250a784d00>, 'Studio': <azure.ai.ml.entities._job.job_service.JobService object at 0x7f250a784c40>}, 'settings': {}, 'identity': None, 'default_code': None, 'default_environment': None})"
            ]
          },
          "execution_count": 20,
          "metadata": {},
          "output_type": "execute_result"
        }
      ],
      "source": [
        "# Submit pipeline job to workspace\n",
        "pipeline_job = ml_client.jobs.create_or_update(\n",
        "    pipeline_job, experiment_name=\"ccb_v3\"\n",
        ")\n",
        "pipeline_job"
      ]
    },
    {
      "attachments": {},
      "cell_type": "markdown",
      "metadata": {
        "nteract": {
          "transient": {
            "deleting": false
          }
        }
      },
      "source": [
        "# B. Schedule pipeline"
      ]
    },
    {
      "cell_type": "code",
      "execution_count": 26,
      "metadata": {
        "gather": {
          "logged": 1686074071178
        },
        "jupyter": {
          "outputs_hidden": false,
          "source_hidden": false
        },
        "nteract": {
          "transient": {
            "deleting": false
          }
        }
      },
      "outputs": [],
      "source": [
        "schedule_name = \"ccb_daily\"\n",
        "\n",
        "schedule_start_time = datetime.utcnow()\n",
        "recurrence_trigger = RecurrenceTrigger(\n",
        "    frequency=\"day\",\n",
        "    interval=1,\n",
        "    schedule=RecurrencePattern(hours=5, minutes=[0]),\n",
        "    start_time=schedule_start_time,\n",
        "    time_zone=TimeZone.UTC,\n",
        ")\n",
        "\n",
        "job_schedule = JobSchedule(\n",
        "    name=schedule_name,\n",
        "    display_name='ccb daily', \n",
        "    trigger=recurrence_trigger,\n",
        "    create_job=pipeline_job\n",
        ")"
      ]
    },
    {
      "cell_type": "code",
      "execution_count": 27,
      "metadata": {
        "gather": {
          "logged": 1686074083246
        },
        "jupyter": {
          "outputs_hidden": false,
          "source_hidden": false
        },
        "nteract": {
          "transient": {
            "deleting": false
          }
        }
      },
      "outputs": [
        {
          "name": "stdout",
          "output_type": "stream",
          "text": [
            "..name: ccb_daily\n",
            "display_name: ccb daily\n",
            "is_enabled: true\n",
            "provisioning_state: Succeeded\n",
            "creation_context:\n",
            "  created_at: '2023-06-06T17:54:39.306307+00:00'\n",
            "  created_by: Cinert\n",
            "  created_by_type: User\n",
            "  last_modified_at: '2023-06-14T10:10:51.991889+00:00'\n",
            "  last_modified_by: Cinert\n",
            "  last_modified_by_type: User\n",
            "trigger:\n",
            "  start_time: '2023-06-14 10:10:44.162800'\n",
            "  time_zone: UTC\n",
            "  type: recurrence\n",
            "  frequency: day\n",
            "  interval: 1\n",
            "  schedule:\n",
            "    hours:\n",
            "    - 5\n",
            "    minutes:\n",
            "    - 0\n",
            "create_job:\n",
            "  description: Cina Crypto Bot single script pipeline to dowload data / train / score\n",
            "    models\n",
            "  display_name: CinaCryptoBotPipeline\n",
            "  status: NotStarted\n",
            "  experiment_name: ccb_v3\n",
            "  type: pipeline\n",
            "  settings:\n",
            "    force_rerun: true\n",
            "    default_compute: azureml:/subscriptions/96c5f48d-9bf8-4453-a190-e2ce1e4fcea5/resourceGroups/rg-aml/providers/Microsoft.MachineLearningServices/workspaces/aml/computes/gpu-cluster-low\n",
            "  inputs:\n",
            "    data_path:\n",
            "      mode: ro_mount\n",
            "      type: uri_folder\n",
            "      path: azureml:/subscriptions/96c5f48d-9bf8-4453-a190-e2ce1e4fcea5/resourceGroups/rg-aml/providers/Microsoft.MachineLearningServices/workspaces/aml/data/ccb_data_folder/versions/1\n",
            "  outputs:\n",
            "    data_folder:\n",
            "      mode: rw_mount\n",
            "      type: uri_folder\n",
            "      path: azureml://subscriptions/96c5f48d-9bf8-4453-a190-e2ce1e4fcea5/resourcegroups/rg-aml/workspaces/aml/datastores/ccb_datastore/paths/data/\n",
            "  jobs:\n",
            "    ccb_script:\n",
            "      inputs:\n",
            "        data_path:\n",
            "          path: ${{parent.inputs.data_path}}\n",
            "      outputs:\n",
            "        output_folder: ${{parent.outputs.data_folder}}\n",
            "      component: azureml:/subscriptions/96c5f48d-9bf8-4453-a190-e2ce1e4fcea5/resourceGroups/rg-aml/providers/Microsoft.MachineLearningServices/workspaces/aml/components/azureml_anonymous/versions/1c6a947a-9e69-4143-a79f-15d9012b7e94\n",
            "      type: command\n",
            "\n"
          ]
        }
      ],
      "source": [
        "job_schedule = ml_client.schedules.begin_create_or_update(\n",
        "    schedule=job_schedule\n",
        ").result()\n",
        "print(job_schedule)"
      ]
    }
  ],
  "metadata": {
    "kernel_info": {
      "name": "python310-sdkv2"
    },
    "kernelspec": {
      "display_name": "Python 3.10 - SDK v2",
      "language": "python",
      "name": "python310-sdkv2"
    },
    "language_info": {
      "codemirror_mode": {
        "name": "ipython",
        "version": 3
      },
      "file_extension": ".py",
      "mimetype": "text/x-python",
      "name": "python",
      "nbconvert_exporter": "python",
      "pygments_lexer": "ipython3",
      "version": "3.10.10"
    },
    "microsoft": {
      "host": {
        "AzureML": {
          "notebookHasBeenCompleted": true
        }
      },
      "ms_spell_check": {
        "ms_spell_check_language": "en"
      }
    },
    "nteract": {
      "version": "nteract-front-end@1.0.0"
    }
  },
  "nbformat": 4,
  "nbformat_minor": 2
}
