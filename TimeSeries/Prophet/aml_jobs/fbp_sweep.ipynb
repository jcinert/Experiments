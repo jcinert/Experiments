{
  "cells": [
    {
      "cell_type": "code",
      "execution_count": 1,
      "metadata": {},
      "outputs": [
        {
          "name": "stdout",
          "output_type": "stream",
          "text": [
            "Requirement already satisfied: yfinance in c:\\miniconda3\\lib\\site-packages (0.1.67)\n",
            "Requirement already satisfied: pandas>=0.24 in c:\\miniconda3\\lib\\site-packages (from yfinance) (1.2.3)\n",
            "Requirement already satisfied: lxml>=4.5.1 in c:\\miniconda3\\lib\\site-packages (from yfinance) (4.6.4)\n",
            "Requirement already satisfied: numpy>=1.15 in c:\\miniconda3\\lib\\site-packages (from yfinance) (1.20.2)\n",
            "Requirement already satisfied: requests>=2.20 in c:\\miniconda3\\lib\\site-packages (from yfinance) (2.25.0)\n",
            "Requirement already satisfied: multitasking>=0.0.7 in c:\\miniconda3\\lib\\site-packages (from yfinance) (0.0.10)\n",
            "Requirement already satisfied: pytz>=2017.3 in c:\\miniconda3\\lib\\site-packages (from pandas>=0.24->yfinance) (2021.1)\n",
            "Requirement already satisfied: python-dateutil>=2.7.3 in c:\\miniconda3\\lib\\site-packages (from pandas>=0.24->yfinance) (2.8.1)\n",
            "Requirement already satisfied: six>=1.5 in c:\\miniconda3\\lib\\site-packages (from python-dateutil>=2.7.3->pandas>=0.24->yfinance) (1.15.0)\n",
            "Requirement already satisfied: chardet<4,>=3.0.2 in c:\\miniconda3\\lib\\site-packages (from requests>=2.20->yfinance) (3.0.4)\n",
            "Requirement already satisfied: idna<3,>=2.5 in c:\\miniconda3\\lib\\site-packages (from requests>=2.20->yfinance) (2.10)\n",
            "Requirement already satisfied: certifi>=2017.4.17 in c:\\miniconda3\\lib\\site-packages (from requests>=2.20->yfinance) (2021.10.8)\n",
            "Requirement already satisfied: urllib3<1.27,>=1.21.1 in c:\\miniconda3\\lib\\site-packages (from requests>=2.20->yfinance) (1.25.11)\n"
          ]
        }
      ],
      "source": [
        "!pip install yfinance"
      ]
    },
    {
      "cell_type": "code",
      "execution_count": 2,
      "metadata": {
        "jupyter": {
          "outputs_hidden": false,
          "source_hidden": false
        },
        "nteract": {
          "transient": {
            "deleting": false
          }
        }
      },
      "outputs": [
        {
          "name": "stdout",
          "output_type": "stream",
          "text": [
            "Requirement already satisfied: plotly in c:\\miniconda3\\lib\\site-packages (5.4.0)\n",
            "Requirement already satisfied: six in c:\\miniconda3\\lib\\site-packages (from plotly) (1.15.0)\n",
            "Requirement already satisfied: tenacity>=6.2.0 in c:\\miniconda3\\lib\\site-packages (from plotly) (8.0.1)\n"
          ]
        }
      ],
      "source": [
        "!pip install plotly"
      ]
    },
    {
      "cell_type": "code",
      "execution_count": 3,
      "metadata": {
        "jupyter": {
          "outputs_hidden": false,
          "source_hidden": false
        },
        "nteract": {
          "transient": {
            "deleting": false
          }
        }
      },
      "outputs": [
        {
          "name": "stdout",
          "output_type": "stream",
          "text": [
            "Requirement already satisfied: nbformat in c:\\miniconda3\\lib\\site-packages (5.1.3)\n",
            "Requirement already satisfied: jsonschema!=2.5.0,>=2.4 in c:\\miniconda3\\lib\\site-packages (from nbformat) (4.3.3)\n",
            "Requirement already satisfied: traitlets>=4.1 in c:\\miniconda3\\lib\\site-packages (from nbformat) (5.0.5)\n",
            "Requirement already satisfied: jupyter-core in c:\\miniconda3\\lib\\site-packages (from nbformat) (4.7.1)\n",
            "Requirement already satisfied: ipython-genutils in c:\\miniconda3\\lib\\site-packages (from nbformat) (0.2.0)\n",
            "Requirement already satisfied: pyrsistent!=0.17.0,!=0.17.1,!=0.17.2,>=0.14.0 in c:\\miniconda3\\lib\\site-packages (from jsonschema!=2.5.0,>=2.4->nbformat) (0.18.0)\n",
            "Requirement already satisfied: attrs>=17.4.0 in c:\\miniconda3\\lib\\site-packages (from jsonschema!=2.5.0,>=2.4->nbformat) (21.4.0)\n",
            "Requirement already satisfied: importlib-resources>=1.4.0 in c:\\miniconda3\\lib\\site-packages (from jsonschema!=2.5.0,>=2.4->nbformat) (5.4.0)\n",
            "Requirement already satisfied: zipp>=3.1.0 in c:\\miniconda3\\lib\\site-packages (from importlib-resources>=1.4.0->jsonschema!=2.5.0,>=2.4->nbformat) (3.7.0)\n",
            "Requirement already satisfied: pywin32>=1.0 in c:\\miniconda3\\lib\\site-packages (from jupyter-core->nbformat) (227)\n"
          ]
        }
      ],
      "source": [
        "!pip install --upgrade nbformat"
      ]
    },
    {
      "cell_type": "code",
      "execution_count": 4,
      "metadata": {
        "jupyter": {
          "outputs_hidden": false,
          "source_hidden": false
        },
        "nteract": {
          "transient": {
            "deleting": false
          }
        }
      },
      "outputs": [
        {
          "name": "stdout",
          "output_type": "stream",
          "text": [
            "Requirement already satisfied: fbprophet in c:\\miniconda3\\lib\\site-packages (0.7.1)\n",
            "Requirement already satisfied: Cython>=0.22 in c:\\miniconda3\\lib\\site-packages (from fbprophet) (0.29.22)\n",
            "Requirement already satisfied: python-dateutil>=2.8.0 in c:\\miniconda3\\lib\\site-packages (from fbprophet) (2.8.1)\n",
            "Collecting cmdstanpy==0.9.5\n",
            "  Using cached cmdstanpy-0.9.5-py3-none-any.whl (37 kB)\n",
            "Requirement already satisfied: pystan>=2.14 in c:\\miniconda3\\lib\\site-packages (from fbprophet) (2.19.1.1)\n",
            "Requirement already satisfied: LunarCalendar>=0.0.9 in c:\\miniconda3\\lib\\site-packages (from fbprophet) (0.0.9)\n",
            "Requirement already satisfied: numpy>=1.15.4 in c:\\miniconda3\\lib\\site-packages (from fbprophet) (1.20.2)\n",
            "Requirement already satisfied: matplotlib>=2.0.0 in c:\\miniconda3\\lib\\site-packages (from fbprophet) (3.4.0)\n",
            "Requirement already satisfied: holidays>=0.10.2 in c:\\miniconda3\\lib\\site-packages (from fbprophet) (0.10.5.2)\n",
            "Collecting setuptools-git>=1.2\n",
            "  Using cached setuptools_git-1.2-py2.py3-none-any.whl (10 kB)\n",
            "Requirement already satisfied: tqdm>=4.36.1 in c:\\miniconda3\\lib\\site-packages (from fbprophet) (4.54.1)\n",
            "Requirement already satisfied: convertdate>=2.1.2 in c:\\miniconda3\\lib\\site-packages (from fbprophet) (2.3.2)\n",
            "Requirement already satisfied: pandas>=1.0.4 in c:\\miniconda3\\lib\\site-packages (from fbprophet) (1.2.3)\n",
            "Requirement already satisfied: pytz>=2014.10 in c:\\miniconda3\\lib\\site-packages (from convertdate>=2.1.2->fbprophet) (2021.1)\n",
            "Requirement already satisfied: pymeeus<=1,>=0.3.13 in c:\\miniconda3\\lib\\site-packages (from convertdate>=2.1.2->fbprophet) (0.5.10)\n",
            "Requirement already satisfied: six in c:\\miniconda3\\lib\\site-packages (from holidays>=0.10.2->fbprophet) (1.15.0)\n",
            "Requirement already satisfied: korean-lunar-calendar in c:\\miniconda3\\lib\\site-packages (from holidays>=0.10.2->fbprophet) (0.2.1)\n",
            "Requirement already satisfied: hijri-converter in c:\\miniconda3\\lib\\site-packages (from holidays>=0.10.2->fbprophet) (2.1.1)\n",
            "Requirement already satisfied: ephem>=3.7.5.3 in c:\\miniconda3\\lib\\site-packages (from LunarCalendar>=0.0.9->fbprophet) (3.7.7.1)\n",
            "Requirement already satisfied: kiwisolver>=1.0.1 in c:\\miniconda3\\lib\\site-packages (from matplotlib>=2.0.0->fbprophet) (1.3.1)\n",
            "Requirement already satisfied: pyparsing>=2.2.1 in c:\\miniconda3\\lib\\site-packages (from matplotlib>=2.0.0->fbprophet) (2.4.7)\n",
            "Requirement already satisfied: cycler>=0.10 in c:\\miniconda3\\lib\\site-packages (from matplotlib>=2.0.0->fbprophet) (0.10.0)\n",
            "Requirement already satisfied: pillow>=6.2.0 in c:\\miniconda3\\lib\\site-packages (from matplotlib>=2.0.0->fbprophet) (8.1.2)\n",
            "Installing collected packages: setuptools-git, cmdstanpy\n",
            "Successfully installed cmdstanpy-0.9.5 setuptools-git-1.2\n"
          ]
        }
      ],
      "source": [
        "!pip install --upgrade fbprophet"
      ]
    },
    {
      "cell_type": "code",
      "execution_count": 5,
      "metadata": {
        "jupyter": {
          "outputs_hidden": false,
          "source_hidden": false
        },
        "nteract": {
          "transient": {
            "deleting": false
          }
        }
      },
      "outputs": [
        {
          "name": "stdout",
          "output_type": "stream",
          "text": [
            "Collecting package metadata (current_repodata.json): ...working... done\n",
            "Solving environment: ...working... done\n",
            "\n",
            "# All requested packages already installed.\n",
            "\n"
          ]
        },
        {
          "name": "stderr",
          "output_type": "stream",
          "text": [
            "Did not find path entry C:\\Miniconda3\\bin\n"
          ]
        }
      ],
      "source": [
        "!conda install -c conda-forge fbprophet"
      ]
    },
    {
      "cell_type": "code",
      "execution_count": 6,
      "metadata": {
        "gather": {
          "logged": 1642619217340
        },
        "jupyter": {
          "outputs_hidden": false,
          "source_hidden": false
        },
        "nteract": {
          "transient": {
            "deleting": false
          }
        }
      },
      "outputs": [],
      "source": [
        "# load libraries\n",
        "import pandas as pd\n",
        "import yfinance as yf\n",
        "from datetime import datetime\n",
        "from datetime import timedelta\n",
        "import plotly.graph_objects as go\n",
        "from fbprophet import Prophet\n",
        "from fbprophet.plot import plot_plotly, plot_components_plotly\n",
        "#import warnings\n",
        "#warnings.filterwarnings('ignore')\n",
        "#pd.options.display.float_format = '${:,.2f}'.format"
      ]
    },
    {
      "cell_type": "code",
      "execution_count": 7,
      "metadata": {
        "gather": {
          "logged": 1642619217814
        },
        "jupyter": {
          "outputs_hidden": false,
          "source_hidden": false
        },
        "nteract": {
          "transient": {
            "deleting": false
          }
        }
      },
      "outputs": [
        {
          "name": "stdout",
          "output_type": "stream",
          "text": [
            "[*********************100%***********************]  1 of 1 completed\n"
          ]
        },
        {
          "data": {
            "text/html": [
              "<div>\n",
              "<style scoped>\n",
              "    .dataframe tbody tr th:only-of-type {\n",
              "        vertical-align: middle;\n",
              "    }\n",
              "\n",
              "    .dataframe tbody tr th {\n",
              "        vertical-align: top;\n",
              "    }\n",
              "\n",
              "    .dataframe thead th {\n",
              "        text-align: right;\n",
              "    }\n",
              "</style>\n",
              "<table border=\"1\" class=\"dataframe\">\n",
              "  <thead>\n",
              "    <tr style=\"text-align: right;\">\n",
              "      <th></th>\n",
              "      <th>Open</th>\n",
              "      <th>High</th>\n",
              "      <th>Low</th>\n",
              "      <th>Close</th>\n",
              "      <th>Adj Close</th>\n",
              "      <th>Volume</th>\n",
              "    </tr>\n",
              "    <tr>\n",
              "      <th>Date</th>\n",
              "      <th></th>\n",
              "      <th></th>\n",
              "      <th></th>\n",
              "      <th></th>\n",
              "      <th></th>\n",
              "      <th></th>\n",
              "    </tr>\n",
              "  </thead>\n",
              "  <tbody>\n",
              "    <tr>\n",
              "      <th>2022-01-16</th>\n",
              "      <td>3330.387207</td>\n",
              "      <td>3376.401123</td>\n",
              "      <td>3291.563721</td>\n",
              "      <td>3350.921875</td>\n",
              "      <td>3350.921875</td>\n",
              "      <td>9505934874</td>\n",
              "    </tr>\n",
              "    <tr>\n",
              "      <th>2022-01-17</th>\n",
              "      <td>3350.947266</td>\n",
              "      <td>3355.819336</td>\n",
              "      <td>3157.224121</td>\n",
              "      <td>3212.304932</td>\n",
              "      <td>3212.304932</td>\n",
              "      <td>12344309617</td>\n",
              "    </tr>\n",
              "    <tr>\n",
              "      <th>2022-01-18</th>\n",
              "      <td>3212.287598</td>\n",
              "      <td>3236.016113</td>\n",
              "      <td>3096.123535</td>\n",
              "      <td>3164.025146</td>\n",
              "      <td>3164.025146</td>\n",
              "      <td>13024154091</td>\n",
              "    </tr>\n",
              "    <tr>\n",
              "      <th>2022-01-19</th>\n",
              "      <td>3163.850342</td>\n",
              "      <td>3171.158447</td>\n",
              "      <td>3055.212402</td>\n",
              "      <td>3095.825928</td>\n",
              "      <td>3095.825928</td>\n",
              "      <td>13187424144</td>\n",
              "    </tr>\n",
              "    <tr>\n",
              "      <th>2022-01-20</th>\n",
              "      <td>3095.062744</td>\n",
              "      <td>3262.418701</td>\n",
              "      <td>3093.455566</td>\n",
              "      <td>3244.378906</td>\n",
              "      <td>3244.378906</td>\n",
              "      <td>8948327424</td>\n",
              "    </tr>\n",
              "  </tbody>\n",
              "</table>\n",
              "</div>"
            ],
            "text/plain": [
              "                   Open         High          Low        Close    Adj Close  \\\n",
              "Date                                                                          \n",
              "2022-01-16  3330.387207  3376.401123  3291.563721  3350.921875  3350.921875   \n",
              "2022-01-17  3350.947266  3355.819336  3157.224121  3212.304932  3212.304932   \n",
              "2022-01-18  3212.287598  3236.016113  3096.123535  3164.025146  3164.025146   \n",
              "2022-01-19  3163.850342  3171.158447  3055.212402  3095.825928  3095.825928   \n",
              "2022-01-20  3095.062744  3262.418701  3093.455566  3244.378906  3244.378906   \n",
              "\n",
              "                 Volume  \n",
              "Date                     \n",
              "2022-01-16   9505934874  \n",
              "2022-01-17  12344309617  \n",
              "2022-01-18  13024154091  \n",
              "2022-01-19  13187424144  \n",
              "2022-01-20   8948327424  "
            ]
          },
          "execution_count": 7,
          "metadata": {},
          "output_type": "execute_result"
        }
      ],
      "source": [
        "symbol = 'ETH-USD'\n",
        "today = datetime.today().strftime('%Y-%m-%d')\n",
        "start_date = '2016-01-01'\n",
        "df_coin = yf.download(symbol, start_date, today)\n",
        "df_coin.tail()"
      ]
    },
    {
      "cell_type": "code",
      "execution_count": 8,
      "metadata": {
        "gather": {
          "logged": 1642619217918
        },
        "jupyter": {
          "outputs_hidden": false,
          "source_hidden": false
        },
        "nteract": {
          "transient": {
            "deleting": false
          }
        }
      },
      "outputs": [
        {
          "name": "stderr",
          "output_type": "stream",
          "text": [
            "C:\\Miniconda3\\lib\\site-packages\\pandas\\core\\frame.py:4441: SettingWithCopyWarning: \n",
            "A value is trying to be set on a copy of a slice from a DataFrame\n",
            "\n",
            "See the caveats in the documentation: https://pandas.pydata.org/pandas-docs/stable/user_guide/indexing.html#returning-a-view-versus-a-copy\n",
            "  return super().rename(\n"
          ]
        }
      ],
      "source": [
        "df_coin.reset_index(inplace=True)\n",
        "df_coin.columns \n",
        "df = df_coin[[\"Date\", \"Open\"]]\n",
        "new_names = {\n",
        "    \"Date\": \"ds\", \n",
        "    \"Open\": \"y\",\n",
        "}\n",
        "df.rename(columns=new_names, inplace=True)"
      ]
    },
    {
      "cell_type": "code",
      "execution_count": 9,
      "metadata": {
        "gather": {
          "logged": 1642619218006
        },
        "jupyter": {
          "outputs_hidden": false,
          "source_hidden": false
        },
        "nteract": {
          "transient": {
            "deleting": false
          }
        }
      },
      "outputs": [],
      "source": [
        "import logging\n",
        "logging.getLogger('fbprophet').setLevel(logging.WARNING) \n",
        "from tqdm.notebook import tqdm"
      ]
    },
    {
      "cell_type": "code",
      "execution_count": 11,
      "metadata": {
        "gather": {
          "logged": 1642619218217
        },
        "jupyter": {
          "outputs_hidden": false,
          "source_hidden": false
        },
        "nteract": {
          "transient": {
            "deleting": false
          }
        }
      },
      "outputs": [
        {
          "name": "stdout",
          "output_type": "stream",
          "text": [
            "full train set size = 1534\n"
          ]
        },
        {
          "data": {
            "application/vnd.jupyter.widget-view+json": {
              "model_id": "363c670b379542c9a41afed341681675",
              "version_major": 2,
              "version_minor": 0
            },
            "text/plain": [
              "HBox(children=(HTML(value=''), FloatProgress(value=0.0, max=6.0), HTML(value='')))"
            ]
          },
          "metadata": {},
          "output_type": "display_data"
        },
        {
          "name": "stdout",
          "output_type": "stream",
          "text": [
            "1330 days\n",
            "1330 days\n",
            "1277 days\n",
            "912 days\n",
            "547 days\n",
            "181 days\n",
            "\n"
          ]
        }
      ],
      "source": [
        "# set the training size - full set\n",
        "df_train_sweep = df.copy()\n",
        "print('full train set size = {}'.format(df_train_sweep.shape[0]))\n",
        "\n",
        "# making the training set smaller to avoid overfit\n",
        "first_cutoff_day = '2021-07-01'\n",
        "for start_day in tqdm(['2016-01-01', '2017-01-01', '2018-01-01', '2019-01-01', '2020-01-01', '2021-01-01']):\n",
        "    df_train_sweep = df[df['ds'] >= start_day]\n",
        "    init_train_size = df[(df['ds'] >= start_day)&(df['ds'] < first_cutoff_day)].shape[0]\n",
        "    print('start day {}: train set size = {}'.format(start_day,init_train_size))\n",
        "    init_train_size_s = '{} days'.format(init_train_size)\n",
        "    print(init_train_size_s)"
      ]
    },
    {
      "cell_type": "code",
      "execution_count": 11,
      "metadata": {
        "gather": {
          "logged": 1642619218300
        },
        "jupyter": {
          "outputs_hidden": false,
          "source_hidden": false
        },
        "nteract": {
          "transient": {
            "deleting": false
          }
        }
      },
      "outputs": [],
      "source": [
        "from fbprophet.plot import plot_cross_validation_metric\n",
        "from fbprophet.diagnostics import performance_metrics\n",
        "from fbprophet.diagnostics import cross_validation"
      ]
    },
    {
      "cell_type": "code",
      "execution_count": 21,
      "metadata": {
        "gather": {
          "logged": 1642619389990
        },
        "jupyter": {
          "outputs_hidden": false,
          "source_hidden": false
        },
        "nteract": {
          "transient": {
            "deleting": false
          }
        }
      },
      "outputs": [
        {
          "data": {
            "application/vnd.jupyter.widget-view+json": {
              "model_id": "0dde0854b30a4e8f99f1b9ff21b4e711",
              "version_major": 2,
              "version_minor": 0
            },
            "text/plain": [
              "1st loop:   0%|          | 0/4 [00:00<?, ?it/s]"
            ]
          },
          "metadata": {},
          "output_type": "display_data"
        },
        {
          "data": {
            "application/vnd.jupyter.widget-view+json": {
              "model_id": "2c95a5926ea8459eaaadb1b1a01d0a60",
              "version_major": 2,
              "version_minor": 0
            },
            "text/plain": [
              "2nd loop:   0%|          | 0/480 [00:00<?, ?it/s]"
            ]
          },
          "metadata": {},
          "output_type": "display_data"
        }
      ],
      "source": [
        "# hyper - parameters tunning\n",
        "# facebook.github.io/prophet/docs/diagnostics.html#hyperparameter-tuning\n",
        "\n",
        "# Python\n",
        "import itertools\n",
        "import numpy as np\n",
        "\n",
        "param_grid = {  \n",
        "    'changepoint_prior_scale': [0.01, 0.1, 0.5, 10, 100, 1000],\n",
        "    'seasonality_prior_scale': [0.01, 0.1, 1.0, 10.0],\n",
        "    'holidays_prior_scale': [0.01, 10],\n",
        "    'seasonality_mode': ['additive', 'multiplicative'],\n",
        "    'changepoint_range': [0.8, 0.85, 0.9, 0.95, 0.99]\n",
        "}\n",
        "\n",
        "# #test\n",
        "# param_grid = {  \n",
        "#     'changepoint_prior_scale': [0.01],\n",
        "#     'seasonality_prior_scale': [0.01],\n",
        "#     'holidays_prior_scale': [0.01],\n",
        "#     'seasonality_mode': ['multiplicative'],\n",
        "#     'changepoint_range': [0.8]\n",
        "# }\n",
        "\n",
        "# Generate all combinations of parameters\n",
        "all_params = [dict(zip(param_grid.keys(), v)) for v in itertools.product(*param_grid.values())]\n",
        "rmses = []  # Store the RMSEs for each params here\n",
        "mapes = []  # Store the MAPEs for each params here\n",
        "mdapes = []  # Store the MDAPEs for each params here\n",
        "tuning_results_all = pd.DataFrame()\n",
        "\n",
        "# 1. loop over training set sizes\n",
        "# for start_day in tqdm(['2016-01-01', '2021-01-01'], leave=True, desc='1st loop'): # test\n",
        "# for start_day in tqdm(['2016-01-01', '2017-01-01', '2018-01-01', '2019-01-01', '2020-01-01', '2021-01-01'], leave=True, desc='1st loop'): # full\n",
        "for start_day in tqdm(['2016-01-01', '2018-01-01', '2020-01-01', '2021-01-01'], leave=True, desc='1st loop'): # limited\n",
        "    df_train_sweep = df[df['ds'] >= start_day]\n",
        "    init_train_size = df[(df['ds'] >= start_day)&(df['ds'] < first_cutoff_day)].shape[0]\n",
        "    init_train_size_s = '{} days'.format(init_train_size)\n",
        "\n",
        "    # 2. Use cross validation to evaluate all parameters\n",
        "    #for params in all_params:\n",
        "    for params in tqdm(all_params, leave=False, desc='2nd loop'):\n",
        "        m_sweep = Prophet(**params).fit(df)  # Fit model with given params\n",
        "        df_cv = cross_validation(m_sweep, initial=init_train_size_s, period='5 days', horizon = '10 days', parallel='processes')\n",
        "        df_p = performance_metrics(df_cv, rolling_window=1)\n",
        "        rmses.append(df_p['rmse'].values[0])\n",
        "        mapes.append(df_p['mape'].values[0])\n",
        "        mdapes.append(df_p['mdape'].values[0])\n",
        "\n",
        "    # Find the best parameters\n",
        "    tuning_results = pd.DataFrame(all_params)\n",
        "    tuning_results['rmse'] = rmses\n",
        "    tuning_results['mape'] = mapes\n",
        "    tuning_results['mdape'] = mdapes\n",
        "    tuning_results['init_train_size'] = init_train_size\n",
        "    tuning_results_all = tuning_results_all.append(tuning_results,ignore_index=True)\n",
        "    \n",
        "    #print(tuning_results)\n",
        "    best_params = all_params[np.argmin(mapes)]\n",
        "    #print('For start day {} best (MAPE) parameters are: {}'.format(start_day,best_params))\n",
        "\n",
        "    # reset the lists for next training size iteration\n",
        "    rmses = []\n",
        "    mapes = []\n",
        "    mdapes = []"
      ]
    },
    {
      "cell_type": "code",
      "execution_count": null,
      "metadata": {
        "gather": {
          "logged": 1642619400026
        },
        "jupyter": {
          "outputs_hidden": false,
          "source_hidden": false
        },
        "nteract": {
          "transient": {
            "deleting": false
          }
        }
      },
      "outputs": [],
      "source": [
        "tuning_results_all.head(10)"
      ]
    },
    {
      "cell_type": "code",
      "execution_count": null,
      "metadata": {
        "gather": {
          "logged": 1642619446285
        },
        "jupyter": {
          "outputs_hidden": false,
          "source_hidden": false
        },
        "nteract": {
          "transient": {
            "deleting": false
          }
        }
      },
      "outputs": [],
      "source": [
        "tuning_results_all.to_csv('fbprophet_sweep_full.csv', index=False, mode='a', header=True) # ? first time add header"
      ]
    },
    {
      "cell_type": "code",
      "execution_count": null,
      "metadata": {
        "gather": {
          "logged": 1642619451820
        },
        "jupyter": {
          "outputs_hidden": false,
          "source_hidden": false
        },
        "nteract": {
          "transient": {
            "deleting": false
          }
        }
      },
      "outputs": [],
      "source": [
        "tuning_results_all.iloc[tuning_results_all['mape'].argmin()]"
      ]
    },
    {
      "cell_type": "code",
      "execution_count": null,
      "metadata": {
        "gather": {
          "logged": 1642619458412
        },
        "jupyter": {
          "outputs_hidden": false,
          "source_hidden": false
        },
        "nteract": {
          "transient": {
            "deleting": false
          }
        }
      },
      "outputs": [],
      "source": [
        "tuning_results_all.iloc[tuning_results_all['mdape'].argmin()]"
      ]
    },
    {
      "cell_type": "code",
      "execution_count": null,
      "metadata": {
        "gather": {
          "logged": 1642619463286
        },
        "jupyter": {
          "outputs_hidden": false,
          "source_hidden": false
        },
        "nteract": {
          "transient": {
            "deleting": false
          }
        }
      },
      "outputs": [],
      "source": [
        "tuning_results_all.sort_values('mape').head(20)"
      ]
    },
    {
      "cell_type": "code",
      "execution_count": null,
      "metadata": {
        "gather": {
          "logged": 1642619467189
        },
        "jupyter": {
          "outputs_hidden": false,
          "source_hidden": false
        },
        "nteract": {
          "transient": {
            "deleting": false
          }
        }
      },
      "outputs": [],
      "source": [
        "tuning_results_all.corr().to_csv('fbprophet_corr_full.csv', index=False, mode='a', header=True) # ? first time add header')"
      ]
    },
    {
      "cell_type": "code",
      "execution_count": null,
      "metadata": {
        "gather": {
          "logged": 1642619521825
        },
        "jupyter": {
          "outputs_hidden": false,
          "source_hidden": false
        },
        "nteract": {
          "transient": {
            "deleting": false
          }
        }
      },
      "outputs": [],
      "source": [
        "# actuals - labels\n",
        "x = tuning_results_all.index\n",
        "y = tuning_results_all[\"mape\"]\n",
        "fig = go.Figure()\n",
        "fig.add_trace(go.Scatter(x=x, y=y, name='mape'))\n",
        "# Set title\n",
        "fig.update_layout(\n",
        "    title_text=\"Actual Open price - Labels\",\n",
        ")\n",
        "\n",
        "fig.show()"
      ]
    }
  ],
  "metadata": {
    "interpreter": {
      "hash": "bb9f406c0f70fca9801e60f2cbb7cd1ccff2ae2f74c58f513340bcf6cae5ecd0"
    },
    "kernel_info": {
      "name": "python3-azureml"
    },
    "kernelspec": {
      "display_name": "Python 3.6 - AzureML",
      "language": "python",
      "name": "python3"
    },
    "language_info": {
      "codemirror_mode": {
        "name": "ipython",
        "version": 3
      },
      "file_extension": ".py",
      "mimetype": "text/x-python",
      "name": "python",
      "nbconvert_exporter": "python",
      "pygments_lexer": "ipython3",
      "version": "3.8.8"
    },
    "microsoft": {
      "host": {
        "AzureML": {
          "notebookHasBeenCompleted": true
        }
      }
    },
    "nteract": {
      "version": "nteract-front-end@1.0.0"
    }
  },
  "nbformat": 4,
  "nbformat_minor": 2
}
