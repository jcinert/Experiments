{
  "cells": [
    {
      "cell_type": "code",
      "execution_count": 2,
      "metadata": {
        "jupyter": {
          "outputs_hidden": false,
          "source_hidden": false
        },
        "nteract": {
          "transient": {
            "deleting": false
          }
        }
      },
      "outputs": [
        {
          "name": "stdout",
          "output_type": "stream",
          "text": [
            "Process is interrupted.\n"
          ]
        }
      ],
      "source": [
        "%%bash\n",
        "az configure --defaults group=\"<your id>\" workspace=\"<your id>\"\n",
        "az account set --<your id>\n",
        "az login"
      ]
    },
    {
      "cell_type": "code",
      "execution_count": 6,
      "metadata": {
        "jupyter": {
          "outputs_hidden": false,
          "source_hidden": false
        },
        "nteract": {
          "transient": {
            "deleting": false
          }
        }
      },
      "outputs": [
        {
          "name": "stdout",
          "output_type": "stream",
          "text": [
            "{\n",
            "  \"azure-cli\": \"2.24.0\",\n",
            "  \"azure-cli-core\": \"2.24.0\",\n",
            "  \"azure-cli-telemetry\": \"1.0.6\",\n",
            "  \"extensions\": {\n",
            "    \"ml\": \"2.0.3\"\n",
            "  }\n",
            "}\n"
          ]
        }
      ],
      "source": [
        "%%bash\n",
        "az version\n",
        "az extension remove -n azure-cli-ml\n",
        "az extension remove -n ml"
      ]
    },
    {
      "cell_type": "code",
      "execution_count": 5,
      "metadata": {},
      "outputs": [
        {
          "name": "stderr",
          "output_type": "stream",
          "text": [
            "WARNING: The installed extension 'ml' is in preview.\n"
          ]
        }
      ],
      "source": [
        "%%bash\n",
        "az extension add -n ml -y"
      ]
    },
    {
      "cell_type": "code",
      "execution_count": null,
      "metadata": {
        "jupyter": {
          "outputs_hidden": false,
          "source_hidden": false
        },
        "nteract": {
          "transient": {
            "deleting": false
          }
        }
      },
      "outputs": [],
      "source": [
        "%%bash\n",
        "az version"
      ]
    },
    {
      "cell_type": "markdown",
      "metadata": {
        "nteract": {
          "transient": {
            "deleting": false
          }
        }
      },
      "source": [
        "# Sample"
      ]
    },
    {
      "cell_type": "code",
      "execution_count": 9,
      "metadata": {
        "jupyter": {
          "outputs_hidden": false,
          "source_hidden": false
        },
        "nteract": {
          "transient": {
            "deleting": false
          }
        }
      },
      "outputs": [
        {
          "name": "stdout",
          "output_type": "stream",
          "text": [
            "{\n",
            "  \"code\": \"azureml:ba0d28a3-2d92-41ef-9463-5e716a7215eb:1\",\n",
            "  \"command\": \"python train_aml.py\",\n",
            "  \"compute\": \"azureml:dlnacmpttarget\",\n",
            "  \"creation_context\": {\n",
            "    \"created_at\": \"2022-01-18T20:26:20.720215+00:00\",\n",
            "    \"created_by\": \"Cinert\",\n",
            "    \"created_by_type\": \"User\"\n",
            "  },\n",
            "  \"description\": \"JC-Train test\",\n",
            "  \"display_name\": \"aml_train_cli_test_1\",\n",
            "  \"environment\": \"azureml:docker-image-plus-conda-example:1\",\n",
            "  \"environment_variables\": {},\n",
            "  \"experiment_name\": \"aml_train_cli_test1\",\n",
            "  \"id\": \"azureml:/subscriptions/2c1c1392-8a19-42e2-a273-4e4b359739d1/resourceGroups/rg-940103-amlw/providers/Microsoft.MachineLearningServices/workspaces/amlw-940103/jobs/ca7974bd-952c-4604-b6a4-716c7258e37b\",\n",
            "  \"inputs\": {},\n",
            "  \"name\": \"ca7974bd-952c-4604-b6a4-716c7258e37b\",\n",
            "  \"outputs\": {\n",
            "    \"default\": {\n",
            "      \"folder\": \"azureml://datastores/workspaceartifactstore/ExperimentRun/dcid.ca7974bd-952c-4604-b6a4-716c7258e37b\",\n",
            "      \"mode\": \"rw_mount\"\n",
            "    }\n",
            "  },\n",
            "  \"parameters\": {},\n",
            "  \"properties\": {\n",
            "    \"ContentSnapshotId\": \"794d398f-b2af-48e3-9f41-8f06d17071ef\",\n",
            "    \"_azureml.ComputeTargetType\": \"amlcompute\"\n",
            "  },\n",
            "  \"resourceGroup\": \"rg-940103-amlw\",\n",
            "  \"resources\": {\n",
            "    \"instance_count\": 1,\n",
            "    \"properties\": {}\n",
            "  },\n",
            "  \"services\": {\n",
            "    \"Studio\": {\n",
            "      \"endpoint\": \"https://ml.azure.com/runs/ca7974bd-952c-4604-b6a4-716c7258e37b?wsid=/subscriptions/2c1c1392-8a19-42e2-a273-4e4b359739d1/resourcegroups/rg-940103-amlw/workspaces/amlw-940103&tid=e0793d39-0939-496d-b129-198edd916feb\",\n",
            "      \"job_service_type\": \"Studio\"\n",
            "    },\n",
            "    \"Tracking\": {\n",
            "      \"endpoint\": \"azureml://eastus2.api.azureml.ms/mlflow/v1.0/subscriptions/2c1c1392-8a19-42e2-a273-4e4b359739d1/resourceGroups/rg-940103-amlw/providers/Microsoft.MachineLearningServices/workspaces/amlw-940103?\",\n",
            "      \"job_service_type\": \"Tracking\"\n",
            "    }\n",
            "  },\n",
            "  \"status\": \"Starting\",\n",
            "  \"tags\": {},\n",
            "  \"type\": \"command\"\n",
            "}\n"
          ]
        },
        {
          "name": "stderr",
          "output_type": "stream",
          "text": [
            "WARNING: Command group 'ml job' is in preview and under development. Reference and support levels: https://aka.ms/CLI_refstatus\n"
          ]
        }
      ],
      "source": [
        "%%bash\n",
        "az ml job create -f aml_train.yml"
      ]
    },
    {
      "cell_type": "markdown",
      "metadata": {
        "nteract": {
          "transient": {
            "deleting": false
          }
        }
      },
      "source": [
        "# fbprophet sample"
      ]
    },
    {
      "cell_type": "code",
      "execution_count": 7,
      "metadata": {
        "jupyter": {
          "outputs_hidden": false,
          "source_hidden": false
        },
        "nteract": {
          "transient": {
            "deleting": false
          }
        }
      },
      "outputs": [],
      "source": [
        "%%bash\n",
        "az ml environment create --file env-fbprophet-sample.yml"
      ]
    },
    {
      "cell_type": "code",
      "execution_count": 8,
      "metadata": {
        "jupyter": {
          "outputs_hidden": false,
          "source_hidden": false
        },
        "nteract": {
          "transient": {
            "deleting": false
          }
        }
      },
      "outputs": [
        {
          "name": "stdout",
          "output_type": "stream",
          "text": [
            "{\n",
            "  \"code\": \"azureml:ba0d28a3-2d92-41ef-9463-5e716a7215eb:1\",\n",
            "  \"command\": \"python fbp_sample_train_v3.py\",\n",
            "  \"compute\": \"azureml:dlnacmpttarget\",\n",
            "  \"creation_context\": {\n",
            "    \"created_at\": \"2022-01-18T19:40:21.439021+00:00\",\n",
            "    \"created_by\": \"Cinert\",\n",
            "    \"created_by_type\": \"User\"\n",
            "  },\n",
            "  \"description\": \"JC-Train test of FBP\",\n",
            "  \"display_name\": \"aml_fbprophet_cli_sample\",\n",
            "  \"environment\": \"azureml:jc-fbprophet-071-ubuntu1804-py38-cpu:4\",\n",
            "  \"environment_variables\": {},\n",
            "  \"experiment_name\": \"aml_fbprophet_cli_sample_new\",\n",
            "  \"id\": \"azureml:/subscriptions/2c1c1392-8a19-42e2-a273-4e4b359739d1/resourceGroups/rg-940103-amlw/providers/Microsoft.MachineLearningServices/workspaces/amlw-940103/jobs/9410d8aa-2529-49ba-accc-64cf4d7061c1\",\n",
            "  \"inputs\": {},\n",
            "  \"name\": \"9410d8aa-2529-49ba-accc-64cf4d7061c1\",\n",
            "  \"outputs\": {\n",
            "    \"default\": {\n",
            "      \"folder\": \"azureml://datastores/workspaceartifactstore/ExperimentRun/dcid.9410d8aa-2529-49ba-accc-64cf4d7061c1\",\n",
            "      \"mode\": \"rw_mount\"\n",
            "    }\n",
            "  },\n",
            "  \"parameters\": {},\n",
            "  \"properties\": {\n",
            "    \"ContentSnapshotId\": \"794d398f-b2af-48e3-9f41-8f06d17071ef\",\n",
            "    \"_azureml.ComputeTargetType\": \"amlcompute\"\n",
            "  },\n",
            "  \"resourceGroup\": \"rg-940103-amlw\",\n",
            "  \"resources\": {\n",
            "    \"instance_count\": 1,\n",
            "    \"properties\": {}\n",
            "  },\n",
            "  \"services\": {\n",
            "    \"Studio\": {\n",
            "      \"endpoint\": \"https://ml.azure.com/runs/9410d8aa-2529-49ba-accc-64cf4d7061c1?wsid=/subscriptions/2c1c1392-8a19-42e2-a273-4e4b359739d1/resourcegroups/rg-940103-amlw/workspaces/amlw-940103&tid=e0793d39-0939-496d-b129-198edd916feb\",\n",
            "      \"job_service_type\": \"Studio\"\n",
            "    },\n",
            "    \"Tracking\": {\n",
            "      \"endpoint\": \"azureml://eastus2.api.azureml.ms/mlflow/v1.0/subscriptions/2c1c1392-8a19-42e2-a273-4e4b359739d1/resourceGroups/rg-940103-amlw/providers/Microsoft.MachineLearningServices/workspaces/amlw-940103?\",\n",
            "      \"job_service_type\": \"Tracking\"\n",
            "    }\n",
            "  },\n",
            "  \"status\": \"Starting\",\n",
            "  \"tags\": {},\n",
            "  \"type\": \"command\"\n",
            "}\n"
          ]
        },
        {
          "name": "stderr",
          "output_type": "stream",
          "text": [
            "WARNING: Command group 'ml job' is in preview and under development. Reference and support levels: https://aka.ms/CLI_refstatus\n"
          ]
        }
      ],
      "source": [
        "%%bash\n",
        "az ml job create --file job_fbp_sample_train.yml"
      ]
    },
    {
      "cell_type": "markdown",
      "metadata": {
        "nteract": {
          "transient": {
            "deleting": false
          }
        }
      },
      "source": [
        "# sweep"
      ]
    },
    {
      "cell_type": "code",
      "execution_count": 5,
      "metadata": {
        "jupyter": {
          "outputs_hidden": false,
          "source_hidden": false
        },
        "nteract": {
          "transient": {
            "deleting": false
          }
        }
      },
      "outputs": [
        {
          "name": "stdout",
          "output_type": "stream",
          "text": [
            "{\n",
            "  \"conda_file\": {\n",
            "    \"channels\": [\n",
            "      \"conda-forge\"\n",
            "    ],\n",
            "    \"dependencies\": [\n",
            "      \"python=3.8\",\n",
            "      \"pip=21.2.4\",\n",
            "      \"fbprophet=0.7.1\",\n",
            "      {\n",
            "        \"pip\": [\n",
            "          \"numpy==1.21.2\",\n",
            "          \"scipy==1.7.1\",\n",
            "          \"pandas==1.3.0\",\n",
            "          \"scikit-learn==0.24.2\",\n",
            "          \"adlfs==2021.9.1\",\n",
            "          \"fsspec==2021.8.1\",\n",
            "          \"xgboost==1.4.2\",\n",
            "          \"lightgbm==3.2.1\",\n",
            "          \"mlflow==1.20.2\",\n",
            "          \"azureml-mlflow==1.34.0\",\n",
            "          \"matplotlib==3.4.3\",\n",
            "          \"tqdm==4.62.2\",\n",
            "          \"joblib==1.0.1\",\n",
            "          \"jupyter==1.0.0\",\n",
            "          \"ipykernel==6.4.1\",\n",
            "          \"papermill==2.3.3\",\n",
            "          \"yfinance==0.1.69\",\n",
            "          \"tqdm\"\n",
            "        ]\n",
            "      }\n",
            "    ],\n",
            "    \"name\": \"azureml_5c142b3506fc4b8eebaa1adefa99e382\"\n",
            "  },\n",
            "  \"creation_context\": {\n",
            "    \"created_at\": \"2022-01-18T18:53:21.989501+00:00\",\n",
            "    \"created_by\": \"Cinert\",\n",
            "    \"created_by_type\": \"User\",\n",
            "    \"last_modified_at\": \"2022-01-18T18:53:21.989501+00:00\",\n",
            "    \"last_modified_by\": \"Cinert\",\n",
            "    \"last_modified_by_type\": \"User\"\n",
            "  },\n",
            "  \"description\": \"fbprophet sweep\",\n",
            "  \"id\": \"azureml:/subscriptions/2c1c1392-8a19-42e2-a273-4e4b359739d1/resourceGroups/rg-940103-amlw/providers/Microsoft.MachineLearningServices/workspaces/amlw-940103/environments/jc-fbprophet-071-ubuntu1804-py38-cpu/versions/4\",\n",
            "  \"image\": \"mcr.microsoft.com/azureml/openmpi3.1.2-ubuntu18.04\",\n",
            "  \"name\": \"jc-fbprophet-071-ubuntu1804-py38-cpu\",\n",
            "  \"os_type\": \"linux\",\n",
            "  \"resourceGroup\": \"rg-940103-amlw\",\n",
            "  \"tags\": {},\n",
            "  \"version\": \"4\"\n",
            "}\n"
          ]
        },
        {
          "name": "stderr",
          "output_type": "stream",
          "text": [
            "WARNING: Command group 'ml environment' is in preview and under development. Reference and support levels: https://aka.ms/CLI_refstatus\n",
            "Creating or updating environment\n"
          ]
        }
      ],
      "source": [
        "%%bash\n",
        "az ml environment create --file env-fbp-sweep.yml"
      ]
    },
    {
      "cell_type": "code",
      "execution_count": 3,
      "metadata": {
        "jupyter": {
          "outputs_hidden": false,
          "source_hidden": false
        },
        "nteract": {
          "transient": {
            "deleting": false
          }
        }
      },
      "outputs": [
        {
          "name": "stdout",
          "output_type": "stream",
          "text": [
            "{\n",
            "  \"code\": \"azureml:ba0d28a3-2d92-41ef-9463-5e716a7215eb:1\",\n",
            "  \"command\": \"python fbp_sweep.py\",\n",
            "  \"compute\": \"azureml:jc-lowpriority\",\n",
            "  \"creation_context\": {\n",
            "    \"created_at\": \"2022-01-19T17:09:08.096864+00:00\",\n",
            "    \"created_by\": \"Cinert\",\n",
            "    \"created_by_type\": \"User\"\n",
            "  },\n",
            "  \"description\": \"JC-Sweep test of FBP\",\n",
            "  \"display_name\": \"aml_fbprophet_cli_sweep\",\n",
            "  \"environment\": \"azureml:jc-fbprophet-071-ubuntu1804-py38-cpu:4\",\n",
            "  \"environment_variables\": {},\n",
            "  \"experiment_name\": \"aml_fbprophet_cli_sweep\",\n",
            "  \"id\": \"azureml:/subscriptions/2c1c1392-8a19-42e2-a273-4e4b359739d1/resourceGroups/rg-940103-amlw/providers/Microsoft.MachineLearningServices/workspaces/amlw-940103/jobs/ecfbb00b-7912-4c1d-909b-030361aeb38e\",\n",
            "  \"inputs\": {},\n",
            "  \"name\": \"ecfbb00b-7912-4c1d-909b-030361aeb38e\",\n",
            "  \"outputs\": {\n",
            "    \"default\": {\n",
            "      \"folder\": \"azureml://datastores/workspaceartifactstore/ExperimentRun/dcid.ecfbb00b-7912-4c1d-909b-030361aeb38e\",\n",
            "      \"mode\": \"rw_mount\"\n",
            "    }\n",
            "  },\n",
            "  \"parameters\": {},\n",
            "  \"properties\": {\n",
            "    \"ContentSnapshotId\": \"794d398f-b2af-48e3-9f41-8f06d17071ef\",\n",
            "    \"_azureml.ComputeTargetType\": \"amlcompute\"\n",
            "  },\n",
            "  \"resourceGroup\": \"rg-940103-amlw\",\n",
            "  \"resources\": {\n",
            "    \"instance_count\": 1,\n",
            "    \"properties\": {}\n",
            "  },\n",
            "  \"services\": {\n",
            "    \"Studio\": {\n",
            "      \"endpoint\": \"https://ml.azure.com/runs/ecfbb00b-7912-4c1d-909b-030361aeb38e?wsid=/subscriptions/2c1c1392-8a19-42e2-a273-4e4b359739d1/resourcegroups/rg-940103-amlw/workspaces/amlw-940103&tid=e0793d39-0939-496d-b129-198edd916feb\",\n",
            "      \"job_service_type\": \"Studio\"\n",
            "    },\n",
            "    \"Tracking\": {\n",
            "      \"endpoint\": \"azureml://eastus2.api.azureml.ms/mlflow/v1.0/subscriptions/2c1c1392-8a19-42e2-a273-4e4b359739d1/resourceGroups/rg-940103-amlw/providers/Microsoft.MachineLearningServices/workspaces/amlw-940103?\",\n",
            "      \"job_service_type\": \"Tracking\"\n",
            "    }\n",
            "  },\n",
            "  \"status\": \"Starting\",\n",
            "  \"tags\": {},\n",
            "  \"type\": \"command\"\n",
            "}\n"
          ]
        },
        {
          "name": "stderr",
          "output_type": "stream",
          "text": [
            "WARNING: Command group 'ml job' is in preview and under development. Reference and support levels: https://aka.ms/CLI_refstatus\n"
          ]
        }
      ],
      "source": [
        "%%bash\n",
        "az ml job create --file job_fbp_sweep.yml"
      ]
    },
    {
      "cell_type": "markdown",
      "metadata": {
        "nteract": {
          "transient": {
            "deleting": false
          }
        }
      },
      "source": [
        "# Train on Compute instance"
      ]
    },
    {
      "cell_type": "code",
      "execution_count": 1,
      "metadata": {
        "jupyter": {
          "outputs_hidden": false,
          "source_hidden": false
        },
        "nteract": {
          "transient": {
            "deleting": false
          }
        }
      },
      "outputs": [],
      "source": [
        "%run src/train_aml.py"
      ]
    },
    {
      "cell_type": "code",
      "execution_count": null,
      "metadata": {
        "jupyter": {
          "outputs_hidden": false,
          "source_hidden": false
        },
        "nteract": {
          "transient": {
            "deleting": false
          }
        }
      },
      "outputs": [],
      "source": []
    }
  ],
  "metadata": {
    "kernel_info": {
      "name": "python3-azureml"
    },
    "kernelspec": {
      "display_name": "Python 3.6 - AzureML",
      "language": "python",
      "name": "python3-azureml"
    },
    "language_info": {
      "codemirror_mode": {
        "name": "ipython",
        "version": 3
      },
      "file_extension": ".py",
      "mimetype": "text/x-python",
      "name": "python",
      "nbconvert_exporter": "python",
      "pygments_lexer": "ipython3",
      "version": "3.6.9"
    },
    "nteract": {
      "version": "nteract-front-end@1.0.0"
    }
  },
  "nbformat": 4,
  "nbformat_minor": 2
}
