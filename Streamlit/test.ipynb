{
 "cells": [
  {
   "cell_type": "code",
   "execution_count": 23,
   "metadata": {},
   "outputs": [],
   "source": [
    "import streamlit as st\n",
    "from ssl_workaround import no_ssl_verification\n",
    "import os\n",
    "import openai\n",
    "from dotenv import load_dotenv, find_dotenv\n",
    "from langchain.chat_models import AzureChatOpenAI, ChatOpenAI\n",
    "from langchain.prompts.chat import (\n",
    "    ChatPromptTemplate,\n",
    "    SystemMessagePromptTemplate,\n",
    "    HumanMessagePromptTemplate,\n",
    ")\n",
    "from langchain.chains import LLMChain\n",
    "\n",
    "\n",
    "# st.title(\"🦜🔗 Langchain - Next Question Recommender\")\n",
    "\n",
    "# openai_api_key = st.sidebar.text_input(\"OpenAI API Key\", type=\"password\")\n",
    "\n",
    "def init():\n",
    "    _ = load_dotenv(find_dotenv()) # read local .env file\n",
    "    openai.api_key = os.environ['OPENAI_API_KEY']\n",
    "    openai.api_base = os.environ['OPENAI_API_BASE']\n",
    "    openai.api_type= os.environ['OPENAI_API_TYPE']\n",
    "    openai.api_version = os.environ['OPENAI_API_VERSION']\n",
    "\n",
    "def recommend_next(question):\n",
    "    # # Instantiate LLM model\n",
    "    # llm = OpenAI(model_name=\"text-davinci-003\", openai_api_key=openai_api_key)\n",
    "    # # Prompt\n",
    "    # template = \"As an experienced data scientist and technical writer, generate an outline for a blog about {topic}.\"\n",
    "    # prompt = PromptTemplate(input_variables=[\"topic\"], template=template)\n",
    "    # prompt_query = prompt.format(topic=topic)\n",
    "    # # Run LLM model\n",
    "    # response = llm(prompt_query)\n",
    "    # # Print results\n",
    "    \n",
    "    print(os.environ['OPENAI_DEPLOYMENT_ID'])\n",
    "\n",
    "    #Option 1 Without history\n",
    "    template = \"\"\"You are a helpful assistant in predicting next question based on current question. \n",
    "                    You always provide predicted question on new line\"\"\"\n",
    "    system_message_prompt = SystemMessagePromptTemplate.from_template(template)\n",
    "    human_template = \"{text}\"\n",
    "    human_message_prompt = HumanMessagePromptTemplate.from_template(human_template)\n",
    "\n",
    "    chat_prompt = ChatPromptTemplate.from_messages([system_message_prompt, human_message_prompt])\n",
    "    chain = LLMChain(\n",
    "        llm=ChatOpenAI(\n",
    "            deployment_id=os.environ['OPENAI_DEPLOYMENT_ID'],\n",
    "            temperature=1),\n",
    "        prompt=chat_prompt,\n",
    "        verbose=True\n",
    "    )\n",
    "\n",
    "\n",
    "    # with no_ssl_verification():\n",
    "    response = chain.run(question)\n",
    "\n",
    "    return response\n"
   ]
  },
  {
   "cell_type": "code",
   "execution_count": 24,
   "metadata": {},
   "outputs": [],
   "source": [
    "init()"
   ]
  },
  {
   "cell_type": "code",
   "execution_count": 26,
   "metadata": {},
   "outputs": [
    {
     "name": "stderr",
     "output_type": "stream",
     "text": [
      "WARNING! deployment_id is not default parameter.\n",
      "                    deployment_id was transferred to model_kwargs.\n",
      "                    Please confirm that deployment_id is what you intended.\n"
     ]
    },
    {
     "name": "stdout",
     "output_type": "stream",
     "text": [
      "gpt-35-turbo\n",
      "\n",
      "\n",
      "\u001b[1m> Entering new LLMChain chain...\u001b[0m\n",
      "Prompt after formatting:\n",
      "\u001b[32;1m\u001b[1;3mSystem: You are a helpful assistant in predicting next question based on current question. \n",
      "                    You always provide predicted question on new line\n",
      "Human: Have humans land on the Moon?\u001b[0m\n"
     ]
    },
    {
     "name": "stderr",
     "output_type": "stream",
     "text": [
      "Retrying langchain.chat_models.openai.ChatOpenAI.completion_with_retry.<locals>._completion_with_retry in 4.0 seconds as it raised RateLimitError: Requests to the ChatCompletions_Create Operation under Azure OpenAI API version 2023-07-01-preview have exceeded call rate limit of your current OpenAI S0 pricing tier. Please retry after 2 seconds. Please go here: https://aka.ms/oai/quotaincrease if you would like to further increase the default rate limit..\n"
     ]
    },
    {
     "name": "stdout",
     "output_type": "stream",
     "text": [
      "\n",
      "\u001b[1m> Finished chain.\u001b[0m\n"
     ]
    },
    {
     "data": {
      "text/plain": [
       "'What are future plans for lunar exploration?'"
      ]
     },
     "execution_count": 26,
     "metadata": {},
     "output_type": "execute_result"
    }
   ],
   "source": [
    "topic_text = 'Have humans land on the Moon?'\n",
    "# with st.form(\"myform\"):\n",
    "# init()\n",
    "# topic_text = st.text_input(\"Enter prompt:\", \"\")\n",
    "# submitted = st.form_submit_button(\"Submit\")\n",
    "# if not openai.api_key:\n",
    "#     st.info(\"Please add your OpenAI API key to continue.\")\n",
    "# elif submitted:\n",
    "recommend_next(topic_text)"
   ]
  }
 ],
 "metadata": {
  "kernelspec": {
   "display_name": "Python 3",
   "language": "python",
   "name": "python3"
  },
  "language_info": {
   "codemirror_mode": {
    "name": "ipython",
    "version": 3
   },
   "file_extension": ".py",
   "mimetype": "text/x-python",
   "name": "python",
   "nbconvert_exporter": "python",
   "pygments_lexer": "ipython3",
   "version": "3.11.5"
  }
 },
 "nbformat": 4,
 "nbformat_minor": 2
}
