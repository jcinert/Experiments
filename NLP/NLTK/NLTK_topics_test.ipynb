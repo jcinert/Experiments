{
  "cells": [
    {
      "cell_type": "code",
      "execution_count": 2,
      "metadata": {
        "colab": {
          "base_uri": "https://localhost:8080/"
        },
        "id": "X5JtH1HT_Gbx",
        "outputId": "4343f36f-b552-4dd1-de38-a026abceb767"
      },
      "outputs": [
        {
          "name": "stdout",
          "output_type": "stream",
          "text": [
            "Requirement already satisfied: nltk in /usr/local/lib/python3.10/dist-packages (3.8.1)\n",
            "Requirement already satisfied: click in /usr/local/lib/python3.10/dist-packages (from nltk) (8.1.6)\n",
            "Requirement already satisfied: joblib in /usr/local/lib/python3.10/dist-packages (from nltk) (1.3.2)\n",
            "Requirement already satisfied: regex>=2021.8.3 in /usr/local/lib/python3.10/dist-packages (from nltk) (2023.6.3)\n",
            "Requirement already satisfied: tqdm in /usr/local/lib/python3.10/dist-packages (from nltk) (4.66.0)\n"
          ]
        }
      ],
      "source": [
        "pip install nltk"
      ]
    },
    {
      "cell_type": "code",
      "execution_count": 27,
      "metadata": {
        "colab": {
          "base_uri": "https://localhost:8080/"
        },
        "id": "XWl36Fn6_LaJ",
        "outputId": "2e46e01d-0c62-4001-ce37-68ba11a31624"
      },
      "outputs": [
        {
          "name": "stderr",
          "output_type": "stream",
          "text": [
            "[nltk_data] Downloading package punkt to /root/nltk_data...\n",
            "[nltk_data]   Package punkt is already up-to-date!\n",
            "[nltk_data] Downloading package stopwords to /root/nltk_data...\n",
            "[nltk_data]   Unzipping corpora/stopwords.zip.\n"
          ]
        }
      ],
      "source": [
        "nltk.download('punkt')\n",
        "nltk.download('stopwords')\n",
        "from nltk.tokenize import word_tokenize, sent_tokenize\n",
        "from nltk.corpus import stopwords\n",
        "from nltk.probability import FreqDist\n",
        "from collections import defaultdict"
      ]
    },
    {
      "cell_type": "code",
      "execution_count": 17,
      "metadata": {
        "id": "iu1FV6VZB0Fq"
      },
      "outputs": [],
      "source": [
        "review = \"\"\"Its is one of the best and easy to use tool for data analytics and visualization. The analytics and data alteration in Power Query mode is next level. The visualization part is also easy, just drag and drop the fields.\n",
        "I like its cool data visualization capabilities. It has a wide range of charts, graphs, and interactive dashboards. With the help of these charts and graphs I can transform the raw data into interactive dashboards. In PowerBI I can easily create graphs and charts with drag-and-drop feature.It supports data import with 100+ source like csv, excel, sql, etc. The huge range of data transformation and modeling features enables me to clean and analyze data effectively\n",
        "\"\"\""
      ]
    },
    {
      "cell_type": "code",
      "execution_count": 25,
      "metadata": {
        "id": "tTHMj0DgXDQp"
      },
      "outputs": [],
      "source": [
        "sentences=sent_tokenize(review)"
      ]
    },
    {
      "cell_type": "code",
      "execution_count": 28,
      "metadata": {
        "id": "bWKjcsDrYQSN"
      },
      "outputs": [],
      "source": [
        "stop_words = set(stopwords.words(\"english\"))\n",
        "tokens = [word for sentence in sentences for word in word_tokenize(sentence) if word.lower() not in stop_words]"
      ]
    },
    {
      "cell_type": "code",
      "execution_count": 29,
      "metadata": {
        "id": "GD3nB5Jjaa1K"
      },
      "outputs": [],
      "source": [
        "# Frequency distribution of words\n",
        "frequency_dist = FreqDist(tokens)"
      ]
    },
    {
      "cell_type": "markdown",
      "metadata": {},
      "source": [
        "five most common words"
      ]
    },
    {
      "cell_type": "code",
      "execution_count": 30,
      "metadata": {
        "colab": {
          "base_uri": "https://localhost:8080/"
        },
        "id": "FJWYWESgafiS",
        "outputId": "8fbb4b1e-f371-4261-dfc7-4900bb7fbfeb"
      },
      "outputs": [
        {
          "name": "stdout",
          "output_type": "stream",
          "text": [
            "['data', '.', ',', 'visualization', 'charts']\n"
          ]
        }
      ],
      "source": [
        "main_topics = [item[0] for item in frequency_dist.most_common(5)]\n",
        "\n",
        "print(main_topics)"
      ]
    }
  ],
  "metadata": {
    "colab": {
      "provenance": []
    },
    "kernelspec": {
      "display_name": "Python 3",
      "name": "python3"
    },
    "language_info": {
      "name": "python"
    }
  },
  "nbformat": 4,
  "nbformat_minor": 0
}
