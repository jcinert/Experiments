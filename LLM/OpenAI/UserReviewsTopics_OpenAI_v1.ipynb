{
 "cells": [
  {
   "cell_type": "markdown",
   "metadata": {},
   "source": [
    "# Init"
   ]
  },
  {
   "cell_type": "markdown",
   "metadata": {},
   "source": [
    "Note: Some cells/prints were comented out to mask data outputs"
   ]
  },
  {
   "cell_type": "code",
   "execution_count": 1,
   "metadata": {},
   "outputs": [],
   "source": [
    "import os\n",
    "import openai\n",
    "from tqdm import tqdm\n",
    "\n",
    "from dotenv import load_dotenv, find_dotenv\n",
    "_ = load_dotenv(find_dotenv()) # read local .env file\n",
    "\n",
    "openai.api_key = os.environ['OPENAI_API_KEY']\n",
    "openai.api_base = os.environ['OPENAI_API_BASE']\n",
    "openai.api_type= os.environ[\"OPENAI_API_TYPE\"]\n",
    "openai.api_version = os.environ[\"OPENAI_API_VERSION\"]\n",
    "OPENAI_DEPLOYMENT_ID = os.environ[\"OPENAI_DEPLOYMENT_ID\"]"
   ]
  },
  {
   "cell_type": "code",
   "execution_count": 2,
   "metadata": {},
   "outputs": [],
   "source": [
    "def get_completion(prompt, deployment_id):\n",
    "    messages = [{\"role\": \"user\", \"content\": prompt}]\n",
    "    response = openai.ChatCompletion.create(\n",
    "        deployment_id=deployment_id,\n",
    "        messages=messages,\n",
    "        temperature=0, \n",
    "    )\n",
    "    return response.choices[0].message[\"content\"]"
   ]
  },
  {
   "cell_type": "code",
   "execution_count": 3,
   "metadata": {},
   "outputs": [],
   "source": [
    "import contextlib2\n",
    "import warnings\n",
    "import requests\n",
    "from urllib3.exceptions import InsecureRequestWarning\n",
    "# Use a context manager for disabling SSL verification with 3rd party modules\n",
    "old_merge_environment_settings = requests.Session.merge_environment_settings\n",
    "\n",
    "@contextlib2.contextmanager\n",
    "def no_ssl_verification():\n",
    "    opened_adapters = set()\n",
    "\n",
    "    def merge_environment_settings(self, url, proxies, stream, verify, cert):\n",
    "        # Verification happens only once per connection so we need to close\n",
    "        # all the opened adapters once we're done. Otherwise, the effects of\n",
    "        # verify=False persist beyond the end of this context manager.\n",
    "        opened_adapters.add(self.get_adapter(url))\n",
    "\n",
    "        settings = old_merge_environment_settings(\n",
    "            self, url, proxies, stream, verify, cert)\n",
    "        settings['verify'] = False\n",
    "\n",
    "        return settings\n",
    "\n",
    "    requests.Session.merge_environment_settings = merge_environment_settings\n",
    "\n",
    "    try:\n",
    "        with warnings.catch_warnings():\n",
    "            warnings.simplefilter('ignore', InsecureRequestWarning)\n",
    "            yield\n",
    "    finally:\n",
    "        requests.Session.merge_environment_settings = old_merge_environment_settings\n",
    "\n",
    "        for adapter in opened_adapters:\n",
    "            try:\n",
    "                adapter.close()\n",
    "            except:\n",
    "                pass"
   ]
  },
  {
   "cell_type": "markdown",
   "metadata": {},
   "source": [
    "# get data"
   ]
  },
  {
   "cell_type": "code",
   "execution_count": 4,
   "metadata": {},
   "outputs": [
    {
     "data": {
      "text/plain": [
       "(2207053, 48)"
      ]
     },
     "execution_count": 4,
     "metadata": {},
     "output_type": "execute_result"
    }
   ],
   "source": [
    "import pandas as pd\n",
    "# load data - products/reviews\n",
    "df = pd.read_csv(\"../data/G2_Reviews_2023-06-29.csv\", engine='python')\n",
    "# df = pd.DataFrame(docs[0:10])\n",
    "\n",
    "df.shape"
   ]
  },
  {
   "cell_type": "code",
   "execution_count": 8,
   "metadata": {},
   "outputs": [],
   "source": [
    "# df.head(1)"
   ]
  },
  {
   "cell_type": "code",
   "execution_count": 6,
   "metadata": {},
   "outputs": [
    {
     "data": {
      "text/html": [
       "<div>\n",
       "<style scoped>\n",
       "    .dataframe tbody tr th:only-of-type {\n",
       "        vertical-align: middle;\n",
       "    }\n",
       "\n",
       "    .dataframe tbody tr th {\n",
       "        vertical-align: top;\n",
       "    }\n",
       "\n",
       "    .dataframe thead th {\n",
       "        text-align: right;\n",
       "    }\n",
       "</style>\n",
       "<table border=\"1\" class=\"dataframe\">\n",
       "  <thead>\n",
       "    <tr style=\"text-align: right;\">\n",
       "      <th></th>\n",
       "      <th>Product id</th>\n",
       "      <th>Product</th>\n",
       "    </tr>\n",
       "  </thead>\n",
       "  <tbody>\n",
       "    <tr>\n",
       "      <th>0</th>\n",
       "      <td>1185438</td>\n",
       "      <td>BloodHound Enterprise</td>\n",
       "    </tr>\n",
       "  </tbody>\n",
       "</table>\n",
       "</div>"
      ],
      "text/plain": [
       "   Product id                Product\n",
       "0     1185438  BloodHound Enterprise"
      ]
     },
     "execution_count": 6,
     "metadata": {},
     "output_type": "execute_result"
    }
   ],
   "source": [
    "# load subset of product id for PoC stage \n",
    "df_filter = pd.read_excel(\"../data/Executive_summaries_Consolidation.xlsx\", sheet_name = \"Product Reviews Summaries\")\n",
    "df_filter.head(1)"
   ]
  },
  {
   "cell_type": "code",
   "execution_count": 7,
   "metadata": {},
   "outputs": [
    {
     "name": "stdout",
     "output_type": "stream",
     "text": [
      "72 products to process\n"
     ]
    }
   ],
   "source": [
    "\n",
    "tech_lens_list_of_products = df_filter['Product id'].to_list()\n",
    "print(f'{len(tech_lens_list_of_products)} products to process')"
   ]
  },
  {
   "cell_type": "code",
   "execution_count": 8,
   "metadata": {},
   "outputs": [
    {
     "name": "stdout",
     "output_type": "stream",
     "text": [
      "25421 reviews to process\n"
     ]
    }
   ],
   "source": [
    "df_selected_products = df[df['product_id'].isin(tech_lens_list_of_products)]\n",
    "\n",
    "print(f'{df_selected_products.shape[0]} reviews to process')"
   ]
  },
  {
   "cell_type": "code",
   "execution_count": 9,
   "metadata": {},
   "outputs": [
    {
     "name": "stdout",
     "output_type": "stream",
     "text": [
      "From 72 selected products 66 have a review available!\n"
     ]
    }
   ],
   "source": [
    "print(f'From {len(tech_lens_list_of_products)} selected products {df_selected_products.product_id.unique().shape[0]} have a review available!')"
   ]
  },
  {
   "cell_type": "markdown",
   "metadata": {},
   "source": [
    "set limiting factors (not to take too many reviews)"
   ]
  },
  {
   "cell_type": "code",
   "execution_count": 10,
   "metadata": {},
   "outputs": [],
   "source": [
    "DATE_FROM = '2022-08-01'\n",
    "MAX_REVIEWS = 20\n",
    "DEBUG = False # True = only 2 products processed"
   ]
  },
  {
   "cell_type": "code",
   "execution_count": 11,
   "metadata": {},
   "outputs": [
    {
     "name": "stdout",
     "output_type": "stream",
     "text": [
      "Rolling 1 year reviews to process (pos + neg): 6138\n"
     ]
    }
   ],
   "source": [
    "# take only last 1Y\n",
    "df_1Y = df_selected_products[df_selected_products['updated at'] > DATE_FROM]\n",
    "df_group_1Y = df_1Y[['product_id','survey_response_id','updated at']]\n",
    "print(f'Rolling 1 year reviews to process (pos + neg): {df_group_1Y.shape[0]*2}')"
   ]
  },
  {
   "cell_type": "markdown",
   "metadata": {},
   "source": [
    "products with max number of review - but only latest MAX_REVIEWS will be taken"
   ]
  },
  {
   "cell_type": "code",
   "execution_count": 12,
   "metadata": {},
   "outputs": [
    {
     "data": {
      "text/html": [
       "<div>\n",
       "<style scoped>\n",
       "    .dataframe tbody tr th:only-of-type {\n",
       "        vertical-align: middle;\n",
       "    }\n",
       "\n",
       "    .dataframe tbody tr th {\n",
       "        vertical-align: top;\n",
       "    }\n",
       "\n",
       "    .dataframe thead th {\n",
       "        text-align: right;\n",
       "    }\n",
       "</style>\n",
       "<table border=\"1\" class=\"dataframe\">\n",
       "  <thead>\n",
       "    <tr style=\"text-align: right;\">\n",
       "      <th></th>\n",
       "      <th>survey_response_id</th>\n",
       "      <th>updated at</th>\n",
       "    </tr>\n",
       "    <tr>\n",
       "      <th>product_id</th>\n",
       "      <th></th>\n",
       "      <th></th>\n",
       "    </tr>\n",
       "  </thead>\n",
       "  <tbody>\n",
       "    <tr>\n",
       "      <th>6218</th>\n",
       "      <td>406</td>\n",
       "      <td>406</td>\n",
       "    </tr>\n",
       "    <tr>\n",
       "      <th>482</th>\n",
       "      <td>398</td>\n",
       "      <td>398</td>\n",
       "    </tr>\n",
       "    <tr>\n",
       "      <th>1213</th>\n",
       "      <td>304</td>\n",
       "      <td>304</td>\n",
       "    </tr>\n",
       "    <tr>\n",
       "      <th>3899</th>\n",
       "      <td>259</td>\n",
       "      <td>259</td>\n",
       "    </tr>\n",
       "    <tr>\n",
       "      <th>29364</th>\n",
       "      <td>142</td>\n",
       "      <td>142</td>\n",
       "    </tr>\n",
       "    <tr>\n",
       "      <th>53828</th>\n",
       "      <td>136</td>\n",
       "      <td>136</td>\n",
       "    </tr>\n",
       "    <tr>\n",
       "      <th>1392</th>\n",
       "      <td>119</td>\n",
       "      <td>119</td>\n",
       "    </tr>\n",
       "    <tr>\n",
       "      <th>122123</th>\n",
       "      <td>105</td>\n",
       "      <td>105</td>\n",
       "    </tr>\n",
       "    <tr>\n",
       "      <th>3558</th>\n",
       "      <td>103</td>\n",
       "      <td>103</td>\n",
       "    </tr>\n",
       "    <tr>\n",
       "      <th>3824</th>\n",
       "      <td>103</td>\n",
       "      <td>103</td>\n",
       "    </tr>\n",
       "  </tbody>\n",
       "</table>\n",
       "</div>"
      ],
      "text/plain": [
       "            survey_response_id  updated at\n",
       "product_id                                \n",
       "6218                       406         406\n",
       "482                        398         398\n",
       "1213                       304         304\n",
       "3899                       259         259\n",
       "29364                      142         142\n",
       "53828                      136         136\n",
       "1392                       119         119\n",
       "122123                     105         105\n",
       "3558                       103         103\n",
       "3824                       103         103"
      ]
     },
     "execution_count": 12,
     "metadata": {},
     "output_type": "execute_result"
    }
   ],
   "source": [
    "df_group_1Y = df_group_1Y.groupby(['product_id']).count().sort_values(by='survey_response_id',ascending=False)\n",
    "df_group_1Y.head(10)"
   ]
  },
  {
   "cell_type": "markdown",
   "metadata": {},
   "source": [
    "## STEP 1: loop through all selected products and all its selected reviews\n",
    "outputs list of key takeaways for each review"
   ]
  },
  {
   "cell_type": "code",
   "execution_count": 13,
   "metadata": {},
   "outputs": [],
   "source": [
    "def create_prompt_takeaways(customer_review):\n",
    "    return f\"Identify up to three key takeaways from the customer review delimited by tripple backticks. \\\n",
    "Each takeaway should be up to 4 words long. \\\n",
    "Customer reviews: '''{customer_review}'''\\\n",
    "Output only the list of key takeaways formatted as comma delimited list. \\\n",
    "List of key takeaways: \""
   ]
  },
  {
   "cell_type": "code",
   "execution_count": 14,
   "metadata": {},
   "outputs": [],
   "source": [
    "# prep variables\n",
    "df_selected_product_ids = df_1Y['product_id'].unique()\n",
    "df_final = pd.DataFrame([], columns=['product_id', 'product','all_pos_takeaways','key_pos_takeaways_long','key_pos_takeaways','all_neg_takeaways','key_neg_takeaways_long','key_neg_takeaways'])\n",
    "df_final['product_id'] = df_selected_product_ids\n"
   ]
  },
  {
   "cell_type": "code",
   "execution_count": 15,
   "metadata": {},
   "outputs": [],
   "source": [
    "verbose = False\n",
    "if DEBUG:\n",
    "    num_of_prod = 2\n",
    "else:\n",
    "    num_of_prod = df_final['product'].shape[0]"
   ]
  },
  {
   "cell_type": "markdown",
   "metadata": {},
   "source": [
    "### positive takeaways"
   ]
  },
  {
   "cell_type": "code",
   "execution_count": 16,
   "metadata": {},
   "outputs": [
    {
     "name": "stderr",
     "output_type": "stream",
     "text": [
      "  0%|          | 0/59 [00:00<?, ?it/s]"
     ]
    },
    {
     "name": "stderr",
     "output_type": "stream",
     "text": [
      "100%|██████████| 59/59 [13:08<00:00, 13.37s/it]\n"
     ]
    }
   ],
   "source": [
    "for idx in tqdm(range(num_of_prod)):\n",
    "    # get name based on id\n",
    "    product_id = df_final.iloc[idx,0]\n",
    "    product_name = df_1Y[df_1Y['product_id'] == df_final.iloc[idx,0]].iloc[0,2]\n",
    "\n",
    "    df_final.iloc[idx,1] = product_name\n",
    "    if verbose:\n",
    "        print(f'----------------------------------------------\\nProduct: {product_name}')\n",
    "    \n",
    "    df_one_product_reviews = df_1Y[df_1Y['product_id'] == product_id]\n",
    "    # gets latest reviews for selected product, maximum of MAX_REVIEWS - fix later: better to drop before limiting to MAX_REVIEWS\n",
    "    customer_reviews = df_one_product_reviews.sort_values(by='updated at',ascending=False).iloc[:MAX_REVIEWS,6].dropna().to_list()\n",
    "    if verbose:\n",
    "        print(f'Product reviews: {len(customer_reviews)}')\n",
    "\n",
    "    # gets key takeaways for each review \n",
    "    prod_takeaways = []\n",
    "\n",
    "    for customer_review in customer_reviews:\n",
    "        prompt = create_prompt_takeaways(customer_review)\n",
    "        # print(prompt)\n",
    "        with no_ssl_verification():\n",
    "            one_takeaway = get_completion(prompt,OPENAI_DEPLOYMENT_ID)\n",
    "        # print(one_takeaway)\n",
    "        one_takeaway = one_takeaway.replace('''\\n''','').replace('.','')\n",
    "        # sometines OpenAI returns crap\n",
    "        try:\n",
    "            one_takeaway_list = one_takeaway.split(\",\")\n",
    "        except:\n",
    "            print(f'WARNING: OpenAI hasnt returned a list: {one_takeaway}. Added as one item.')\n",
    "            one_takeaway_list = one_takeaway\n",
    "        \n",
    "        prod_takeaways.extend(one_takeaway_list)\n",
    "    if verbose:\n",
    "        print(f'All takeaways [{len(prod_takeaways)}]: {prod_takeaways}')\n",
    "\n",
    "    # save all takeways as comma separated string\n",
    "    df_final.iloc[idx,2] = ','.join(prod_takeaways)\n",
    "    "
   ]
  },
  {
   "cell_type": "code",
   "execution_count": 1,
   "metadata": {},
   "outputs": [],
   "source": [
    "# df_final.head(2)"
   ]
  },
  {
   "cell_type": "markdown",
   "metadata": {},
   "source": [
    "### negative takeaways"
   ]
  },
  {
   "cell_type": "code",
   "execution_count": 18,
   "metadata": {},
   "outputs": [
    {
     "name": "stderr",
     "output_type": "stream",
     "text": [
      "100%|██████████| 59/59 [12:32<00:00, 12.76s/it]\n"
     ]
    }
   ],
   "source": [
    "for idx in tqdm(range(num_of_prod)):\n",
    "    # get name based on id\n",
    "    product_id = df_final.iloc[idx,0]\n",
    "    product_name = df_1Y[df_1Y['product_id'] == df_final.iloc[idx,0]].iloc[0,2]\n",
    "\n",
    "    if verbose:\n",
    "        print(f'----------------------------------------------\\nProduct: {product_name}')\n",
    "    \n",
    "    df_one_product_reviews = df_1Y[df_1Y['product_id'] == product_id]\n",
    "    # gets latest reviews for selected product, maximum of MAX_REVIEWS - fix later: better to drop before limiting to MAX_REVIEWS\n",
    "    customer_reviews = df_one_product_reviews.sort_values(by='updated at',ascending=False).iloc[:MAX_REVIEWS,7].dropna().to_list()\n",
    "    if verbose:\n",
    "        print(f'Product reviews: {len(customer_reviews)}')\n",
    "\n",
    "    # gets key takeaways for each review \n",
    "    prod_takeaways = []\n",
    "\n",
    "    for customer_review in customer_reviews:\n",
    "        prompt = create_prompt_takeaways(customer_review)\n",
    "        # print(prompt)\n",
    "        with no_ssl_verification():\n",
    "            one_takeaway = get_completion(prompt,OPENAI_DEPLOYMENT_ID)\n",
    "        # print(one_takeaway)\n",
    "        one_takeaway = one_takeaway.replace('''\\n''','').replace('.','')\n",
    "        # sometines OpenAI returns crap\n",
    "        try:\n",
    "            one_takeaway_list = one_takeaway.split(\",\")\n",
    "        except:\n",
    "            print(f'WARNING: OpenAI hasnt returned a list: {one_takeaway}. Added as one item.')\n",
    "            one_takeaway_list = one_takeaway\n",
    "        \n",
    "        prod_takeaways.extend(one_takeaway_list)\n",
    "    if verbose:\n",
    "        print(f'All takeaways [{len(prod_takeaways)}]: {prod_takeaways}')\n",
    "\n",
    "    # save all takeways as comma separated string\n",
    "    df_final.iloc[idx,5] = ','.join(prod_takeaways)"
   ]
  },
  {
   "cell_type": "code",
   "execution_count": 2,
   "metadata": {},
   "outputs": [],
   "source": [
    "# df_final.head(2)"
   ]
  },
  {
   "cell_type": "markdown",
   "metadata": {},
   "source": [
    "## STEP 2: loop through all selected products and all key takeaways\n",
    "outputs list of MAX 4 key takeaways for product"
   ]
  },
  {
   "cell_type": "code",
   "execution_count": 22,
   "metadata": {},
   "outputs": [],
   "source": [
    "# to summarize takeaways N --> 4 (long)\n",
    "def create_prompt_summary_long(prod_takeaways):\n",
    "    return f\"Summarize following list of customer reviews into a best representing list of maximum 4 items. \\\n",
    "List of customer reviews: '''{prod_takeaways}'''\\\n",
    "Format the output as comma separated list\"\n",
    "\n",
    "# to summarize takeaways 4 (long) --> 4 (short)\n",
    "def create_prompt_summary_short(summarized_takeaways):\n",
    "    return f\"Summarize following list of customer reviews so that each item has maximum 4 words. You must keep only 4 items. \\\n",
    "List of customer reviews: '''{summarized_takeaways}'''\\\n",
    "Format the output as comma separated list\"\n",
    "# TODO - not cost optimal, but OpenAI had problem doing it in one shot - pehaps with fewshot it will work"
   ]
  },
  {
   "cell_type": "markdown",
   "metadata": {},
   "source": [
    "### positive takeways - summarized"
   ]
  },
  {
   "cell_type": "code",
   "execution_count": 23,
   "metadata": {},
   "outputs": [
    {
     "name": "stderr",
     "output_type": "stream",
     "text": [
      "100%|██████████| 59/59 [02:37<00:00,  2.67s/it]\n"
     ]
    }
   ],
   "source": [
    "for idx in tqdm(range(num_of_prod)):\n",
    "    # get name based on id\n",
    "    product_id = df_final.iloc[idx,0]\n",
    "    product_name = df_1Y[df_1Y['product_id'] == df_final.iloc[idx,0]].iloc[0,2]\n",
    "\n",
    "    if verbose:\n",
    "        print(f'----------------------------------------------\\nProduct: {product_name}')\n",
    "    \n",
    "    str_takeaways = df_final.iloc[idx,2]\n",
    "\n",
    "    # STEP 2.1 - to summarize takeaways N --> 4 (long)\n",
    "    with no_ssl_verification():\n",
    "        summarized_takeaways_long = get_completion(create_prompt_summary_long(str_takeaways),OPENAI_DEPLOYMENT_ID)\n",
    "\n",
    "    df_final.iloc[idx,3] = summarized_takeaways_long\n",
    "    if verbose:\n",
    "        print(f'Long takeways: {summarized_takeaways_long}')\n",
    "\n",
    "    # STEP 2.2 - to summarize takeaways 4 (long) --> 4 (short)\n",
    "    with no_ssl_verification():\n",
    "        summarized_takeaways = get_completion(create_prompt_summary_short(summarized_takeaways_long),OPENAI_DEPLOYMENT_ID)\n",
    "    \n",
    "    df_final.iloc[idx,4] = summarized_takeaways\n",
    "    if verbose:\n",
    "        print(f'Final takeways: {summarized_takeaways}')"
   ]
  },
  {
   "cell_type": "code",
   "execution_count": 3,
   "metadata": {},
   "outputs": [],
   "source": [
    "# df_final.head(2)"
   ]
  },
  {
   "cell_type": "markdown",
   "metadata": {},
   "source": [
    "### negative takeways - summarized"
   ]
  },
  {
   "cell_type": "code",
   "execution_count": 25,
   "metadata": {},
   "outputs": [],
   "source": [
    "# to summarize takeaways N --> 4 (long)\n",
    "def create_prompt_summary_long_neg(prod_takeaways):\n",
    "    return f\"Summarize following list of customer reviews into a best representing list of maximum 4 items. \\\n",
    "Focus on negative aspects of the product \\\n",
    "List of customer reviews: '''{prod_takeaways}'''\\\n",
    "Format the output as comma separated list\"\n",
    "\n",
    "# to summarize takeaways 4 (long) --> 4 (short)\n",
    "def create_prompt_summary_short_neg(summarized_takeaways):\n",
    "    return f\"Summarize following list of customer reviews so that each item has maximum 4 words. You must keep only 4 items. \\\n",
    "List of customer reviews: '''{summarized_takeaways}'''\\\n",
    "Format the output as comma separated list\"\n",
    "# TODO - not cost optimal, but OpenAI had problem doing it in one shot - pehaps with fewshot it will work"
   ]
  },
  {
   "cell_type": "code",
   "execution_count": 26,
   "metadata": {},
   "outputs": [
    {
     "name": "stderr",
     "output_type": "stream",
     "text": [
      "100%|██████████| 59/59 [02:30<00:00,  2.54s/it]\n"
     ]
    }
   ],
   "source": [
    "for idx in tqdm(range(num_of_prod)):\n",
    "    # get name based on id\n",
    "    product_id = df_final.iloc[idx,0]\n",
    "    product_name = df_final.iloc[idx,1]\n",
    "\n",
    "    if verbose:\n",
    "        print(f'----------------------------------------------\\nProduct: {product_name}')\n",
    "    \n",
    "    str_takeaways = df_final.iloc[idx,5]\n",
    "\n",
    "    if verbose:\n",
    "        print(f'Input (all) takeways: {str_takeaways}')\n",
    "\n",
    "    # STEP 2.1 - to summarize takeaways N --> 4 (long)\n",
    "    with no_ssl_verification():\n",
    "        summarized_takeaways_long = get_completion(create_prompt_summary_long_neg(str_takeaways),OPENAI_DEPLOYMENT_ID)\n",
    "\n",
    "    df_final.iloc[idx,6] = summarized_takeaways_long\n",
    "    if verbose:\n",
    "        print(f'Long takeways: {summarized_takeaways_long}')\n",
    "\n",
    "    # STEP 2.2 - to summarize takeaways 4 (long) --> 4 (short)\n",
    "    with no_ssl_verification():\n",
    "        summarized_takeaways = get_completion(create_prompt_summary_short_neg(summarized_takeaways_long),OPENAI_DEPLOYMENT_ID)\n",
    "    \n",
    "    df_final.iloc[idx,7] = summarized_takeaways\n",
    "    if verbose:\n",
    "        print(f'Final takeways: {summarized_takeaways}')"
   ]
  },
  {
   "cell_type": "code",
   "execution_count": 4,
   "metadata": {},
   "outputs": [],
   "source": [
    "# df_final.head(2)"
   ]
  },
  {
   "cell_type": "markdown",
   "metadata": {},
   "source": [
    "## Clean up"
   ]
  },
  {
   "cell_type": "code",
   "execution_count": 51,
   "metadata": {},
   "outputs": [],
   "source": [
    "# TODO - replace following:\n",
    "# .\n",
    "# \"\n",
    "# Output:* \n",
    "# Key:* \n",
    "# \\n"
   ]
  },
  {
   "cell_type": "markdown",
   "metadata": {},
   "source": [
    "## Export"
   ]
  },
  {
   "cell_type": "code",
   "execution_count": 28,
   "metadata": {},
   "outputs": [],
   "source": [
    "df_final.to_excel('../data/topic_export_v2.xlsx', sheet_name='export')"
   ]
  },
  {
   "cell_type": "markdown",
   "metadata": {},
   "source": [
    "# TEST"
   ]
  },
  {
   "cell_type": "code",
   "execution_count": 29,
   "metadata": {},
   "outputs": [],
   "source": [
    "TEST_ID = 1"
   ]
  },
  {
   "cell_type": "code",
   "execution_count": 5,
   "metadata": {},
   "outputs": [],
   "source": [
    "# print(f'Product: {df_final.iloc[TEST_ID,1]}')\n",
    "# print(f'Positive long takeaways: {df_final.iloc[TEST_ID,3]}')\n",
    "# print(f'Positive takeaways: {df_final.iloc[TEST_ID,4]}')\n"
   ]
  },
  {
   "cell_type": "code",
   "execution_count": 31,
   "metadata": {},
   "outputs": [
    {
     "name": "stdout",
     "output_type": "stream",
     "text": [
      "Negative long takeaways: Difficult navigation, confusing interfaces, lack of structure, poor quality assurance, unresolved support cases, API-first approach problematic, complexity overwhelms nontechnical users, lack of details from university, complexity hinders understanding, dashboard issues, lack of details, no drill down, hit and miss tagging, unreliable dashboard creation, limited root-cause analysis, challenging product support, limited chat support, net application challenge, expensive, enterprise-only, environment lacking, licence insufficient, clustering needs unmet, lack of integration, few custom products, network traffic, lack of documentation, migration, ease of access administration.\n",
      "Negative takeaways: Difficult navigation, confusing interfaces, poor quality assurance, unresolved support cases.\n"
     ]
    }
   ],
   "source": [
    "print(f'Negative long takeaways: {df_final.iloc[TEST_ID,6]}')\n",
    "print(f'Negative takeaways: {df_final.iloc[TEST_ID,7]}')\n"
   ]
  },
  {
   "cell_type": "code",
   "execution_count": 6,
   "metadata": {},
   "outputs": [],
   "source": [
    "# print(f'Example positive reviews:')\n",
    "# df_one_product_reviews = df_1Y[df_1Y['product_id'] == df_final.iloc[TEST_ID,0]]\n",
    "# customer_reviews = df_one_product_reviews.sort_values(by='updated at',ascending=False).iloc[:MAX_REVIEWS,6].dropna().to_list()\n",
    "# for review in customer_reviews[0:10]:\n",
    "#     print(f'  -  {review}')"
   ]
  },
  {
   "cell_type": "code",
   "execution_count": 7,
   "metadata": {},
   "outputs": [],
   "source": [
    "# print(f'Example negative reviews:')\n",
    "# df_one_product_reviews = df_1Y[df_1Y['product_id'] == df_final.iloc[TEST_ID,0]]\n",
    "# customer_reviews = df_one_product_reviews.sort_values(by='updated at',ascending=False).iloc[:MAX_REVIEWS,7].dropna().to_list()\n",
    "# for review in customer_reviews[0:10]:\n",
    "#     print(f'  -  {review}')"
   ]
  }
 ],
 "metadata": {
  "kernelspec": {
   "display_name": "Python 3",
   "language": "python",
   "name": "python3"
  },
  "language_info": {
   "codemirror_mode": {
    "name": "ipython",
    "version": 3
   },
   "file_extension": ".py",
   "mimetype": "text/x-python",
   "name": "python",
   "nbconvert_exporter": "python",
   "pygments_lexer": "ipython3",
   "version": "3.11.4"
  },
  "orig_nbformat": 4
 },
 "nbformat": 4,
 "nbformat_minor": 2
}
