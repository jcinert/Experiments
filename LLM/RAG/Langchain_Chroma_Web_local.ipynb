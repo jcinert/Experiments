{
 "cells": [
  {
   "cell_type": "code",
   "execution_count": 1,
   "metadata": {},
   "outputs": [
    {
     "name": "stdout",
     "output_type": "stream",
     "text": [
      "Collecting gpt4all\n",
      "  Downloading gpt4all-2.0.2-py3-none-win_amd64.whl.metadata (918 bytes)\n",
      "Requirement already satisfied: requests in c:\\github_projects\\experiments\\condaenv\\env\\lib\\site-packages (from gpt4all) (2.31.0)\n",
      "Requirement already satisfied: tqdm in c:\\github_projects\\experiments\\condaenv\\env\\lib\\site-packages (from gpt4all) (4.65.0)\n",
      "Requirement already satisfied: charset-normalizer<4,>=2 in c:\\github_projects\\experiments\\condaenv\\env\\lib\\site-packages (from requests->gpt4all) (2.0.4)\n",
      "Requirement already satisfied: idna<4,>=2.5 in c:\\github_projects\\experiments\\condaenv\\env\\lib\\site-packages (from requests->gpt4all) (3.4)\n",
      "Requirement already satisfied: urllib3<3,>=1.21.1 in c:\\github_projects\\experiments\\condaenv\\env\\lib\\site-packages (from requests->gpt4all) (1.26.16)\n",
      "Requirement already satisfied: certifi>=2017.4.17 in c:\\github_projects\\experiments\\condaenv\\env\\lib\\site-packages (from requests->gpt4all) (2023.11.17)\n",
      "Requirement already satisfied: colorama in c:\\github_projects\\experiments\\condaenv\\env\\lib\\site-packages (from tqdm->gpt4all) (0.4.6)\n",
      "Downloading gpt4all-2.0.2-py3-none-win_amd64.whl (7.4 MB)\n",
      "   ---------------------------------------- 0.0/7.4 MB ? eta -:--:--\n",
      "   - -------------------------------------- 0.2/7.4 MB 3.9 MB/s eta 0:00:02\n",
      "   -- ------------------------------------- 0.5/7.4 MB 5.6 MB/s eta 0:00:02\n",
      "   --- ------------------------------------ 0.6/7.4 MB 3.9 MB/s eta 0:00:02\n",
      "   ----- ---------------------------------- 1.0/7.4 MB 5.5 MB/s eta 0:00:02\n",
      "   ------- -------------------------------- 1.3/7.4 MB 5.6 MB/s eta 0:00:02\n",
      "   --------- ------------------------------ 1.8/7.4 MB 6.3 MB/s eta 0:00:01\n",
      "   ---------- ----------------------------- 2.0/7.4 MB 6.2 MB/s eta 0:00:01\n",
      "   ------------ --------------------------- 2.3/7.4 MB 6.1 MB/s eta 0:00:01\n",
      "   -------------- ------------------------- 2.7/7.4 MB 6.4 MB/s eta 0:00:01\n",
      "   --------------- ------------------------ 2.9/7.4 MB 6.6 MB/s eta 0:00:01\n",
      "   ---------------- ----------------------- 2.9/7.4 MB 5.9 MB/s eta 0:00:01\n",
      "   ------------------ --------------------- 3.4/7.4 MB 6.1 MB/s eta 0:00:01\n",
      "   ------------------- -------------------- 3.7/7.4 MB 6.3 MB/s eta 0:00:01\n",
      "   ------------------- -------------------- 3.7/7.4 MB 6.3 MB/s eta 0:00:01\n",
      "   --------------------- ------------------ 3.9/7.4 MB 6.0 MB/s eta 0:00:01\n",
      "   ----------------------- ---------------- 4.3/7.4 MB 6.1 MB/s eta 0:00:01\n",
      "   ------------------------ --------------- 4.4/7.4 MB 6.2 MB/s eta 0:00:01\n",
      "   ------------------------ --------------- 4.4/7.4 MB 6.2 MB/s eta 0:00:01\n",
      "   ------------------------- -------------- 4.8/7.4 MB 5.5 MB/s eta 0:00:01\n",
      "   ------------------------- -------------- 4.8/7.4 MB 5.5 MB/s eta 0:00:01\n",
      "   ------------------------- -------------- 4.8/7.4 MB 5.5 MB/s eta 0:00:01\n",
      "   ---------------------------- ----------- 5.2/7.4 MB 5.3 MB/s eta 0:00:01\n",
      "   ----------------------------- ---------- 5.4/7.4 MB 5.4 MB/s eta 0:00:01\n",
      "   ------------------------------ --------- 5.7/7.4 MB 5.3 MB/s eta 0:00:01\n",
      "   --------------------------------- ------ 6.1/7.4 MB 5.4 MB/s eta 0:00:01\n",
      "   ---------------------------------- ----- 6.3/7.4 MB 5.4 MB/s eta 0:00:01\n",
      "   ----------------------------------- ---- 6.6/7.4 MB 5.3 MB/s eta 0:00:01\n",
      "   -------------------------------------- - 7.0/7.4 MB 5.5 MB/s eta 0:00:01\n",
      "   -------------------------------------- - 7.1/7.4 MB 5.5 MB/s eta 0:00:01\n",
      "   ---------------------------------------  7.4/7.4 MB 5.4 MB/s eta 0:00:01\n",
      "   ---------------------------------------- 7.4/7.4 MB 5.3 MB/s eta 0:00:00\n",
      "Installing collected packages: gpt4all\n",
      "Successfully installed gpt4all-2.0.2\n"
     ]
    }
   ],
   "source": [
    "!pip install gpt4all "
   ]
  },
  {
   "cell_type": "code",
   "execution_count": 3,
   "metadata": {},
   "outputs": [
    {
     "name": "stdout",
     "output_type": "stream",
     "text": [
      "Note: you may need to restart the kernel to use updated packages.\n"
     ]
    },
    {
     "name": "stderr",
     "output_type": "stream",
     "text": [
      "The system cannot find the path specified.\n"
     ]
    }
   ],
   "source": [
    "%pip install gpt4all > /dev/null"
   ]
  },
  {
   "cell_type": "markdown",
   "metadata": {},
   "source": [
    "# Test GPT4All"
   ]
  },
  {
   "cell_type": "code",
   "execution_count": 2,
   "metadata": {},
   "outputs": [],
   "source": [
    "from langchain.embeddings import GPT4AllEmbeddings\n",
    "gpt4all_embd = GPT4AllEmbeddings()"
   ]
  },
  {
   "cell_type": "code",
   "execution_count": 4,
   "metadata": {},
   "outputs": [
    {
     "data": {
      "text/plain": [
       "[-0.04898764193058014,\n",
       " 0.12305509299039841,\n",
       " -0.04326639696955681,\n",
       " 0.0587812215089798,\n",
       " 0.009365170262753963,\n",
       " -0.0384075902402401,\n",
       " -0.07787521928548813,\n",
       " 0.0464746430516243,\n",
       " -0.024038562551140785,\n",
       " 0.05405070260167122,\n",
       " 0.09310438483953476,\n",
       " 0.019093262031674385,\n",
       " 0.006022939924150705,\n",
       " -0.0064134784042835236,\n",
       " -0.06747597455978394,\n",
       " -0.016789510846138,\n",
       " -0.021481089293956757,\n",
       " -0.045280035585165024,\n",
       " 0.0024571875110268593,\n",
       " 0.10313370078802109,\n",
       " 0.07455001026391983,\n",
       " 0.07010778039693832,\n",
       " -0.003320289310067892,\n",
       " 0.0015684247482568026,\n",
       " 0.02184334397315979,\n",
       " 0.04404310882091522,\n",
       " -0.06405968964099884,\n",
       " 0.037261806428432465,\n",
       " 0.055136241018772125,\n",
       " -0.06183505430817604,\n",
       " 0.025233877822756767,\n",
       " 0.0651981458067894,\n",
       " 0.07121466845273972,\n",
       " 0.030301379039883614,\n",
       " 0.09003657847642899,\n",
       " -0.0021385441068559885,\n",
       " 0.06793952733278275,\n",
       " -0.0027348047588020563,\n",
       " 0.037397775799036026,\n",
       " 0.03885013237595558,\n",
       " -0.009792739525437355,\n",
       " -0.09926901012659073,\n",
       " 0.020202364772558212,\n",
       " 0.04943472519516945,\n",
       " 0.01932971552014351,\n",
       " 0.031336188316345215,\n",
       " -0.0556621178984642,\n",
       " 0.0005386925186030567,\n",
       " -0.06050758436322212,\n",
       " 0.014223430305719376,\n",
       " -0.023632168769836426,\n",
       " -0.014668785035610199,\n",
       " -0.08841118216514587,\n",
       " -0.014373278245329857,\n",
       " 0.013389055617153645,\n",
       " 0.045830272138118744,\n",
       " -0.000500265508890152,\n",
       " -0.01128518208861351,\n",
       " -0.02565995790064335,\n",
       " 0.013238807208836079,\n",
       " 0.010044002905488014,\n",
       " 0.015789562836289406,\n",
       " -0.09261977672576904,\n",
       " 0.0833187997341156,\n",
       " 0.10693281888961792,\n",
       " 0.03790898993611336,\n",
       " -0.021881500259041786,\n",
       " -0.031083732843399048,\n",
       " -0.032187506556510925,\n",
       " -0.06897082924842834,\n",
       " -0.06655164808034897,\n",
       " 0.004745136480778456,\n",
       " 0.04445142671465874,\n",
       " 0.009245667606592178,\n",
       " 0.02396252192556858,\n",
       " -0.030430246144533157,\n",
       " -0.033398035913705826,\n",
       " -0.07127298414707184,\n",
       " 0.08572522550821304,\n",
       " -0.062070220708847046,\n",
       " -0.06072881072759628,\n",
       " -0.057728361338377,\n",
       " 0.015671972185373306,\n",
       " 0.007783390115946531,\n",
       " -0.004881303757429123,\n",
       " 0.08071058243513107,\n",
       " 0.08678808808326721,\n",
       " 0.0060738748870790005,\n",
       " -0.0158647820353508,\n",
       " 0.032521408051252365,\n",
       " 0.01100361067801714,\n",
       " -0.028071904554963112,\n",
       " -0.0008353620651178062,\n",
       " -0.002305037807673216,\n",
       " -0.0625736340880394,\n",
       " 0.00915561057627201,\n",
       " -0.0069229197688400745,\n",
       " -0.03984504193067551,\n",
       " 0.08376850187778473,\n",
       " 0.1147506982088089,\n",
       " 0.056787777692079544,\n",
       " 0.004186664242297411,\n",
       " 0.03740422800183296,\n",
       " -0.009694315493106842,\n",
       " -0.12889006733894348,\n",
       " -0.10412479937076569,\n",
       " 0.0308549627661705,\n",
       " -0.0616559274494648,\n",
       " 0.04079467058181763,\n",
       " -0.03269507735967636,\n",
       " -0.00242943805642426,\n",
       " -0.04374248534440994,\n",
       " -0.09388086944818497,\n",
       " -0.039375580847263336,\n",
       " -0.014805100858211517,\n",
       " -0.07538886368274689,\n",
       " -0.06567522883415222,\n",
       " 0.012995589524507523,\n",
       " 0.012945392169058323,\n",
       " 0.0056319148279726505,\n",
       " 0.09174526482820511,\n",
       " 0.004966074135154486,\n",
       " -0.04127022624015808,\n",
       " -0.04058386757969856,\n",
       " -0.07336913794279099,\n",
       " -0.020689433440566063,\n",
       " 0.04572947323322296,\n",
       " -6.78614505034439e-33,\n",
       " -0.015645181760191917,\n",
       " -0.02570788934826851,\n",
       " -0.028043830767273903,\n",
       " 0.11072450131177902,\n",
       " 0.004174457397311926,\n",
       " 0.014858471229672432,\n",
       " -0.025505824014544487,\n",
       " 0.04638512805104256,\n",
       " -0.08658551424741745,\n",
       " -0.001390868448652327,\n",
       " 0.006253199651837349,\n",
       " -0.05483356490731239,\n",
       " 0.007622687146067619,\n",
       " 0.04338695853948593,\n",
       " -0.03230540081858635,\n",
       " 0.062169477343559265,\n",
       " -0.0754358321428299,\n",
       " 0.11865223944187164,\n",
       " -0.03215155750513077,\n",
       " 0.00961307156831026,\n",
       " 0.015043891966342926,\n",
       " 0.007207304239273071,\n",
       " 0.014798348769545555,\n",
       " -0.06219540908932686,\n",
       " -0.028058836236596107,\n",
       " 0.01064901240170002,\n",
       " -0.02548629231750965,\n",
       " -0.031450968235731125,\n",
       " -0.03899563476443291,\n",
       " 0.011982329189777374,\n",
       " 0.03204578906297684,\n",
       " 0.018708186224102974,\n",
       " -0.05384913459420204,\n",
       " 0.010847724042832851,\n",
       " 0.012405970133841038,\n",
       " 0.09668411314487457,\n",
       " 0.005179018247872591,\n",
       " -0.032876770943403244,\n",
       " 0.004834174178540707,\n",
       " 0.009373205713927746,\n",
       " -0.05352580547332764,\n",
       " -0.029449857771396637,\n",
       " 0.08137041330337524,\n",
       " 0.04043462127447128,\n",
       " 0.0412151962518692,\n",
       " -0.04932523891329765,\n",
       " -0.004549587611109018,\n",
       " -0.02895590476691723,\n",
       " 0.10732082277536392,\n",
       " 0.017004363238811493,\n",
       " -0.03550560399889946,\n",
       " 0.04715603590011597,\n",
       " -0.0020708234515041113,\n",
       " -0.03915081173181534,\n",
       " 0.05284633859992027,\n",
       " 0.056378018110990524,\n",
       " 0.02323661558330059,\n",
       " 0.055520277470350266,\n",
       " -0.019454482942819595,\n",
       " 0.05681948363780975,\n",
       " -0.012623337097465992,\n",
       " 0.06359654664993286,\n",
       " -0.05079362913966179,\n",
       " 0.03668927028775215,\n",
       " -0.046348076313734055,\n",
       " -0.0049815853126347065,\n",
       " -0.10034040361642838,\n",
       " -0.07952700555324554,\n",
       " 0.13324826955795288,\n",
       " -0.006886082235723734,\n",
       " -0.022049952298402786,\n",
       " -0.02099132537841797,\n",
       " -0.0018602012423798442,\n",
       " -0.015765197575092316,\n",
       " -0.018761340528726578,\n",
       " -0.0493583120405674,\n",
       " 0.019102882593870163,\n",
       " 0.024454787373542786,\n",
       " -0.028439680114388466,\n",
       " -0.04845483601093292,\n",
       " -0.043987397104501724,\n",
       " -0.07261765748262405,\n",
       " -0.017591528594493866,\n",
       " -0.051168330013751984,\n",
       " -0.06201162934303284,\n",
       " -0.00895301066339016,\n",
       " 0.022900201380252838,\n",
       " -0.0524943545460701,\n",
       " 0.0069680833257734776,\n",
       " -0.0845489576458931,\n",
       " 0.028382539749145508,\n",
       " 0.01925504207611084,\n",
       " -0.06580835580825806,\n",
       " -0.05263322964310646,\n",
       " 0.13142463564872742,\n",
       " 2.9857097333405313e-33,\n",
       " -0.02873239666223526,\n",
       " 0.027329478412866592,\n",
       " -0.09045153111219406,\n",
       " 0.100009486079216,\n",
       " 0.022852474823594093,\n",
       " 0.018428366631269455,\n",
       " 0.09347210824489594,\n",
       " 0.000247731659328565,\n",
       " -0.04128224402666092,\n",
       " 0.09100963175296783,\n",
       " 0.02016422711312771,\n",
       " -0.0019894682336598635,\n",
       " -0.003929819446057081,\n",
       " -0.011352687142789364,\n",
       " 0.0018865540623664856,\n",
       " -0.015825411304831505,\n",
       " -0.020912831649184227,\n",
       " -0.053441308438777924,\n",
       " -0.006917078513652086,\n",
       " 0.01063409261405468,\n",
       " -0.05510219186544418,\n",
       " 0.10156993567943573,\n",
       " 0.05053495243191719,\n",
       " 0.07305973768234253,\n",
       " 0.01269082073122263,\n",
       " -0.02045610174536705,\n",
       " 0.0059535447508096695,\n",
       " -0.08600075542926788,\n",
       " -0.021950939670205116,\n",
       " -0.007349585648626089,\n",
       " -0.0036145448684692383,\n",
       " -0.011314640752971172,\n",
       " -0.09827294945716858,\n",
       " 0.08172419667243958,\n",
       " 0.01461399719119072,\n",
       " -0.11798496544361115,\n",
       " 0.13379226624965668,\n",
       " -0.03888130187988281,\n",
       " -0.003483928507193923,\n",
       " 0.019985174760222435,\n",
       " 0.03474166616797447,\n",
       " 0.08086340874433517,\n",
       " 0.0443306490778923,\n",
       " 0.039436742663383484,\n",
       " -0.013236296363174915,\n",
       " 0.059165291488170624,\n",
       " 0.0490279458463192,\n",
       " -0.05923003330826759,\n",
       " 0.06835772097110748,\n",
       " 0.031539808958768845,\n",
       " 0.002938323887065053,\n",
       " -0.040857892483472824,\n",
       " 0.026181751862168312,\n",
       " -0.02180315926671028,\n",
       " -0.07141129672527313,\n",
       " 0.05664077773690224,\n",
       " -0.08512388914823532,\n",
       " -0.035088032484054565,\n",
       " -0.017329642549157143,\n",
       " 0.06699353456497192,\n",
       " -0.016115959733724594,\n",
       " 0.07547494024038315,\n",
       " 0.0003540399484336376,\n",
       " 0.06640486419200897,\n",
       " 0.015168625861406326,\n",
       " -0.08304497599601746,\n",
       " -0.09064886718988419,\n",
       " 0.026848051697015762,\n",
       " -0.01634819619357586,\n",
       " -0.005305992439389229,\n",
       " 0.04022283852100372,\n",
       " -0.027805380523204803,\n",
       " -0.014447107911109924,\n",
       " -0.11306634545326233,\n",
       " 0.084013432264328,\n",
       " -0.11551865190267563,\n",
       " 0.007800708990544081,\n",
       " -0.04468440264463425,\n",
       " -0.01879717782139778,\n",
       " -0.05118289589881897,\n",
       " 0.05096546933054924,\n",
       " 0.00516857672482729,\n",
       " -0.046327706426382065,\n",
       " 0.05340533331036568,\n",
       " -0.009499747306108475,\n",
       " -0.025537889450788498,\n",
       " 0.0018360724207013845,\n",
       " 0.023003078997135162,\n",
       " -0.031202277168631554,\n",
       " 0.05278002470731735,\n",
       " -0.02665693312883377,\n",
       " 0.04845845326781273,\n",
       " -0.020783454179763794,\n",
       " 0.012997932732105255,\n",
       " -0.022836800664663315,\n",
       " -1.988070330583014e-08,\n",
       " -0.04204228147864342,\n",
       " -0.02437305822968483,\n",
       " -0.0011963635915890336,\n",
       " -0.04553528502583504,\n",
       " -0.03427109494805336,\n",
       " 0.0425410121679306,\n",
       " 0.06860882043838501,\n",
       " -0.05931735783815384,\n",
       " -0.05114779248833656,\n",
       " -0.047905027866363525,\n",
       " 0.03908293694257736,\n",
       " -0.0022385467309504747,\n",
       " -0.052373256534338,\n",
       " 0.0009125387878157198,\n",
       " 0.03990177810192108,\n",
       " -0.06639035791158676,\n",
       " -0.006257499568164349,\n",
       " -0.03610247001051903,\n",
       " -0.051959455013275146,\n",
       " 0.010954594239592552,\n",
       " -0.025396304205060005,\n",
       " 0.00503136171028018,\n",
       " 0.015131562016904354,\n",
       " 0.014228904619812965,\n",
       " -0.025658633559942245,\n",
       " 0.07659152150154114,\n",
       " 0.02638864517211914,\n",
       " 0.08886333554983139,\n",
       " 0.0035931619349867105,\n",
       " -0.042999062687158585,\n",
       " 0.0464891716837883,\n",
       " 0.11879711598157883,\n",
       " -0.012726088054478168,\n",
       " -0.004306354559957981,\n",
       " 0.03227599710226059,\n",
       " 0.11042483896017075,\n",
       " 0.07116354256868362,\n",
       " 0.058382485061883926,\n",
       " 0.004085974767804146,\n",
       " 0.056072916835546494,\n",
       " -0.10264162719249725,\n",
       " -0.013114401139318943,\n",
       " -0.025182170793414116,\n",
       " 0.026629047468304634,\n",
       " 0.03511767089366913,\n",
       " -0.03950535133481026,\n",
       " -0.11444749683141708,\n",
       " -0.024514401331543922,\n",
       " -0.03728067874908447,\n",
       " -0.08965975046157837,\n",
       " -0.012218812480568886,\n",
       " -0.03662852942943573,\n",
       " 0.0541219599545002,\n",
       " 0.019400998950004578,\n",
       " -0.048157237470149994,\n",
       " -0.0049100290052592754,\n",
       " 0.05216317996382713,\n",
       " -0.007067424710839987,\n",
       " -0.03345833346247673,\n",
       " -0.0169038288295269,\n",
       " 0.11485008895397186,\n",
       " 0.09080340713262558,\n",
       " 0.07434524595737457,\n",
       " -0.016001809388399124]"
      ]
     },
     "execution_count": 4,
     "metadata": {},
     "output_type": "execute_result"
    }
   ],
   "source": [
    "text = \"This is a test document.\"\n",
    "query_result = gpt4all_embd.embed_query(text)\n",
    "query_result"
   ]
  },
  {
   "cell_type": "markdown",
   "metadata": {},
   "source": [
    "# Vector DB"
   ]
  },
  {
   "cell_type": "code",
   "execution_count": 5,
   "metadata": {},
   "outputs": [],
   "source": [
    "from langchain.document_loaders import WebBaseLoader\n",
    "\n",
    "loader = WebBaseLoader(\"https://lilianweng.github.io/posts/2023-06-23-agent/\")\n",
    "data = loader.load()\n",
    "\n",
    "from langchain.text_splitter import RecursiveCharacterTextSplitter\n",
    "\n",
    "text_splitter = RecursiveCharacterTextSplitter(chunk_size=500, chunk_overlap=0)\n",
    "all_splits = text_splitter.split_documents(data)"
   ]
  },
  {
   "cell_type": "code",
   "execution_count": 6,
   "metadata": {},
   "outputs": [],
   "source": [
    "from langchain.embeddings import GPT4AllEmbeddings\n",
    "from langchain.vectorstores import Chroma\n",
    "\n",
    "vectorstore = Chroma.from_documents(documents=all_splits, embedding=GPT4AllEmbeddings())"
   ]
  },
  {
   "cell_type": "code",
   "execution_count": 9,
   "metadata": {},
   "outputs": [
    {
     "name": "stdout",
     "output_type": "stream",
     "text": [
      "---Number of documents retrieved: 4\n",
      "---Doc 0 length: 252\n",
      "---Doc 0: Task decomposition can be done (1) by LLM with simple prompting like \"Steps for XYZ.\\n1.\", \"What are the subgoals for achieving XYZ?\", (2) by using task-specific instructions; e.g. \"Write a story outline.\" for writing a novel, or (3) with human inputs.\n",
      "---Doc 1 length: 293\n",
      "---Doc 1: Challenges in long-term planning and task decomposition: Planning over a lengthy history and effectively exploring the solution space remain challenging. LLMs struggle to adjust plans when faced with unexpected errors, making them less robust compared to humans who learn from trial and error.\n"
     ]
    }
   ],
   "source": [
    "question = \"What are the approaches to Task Decomposition?\"\n",
    "docs = vectorstore.similarity_search(question)\n",
    "print(f'---Number of documents retrieved: {len(docs)}')\n",
    "print(f'---Doc 0 length: {len(docs[0].page_content)}')\n",
    "print(f'---Doc 0: {docs[0].page_content}')\n",
    "print(f'---Doc 1 length: {len(docs[1].page_content)}')\n",
    "print(f'---Doc 1: {docs[1].page_content}')"
   ]
  },
  {
   "cell_type": "markdown",
   "metadata": {},
   "source": [
    "# GPT4All Model"
   ]
  },
  {
   "cell_type": "code",
   "execution_count": 10,
   "metadata": {},
   "outputs": [],
   "source": [
    "from langchain.callbacks.streaming_stdout import StreamingStdOutCallbackHandler\n",
    "from langchain.chains import LLMChain\n",
    "from langchain.llms import GPT4All\n",
    "from langchain.prompts import PromptTemplate"
   ]
  },
  {
   "cell_type": "code",
   "execution_count": null,
   "metadata": {},
   "outputs": [],
   "source": [
    "template = \"\"\"Question: {question}\n",
    "\n",
    "Answer: Let's think step by step.\"\"\"\n",
    "\n",
    "prompt = PromptTemplate(template=template, input_variables=[\"question\"])"
   ]
  },
  {
   "cell_type": "code",
   "execution_count": 11,
   "metadata": {},
   "outputs": [],
   "source": [
    "from langchain.llms import GPT4All\n",
    "\n",
    "llm = GPT4All(\n",
    "    model=\"../local_models/gpt4all/mistral-7b-openorca.Q4_0.gguf\",\n",
    "    max_tokens=2048,\n",
    ")"
   ]
  },
  {
   "cell_type": "markdown",
   "metadata": {},
   "source": [
    "## simple chain"
   ]
  },
  {
   "cell_type": "code",
   "execution_count": 12,
   "metadata": {},
   "outputs": [
    {
     "data": {
      "text/plain": [
       "'\\n\\n1. Task decomposition can be done by LLMs with simple prompting, using task-specific instructions or human inputs.\\n2. Challenges in long-term planning and task decomposition: Planning over a lengthy history and effectively exploring the solution space remain challenging for LLMs; they struggle to adjust plans when faced with unexpected errors, making them less robust compared to humans who learn from trial and error.\\n3. Task execution involves expert models executing on specific tasks and logging results. Instructions are given, and the correctness of task results is judged.'"
      ]
     },
     "execution_count": 12,
     "metadata": {},
     "output_type": "execute_result"
    }
   ],
   "source": [
    "from langchain.chains import LLMChain\n",
    "from langchain.prompts import PromptTemplate\n",
    "\n",
    "# Prompt\n",
    "prompt = PromptTemplate.from_template(\n",
    "    \"Summarize the main themes in these retrieved docs: {docs}\"\n",
    ")\n",
    "\n",
    "# Chain\n",
    "llm_chain = LLMChain(llm=llm, prompt=prompt)\n",
    "\n",
    "# Run\n",
    "question = \"What are the approaches to Task Decomposition?\"\n",
    "docs = vectorstore.similarity_search(question)\n",
    "result = llm_chain(docs)\n",
    "\n",
    "# Output\n",
    "result[\"text\"]"
   ]
  },
  {
   "cell_type": "markdown",
   "metadata": {},
   "source": [
    "## QA chain\n",
    "- stuff approach"
   ]
  },
  {
   "cell_type": "code",
   "execution_count": 13,
   "metadata": {},
   "outputs": [
    {
     "data": {
      "text/plain": [
       "{'output_text': ' The approaches to Task Decomposition are (1) using simple prompting with LLMs, (2) providing task-specific instructions, and (3) incorporating human inputs.'}"
      ]
     },
     "execution_count": 13,
     "metadata": {},
     "output_type": "execute_result"
    }
   ],
   "source": [
    "# Prompt\n",
    "from langchain import hub\n",
    "\n",
    "rag_prompt = hub.pull(\"rlm/rag-prompt\")\n",
    "from langchain.chains.question_answering import load_qa_chain\n",
    "\n",
    "# Chain\n",
    "chain = load_qa_chain(llm, chain_type=\"stuff\", prompt=rag_prompt)\n",
    "# Run\n",
    "chain({\"input_documents\": docs, \"question\": question}, return_only_outputs=True)"
   ]
  },
  {
   "cell_type": "code",
   "execution_count": 14,
   "metadata": {},
   "outputs": [
    {
     "data": {
      "text/plain": [
       "ChatPromptTemplate(input_variables=['context', 'question'], messages=[HumanMessagePromptTemplate(prompt=PromptTemplate(input_variables=['context', 'question'], template=\"[INST]<<SYS>> You are an assistant for question-answering tasks. Use the following pieces of retrieved context to answer the question. If you don't know the answer, just say that you don't know. Use three sentences maximum and keep the answer concise.<</SYS>> \\nQuestion: {question} \\nContext: {context} \\nAnswer: [/INST]\"))])"
      ]
     },
     "execution_count": 14,
     "metadata": {},
     "output_type": "execute_result"
    }
   ],
   "source": [
    "# Prompt 2 (special Llama prompt)\n",
    "rag_prompt_llama = hub.pull(\"rlm/rag-prompt-llama\")\n",
    "rag_prompt_llama"
   ]
  },
  {
   "cell_type": "code",
   "execution_count": 15,
   "metadata": {},
   "outputs": [
    {
     "data": {
      "text/plain": [
       "{'output_text': ' The approaches to Task Decomposition are simple prompting, using task-specific instructions, and incorporating human inputs.'}"
      ]
     },
     "execution_count": 15,
     "metadata": {},
     "output_type": "execute_result"
    }
   ],
   "source": [
    "# Chain\n",
    "chain = load_qa_chain(llm, chain_type=\"stuff\", prompt=rag_prompt_llama)\n",
    "# Run\n",
    "chain({\"input_documents\": docs, \"question\": question}, return_only_outputs=True)"
   ]
  },
  {
   "cell_type": "markdown",
   "metadata": {},
   "source": [
    "## Retrieval QA"
   ]
  },
  {
   "cell_type": "code",
   "execution_count": 16,
   "metadata": {},
   "outputs": [],
   "source": [
    "from langchain.chains import RetrievalQA\n",
    "\n",
    "qa_chain = RetrievalQA.from_chain_type(\n",
    "    llm,\n",
    "    retriever=vectorstore.as_retriever(),\n",
    "    chain_type_kwargs={\"prompt\": rag_prompt_llama},\n",
    ")"
   ]
  },
  {
   "cell_type": "code",
   "execution_count": 17,
   "metadata": {},
   "outputs": [
    {
     "data": {
      "text/plain": [
       "{'query': 'What are the approaches to Task Decomposition?',\n",
       " 'result': ' The approaches to Task Decomposition are simple prompting, using task-specific instructions, and incorporating human inputs.'}"
      ]
     },
     "execution_count": 17,
     "metadata": {},
     "output_type": "execute_result"
    }
   ],
   "source": [
    "qa_chain({\"query\": question})"
   ]
  },
  {
   "cell_type": "code",
   "execution_count": 18,
   "metadata": {},
   "outputs": [
    {
     "data": {
      "text/plain": [
       "{'query': 'How can the reflextion framework be used?',\n",
       " 'result': \" The Reflexion framework can be used to equip agents with dynamic memory and self-reflection capabilities for improving reasoning skills in a reinforcement learning setup. It achieves this by using a heuristic function that determines when trajectories are inefficient or contain hallucinations, and adding reflections into the agent's working memory as context for querying large language models (LLMs).\"}"
      ]
     },
     "execution_count": 18,
     "metadata": {},
     "output_type": "execute_result"
    }
   ],
   "source": [
    "question2 = \"How can the reflextion framework be used?\"\n",
    "qa_chain({\"query\": question2})"
   ]
  }
 ],
 "metadata": {
  "kernelspec": {
   "display_name": "Python 3",
   "language": "python",
   "name": "python3"
  },
  "language_info": {
   "codemirror_mode": {
    "name": "ipython",
    "version": 3
   },
   "file_extension": ".py",
   "mimetype": "text/x-python",
   "name": "python",
   "nbconvert_exporter": "python",
   "pygments_lexer": "ipython3",
   "version": "3.11.5"
  }
 },
 "nbformat": 4,
 "nbformat_minor": 2
}
