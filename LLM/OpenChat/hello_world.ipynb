{
 "cells": [
  {
   "cell_type": "markdown",
   "metadata": {},
   "source": [
    "# hello word test of OpenChat 3.5\n",
    "https://github.com/imoneoi/openchat#installation"
   ]
  },
  {
   "cell_type": "code",
   "execution_count": null,
   "metadata": {},
   "outputs": [],
   "source": [
    "# GPU - does not work on my machine\n",
    "# !conda install pytorch torchvision torchaudio pytorch-cuda=11.8 -c pytorch -c nvidia"
   ]
  },
  {
   "cell_type": "code",
   "execution_count": null,
   "metadata": {},
   "outputs": [],
   "source": [
    "# !conda install pytorch torchvision torchaudio cpuonly -c pytorch"
   ]
  },
  {
   "cell_type": "code",
   "execution_count": 1,
   "metadata": {},
   "outputs": [
    {
     "name": "stderr",
     "output_type": "stream",
     "text": [
      "c:\\Github_Projects\\Experiments\\CondaEnv\\env\\python.exe: Error while finding module specification for 'ochat.serving.openai_api_server' (ModuleNotFoundError: No module named 'ochat')\n"
     ]
    }
   ],
   "source": [
    "!python -m ochat.serving.openai_api_server --model ./openchat/openchat-3.5-0106"
   ]
  },
  {
   "cell_type": "code",
   "execution_count": null,
   "metadata": {},
   "outputs": [],
   "source": [
    "%% curl http://localhost:18888/v1/chat/completions \\\n",
    "  -H \"Content-Type: application/json\" \\\n",
    "  -d '{\n",
    "    \"model\": \"openchat_3.5\",\n",
    "    \"messages\": [{\"role\": \"user\", \"content\": \"You are a large language model named OpenChat. Write a short poem to describe yourself\"}]\n",
    "  }'"
   ]
  },
  {
   "cell_type": "code",
   "execution_count": null,
   "metadata": {},
   "outputs": [],
   "source": [
    "import requests    \n",
    "# api-endpoint\n",
    "URL = \"http://localhost:18888/v1/chat/completions\"\n",
    "data = '{\"model\": \"openchat_3.5\", \"messages\": [{\"role\": \"user\", \"content\": \"You are a large language model named OpenChat. Write a short poem to describe yourself\"}]}'\n",
    "\n",
    "# post\n",
    "r = requests.post(headers=\"Content-Type: application/json\",\n",
    "                   url = URL,\n",
    "                   data=data)"
   ]
  }
 ],
 "metadata": {
  "kernelspec": {
   "display_name": "Python 3",
   "language": "python",
   "name": "python3"
  },
  "language_info": {
   "codemirror_mode": {
    "name": "ipython",
    "version": 3
   },
   "file_extension": ".py",
   "mimetype": "text/x-python",
   "name": "python",
   "nbconvert_exporter": "python",
   "pygments_lexer": "ipython3",
   "version": "3.11.5"
  }
 },
 "nbformat": 4,
 "nbformat_minor": 2
}
