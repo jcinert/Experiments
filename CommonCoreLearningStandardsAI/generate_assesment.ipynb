{
 "cells": [
  {
   "cell_type": "markdown",
   "metadata": {},
   "source": [
    "# Generate assesment"
   ]
  },
  {
   "cell_type": "markdown",
   "metadata": {},
   "source": [
    "# Init"
   ]
  },
  {
   "cell_type": "code",
   "execution_count": 1,
   "metadata": {},
   "outputs": [],
   "source": [
    "# Imports \n",
    "import os\n",
    "from dotenv import load_dotenv, find_dotenv\n",
    "\n",
    "# to disable SSL verification that causes problem from my laptop\n",
    "from ssl_workaround import no_ssl_verification\n",
    "\n",
    "# LangChain imports\n",
    "from langchain.chat_models import ChatOpenAI\n",
    "from langchain.prompts import ChatPromptTemplate\n",
    "from langchain.chains import LLMChain\n",
    "from langchain.prompts import PromptTemplate\n",
    "from langchain.chat_models import ChatOpenAI\n",
    "from langchain.chains import SequentialChain\n",
    "import langchain\n",
    "langchain.debug = True\n",
    "from langchain.chat_models import ChatOpenAI\n",
    "from langchain import LLMChain\n",
    "from langchain import PromptTemplate\n",
    "from langchain.prompts.chat import (\n",
    "    ChatPromptTemplate,\n",
    "    SystemMessagePromptTemplate,\n",
    "    AIMessagePromptTemplate,\n",
    "    HumanMessagePromptTemplate,\n",
    ")\n",
    "from langchain.schema import (\n",
    "    AIMessage,\n",
    "    HumanMessage,\n",
    "    SystemMessage\n",
    ")\n",
    "# formatters\n",
    "from langchain.output_parsers import ResponseSchema\n",
    "from langchain.output_parsers import StructuredOutputParser"
   ]
  },
  {
   "cell_type": "code",
   "execution_count": 2,
   "metadata": {},
   "outputs": [],
   "source": [
    "# load secrets from env var\n",
    "_ = load_dotenv(find_dotenv(),verbose=True) # read local .env file\n",
    "\n",
    "# for Azure OpenAI\n",
    "OPENAI_API_KEY = os.getenv(\"OPENAI_API_KEY\")\n",
    "OPENAI_API_BASE = os.getenv(\"OPENAI_API_BASE\")\n",
    "OPENAI_API_TYPE= os.getenv(\"OPENAI_API_TYPE\")\n",
    "OPENAI_API_VERSION = os.getenv(\"OPENAI_API_VERSION\")\n",
    "OPENAI_DEPLOYMENT_ID = os.getenv(\"OPENAI_DEPLOYMENT_ID\")"
   ]
  },
  {
   "cell_type": "markdown",
   "metadata": {},
   "source": [
    "# Chain 1"
   ]
  },
  {
   "cell_type": "code",
   "execution_count": 69,
   "metadata": {},
   "outputs": [
    {
     "name": "stdout",
     "output_type": "stream",
     "text": [
      "The output should be a markdown code snippet formatted in the following schema, including the leading and trailing \"```json\" and \"```\":\n",
      "\n",
      "```json\n",
      "{\n",
      "\t\"step-1\": string  // step 1 reasoning\n",
      "\t\"step-2\": string  // step 2 reasoning\n",
      "\t\"step-3\": string  // step 3 reasoning\n",
      "\t\"context\": string  // generated context paragraph\n",
      "\t\"frq\": string  // generated free respoce question\n",
      "}\n",
      "```\n"
     ]
    }
   ],
   "source": [
    "# Define response schema (not really needed, but for consistency)\n",
    "step1_json = ResponseSchema(name=\"step-1\",\n",
    "                             description=\"step 1 reasoning\")\n",
    "step2_json = ResponseSchema(name=\"step-2\",\n",
    "                             description=\"step 2 reasoning\")\n",
    "step3_json = ResponseSchema(name=\"step-3\",\n",
    "                             description=\"step 3 reasoning\")\n",
    "context_json = ResponseSchema(name=\"context\",\n",
    "                             description=\"generated context paragraph\")\n",
    "frq_json = ResponseSchema(name=\"frq\",\n",
    "                             description=\"generated free respoce question\")\n",
    "\n",
    "\n",
    "response_schemas = [step1_json,step2_json,step3_json,context_json,frq_json]\n",
    "output_parser = StructuredOutputParser.from_response_schemas(response_schemas)\n",
    "fmt_instr_frq = output_parser.get_format_instructions()\n",
    "print(fmt_instr_frq)"
   ]
  },
  {
   "cell_type": "code",
   "execution_count": 70,
   "metadata": {},
   "outputs": [],
   "source": [
    "system_message = \"\"\"\n",
    "You are an helpfull assistant. User will provide you Common Core State Standard and a topic. \\\n",
    "You will output an assesment task for a student to test student knowledge consisting of:\n",
    " 1. COTEXT: context paragraph that will be used by the student to answer the below free responce question.\\\n",
    " The COTEXT is a paragraph and must be related to topic provided by user. \\\n",
    " The COTEXT must be sufficient to answer the free responce question and meet complexity and length as expected by the Common Core State Standard definition provided by user.\n",
    " 2. FREE RESPONCE QUESTION: The question must be related to the context article and test students ability as per the standard definition above.\\\n",
    "\n",
    "Follow these steps to create the task:\n",
    "\n",
    "Step 1: Provide definition of Common Core State Standard provided by user\n",
    "\n",
    "Step 3: Define what needs to be tested as part of assement defined in steps 1 and make sure to include it in the CONTEXT and FREE RESPONSE QUESTION.\n",
    "\n",
    "Step 2: Define what is the expected lenght and complexity of the CONTEXT paragraph that is provided to student\n",
    "\n",
    "Step 4: Generate CONTEXT paragraph. It must meet the conditions defined in second and third step.\n",
    "\n",
    "Step 5: Generate FREE RESPONSE QUESTION related to CONEXT and meeting definition in step one.\n",
    "\n",
    "{fmt_instr_frq}\n",
    "\"\"\""
   ]
  },
  {
   "cell_type": "code",
   "execution_count": 71,
   "metadata": {},
   "outputs": [],
   "source": [
    "# Make SystemMessagePromptTemplate\n",
    "prompt=PromptTemplate(\n",
    "    template=system_message,\n",
    "    input_variables=[\"fmt_instr_frq\"]\n",
    ")\n",
    "\n",
    "system_message_prompt = SystemMessagePromptTemplate(prompt=prompt)"
   ]
  },
  {
   "cell_type": "code",
   "execution_count": 72,
   "metadata": {},
   "outputs": [],
   "source": [
    "CCSS_TOPIC = \"\"\"Common Core State Standard is {standard} and topic is {topic}.\"\"\""
   ]
  },
  {
   "cell_type": "code",
   "execution_count": 73,
   "metadata": {},
   "outputs": [],
   "source": [
    "# Make HumanMessagePromptTemplate\n",
    "human_message_prompt = HumanMessagePromptTemplate.from_template(CCSS_TOPIC)"
   ]
  },
  {
   "cell_type": "code",
   "execution_count": 74,
   "metadata": {},
   "outputs": [
    {
     "data": {
      "text/plain": [
       "ChatPromptTemplate(input_variables=['fmt_instr_frq', 'standard', 'topic'], output_parser=None, partial_variables={}, messages=[SystemMessagePromptTemplate(prompt=PromptTemplate(input_variables=['fmt_instr_frq'], output_parser=None, partial_variables={}, template='\\nYou are an helpfull assistant. User will provide you Common Core State Standard and a topic. You will output an assesment task for a student to test student knowledge consisting of:\\n 1. COTEXT: context paragraph that will be used by the student to answer the below free responce question. The COTEXT is a paragraph and must be related to topic provided by user.  The COTEXT must be sufficient to answer the free responce question and meet complexity and length as expected by the Common Core State Standard definition provided by user.\\n 2. FREE RESPONCE QUESTION: The question must be related to the context article and test students ability as per the standard definition above.\\nFollow these steps to create the task:\\n\\nStep 1: Provide definition of Common Core State Standard provided by user\\n\\nStep 3: Define what needs to be tested as part of assement defined in steps 1 and make sure to include it in the CONTEXT and FREE RESPONSE QUESTION.\\n\\nStep 2: Define what is the expected lenght and complexity of the CONTEXT paragraph that is provided to student\\n\\nStep 4: Generate CONTEXT paragraph. It must meet the conditions defined in second and third step.\\n\\nStep 5: Generate FREE RESPONSE QUESTION related to CONEXT and meeting definition in step one.\\n\\n{fmt_instr_frq}\\n', template_format='f-string', validate_template=True), additional_kwargs={}), HumanMessagePromptTemplate(prompt=PromptTemplate(input_variables=['standard', 'topic'], output_parser=None, partial_variables={}, template='Common Core State Standard is {standard} and topic is {topic}.', template_format='f-string', validate_template=True), additional_kwargs={})])"
      ]
     },
     "execution_count": 74,
     "metadata": {},
     "output_type": "execute_result"
    }
   ],
   "source": [
    "# Create ChatPromptTemplate: Combine System + Human\n",
    "chat_prompt = ChatPromptTemplate.from_messages([system_message_prompt, human_message_prompt])\n",
    "chat_prompt"
   ]
  },
  {
   "cell_type": "code",
   "execution_count": 75,
   "metadata": {},
   "outputs": [
    {
     "name": "stderr",
     "output_type": "stream",
     "text": [
      "WARNING! deployment_id is not default parameter.\n",
      "                    deployment_id was transferred to model_kwargs.\n",
      "                    Please confirm that deployment_id is what you intended.\n"
     ]
    }
   ],
   "source": [
    "chain1 = LLMChain(\n",
    "    llm=ChatOpenAI(\n",
    "        temperature=0.7, \n",
    "        openai_api_base=OPENAI_API_BASE,\n",
    "        openai_api_key=OPENAI_API_KEY,\n",
    "        deployment_id = OPENAI_DEPLOYMENT_ID),\n",
    "    prompt = chat_prompt,\n",
    "    output_key=\"reasoning_context_frq\"\n",
    ")"
   ]
  },
  {
   "cell_type": "code",
   "execution_count": 76,
   "metadata": {},
   "outputs": [
    {
     "name": "stdout",
     "output_type": "stream",
     "text": [
      "\u001b[32;1m\u001b[1;3m[chain/start]\u001b[0m \u001b[1m[1:chain:LLMChain] Entering Chain run with input:\n",
      "\u001b[0m{\n",
      "  \"standard\": \"CCSS.ELA-LITERACY.W.4.9\",\n",
      "  \"topic\": \"ocean\",\n",
      "  \"fmt_instr_frq\": \"The output should be a markdown code snippet formatted in the following schema, including the leading and trailing \\\"```json\\\" and \\\"```\\\":\\n\\n```json\\n{\\n\\t\\\"step-1\\\": string  // step 1 reasoning\\n\\t\\\"step-2\\\": string  // step 2 reasoning\\n\\t\\\"step-3\\\": string  // step 3 reasoning\\n\\t\\\"context\\\": string  // generated context paragraph\\n\\t\\\"frq\\\": string  // generated free respoce question\\n}\\n```\"\n",
      "}\n",
      "\u001b[32;1m\u001b[1;3m[llm/start]\u001b[0m \u001b[1m[1:chain:LLMChain > 2:llm:ChatOpenAI] Entering LLM run with input:\n",
      "\u001b[0m{\n",
      "  \"prompts\": [\n",
      "    \"System: \\nYou are an helpfull assistant. User will provide you Common Core State Standard and a topic. You will output an assesment task for a student to test student knowledge consisting of:\\n 1. COTEXT: context paragraph that will be used by the student to answer the below free responce question. The COTEXT is a paragraph and must be related to topic provided by user.  The COTEXT must be sufficient to answer the free responce question and meet complexity and length as expected by the Common Core State Standard definition provided by user.\\n 2. FREE RESPONCE QUESTION: The question must be related to the context article and test students ability as per the standard definition above.\\nFollow these steps to create the task:\\n\\nStep 1: Provide definition of Common Core State Standard provided by user\\n\\nStep 3: Define what needs to be tested as part of assement defined in steps 1 and make sure to include it in the CONTEXT and FREE RESPONSE QUESTION.\\n\\nStep 2: Define what is the expected lenght and complexity of the CONTEXT paragraph that is provided to student\\n\\nStep 4: Generate CONTEXT paragraph. It must meet the conditions defined in second and third step.\\n\\nStep 5: Generate FREE RESPONSE QUESTION related to CONEXT and meeting definition in step one.\\n\\nThe output should be a markdown code snippet formatted in the following schema, including the leading and trailing \\\"```json\\\" and \\\"```\\\":\\n\\n```json\\n{\\n\\t\\\"step-1\\\": string  // step 1 reasoning\\n\\t\\\"step-2\\\": string  // step 2 reasoning\\n\\t\\\"step-3\\\": string  // step 3 reasoning\\n\\t\\\"context\\\": string  // generated context paragraph\\n\\t\\\"frq\\\": string  // generated free respoce question\\n}\\n```\\n\\nHuman: Common Core State Standard is CCSS.ELA-LITERACY.W.4.9 and topic is ocean.\"\n",
      "  ]\n",
      "}\n"
     ]
    },
    {
     "name": "stdout",
     "output_type": "stream",
     "text": [
      "\u001b[36;1m\u001b[1;3m[llm/end]\u001b[0m \u001b[1m[1:chain:LLMChain > 2:llm:ChatOpenAI] [6.34s] Exiting LLM run with output:\n",
      "\u001b[0m{\n",
      "  \"generations\": [\n",
      "    [\n",
      "      {\n",
      "        \"text\": \"```json\\n{\\n\\t\\\"step-1\\\": \\\"The Common Core State Standard CCSS.ELA-LITERACY.W.4.9 focuses on the ability of a student to draw evidence from literary or informational texts to support analysis, reflection, and research. This standard emphasizes the importance of using texts to support arguments, interpretations, and explanations.\\\",\\n\\t\\\"step-2\\\": \\\"The context paragraph must be at least 4-5 sentences long and should be written at a 4th-grade reading level. It should provide enough information about the ocean to allow the student to answer the free response question.\\\",\\n\\t\\\"step-3\\\": \\\"The assessment should test the student's ability to draw evidence from the context paragraph to support their response to the free response question.\\\",\\n\\t\\\"context\\\": \\\"The ocean covers more than 70% of the Earth's surface and is home to a diverse range of plant and animal life. It is divided into five main basins: the Atlantic, Pacific, Indian, Southern, and Arctic. The ocean plays a crucial role in regulating the Earth's climate and weather patterns, and is a major source of food and resources for humans. However, the ocean is also facing a number of threats, including pollution, overfishing, and climate change.\\\",\\n\\t\\\"frq\\\": \\\"Based on the information provided in the context paragraph, what are some of the threats facing the ocean and why is it important to protect it? Use evidence from the paragraph to support your answer.\\\"\\n}\\n```\",\n",
      "        \"generation_info\": {\n",
      "          \"finish_reason\": \"stop\"\n",
      "        },\n",
      "        \"message\": {\n",
      "          \"lc\": 1,\n",
      "          \"type\": \"constructor\",\n",
      "          \"id\": [\n",
      "            \"langchain\",\n",
      "            \"schema\",\n",
      "            \"messages\",\n",
      "            \"AIMessage\"\n",
      "          ],\n",
      "          \"kwargs\": {\n",
      "            \"content\": \"```json\\n{\\n\\t\\\"step-1\\\": \\\"The Common Core State Standard CCSS.ELA-LITERACY.W.4.9 focuses on the ability of a student to draw evidence from literary or informational texts to support analysis, reflection, and research. This standard emphasizes the importance of using texts to support arguments, interpretations, and explanations.\\\",\\n\\t\\\"step-2\\\": \\\"The context paragraph must be at least 4-5 sentences long and should be written at a 4th-grade reading level. It should provide enough information about the ocean to allow the student to answer the free response question.\\\",\\n\\t\\\"step-3\\\": \\\"The assessment should test the student's ability to draw evidence from the context paragraph to support their response to the free response question.\\\",\\n\\t\\\"context\\\": \\\"The ocean covers more than 70% of the Earth's surface and is home to a diverse range of plant and animal life. It is divided into five main basins: the Atlantic, Pacific, Indian, Southern, and Arctic. The ocean plays a crucial role in regulating the Earth's climate and weather patterns, and is a major source of food and resources for humans. However, the ocean is also facing a number of threats, including pollution, overfishing, and climate change.\\\",\\n\\t\\\"frq\\\": \\\"Based on the information provided in the context paragraph, what are some of the threats facing the ocean and why is it important to protect it? Use evidence from the paragraph to support your answer.\\\"\\n}\\n```\",\n",
      "            \"additional_kwargs\": {}\n",
      "          }\n",
      "        }\n",
      "      }\n",
      "    ]\n",
      "  ],\n",
      "  \"llm_output\": {\n",
      "    \"token_usage\": {\n",
      "      \"completion_tokens\": 302,\n",
      "      \"prompt_tokens\": 397,\n",
      "      \"total_tokens\": 699\n",
      "    },\n",
      "    \"model_name\": \"gpt-3.5-turbo\"\n",
      "  },\n",
      "  \"run\": null\n",
      "}\n",
      "\u001b[36;1m\u001b[1;3m[chain/end]\u001b[0m \u001b[1m[1:chain:LLMChain] [6.34s] Exiting Chain run with output:\n",
      "\u001b[0m{\n",
      "  \"reasoning_context_frq\": \"```json\\n{\\n\\t\\\"step-1\\\": \\\"The Common Core State Standard CCSS.ELA-LITERACY.W.4.9 focuses on the ability of a student to draw evidence from literary or informational texts to support analysis, reflection, and research. This standard emphasizes the importance of using texts to support arguments, interpretations, and explanations.\\\",\\n\\t\\\"step-2\\\": \\\"The context paragraph must be at least 4-5 sentences long and should be written at a 4th-grade reading level. It should provide enough information about the ocean to allow the student to answer the free response question.\\\",\\n\\t\\\"step-3\\\": \\\"The assessment should test the student's ability to draw evidence from the context paragraph to support their response to the free response question.\\\",\\n\\t\\\"context\\\": \\\"The ocean covers more than 70% of the Earth's surface and is home to a diverse range of plant and animal life. It is divided into five main basins: the Atlantic, Pacific, Indian, Southern, and Arctic. The ocean plays a crucial role in regulating the Earth's climate and weather patterns, and is a major source of food and resources for humans. However, the ocean is also facing a number of threats, including pollution, overfishing, and climate change.\\\",\\n\\t\\\"frq\\\": \\\"Based on the information provided in the context paragraph, what are some of the threats facing the ocean and why is it important to protect it? Use evidence from the paragraph to support your answer.\\\"\\n}\\n```\"\n",
      "}\n"
     ]
    }
   ],
   "source": [
    "chain1\n",
    "with no_ssl_verification():\n",
    "    response = chain1.predict(standard = \"CCSS.ELA-LITERACY.W.4.9\", topic='ocean', fmt_instr_frq = fmt_instr_frq)"
   ]
  },
  {
   "cell_type": "code",
   "execution_count": 77,
   "metadata": {},
   "outputs": [
    {
     "name": "stdout",
     "output_type": "stream",
     "text": [
      "```json\n",
      "{\n",
      "\t\"step-1\": \"The Common Core State Standard CCSS.ELA-LITERACY.W.4.9 focuses on the ability of a student to draw evidence from literary or informational texts to support analysis, reflection, and research. This standard emphasizes the importance of using texts to support arguments, interpretations, and explanations.\",\n",
      "\t\"step-2\": \"The context paragraph must be at least 4-5 sentences long and should be written at a 4th-grade reading level. It should provide enough information about the ocean to allow the student to answer the free response question.\",\n",
      "\t\"step-3\": \"The assessment should test the student's ability to draw evidence from the context paragraph to support their response to the free response question.\",\n",
      "\t\"context\": \"The ocean covers more than 70% of the Earth's surface and is home to a diverse range of plant and animal life. It is divided into five main basins: the Atlantic, Pacific, Indian, Southern, and Arctic. The ocean plays a crucial role in regulating the Earth's climate and weather patterns, and is a major source of food and resources for humans. However, the ocean is also facing a number of threats, including pollution, overfishing, and climate change.\",\n",
      "\t\"frq\": \"Based on the information provided in the context paragraph, what are some of the threats facing the ocean and why is it important to protect it? Use evidence from the paragraph to support your answer.\"\n",
      "}\n",
      "```\n"
     ]
    }
   ],
   "source": [
    "print(response)"
   ]
  },
  {
   "cell_type": "markdown",
   "metadata": {},
   "source": [
    "# Chain 2"
   ]
  },
  {
   "cell_type": "code",
   "execution_count": 78,
   "metadata": {},
   "outputs": [
    {
     "name": "stdout",
     "output_type": "stream",
     "text": [
      "The output should be a markdown code snippet formatted in the following schema, including the leading and trailing \"```json\" and \"```\":\n",
      "\n",
      "```json\n",
      "{\n",
      "\t\"rubric\": string  // Rubric for this assesment task as expected by the Common Core State Standard definition provided by user\n",
      "}\n",
      "```\n"
     ]
    }
   ],
   "source": [
    "# Define response schema (not really needed, but for consistency)\n",
    "rubric_json = ResponseSchema(name=\"rubric\",\n",
    "                             description=\"Rubric for this assesment task as expected by the Common Core State Standard definition provided by user\")\n",
    "\n",
    "response_schemas = [rubric_json]\n",
    "output_parser = StructuredOutputParser.from_response_schemas(response_schemas)\n",
    "fmt_instr_rubric = output_parser.get_format_instructions()\n",
    "print(fmt_instr_rubric)"
   ]
  },
  {
   "cell_type": "code",
   "execution_count": 79,
   "metadata": {},
   "outputs": [],
   "source": [
    "system_message = \"\"\"\n",
    "You are an helpfull assistant. User will provide you Common Core State Standard. \\\n",
    "You will also be provided with CONTEXT and FREE RESPONSE QUESTION.\n",
    "You will output a rubric for this assesment task as expected by the Common Core State Standard definition provided by user.\n",
    "{fmt_instr_rubric}\n",
    "\"\"\"\n",
    "# Follow these steps to create the task:\n",
    "\n",
    "# Step 1:{delimiter} Provide definition of Common Core State Standard provided by user\n",
    "\n",
    "# Step 3:{delimiter} Define what needs to be tested as part of assement defined in steps 1 and make sure to include it in the CONTEXT and FREE RESPONSE QUESTION.\n",
    "\n",
    "# Step 2:{delimiter} Define what is the expected lenght and complexity of the CONTEXT paragraph that is provided to student\n",
    "\n",
    "# Step 4:{delimiter} Generate CONTEXT paragraph. It must meet the conditions defined in second and third step.\n",
    "\n",
    "# Step 5:{delimiter} Generate FREE RESPONSE QUESTION related to CONEXT and meeting definition in step one.\n",
    "\n",
    "# Use the following format:\n",
    "# Step 1:{delimiter} <step 1 reasoning>\n",
    "# Step 2:{delimiter} <step 2 reasoning>\n",
    "# Step 3:{delimiter} <step 3 reasoning>\n",
    "# Step 4 - CONTEXT:{delimiter} <generated contex paragraph>\n",
    "# Step 5 - FREE RESPONCE QUESTION:{delimiter} <generated free respoce question>\n",
    "\n",
    "# Make sure to include four hashtags to delimit each step,\\\n",
    "# i.e. {delimiter}. \n",
    "# \"\"\""
   ]
  },
  {
   "cell_type": "code",
   "execution_count": 80,
   "metadata": {},
   "outputs": [],
   "source": [
    "# Make SystemMessagePromptTemplate\n",
    "prompt=PromptTemplate(\n",
    "    template=system_message,\n",
    "    input_variables=[\"fmt_instr_rubric\"]\n",
    ")\n",
    "\n",
    "system_message_prompt = SystemMessagePromptTemplate(prompt=prompt)\n"
   ]
  },
  {
   "cell_type": "code",
   "execution_count": 81,
   "metadata": {},
   "outputs": [],
   "source": [
    "CCSS_RUBRIC = \"\"\"Common Core State Standard is {standard}. \n",
    "CONTEXT and FREE RESPONSE QUESTION are included in step 4 and 5 {reasoning_context_frq}.\"\"\""
   ]
  },
  {
   "cell_type": "code",
   "execution_count": 82,
   "metadata": {},
   "outputs": [],
   "source": [
    "# Make HumanMessagePromptTemplate\n",
    "human_message_prompt = HumanMessagePromptTemplate.from_template(CCSS_RUBRIC)"
   ]
  },
  {
   "cell_type": "code",
   "execution_count": 83,
   "metadata": {},
   "outputs": [
    {
     "data": {
      "text/plain": [
       "ChatPromptTemplate(input_variables=['fmt_instr_rubric', 'reasoning_context_frq', 'standard'], output_parser=None, partial_variables={}, messages=[SystemMessagePromptTemplate(prompt=PromptTemplate(input_variables=['fmt_instr_rubric'], output_parser=None, partial_variables={}, template='\\nYou are an helpfull assistant. User will provide you Common Core State Standard. You will also be provided with CONTEXT and FREE RESPONSE QUESTION.\\nYou will output a rubric for this assesment task as expected by the Common Core State Standard definition provided by user.\\n{fmt_instr_rubric}\\n', template_format='f-string', validate_template=True), additional_kwargs={}), HumanMessagePromptTemplate(prompt=PromptTemplate(input_variables=['reasoning_context_frq', 'standard'], output_parser=None, partial_variables={}, template='Common Core State Standard is {standard}. \\nCONTEXT and FREE RESPONSE QUESTION are included in step 4 and 5 {reasoning_context_frq}.', template_format='f-string', validate_template=True), additional_kwargs={})])"
      ]
     },
     "execution_count": 83,
     "metadata": {},
     "output_type": "execute_result"
    }
   ],
   "source": [
    "# Create ChatPromptTemplate: Combine System + Human\n",
    "chat_prompt = ChatPromptTemplate.from_messages([system_message_prompt, human_message_prompt])\n",
    "chat_prompt"
   ]
  },
  {
   "cell_type": "code",
   "execution_count": 84,
   "metadata": {},
   "outputs": [
    {
     "name": "stderr",
     "output_type": "stream",
     "text": [
      "WARNING! deployment_id is not default parameter.\n",
      "                    deployment_id was transferred to model_kwargs.\n",
      "                    Please confirm that deployment_id is what you intended.\n"
     ]
    }
   ],
   "source": [
    "chain2 = LLMChain(\n",
    "    llm=ChatOpenAI(\n",
    "        temperature=0.0, \n",
    "        openai_api_base=OPENAI_API_BASE,\n",
    "        openai_api_key=OPENAI_API_KEY,\n",
    "        deployment_id = OPENAI_DEPLOYMENT_ID),\n",
    "    prompt = chat_prompt,\n",
    "    output_key=\"rubric\"\n",
    ")"
   ]
  },
  {
   "cell_type": "code",
   "execution_count": 85,
   "metadata": {},
   "outputs": [
    {
     "name": "stdout",
     "output_type": "stream",
     "text": [
      "\u001b[32;1m\u001b[1;3m[chain/start]\u001b[0m \u001b[1m[1:chain:SequentialChain] Entering Chain run with input:\n",
      "\u001b[0m{\n",
      "  \"standard\": \"CCSS.ELA-LITERACY.W.4.9\",\n",
      "  \"topic\": \"desert\",\n",
      "  \"fmt_instr_rubric\": \"The output should be a markdown code snippet formatted in the following schema, including the leading and trailing \\\"```json\\\" and \\\"```\\\":\\n\\n```json\\n{\\n\\t\\\"rubric\\\": string  // Rubric for this assesment task as expected by the Common Core State Standard definition provided by user\\n}\\n```\",\n",
      "  \"fmt_instr_frq\": \"The output should be a markdown code snippet formatted in the following schema, including the leading and trailing \\\"```json\\\" and \\\"```\\\":\\n\\n```json\\n{\\n\\t\\\"step-1\\\": string  // step 1 reasoning\\n\\t\\\"step-2\\\": string  // step 2 reasoning\\n\\t\\\"step-3\\\": string  // step 3 reasoning\\n\\t\\\"context\\\": string  // generated context paragraph\\n\\t\\\"frq\\\": string  // generated free respoce question\\n}\\n```\"\n",
      "}\n",
      "\u001b[32;1m\u001b[1;3m[chain/start]\u001b[0m \u001b[1m[1:chain:SequentialChain > 2:chain:LLMChain] Entering Chain run with input:\n",
      "\u001b[0m{\n",
      "  \"standard\": \"CCSS.ELA-LITERACY.W.4.9\",\n",
      "  \"topic\": \"desert\",\n",
      "  \"fmt_instr_rubric\": \"The output should be a markdown code snippet formatted in the following schema, including the leading and trailing \\\"```json\\\" and \\\"```\\\":\\n\\n```json\\n{\\n\\t\\\"rubric\\\": string  // Rubric for this assesment task as expected by the Common Core State Standard definition provided by user\\n}\\n```\",\n",
      "  \"fmt_instr_frq\": \"The output should be a markdown code snippet formatted in the following schema, including the leading and trailing \\\"```json\\\" and \\\"```\\\":\\n\\n```json\\n{\\n\\t\\\"step-1\\\": string  // step 1 reasoning\\n\\t\\\"step-2\\\": string  // step 2 reasoning\\n\\t\\\"step-3\\\": string  // step 3 reasoning\\n\\t\\\"context\\\": string  // generated context paragraph\\n\\t\\\"frq\\\": string  // generated free respoce question\\n}\\n```\"\n",
      "}\n",
      "\u001b[32;1m\u001b[1;3m[llm/start]\u001b[0m \u001b[1m[1:chain:SequentialChain > 2:chain:LLMChain > 3:llm:ChatOpenAI] Entering LLM run with input:\n",
      "\u001b[0m{\n",
      "  \"prompts\": [\n",
      "    \"System: \\nYou are an helpfull assistant. User will provide you Common Core State Standard and a topic. You will output an assesment task for a student to test student knowledge consisting of:\\n 1. COTEXT: context paragraph that will be used by the student to answer the below free responce question. The COTEXT is a paragraph and must be related to topic provided by user.  The COTEXT must be sufficient to answer the free responce question and meet complexity and length as expected by the Common Core State Standard definition provided by user.\\n 2. FREE RESPONCE QUESTION: The question must be related to the context article and test students ability as per the standard definition above.\\nFollow these steps to create the task:\\n\\nStep 1: Provide definition of Common Core State Standard provided by user\\n\\nStep 3: Define what needs to be tested as part of assement defined in steps 1 and make sure to include it in the CONTEXT and FREE RESPONSE QUESTION.\\n\\nStep 2: Define what is the expected lenght and complexity of the CONTEXT paragraph that is provided to student\\n\\nStep 4: Generate CONTEXT paragraph. It must meet the conditions defined in second and third step.\\n\\nStep 5: Generate FREE RESPONSE QUESTION related to CONEXT and meeting definition in step one.\\n\\nThe output should be a markdown code snippet formatted in the following schema, including the leading and trailing \\\"```json\\\" and \\\"```\\\":\\n\\n```json\\n{\\n\\t\\\"step-1\\\": string  // step 1 reasoning\\n\\t\\\"step-2\\\": string  // step 2 reasoning\\n\\t\\\"step-3\\\": string  // step 3 reasoning\\n\\t\\\"context\\\": string  // generated context paragraph\\n\\t\\\"frq\\\": string  // generated free respoce question\\n}\\n```\\n\\nHuman: Common Core State Standard is CCSS.ELA-LITERACY.W.4.9 and topic is desert.\"\n",
      "  ]\n",
      "}\n",
      "\u001b[36;1m\u001b[1;3m[llm/end]\u001b[0m \u001b[1m[1:chain:SequentialChain > 2:chain:LLMChain > 3:llm:ChatOpenAI] [8.76s] Exiting LLM run with output:\n",
      "\u001b[0m{\n",
      "  \"generations\": [\n",
      "    [\n",
      "      {\n",
      "        \"text\": \"```json\\n{\\n\\t\\\"step-1\\\": \\\"The Common Core State Standard CCSS.ELA-LITERACY.W.4.9 states that fourth-grade students must be able to write informative/explanatory texts that convey ideas and information clearly. They should be able to introduce a topic clearly and group related information in paragraphs, use linking words and phrases to connect ideas within categories of information, provide a concluding statement or section related to the information or explanation presented.\\\",\\n\\t\\\"step-2\\\": \\\"The context paragraph should be at least 5-6 sentences long and provide enough detail about the desert to allow students to answer the free response question effectively. It should also contain descriptive language, be well-structured, and use linking words to connect ideas.\\\",\\n\\t\\\"step-3\\\": \\\"The assessment should test the student's ability to organize and present information about the desert in a clear and concise manner. It should also test their ability to use linking words and phrases to connect ideas within categories of information.\\\",\\n\\t\\\"context\\\": \\\"The desert is a vast and unforgiving landscape, with temperatures that can soar to well over 100 degrees Fahrenheit during the day and plummet to near-freezing at night. Despite the harsh conditions, many plants and animals have adapted to life in the desert. For example, cacti have evolved thick, spiny skin to protect themselves from predators and to retain water during periods of drought. Similarly, many desert animals, such as the coyote and roadrunner, are nocturnal, allowing them to avoid the worst of the daytime heat. Despite the challenges, the desert can be a beautiful and awe-inspiring place, with stunning sunsets, star-filled skies, and unique geological formations.\\\",\\n\\t\\\"frq\\\": \\\"Using information from the context paragraph, write a paragraph describing how plants and animals have adapted to life in the desert. Make sure to use linking words and phrases to connect your ideas and group related information into paragraphs.\\\"\\n}\\n```\",\n",
      "        \"generation_info\": {\n",
      "          \"finish_reason\": \"stop\"\n",
      "        },\n",
      "        \"message\": {\n",
      "          \"lc\": 1,\n",
      "          \"type\": \"constructor\",\n",
      "          \"id\": [\n",
      "            \"langchain\",\n",
      "            \"schema\",\n",
      "            \"messages\",\n",
      "            \"AIMessage\"\n",
      "          ],\n",
      "          \"kwargs\": {\n",
      "            \"content\": \"```json\\n{\\n\\t\\\"step-1\\\": \\\"The Common Core State Standard CCSS.ELA-LITERACY.W.4.9 states that fourth-grade students must be able to write informative/explanatory texts that convey ideas and information clearly. They should be able to introduce a topic clearly and group related information in paragraphs, use linking words and phrases to connect ideas within categories of information, provide a concluding statement or section related to the information or explanation presented.\\\",\\n\\t\\\"step-2\\\": \\\"The context paragraph should be at least 5-6 sentences long and provide enough detail about the desert to allow students to answer the free response question effectively. It should also contain descriptive language, be well-structured, and use linking words to connect ideas.\\\",\\n\\t\\\"step-3\\\": \\\"The assessment should test the student's ability to organize and present information about the desert in a clear and concise manner. It should also test their ability to use linking words and phrases to connect ideas within categories of information.\\\",\\n\\t\\\"context\\\": \\\"The desert is a vast and unforgiving landscape, with temperatures that can soar to well over 100 degrees Fahrenheit during the day and plummet to near-freezing at night. Despite the harsh conditions, many plants and animals have adapted to life in the desert. For example, cacti have evolved thick, spiny skin to protect themselves from predators and to retain water during periods of drought. Similarly, many desert animals, such as the coyote and roadrunner, are nocturnal, allowing them to avoid the worst of the daytime heat. Despite the challenges, the desert can be a beautiful and awe-inspiring place, with stunning sunsets, star-filled skies, and unique geological formations.\\\",\\n\\t\\\"frq\\\": \\\"Using information from the context paragraph, write a paragraph describing how plants and animals have adapted to life in the desert. Make sure to use linking words and phrases to connect your ideas and group related information into paragraphs.\\\"\\n}\\n```\",\n",
      "            \"additional_kwargs\": {}\n",
      "          }\n",
      "        }\n",
      "      }\n",
      "    ]\n",
      "  ],\n",
      "  \"llm_output\": {\n",
      "    \"token_usage\": {\n",
      "      \"completion_tokens\": 395,\n",
      "      \"prompt_tokens\": 397,\n",
      "      \"total_tokens\": 792\n",
      "    },\n",
      "    \"model_name\": \"gpt-3.5-turbo\"\n",
      "  },\n",
      "  \"run\": null\n",
      "}\n",
      "\u001b[36;1m\u001b[1;3m[chain/end]\u001b[0m \u001b[1m[1:chain:SequentialChain > 2:chain:LLMChain] [8.76s] Exiting Chain run with output:\n",
      "\u001b[0m{\n",
      "  \"reasoning_context_frq\": \"```json\\n{\\n\\t\\\"step-1\\\": \\\"The Common Core State Standard CCSS.ELA-LITERACY.W.4.9 states that fourth-grade students must be able to write informative/explanatory texts that convey ideas and information clearly. They should be able to introduce a topic clearly and group related information in paragraphs, use linking words and phrases to connect ideas within categories of information, provide a concluding statement or section related to the information or explanation presented.\\\",\\n\\t\\\"step-2\\\": \\\"The context paragraph should be at least 5-6 sentences long and provide enough detail about the desert to allow students to answer the free response question effectively. It should also contain descriptive language, be well-structured, and use linking words to connect ideas.\\\",\\n\\t\\\"step-3\\\": \\\"The assessment should test the student's ability to organize and present information about the desert in a clear and concise manner. It should also test their ability to use linking words and phrases to connect ideas within categories of information.\\\",\\n\\t\\\"context\\\": \\\"The desert is a vast and unforgiving landscape, with temperatures that can soar to well over 100 degrees Fahrenheit during the day and plummet to near-freezing at night. Despite the harsh conditions, many plants and animals have adapted to life in the desert. For example, cacti have evolved thick, spiny skin to protect themselves from predators and to retain water during periods of drought. Similarly, many desert animals, such as the coyote and roadrunner, are nocturnal, allowing them to avoid the worst of the daytime heat. Despite the challenges, the desert can be a beautiful and awe-inspiring place, with stunning sunsets, star-filled skies, and unique geological formations.\\\",\\n\\t\\\"frq\\\": \\\"Using information from the context paragraph, write a paragraph describing how plants and animals have adapted to life in the desert. Make sure to use linking words and phrases to connect your ideas and group related information into paragraphs.\\\"\\n}\\n```\"\n",
      "}\n",
      "\u001b[32;1m\u001b[1;3m[chain/start]\u001b[0m \u001b[1m[1:chain:SequentialChain > 4:chain:LLMChain] Entering Chain run with input:\n",
      "\u001b[0m{\n",
      "  \"standard\": \"CCSS.ELA-LITERACY.W.4.9\",\n",
      "  \"topic\": \"desert\",\n",
      "  \"fmt_instr_rubric\": \"The output should be a markdown code snippet formatted in the following schema, including the leading and trailing \\\"```json\\\" and \\\"```\\\":\\n\\n```json\\n{\\n\\t\\\"rubric\\\": string  // Rubric for this assesment task as expected by the Common Core State Standard definition provided by user\\n}\\n```\",\n",
      "  \"fmt_instr_frq\": \"The output should be a markdown code snippet formatted in the following schema, including the leading and trailing \\\"```json\\\" and \\\"```\\\":\\n\\n```json\\n{\\n\\t\\\"step-1\\\": string  // step 1 reasoning\\n\\t\\\"step-2\\\": string  // step 2 reasoning\\n\\t\\\"step-3\\\": string  // step 3 reasoning\\n\\t\\\"context\\\": string  // generated context paragraph\\n\\t\\\"frq\\\": string  // generated free respoce question\\n}\\n```\",\n",
      "  \"reasoning_context_frq\": \"```json\\n{\\n\\t\\\"step-1\\\": \\\"The Common Core State Standard CCSS.ELA-LITERACY.W.4.9 states that fourth-grade students must be able to write informative/explanatory texts that convey ideas and information clearly. They should be able to introduce a topic clearly and group related information in paragraphs, use linking words and phrases to connect ideas within categories of information, provide a concluding statement or section related to the information or explanation presented.\\\",\\n\\t\\\"step-2\\\": \\\"The context paragraph should be at least 5-6 sentences long and provide enough detail about the desert to allow students to answer the free response question effectively. It should also contain descriptive language, be well-structured, and use linking words to connect ideas.\\\",\\n\\t\\\"step-3\\\": \\\"The assessment should test the student's ability to organize and present information about the desert in a clear and concise manner. It should also test their ability to use linking words and phrases to connect ideas within categories of information.\\\",\\n\\t\\\"context\\\": \\\"The desert is a vast and unforgiving landscape, with temperatures that can soar to well over 100 degrees Fahrenheit during the day and plummet to near-freezing at night. Despite the harsh conditions, many plants and animals have adapted to life in the desert. For example, cacti have evolved thick, spiny skin to protect themselves from predators and to retain water during periods of drought. Similarly, many desert animals, such as the coyote and roadrunner, are nocturnal, allowing them to avoid the worst of the daytime heat. Despite the challenges, the desert can be a beautiful and awe-inspiring place, with stunning sunsets, star-filled skies, and unique geological formations.\\\",\\n\\t\\\"frq\\\": \\\"Using information from the context paragraph, write a paragraph describing how plants and animals have adapted to life in the desert. Make sure to use linking words and phrases to connect your ideas and group related information into paragraphs.\\\"\\n}\\n```\"\n",
      "}\n",
      "\u001b[32;1m\u001b[1;3m[llm/start]\u001b[0m \u001b[1m[1:chain:SequentialChain > 4:chain:LLMChain > 5:llm:ChatOpenAI] Entering LLM run with input:\n",
      "\u001b[0m{\n",
      "  \"prompts\": [\n",
      "    \"System: \\nYou are an helpfull assistant. User will provide you Common Core State Standard. You will also be provided with CONTEXT and FREE RESPONSE QUESTION.\\nYou will output a rubric for this assesment task as expected by the Common Core State Standard definition provided by user.\\nThe output should be a markdown code snippet formatted in the following schema, including the leading and trailing \\\"```json\\\" and \\\"```\\\":\\n\\n```json\\n{\\n\\t\\\"rubric\\\": string  // Rubric for this assesment task as expected by the Common Core State Standard definition provided by user\\n}\\n```\\n\\nHuman: Common Core State Standard is CCSS.ELA-LITERACY.W.4.9. \\nCONTEXT and FREE RESPONSE QUESTION are included in step 4 and 5 ```json\\n{\\n\\t\\\"step-1\\\": \\\"The Common Core State Standard CCSS.ELA-LITERACY.W.4.9 states that fourth-grade students must be able to write informative/explanatory texts that convey ideas and information clearly. They should be able to introduce a topic clearly and group related information in paragraphs, use linking words and phrases to connect ideas within categories of information, provide a concluding statement or section related to the information or explanation presented.\\\",\\n\\t\\\"step-2\\\": \\\"The context paragraph should be at least 5-6 sentences long and provide enough detail about the desert to allow students to answer the free response question effectively. It should also contain descriptive language, be well-structured, and use linking words to connect ideas.\\\",\\n\\t\\\"step-3\\\": \\\"The assessment should test the student's ability to organize and present information about the desert in a clear and concise manner. It should also test their ability to use linking words and phrases to connect ideas within categories of information.\\\",\\n\\t\\\"context\\\": \\\"The desert is a vast and unforgiving landscape, with temperatures that can soar to well over 100 degrees Fahrenheit during the day and plummet to near-freezing at night. Despite the harsh conditions, many plants and animals have adapted to life in the desert. For example, cacti have evolved thick, spiny skin to protect themselves from predators and to retain water during periods of drought. Similarly, many desert animals, such as the coyote and roadrunner, are nocturnal, allowing them to avoid the worst of the daytime heat. Despite the challenges, the desert can be a beautiful and awe-inspiring place, with stunning sunsets, star-filled skies, and unique geological formations.\\\",\\n\\t\\\"frq\\\": \\\"Using information from the context paragraph, write a paragraph describing how plants and animals have adapted to life in the desert. Make sure to use linking words and phrases to connect your ideas and group related information into paragraphs.\\\"\\n}\\n```.\"\n",
      "  ]\n",
      "}\n",
      "\u001b[36;1m\u001b[1;3m[llm/end]\u001b[0m \u001b[1m[1:chain:SequentialChain > 4:chain:LLMChain > 5:llm:ChatOpenAI] [2.98s] Exiting LLM run with output:\n",
      "\u001b[0m{\n",
      "  \"generations\": [\n",
      "    [\n",
      "      {\n",
      "        \"text\": \"```json\\n{\\n\\t\\\"rubric\\\": \\\"The student's response will be assessed based on their ability to:\\\\n- Introduce the topic clearly\\\\n- Group related information into paragraphs\\\\n- Use linking words and phrases to connect ideas within categories of information\\\\n- Provide a concluding statement or section related to the information or explanation presented\\\\n- Include accurate and relevant information about how plants and animals have adapted to life in the desert\\\\n- Use linking words and phrases to connect ideas and group related information into paragraphs\\\\n- Use appropriate vocabulary and descriptive language to convey ideas clearly\\\\n- Demonstrate a clear and concise writing style\\\\n- Follow conventions of standard English grammar, usage, capitalization, punctuation, and spelling\\\"\\n}\\n```\",\n",
      "        \"generation_info\": {\n",
      "          \"finish_reason\": \"stop\"\n",
      "        },\n",
      "        \"message\": {\n",
      "          \"lc\": 1,\n",
      "          \"type\": \"constructor\",\n",
      "          \"id\": [\n",
      "            \"langchain\",\n",
      "            \"schema\",\n",
      "            \"messages\",\n",
      "            \"AIMessage\"\n",
      "          ],\n",
      "          \"kwargs\": {\n",
      "            \"content\": \"```json\\n{\\n\\t\\\"rubric\\\": \\\"The student's response will be assessed based on their ability to:\\\\n- Introduce the topic clearly\\\\n- Group related information into paragraphs\\\\n- Use linking words and phrases to connect ideas within categories of information\\\\n- Provide a concluding statement or section related to the information or explanation presented\\\\n- Include accurate and relevant information about how plants and animals have adapted to life in the desert\\\\n- Use linking words and phrases to connect ideas and group related information into paragraphs\\\\n- Use appropriate vocabulary and descriptive language to convey ideas clearly\\\\n- Demonstrate a clear and concise writing style\\\\n- Follow conventions of standard English grammar, usage, capitalization, punctuation, and spelling\\\"\\n}\\n```\",\n",
      "            \"additional_kwargs\": {}\n",
      "          }\n",
      "        }\n",
      "      }\n",
      "    ]\n",
      "  ],\n",
      "  \"llm_output\": {\n",
      "    \"token_usage\": {\n",
      "      \"completion_tokens\": 144,\n",
      "      \"prompt_tokens\": 558,\n",
      "      \"total_tokens\": 702\n",
      "    },\n",
      "    \"model_name\": \"gpt-3.5-turbo\"\n",
      "  },\n",
      "  \"run\": null\n",
      "}\n",
      "\u001b[36;1m\u001b[1;3m[chain/end]\u001b[0m \u001b[1m[1:chain:SequentialChain > 4:chain:LLMChain] [2.98s] Exiting Chain run with output:\n",
      "\u001b[0m{\n",
      "  \"rubric\": \"```json\\n{\\n\\t\\\"rubric\\\": \\\"The student's response will be assessed based on their ability to:\\\\n- Introduce the topic clearly\\\\n- Group related information into paragraphs\\\\n- Use linking words and phrases to connect ideas within categories of information\\\\n- Provide a concluding statement or section related to the information or explanation presented\\\\n- Include accurate and relevant information about how plants and animals have adapted to life in the desert\\\\n- Use linking words and phrases to connect ideas and group related information into paragraphs\\\\n- Use appropriate vocabulary and descriptive language to convey ideas clearly\\\\n- Demonstrate a clear and concise writing style\\\\n- Follow conventions of standard English grammar, usage, capitalization, punctuation, and spelling\\\"\\n}\\n```\"\n",
      "}\n",
      "\u001b[36;1m\u001b[1;3m[chain/end]\u001b[0m \u001b[1m[1:chain:SequentialChain] [11.74s] Exiting Chain run with output:\n",
      "\u001b[0m{\n",
      "  \"rubric\": \"```json\\n{\\n\\t\\\"rubric\\\": \\\"The student's response will be assessed based on their ability to:\\\\n- Introduce the topic clearly\\\\n- Group related information into paragraphs\\\\n- Use linking words and phrases to connect ideas within categories of information\\\\n- Provide a concluding statement or section related to the information or explanation presented\\\\n- Include accurate and relevant information about how plants and animals have adapted to life in the desert\\\\n- Use linking words and phrases to connect ideas and group related information into paragraphs\\\\n- Use appropriate vocabulary and descriptive language to convey ideas clearly\\\\n- Demonstrate a clear and concise writing style\\\\n- Follow conventions of standard English grammar, usage, capitalization, punctuation, and spelling\\\"\\n}\\n```\",\n",
      "  \"reasoning_context_frq\": \"```json\\n{\\n\\t\\\"step-1\\\": \\\"The Common Core State Standard CCSS.ELA-LITERACY.W.4.9 states that fourth-grade students must be able to write informative/explanatory texts that convey ideas and information clearly. They should be able to introduce a topic clearly and group related information in paragraphs, use linking words and phrases to connect ideas within categories of information, provide a concluding statement or section related to the information or explanation presented.\\\",\\n\\t\\\"step-2\\\": \\\"The context paragraph should be at least 5-6 sentences long and provide enough detail about the desert to allow students to answer the free response question effectively. It should also contain descriptive language, be well-structured, and use linking words to connect ideas.\\\",\\n\\t\\\"step-3\\\": \\\"The assessment should test the student's ability to organize and present information about the desert in a clear and concise manner. It should also test their ability to use linking words and phrases to connect ideas within categories of information.\\\",\\n\\t\\\"context\\\": \\\"The desert is a vast and unforgiving landscape, with temperatures that can soar to well over 100 degrees Fahrenheit during the day and plummet to near-freezing at night. Despite the harsh conditions, many plants and animals have adapted to life in the desert. For example, cacti have evolved thick, spiny skin to protect themselves from predators and to retain water during periods of drought. Similarly, many desert animals, such as the coyote and roadrunner, are nocturnal, allowing them to avoid the worst of the daytime heat. Despite the challenges, the desert can be a beautiful and awe-inspiring place, with stunning sunsets, star-filled skies, and unique geological formations.\\\",\\n\\t\\\"frq\\\": \\\"Using information from the context paragraph, write a paragraph describing how plants and animals have adapted to life in the desert. Make sure to use linking words and phrases to connect your ideas and group related information into paragraphs.\\\"\\n}\\n```\"\n",
      "}\n"
     ]
    }
   ],
   "source": [
    "overall_chain = SequentialChain(\n",
    "    chains=[chain1, chain2],\n",
    "    input_variables=[\"standard\",\"topic\",\"fmt_instr_rubric\",\"fmt_instr_frq\"],\n",
    "    output_variables=[\"rubric\",\"reasoning_context_frq\"],\n",
    "    verbose=True\n",
    ")\n",
    "\n",
    "with no_ssl_verification():\n",
    "    solution = overall_chain({\"standard\":\"CCSS.ELA-LITERACY.W.4.9\", \"topic\":\"desert\", \"fmt_instr_rubric\":fmt_instr_rubric, \"fmt_instr_frq\":fmt_instr_frq})"
   ]
  },
  {
   "cell_type": "code",
   "execution_count": 86,
   "metadata": {},
   "outputs": [
    {
     "name": "stdout",
     "output_type": "stream",
     "text": [
      "{'standard': 'CCSS.ELA-LITERACY.W.4.9', 'topic': 'desert', 'fmt_instr_rubric': 'The output should be a markdown code snippet formatted in the following schema, including the leading and trailing \"```json\" and \"```\":\\n\\n```json\\n{\\n\\t\"rubric\": string  // Rubric for this assesment task as expected by the Common Core State Standard definition provided by user\\n}\\n```', 'fmt_instr_frq': 'The output should be a markdown code snippet formatted in the following schema, including the leading and trailing \"```json\" and \"```\":\\n\\n```json\\n{\\n\\t\"step-1\": string  // step 1 reasoning\\n\\t\"step-2\": string  // step 2 reasoning\\n\\t\"step-3\": string  // step 3 reasoning\\n\\t\"context\": string  // generated context paragraph\\n\\t\"frq\": string  // generated free respoce question\\n}\\n```', 'rubric': '```json\\n{\\n\\t\"rubric\": \"The student\\'s response will be assessed based on their ability to:\\\\n- Introduce the topic clearly\\\\n- Group related information into paragraphs\\\\n- Use linking words and phrases to connect ideas within categories of information\\\\n- Provide a concluding statement or section related to the information or explanation presented\\\\n- Include accurate and relevant information about how plants and animals have adapted to life in the desert\\\\n- Use linking words and phrases to connect ideas and group related information into paragraphs\\\\n- Use appropriate vocabulary and descriptive language to convey ideas clearly\\\\n- Demonstrate a clear and concise writing style\\\\n- Follow conventions of standard English grammar, usage, capitalization, punctuation, and spelling\"\\n}\\n```', 'reasoning_context_frq': '```json\\n{\\n\\t\"step-1\": \"The Common Core State Standard CCSS.ELA-LITERACY.W.4.9 states that fourth-grade students must be able to write informative/explanatory texts that convey ideas and information clearly. They should be able to introduce a topic clearly and group related information in paragraphs, use linking words and phrases to connect ideas within categories of information, provide a concluding statement or section related to the information or explanation presented.\",\\n\\t\"step-2\": \"The context paragraph should be at least 5-6 sentences long and provide enough detail about the desert to allow students to answer the free response question effectively. It should also contain descriptive language, be well-structured, and use linking words to connect ideas.\",\\n\\t\"step-3\": \"The assessment should test the student\\'s ability to organize and present information about the desert in a clear and concise manner. It should also test their ability to use linking words and phrases to connect ideas within categories of information.\",\\n\\t\"context\": \"The desert is a vast and unforgiving landscape, with temperatures that can soar to well over 100 degrees Fahrenheit during the day and plummet to near-freezing at night. Despite the harsh conditions, many plants and animals have adapted to life in the desert. For example, cacti have evolved thick, spiny skin to protect themselves from predators and to retain water during periods of drought. Similarly, many desert animals, such as the coyote and roadrunner, are nocturnal, allowing them to avoid the worst of the daytime heat. Despite the challenges, the desert can be a beautiful and awe-inspiring place, with stunning sunsets, star-filled skies, and unique geological formations.\",\\n\\t\"frq\": \"Using information from the context paragraph, write a paragraph describing how plants and animals have adapted to life in the desert. Make sure to use linking words and phrases to connect your ideas and group related information into paragraphs.\"\\n}\\n```'}\n"
     ]
    }
   ],
   "source": [
    "print(solution)"
   ]
  },
  {
   "cell_type": "markdown",
   "metadata": {},
   "source": [
    "FIX this above !!!!!!!!!!!!!!!!!!!"
   ]
  },
  {
   "cell_type": "code",
   "execution_count": 87,
   "metadata": {},
   "outputs": [],
   "source": [
    "def get_output(answer,item):\n",
    "    return output_parser.parse(answer[item])"
   ]
  },
  {
   "cell_type": "code",
   "execution_count": 88,
   "metadata": {},
   "outputs": [
    {
     "data": {
      "text/plain": [
       "{'rubric': \"The student's response will be assessed based on their ability to:\\n- Introduce the topic clearly\\n- Group related information into paragraphs\\n- Use linking words and phrases to connect ideas within categories of information\\n- Provide a concluding statement or section related to the information or explanation presented\\n- Include accurate and relevant information about how plants and animals have adapted to life in the desert\\n- Use linking words and phrases to connect ideas and group related information into paragraphs\\n- Use appropriate vocabulary and descriptive language to convey ideas clearly\\n- Demonstrate a clear and concise writing style\\n- Follow conventions of standard English grammar, usage, capitalization, punctuation, and spelling\"}"
      ]
     },
     "execution_count": 88,
     "metadata": {},
     "output_type": "execute_result"
    }
   ],
   "source": [
    "get_output(solution,\"rubric\")"
   ]
  },
  {
   "cell_type": "code",
   "execution_count": 89,
   "metadata": {},
   "outputs": [
    {
     "ename": "KeyError",
     "evalue": "'frq'",
     "output_type": "error",
     "traceback": [
      "\u001b[1;31m---------------------------------------------------------------------------\u001b[0m",
      "\u001b[1;31mKeyError\u001b[0m                                  Traceback (most recent call last)",
      "Cell \u001b[1;32mIn[89], line 1\u001b[0m\n\u001b[1;32m----> 1\u001b[0m get_output(solution,\u001b[39m\"\u001b[39m\u001b[39mfrq\u001b[39m\u001b[39m\"\u001b[39m)\n",
      "Cell \u001b[1;32mIn[87], line 2\u001b[0m, in \u001b[0;36mget_output\u001b[1;34m(answer, item)\u001b[0m\n\u001b[0;32m      1\u001b[0m \u001b[39mdef\u001b[39;00m \u001b[39mget_output\u001b[39m(answer,item):\n\u001b[1;32m----> 2\u001b[0m     \u001b[39mreturn\u001b[39;00m output_parser\u001b[39m.\u001b[39mparse(answer[item])\n",
      "\u001b[1;31mKeyError\u001b[0m: 'frq'"
     ]
    }
   ],
   "source": [
    "get_output(solution,\"frq\")"
   ]
  }
 ],
 "metadata": {
  "kernelspec": {
   "display_name": "Python 3",
   "language": "python",
   "name": "python3"
  },
  "language_info": {
   "codemirror_mode": {
    "name": "ipython",
    "version": 3
   },
   "file_extension": ".py",
   "mimetype": "text/x-python",
   "name": "python",
   "nbconvert_exporter": "python",
   "pygments_lexer": "ipython3",
   "version": "3.11.4"
  },
  "orig_nbformat": 4
 },
 "nbformat": 4,
 "nbformat_minor": 2
}
