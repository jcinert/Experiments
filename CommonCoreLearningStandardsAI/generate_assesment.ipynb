{
 "cells": [
  {
   "cell_type": "markdown",
   "metadata": {},
   "source": [
    "# Generate assesment"
   ]
  },
  {
   "cell_type": "markdown",
   "metadata": {},
   "source": [
    "# Init"
   ]
  },
  {
   "cell_type": "code",
   "execution_count": 39,
   "metadata": {},
   "outputs": [],
   "source": [
    "# Imports \n",
    "import os\n",
    "from dotenv import load_dotenv, find_dotenv\n",
    "\n",
    "# to disable SSL verification that causes problem from my laptop\n",
    "from ssl_workaround import no_ssl_verification\n",
    "\n",
    "# LangChain imports\n",
    "from langchain.chat_models import ChatOpenAI\n",
    "from langchain.prompts import ChatPromptTemplate\n",
    "from langchain.chains import (LLMChain, SequentialChain)\n",
    "\n",
    "# from langchain import LLMChain\n",
    "# from langchain import PromptTemplate\n",
    "from langchain.prompts import PromptTemplate\n",
    "from langchain.prompts.chat import (\n",
    "    ChatPromptTemplate,\n",
    "    SystemMessagePromptTemplate,\n",
    "    AIMessagePromptTemplate,\n",
    "    HumanMessagePromptTemplate,\n",
    ")\n",
    "from langchain.schema import (\n",
    "    AIMessage,\n",
    "    HumanMessage,\n",
    "    SystemMessage\n",
    ")\n",
    "# formatters\n",
    "from langchain.output_parsers import ResponseSchema\n",
    "from langchain.output_parsers import StructuredOutputParser\n",
    "\n",
    "# DEBUG\n",
    "import langchain\n",
    "langchain.debug = True"
   ]
  },
  {
   "cell_type": "code",
   "execution_count": 40,
   "metadata": {},
   "outputs": [],
   "source": [
    "# load secrets from env var\n",
    "_ = load_dotenv(find_dotenv(),verbose=True) # read local .env file\n",
    "\n",
    "# for Azure OpenAI\n",
    "OPENAI_API_KEY = os.getenv(\"OPENAI_API_KEY\")\n",
    "OPENAI_API_BASE = os.getenv(\"OPENAI_API_BASE\")\n",
    "OPENAI_API_TYPE= os.getenv(\"OPENAI_API_TYPE\")\n",
    "OPENAI_API_VERSION = os.getenv(\"OPENAI_API_VERSION\")\n",
    "OPENAI_DEPLOYMENT_ID = os.getenv(\"OPENAI_DEPLOYMENT_ID\")"
   ]
  },
  {
   "cell_type": "markdown",
   "metadata": {},
   "source": [
    "# Chain 1"
   ]
  },
  {
   "cell_type": "code",
   "execution_count": 41,
   "metadata": {},
   "outputs": [
    {
     "name": "stdout",
     "output_type": "stream",
     "text": [
      "The output should be a markdown code snippet formatted in the following schema, including the leading and trailing \"```json\" and \"```\":\n",
      "\n",
      "```json\n",
      "{\n",
      "\t\"step-1\": string  // step 1 reasoning\n",
      "\t\"step-2\": string  // step 2 reasoning\n",
      "\t\"step-3\": string  // step 3 reasoning\n",
      "\t\"context\": string  // generated context paragraph\n",
      "\t\"frq\": string  // generated free respoce question\n",
      "}\n",
      "```\n"
     ]
    }
   ],
   "source": [
    "# Define response schema (not really needed, but for consistency)\n",
    "step1_json = ResponseSchema(name=\"step-1\",\n",
    "                             description=\"step 1 reasoning\")\n",
    "step2_json = ResponseSchema(name=\"step-2\",\n",
    "                             description=\"step 2 reasoning\")\n",
    "step3_json = ResponseSchema(name=\"step-3\",\n",
    "                             description=\"step 3 reasoning\")\n",
    "context_json = ResponseSchema(name=\"context\",\n",
    "                             description=\"generated context paragraph\")\n",
    "frq_json = ResponseSchema(name=\"frq\",\n",
    "                             description=\"generated free respoce question\")\n",
    "\n",
    "\n",
    "response_schemas = [step1_json,step2_json,step3_json,context_json,frq_json]\n",
    "output_parser_frq = StructuredOutputParser.from_response_schemas(response_schemas)\n",
    "fmt_instr_frq = output_parser_frq.get_format_instructions()\n",
    "print(fmt_instr_frq)"
   ]
  },
  {
   "cell_type": "code",
   "execution_count": 42,
   "metadata": {},
   "outputs": [],
   "source": [
    "# to avoid Lanchain considering JSON definition as variable\n",
    "fmt_instr_frq_var = \"{fmt_instr_frq}\"\n",
    "EXAMPLE_FRQ_01_var = \"{EXAMPLE_FRQ_01}\"\n",
    "EXAMPLE_FRQ_02_var = \"{EXAMPLE_FRQ_02}\""
   ]
  },
  {
   "cell_type": "code",
   "execution_count": 43,
   "metadata": {},
   "outputs": [],
   "source": [
    "# Few-shot examples - FRQ & Context\n",
    "EXAMPLE_FRQ_01 = \"\"\"User input: Common Core State Standard is CCSS.ELA-LITERACY.W.6.3 and topic is \"morning routine\".\n",
    "Assistant answer: ```json{\n",
    "\t\"step-1\": \"The standard CCSS.ELA-LITERACY.W.6.3 requires students to write narratives to develop real or imagined experiences or events using effective technique, relevant descriptive details, and well-structured event sequences.\",\n",
    "\t\"step-2\": \"The assessment must test the student's ability to write a narrative that includes effective techniques, relevant descriptive details, and a well-structured event sequence.\",\n",
    "\t\"step-3\": \"The CONTEXT paragraph should be sufficiently detailed but not excessively long, providing enough complexity for a 6th-grade student to generate a narrative based on it.\",\n",
    "\t\"context\": \"Maria had a morning routine that she followed every single day. She would start her day by waking up to the sound of her melodious alarm at 6:30 a.m. After quickly turning it off, she'd head to the kitchen where her mom would already have a steaming cup of hot chocolate waiting for her. Next, she would grab her toothbrush and toothpaste and head to the bathroom to brush her teeth. The bathroom mirror would be slightly fogged up from her older brother's hot shower, making her trace smiley faces on it before wiping it clean. Once she was ready, she'd head to her room to put on her favorite outfit: a blue shirt with white stars, and jeans that had a small rip on the knee which, according to her, gave it character. After getting dressed, she would sit at her desk and skim through her planner to prepare for the day ahead, occasionally jotting down notes in the margins.\",\n",
    "\t\"frq\": \"Write a narrative about Maria's morning routine from her perspective. Your narrative should have a beginning, middle, and end. Make sure to use effective narrative techniques, relevant descriptive details, and structure the events in a sequential manner.\"\n",
    "}```\"\"\"\n",
    "\n",
    "EXAMPLE_FRQ_02 = \"\"\"User input: Common Core State Standard is CCSS.ELA-LITERACY.W.4.9 and topic is ocean.\n",
    "Assistant answer: ```json{\n",
    "\t\"step-1\": \"The Common Core State Standard CCSS.ELA-LITERACY.W.4.9 states that 4th-grade students should 'Draw evidence from literary or informational texts to support analysis, reflection, and research.'\",\n",
    "\t\"step-2\": \"The assessment will test the student's ability to extract information from a context paragraph related to the ocean. The student should then use this information to support their analysis or reflection in response to a specific free-response question.\",\n",
    "\t\"step-3\": \"For a 4th-grade level, the context paragraph should be between 100-150 words. It should contain a mix of factual and interpretive details, providing a well-rounded basis for answering the free-response question.\",\n",
    "\t\"context\": \"The ocean covers more than 70% of Earth's surface and serves as home to a myriad of creatures, from microscopic plankton to massive whales. It also plays a crucial role in regulating the planet's climate by absorbing carbon dioxide. Coral reefs, often referred to as the 'rainforests of the sea,' host a variety of marine life and contribute to biodiversity. However, human activities like pollution, overfishing, and climate change are putting ocean ecosystems at risk. Notable efforts are being made to conserve this vital resource, including the creation of marine protected areas and public awareness campaigns.\",\n",
    "\t\"frq\": \"Based on the context provided, what are some ways the ocean is important to Earth and its inhabitants? Also, what challenges are oceans facing according to the text? Provide evidence from the text to support your answer.\"\n",
    "}```\"\"\""
   ]
  },
  {
   "cell_type": "code",
   "execution_count": 44,
   "metadata": {},
   "outputs": [],
   "source": [
    "system_message = f\"\"\"\n",
    "You are an helpfull assistant. User will provide you Common Core State Standard and a topic. \\\n",
    "You will output an assesment task for a student to test student knowledge consisting of:\n",
    " 1. COTEXT: context paragraph that will be used by the student to answer the below free responce question.\\\n",
    " The COTEXT is a paragraph and must be related to topic provided by user. \\\n",
    " The COTEXT must be sufficient to answer the free responce question and meet complexity and length as expected by the Common Core State Standard definition provided by user.\n",
    " 2. FREE RESPONCE QUESTION: The question must be related to the context article and test students ability as per the standard definition above.\\\n",
    "\n",
    "Follow these steps to create the task:\n",
    "\n",
    "Step 1: Provide definition of Common Core State Standard provided by user\n",
    "\n",
    "Step 3: Define what needs to be tested as part of assement defined in steps 1 and make sure to include it in the CONTEXT and FREE RESPONSE QUESTION.\n",
    "\n",
    "Step 2: Define what is the expected lenght and complexity of the CONTEXT paragraph that is provided to student\n",
    "\n",
    "Step 4: Generate CONTEXT paragraph. It must meet the conditions defined in second and third step.\n",
    "\n",
    "Step 5: Generate FREE RESPONSE QUESTION related to CONEXT and meeting definition in step one.\n",
    "\n",
    "{fmt_instr_frq_var}\n",
    "\n",
    "Here are EXAMPLES of good answer:\n",
    "#### EXAMPLE 1\n",
    "{EXAMPLE_FRQ_01_var}\n",
    "#### EXAMPLE 2\n",
    "{EXAMPLE_FRQ_02_var}\n",
    "\"\"\""
   ]
  },
  {
   "cell_type": "code",
   "execution_count": 45,
   "metadata": {},
   "outputs": [],
   "source": [
    "# Make SystemMessagePromptTemplate\n",
    "prompt=PromptTemplate(\n",
    "    template=system_message,\n",
    "    input_variables=[\"fmt_instr_frq\",\"EXAMPLE_FRQ_01\",\"EXAMPLE_FRQ_02\"]\n",
    ")\n",
    "\n",
    "system_message_prompt = SystemMessagePromptTemplate(prompt=prompt)"
   ]
  },
  {
   "cell_type": "code",
   "execution_count": 46,
   "metadata": {},
   "outputs": [
    {
     "data": {
      "text/plain": [
       "SystemMessagePromptTemplate(prompt=PromptTemplate(input_variables=['fmt_instr_frq', 'EXAMPLE_FRQ_01', 'EXAMPLE_FRQ_02'], output_parser=None, partial_variables={}, template='\\nYou are an helpfull assistant. User will provide you Common Core State Standard and a topic. You will output an assesment task for a student to test student knowledge consisting of:\\n 1. COTEXT: context paragraph that will be used by the student to answer the below free responce question. The COTEXT is a paragraph and must be related to topic provided by user.  The COTEXT must be sufficient to answer the free responce question and meet complexity and length as expected by the Common Core State Standard definition provided by user.\\n 2. FREE RESPONCE QUESTION: The question must be related to the context article and test students ability as per the standard definition above.\\nFollow these steps to create the task:\\n\\nStep 1: Provide definition of Common Core State Standard provided by user\\n\\nStep 3: Define what needs to be tested as part of assement defined in steps 1 and make sure to include it in the CONTEXT and FREE RESPONSE QUESTION.\\n\\nStep 2: Define what is the expected lenght and complexity of the CONTEXT paragraph that is provided to student\\n\\nStep 4: Generate CONTEXT paragraph. It must meet the conditions defined in second and third step.\\n\\nStep 5: Generate FREE RESPONSE QUESTION related to CONEXT and meeting definition in step one.\\n\\n{fmt_instr_frq}\\n\\nHere are EXAMPLES of good answer:\\n#### EXAMPLE 1\\n{EXAMPLE_FRQ_01}\\n#### EXAMPLE 2\\n{EXAMPLE_FRQ_02}\\n', template_format='f-string', validate_template=True), additional_kwargs={})"
      ]
     },
     "execution_count": 46,
     "metadata": {},
     "output_type": "execute_result"
    }
   ],
   "source": [
    "system_message_prompt"
   ]
  },
  {
   "cell_type": "code",
   "execution_count": 47,
   "metadata": {},
   "outputs": [],
   "source": [
    "CCSS_TOPIC = \"\"\"Common Core State Standard is {standard} and topic is {topic}.\"\"\""
   ]
  },
  {
   "cell_type": "code",
   "execution_count": 48,
   "metadata": {},
   "outputs": [],
   "source": [
    "# Make HumanMessagePromptTemplate\n",
    "human_message_prompt = HumanMessagePromptTemplate.from_template(CCSS_TOPIC)"
   ]
  },
  {
   "cell_type": "code",
   "execution_count": 49,
   "metadata": {},
   "outputs": [
    {
     "data": {
      "text/plain": [
       "ChatPromptTemplate(input_variables=['EXAMPLE_FRQ_01', 'EXAMPLE_FRQ_02', 'fmt_instr_frq', 'standard', 'topic'], output_parser=None, partial_variables={}, messages=[SystemMessagePromptTemplate(prompt=PromptTemplate(input_variables=['fmt_instr_frq', 'EXAMPLE_FRQ_01', 'EXAMPLE_FRQ_02'], output_parser=None, partial_variables={}, template='\\nYou are an helpfull assistant. User will provide you Common Core State Standard and a topic. You will output an assesment task for a student to test student knowledge consisting of:\\n 1. COTEXT: context paragraph that will be used by the student to answer the below free responce question. The COTEXT is a paragraph and must be related to topic provided by user.  The COTEXT must be sufficient to answer the free responce question and meet complexity and length as expected by the Common Core State Standard definition provided by user.\\n 2. FREE RESPONCE QUESTION: The question must be related to the context article and test students ability as per the standard definition above.\\nFollow these steps to create the task:\\n\\nStep 1: Provide definition of Common Core State Standard provided by user\\n\\nStep 3: Define what needs to be tested as part of assement defined in steps 1 and make sure to include it in the CONTEXT and FREE RESPONSE QUESTION.\\n\\nStep 2: Define what is the expected lenght and complexity of the CONTEXT paragraph that is provided to student\\n\\nStep 4: Generate CONTEXT paragraph. It must meet the conditions defined in second and third step.\\n\\nStep 5: Generate FREE RESPONSE QUESTION related to CONEXT and meeting definition in step one.\\n\\n{fmt_instr_frq}\\n\\nHere are EXAMPLES of good answer:\\n#### EXAMPLE 1\\n{EXAMPLE_FRQ_01}\\n#### EXAMPLE 2\\n{EXAMPLE_FRQ_02}\\n', template_format='f-string', validate_template=True), additional_kwargs={}), HumanMessagePromptTemplate(prompt=PromptTemplate(input_variables=['standard', 'topic'], output_parser=None, partial_variables={}, template='Common Core State Standard is {standard} and topic is {topic}.', template_format='f-string', validate_template=True), additional_kwargs={})])"
      ]
     },
     "execution_count": 49,
     "metadata": {},
     "output_type": "execute_result"
    }
   ],
   "source": [
    "# Create ChatPromptTemplate: Combine System + Human\n",
    "chat_prompt = ChatPromptTemplate.from_messages([system_message_prompt, human_message_prompt])\n",
    "chat_prompt"
   ]
  },
  {
   "cell_type": "code",
   "execution_count": 50,
   "metadata": {},
   "outputs": [
    {
     "name": "stderr",
     "output_type": "stream",
     "text": [
      "WARNING! deployment_id is not default parameter.\n",
      "                    deployment_id was transferred to model_kwargs.\n",
      "                    Please confirm that deployment_id is what you intended.\n"
     ]
    }
   ],
   "source": [
    "chain1 = LLMChain(\n",
    "    llm=ChatOpenAI(\n",
    "        temperature=0.7, \n",
    "        openai_api_base=OPENAI_API_BASE,\n",
    "        openai_api_key=OPENAI_API_KEY,\n",
    "        deployment_id = OPENAI_DEPLOYMENT_ID),\n",
    "    prompt = chat_prompt,\n",
    "    output_key=\"reasoning_context_frq\"\n",
    ")"
   ]
  },
  {
   "cell_type": "code",
   "execution_count": 51,
   "metadata": {},
   "outputs": [],
   "source": [
    "# # DEBUG\n",
    "# chain1\n",
    "# with no_ssl_verification():\n",
    "#     response = chain1.predict(standard = \"CCSS.ELA-LITERACY.W.4.9\", topic='ocean', fmt_instr_frq = fmt_instr_frq, EXAMPLE_FRQ_01=EXAMPLE_FRQ_01, EXAMPLE_FRQ_02=EXAMPLE_FRQ_02)"
   ]
  },
  {
   "cell_type": "markdown",
   "metadata": {},
   "source": [
    "# Chain 2"
   ]
  },
  {
   "cell_type": "code",
   "execution_count": 52,
   "metadata": {},
   "outputs": [
    {
     "name": "stdout",
     "output_type": "stream",
     "text": [
      "The output should be a markdown code snippet formatted in the following schema, including the leading and trailing \"```json\" and \"```\":\n",
      "\n",
      "```json\n",
      "{\n",
      "\t\"rubric\": string  // Rubric for this assesment task as expected by the Common Core State Standard definition provided by user\n",
      "}\n",
      "```\n"
     ]
    }
   ],
   "source": [
    "# Define response schema (not really needed, but for consistency)\n",
    "rubric_json = ResponseSchema(name=\"rubric\",\n",
    "                             description=\"Rubric for this assesment task as expected by the Common Core State Standard definition provided by user\")\n",
    "\n",
    "response_schemas = [rubric_json]\n",
    "output_parser_rubric = StructuredOutputParser.from_response_schemas(response_schemas)\n",
    "fmt_instr_rubric = output_parser_rubric.get_format_instructions()\n",
    "print(fmt_instr_rubric)"
   ]
  },
  {
   "cell_type": "code",
   "execution_count": 53,
   "metadata": {},
   "outputs": [],
   "source": [
    "# Few-shot examples - RURBIC\n",
    "EXAMPLE_RUBRIC_01 = \"\"\"User input: Common Core State Standard is CCSS.ELA-LITERACY.W.4.9. Take into consideration the definition of this standard provided below in step-1.\n",
    "CONTEXT and FREE RESPONSE QUESTION are also included in following JSON: \n",
    "{\n",
    "\t\"step-1\": \"The Common Core State Standard CCSS.ELA-LITERACY.W.4.9 states that 4th-grade students should 'Draw evidence from literary or informational texts to support analysis, reflection, and research.'\",\n",
    "\t\"step-2\": \"The assessment will test the student's ability to extract information from a context paragraph related to the ocean. The student should then use this information to support their analysis or reflection in response to a specific free-response question.\",\n",
    "\t\"step-3\": \"For a 4th-grade level, the context paragraph should be between 100-150 words. It should contain a mix of factual and interpretive details, providing a well-rounded basis for answering the free-response question.\",\n",
    "\t\"context\": \"The ocean covers more than 70% of Earth's surface and serves as home to a myriad of creatures, from microscopic plankton to massive whales. It also plays a crucial role in regulating the planet's climate by absorbing carbon dioxide. Coral reefs, often referred to as the 'rainforests of the sea,' host a variety of marine life and contribute to biodiversity. However, human activities like pollution, overfishing, and climate change are putting ocean ecosystems at risk. Notable efforts are being made to conserve this vital resource, including the creation of marine protected areas and public awareness campaigns.\",\n",
    "\t\"frq\": \"Based on the context provided, what are some ways the ocean is important to Earth and its inhabitants? Also, what challenges are oceans facing according to the text? Provide evidence from the text to support your answer.\"\n",
    "}\n",
    "Assistant answer: ```json{\n",
    "\t\"rubric\": \"### Assessment Rubric for Free Response Question\\n\\n#### Criteria for Evaluation\\n\\n1. **Drawing Evidence (5 points)**: Student must draw clear evidence from the context paragraph to support their answer.\\n    - 5 points: Provides direct quotes or paraphrases that are highly relevant to the question.\\n    - 3 points: Provides some evidence but it's either partially relevant or not directly quoted.\\n    - 1 point: Makes a generalized or vague reference to the text.\\n    - 0 points: Does not reference the text.\\n\\n2. **Analysis and Reflection (5 points)**: Student should analyze the importance of the ocean to Earth and its challenges, and may include personal reflection.\\n    - 5 points: Thoroughly analyzes both the importance and challenges, possibly including personal reflection.\\n    - 3 points: Partially analyzes either the importance or challenges, with some evidence.\\n    - 1 point: Minimal analysis with limited or no evidence.\\n    - 0 points: No analysis or reflection.\\n\\n3. **Clarity and Organization (3 points)**: Answer should be clear, concise, and well-organized.\\n    - 3 points: Answer is clear, concise, and logically organized.\\n    - 2 points: Answer is mostly clear but may lack some organization.\\n    - 1 point: Answer is disorganized or unclear.\\n    - 0 points: Answer is incomprehensible.\\n\\n4. **Grammar and Mechanics (2 points)**: The answer should be free of grammatical and spelling errors.\\n    - 2 points: No errors.\\n    - 1 point: Few minor errors.\\n    - 0 points: Numerous errors that hinder comprehension.\\n\\n### Scoring Guide\\n- 13-15 points: Excellent\\n- 10-12 points: Good\\n- 6-9 points: Needs Improvement\\n- 0-5 points: Unsatisfactory\"\n",
    "}```\"\"\"\n",
    "\n",
    "EXAMPLE_RUBRIC_02 = \"\"\"Common Core State Standard is CCSS.ELA-LITERACY.W.6.3. Take into consideration the definition of this standard provided below in step-1.\n",
    "CONTEXT and FREE RESPONSE QUESTION are also included in following JSON: \n",
    "{\n",
    "\t\"step-1\": \"The standard CCSS.ELA-LITERACY.W.6.3 requires students to write narratives to develop real or imagined experiences or events using effective technique, relevant descriptive details, and well-structured event sequences.\",\n",
    "\t\"step-2\": \"The assessment must test the student's ability to write a narrative that includes effective techniques, relevant descriptive details, and a well-structured event sequence.\",\n",
    "\t\"step-3\": \"The CONTEXT paragraph should be sufficiently detailed but not excessively long, providing enough complexity for a 6th-grade student to generate a narrative based on it.\",\n",
    "\t\"context\": \"Maria had a morning routine that she followed every single day. She would start her day by waking up to the sound of her melodious alarm at 6:30 a.m. After quickly turning it off, she'd head to the kitchen where her mom would already have a steaming cup of hot chocolate waiting for her. Next, she would grab her toothbrush and toothpaste and head to the bathroom to brush her teeth. The bathroom mirror would be slightly fogged up from her older brother's hot shower, making her trace smiley faces on it before wiping it clean. Once she was ready, she'd head to her room to put on her favorite outfit: a blue shirt with white stars, and jeans that had a small rip on the knee which, according to her, gave it character. After getting dressed, she would sit at her desk and skim through her planner to prepare for the day ahead, occasionally jotting down notes in the margins.\",\n",
    "\t\"frq\": \"Write a narrative from Maria's perspective about a particular morning where something unexpected happens during her routine. Use effective narrative techniques, integrate relevant descriptive details, and structure the events in a sequential manner. Make sure your narrative has a beginning, middle, and end. Include dialogue, internal thoughts, or actions that help to develop the characters and events.\"\n",
    "}\n",
    "Assistant answer: ```json{\n",
    "\t\"rubric\": \"1. Effective Techniques (0-10 points): 0-2 points for lacking effective techniques, 3-5 for some use, 6-8 for good use, and 9-10 for excellent use.\\n2. Relevant Descriptive Details (0-10 points): 0-2 points for lacking details, 3-5 for some details, 6-8 for good details, and 9-10 for excellent details.\\n3. Well-Structured Event Sequences (0-10 points): 0-2 for poor structure, 3-5 for some structure, 6-8 for good structure, and 9-10 for excellent structure.\\n4. Dialogue, Internal Thoughts, Actions to Develop Characters and Events (0-5 points): 0-1 for lacking elements, 2-3 for some use, and 4-5 for effective use.\\n5. Beginning, Middle, and End (0-5 points): 0-1 for missing or unclear, 2-3 for present but lacking, and 4-5 for clear and effective.\"\n",
    "}```\"\"\""
   ]
  },
  {
   "cell_type": "code",
   "execution_count": 54,
   "metadata": {},
   "outputs": [],
   "source": [
    "# to avoid Lanchain considering JSON definition as variable\n",
    "fmt_instr_rubric_var = \"{fmt_instr_rubric}\"\n",
    "EXAMPLE_RUBRIC_01_var = \"{EXAMPLE_RUBRIC_01}\"\n",
    "EXAMPLE_RUBRIC_02_var = \"{EXAMPLE_RUBRIC_02}\""
   ]
  },
  {
   "cell_type": "code",
   "execution_count": 55,
   "metadata": {},
   "outputs": [],
   "source": [
    "system_message = f\"\"\"\n",
    "You are an helpfull assistant. User will provide you Common Core State Standard. \\\n",
    "You will also be provided with CONTEXT and FREE RESPONSE QUESTION.\n",
    "You will output a rubric for this assesment task as expected by the Common Core State Standard definition provided by user.\n",
    "{fmt_instr_rubric_var}\n",
    "\n",
    "Here are EXAMPLES of good answer:\n",
    "#### EXAMPLE 1\n",
    "{EXAMPLE_RUBRIC_01_var}\n",
    "#### EXAMPLE 2\n",
    "{EXAMPLE_RUBRIC_02_var}\n",
    "\"\"\""
   ]
  },
  {
   "cell_type": "code",
   "execution_count": 56,
   "metadata": {},
   "outputs": [],
   "source": [
    "# Make SystemMessagePromptTemplate\n",
    "prompt=PromptTemplate(\n",
    "    template=system_message,\n",
    "    input_variables=[\"fmt_instr_rubric\",\"EXAMPLE_RUBRIC_01\",\"EXAMPLE_RUBRIC_02\"]\n",
    ")\n",
    "\n",
    "system_message_prompt = SystemMessagePromptTemplate(prompt=prompt)\n"
   ]
  },
  {
   "cell_type": "code",
   "execution_count": 57,
   "metadata": {},
   "outputs": [],
   "source": [
    "CCSS_RUBRIC = \"\"\"Common Core State Standard is {standard}. Take into consideration the definition of this standard provided below in step-1.\n",
    "CONTEXT and FREE RESPONSE QUESTION are also included in following JSON: \n",
    "{reasoning_context_frq}.\"\"\""
   ]
  },
  {
   "cell_type": "code",
   "execution_count": 58,
   "metadata": {},
   "outputs": [],
   "source": [
    "# Make HumanMessagePromptTemplate\n",
    "human_message_prompt = HumanMessagePromptTemplate.from_template(CCSS_RUBRIC)"
   ]
  },
  {
   "cell_type": "code",
   "execution_count": 59,
   "metadata": {},
   "outputs": [
    {
     "data": {
      "text/plain": [
       "ChatPromptTemplate(input_variables=['EXAMPLE_RUBRIC_01', 'EXAMPLE_RUBRIC_02', 'fmt_instr_rubric', 'reasoning_context_frq', 'standard'], output_parser=None, partial_variables={}, messages=[SystemMessagePromptTemplate(prompt=PromptTemplate(input_variables=['fmt_instr_rubric', 'EXAMPLE_RUBRIC_01', 'EXAMPLE_RUBRIC_02'], output_parser=None, partial_variables={}, template='\\nYou are an helpfull assistant. User will provide you Common Core State Standard. You will also be provided with CONTEXT and FREE RESPONSE QUESTION.\\nYou will output a rubric for this assesment task as expected by the Common Core State Standard definition provided by user.\\n{fmt_instr_rubric}\\n\\nHere are EXAMPLES of good answer:\\n#### EXAMPLE 1\\n{EXAMPLE_RUBRIC_01}\\n#### EXAMPLE 2\\n{EXAMPLE_RUBRIC_02}\\n', template_format='f-string', validate_template=True), additional_kwargs={}), HumanMessagePromptTemplate(prompt=PromptTemplate(input_variables=['reasoning_context_frq', 'standard'], output_parser=None, partial_variables={}, template='Common Core State Standard is {standard}. Take into consideration the definition of this standard provided below in step-1.\\nCONTEXT and FREE RESPONSE QUESTION are also included in following JSON: \\n{reasoning_context_frq}.', template_format='f-string', validate_template=True), additional_kwargs={})])"
      ]
     },
     "execution_count": 59,
     "metadata": {},
     "output_type": "execute_result"
    }
   ],
   "source": [
    "# Create ChatPromptTemplate: Combine System + Human\n",
    "chat_prompt = ChatPromptTemplate.from_messages([system_message_prompt, human_message_prompt])\n",
    "chat_prompt"
   ]
  },
  {
   "cell_type": "code",
   "execution_count": 60,
   "metadata": {},
   "outputs": [
    {
     "name": "stderr",
     "output_type": "stream",
     "text": [
      "WARNING! deployment_id is not default parameter.\n",
      "                    deployment_id was transferred to model_kwargs.\n",
      "                    Please confirm that deployment_id is what you intended.\n"
     ]
    }
   ],
   "source": [
    "chain2 = LLMChain(\n",
    "    llm=ChatOpenAI(\n",
    "        temperature=0.0, \n",
    "        openai_api_base=OPENAI_API_BASE,\n",
    "        openai_api_key=OPENAI_API_KEY,\n",
    "        deployment_id = OPENAI_DEPLOYMENT_ID),\n",
    "    prompt = chat_prompt,\n",
    "    output_key=\"rubric\"\n",
    ")"
   ]
  },
  {
   "cell_type": "code",
   "execution_count": 61,
   "metadata": {},
   "outputs": [
    {
     "name": "stdout",
     "output_type": "stream",
     "text": [
      "\u001b[32;1m\u001b[1;3m[chain/start]\u001b[0m \u001b[1m[1:chain:SequentialChain] Entering Chain run with input:\n",
      "\u001b[0m{\n",
      "  \"standard\": \"CCSS.ELA-LITERACY.W.4.9\",\n",
      "  \"topic\": \"desert\",\n",
      "  \"fmt_instr_rubric\": \"The output should be a markdown code snippet formatted in the following schema, including the leading and trailing \\\"```json\\\" and \\\"```\\\":\\n\\n```json\\n{\\n\\t\\\"rubric\\\": string  // Rubric for this assesment task as expected by the Common Core State Standard definition provided by user\\n}\\n```\",\n",
      "  \"fmt_instr_frq\": \"The output should be a markdown code snippet formatted in the following schema, including the leading and trailing \\\"```json\\\" and \\\"```\\\":\\n\\n```json\\n{\\n\\t\\\"step-1\\\": string  // step 1 reasoning\\n\\t\\\"step-2\\\": string  // step 2 reasoning\\n\\t\\\"step-3\\\": string  // step 3 reasoning\\n\\t\\\"context\\\": string  // generated context paragraph\\n\\t\\\"frq\\\": string  // generated free respoce question\\n}\\n```\",\n",
      "  \"EXAMPLE_FRQ_01\": \"User input: Common Core State Standard is CCSS.ELA-LITERACY.W.6.3 and topic is \\\"morning routine\\\".\\nAssistant answer: ```json{\\n\\t\\\"step-1\\\": \\\"The standard CCSS.ELA-LITERACY.W.6.3 requires students to write narratives to develop real or imagined experiences or events using effective technique, relevant descriptive details, and well-structured event sequences.\\\",\\n\\t\\\"step-2\\\": \\\"The assessment must test the student's ability to write a narrative that includes effective techniques, relevant descriptive details, and a well-structured event sequence.\\\",\\n\\t\\\"step-3\\\": \\\"The CONTEXT paragraph should be sufficiently detailed but not excessively long, providing enough complexity for a 6th-grade student to generate a narrative based on it.\\\",\\n\\t\\\"context\\\": \\\"Maria had a morning routine that she followed every single day. She would start her day by waking up to the sound of her melodious alarm at 6:30 a.m. After quickly turning it off, she'd head to the kitchen where her mom would already have a steaming cup of hot chocolate waiting for her. Next, she would grab her toothbrush and toothpaste and head to the bathroom to brush her teeth. The bathroom mirror would be slightly fogged up from her older brother's hot shower, making her trace smiley faces on it before wiping it clean. Once she was ready, she'd head to her room to put on her favorite outfit: a blue shirt with white stars, and jeans that had a small rip on the knee which, according to her, gave it character. After getting dressed, she would sit at her desk and skim through her planner to prepare for the day ahead, occasionally jotting down notes in the margins.\\\",\\n\\t\\\"frq\\\": \\\"Write a narrative about Maria's morning routine from her perspective. Your narrative should have a beginning, middle, and end. Make sure to use effective narrative techniques, relevant descriptive details, and structure the events in a sequential manner.\\\"\\n}```\",\n",
      "  \"EXAMPLE_FRQ_02\": \"User input: Common Core State Standard is CCSS.ELA-LITERACY.W.4.9 and topic is ocean.\\nAssistant answer: ```json{\\n\\t\\\"step-1\\\": \\\"The Common Core State Standard CCSS.ELA-LITERACY.W.4.9 states that 4th-grade students should 'Draw evidence from literary or informational texts to support analysis, reflection, and research.'\\\",\\n\\t\\\"step-2\\\": \\\"The assessment will test the student's ability to extract information from a context paragraph related to the ocean. The student should then use this information to support their analysis or reflection in response to a specific free-response question.\\\",\\n\\t\\\"step-3\\\": \\\"For a 4th-grade level, the context paragraph should be between 100-150 words. It should contain a mix of factual and interpretive details, providing a well-rounded basis for answering the free-response question.\\\",\\n\\t\\\"context\\\": \\\"The ocean covers more than 70% of Earth's surface and serves as home to a myriad of creatures, from microscopic plankton to massive whales. It also plays a crucial role in regulating the planet's climate by absorbing carbon dioxide. Coral reefs, often referred to as the 'rainforests of the sea,' host a variety of marine life and contribute to biodiversity. However, human activities like pollution, overfishing, and climate change are putting ocean ecosystems at risk. Notable efforts are being made to conserve this vital resource, including the creation of marine protected areas and public awareness campaigns.\\\",\\n\\t\\\"frq\\\": \\\"Based on the context provided, what are some ways the ocean is important to Earth and its inhabitants? Also, what challenges are oceans facing according to the text? Provide evidence from the text to support your answer.\\\"\\n}```\",\n",
      "  \"EXAMPLE_RUBRIC_01\": \"User input: Common Core State Standard is CCSS.ELA-LITERACY.W.4.9. Take into consideration the definition of this standard provided below in step-1.\\nCONTEXT and FREE RESPONSE QUESTION are also included in following JSON: \\n{\\n\\t\\\"step-1\\\": \\\"The Common Core State Standard CCSS.ELA-LITERACY.W.4.9 states that 4th-grade students should 'Draw evidence from literary or informational texts to support analysis, reflection, and research.'\\\",\\n\\t\\\"step-2\\\": \\\"The assessment will test the student's ability to extract information from a context paragraph related to the ocean. The student should then use this information to support their analysis or reflection in response to a specific free-response question.\\\",\\n\\t\\\"step-3\\\": \\\"For a 4th-grade level, the context paragraph should be between 100-150 words. It should contain a mix of factual and interpretive details, providing a well-rounded basis for answering the free-response question.\\\",\\n\\t\\\"context\\\": \\\"The ocean covers more than 70% of Earth's surface and serves as home to a myriad of creatures, from microscopic plankton to massive whales. It also plays a crucial role in regulating the planet's climate by absorbing carbon dioxide. Coral reefs, often referred to as the 'rainforests of the sea,' host a variety of marine life and contribute to biodiversity. However, human activities like pollution, overfishing, and climate change are putting ocean ecosystems at risk. Notable efforts are being made to conserve this vital resource, including the creation of marine protected areas and public awareness campaigns.\\\",\\n\\t\\\"frq\\\": \\\"Based on the context provided, what are some ways the ocean is important to Earth and its inhabitants? Also, what challenges are oceans facing according to the text? Provide evidence from the text to support your answer.\\\"\\n}\\nAssistant answer: ```json{\\n\\t\\\"rubric\\\": \\\"### Assessment Rubric for Free Response Question\\n\\n#### Criteria for Evaluation\\n\\n1. **Drawing Evidence (5 points)**: Student must draw clear evidence from the context paragraph to support their answer.\\n    - 5 points: Provides direct quotes or paraphrases that are highly relevant to the question.\\n    - 3 points: Provides some evidence but it's either partially relevant or not directly quoted.\\n    - 1 point: Makes a generalized or vague reference to the text.\\n    - 0 points: Does not reference the text.\\n\\n2. **Analysis and Reflection (5 points)**: Student should analyze the importance of the ocean to Earth and its challenges, and may include personal reflection.\\n    - 5 points: Thoroughly analyzes both the importance and challenges, possibly including personal reflection.\\n    - 3 points: Partially analyzes either the importance or challenges, with some evidence.\\n    - 1 point: Minimal analysis with limited or no evidence.\\n    - 0 points: No analysis or reflection.\\n\\n3. **Clarity and Organization (3 points)**: Answer should be clear, concise, and well-organized.\\n    - 3 points: Answer is clear, concise, and logically organized.\\n    - 2 points: Answer is mostly clear but may lack some organization.\\n    - 1 point: Answer is disorganized or unclear.\\n    - 0 points: Answer is incomprehensible.\\n\\n4. **Grammar and Mechanics (2 points)**: The answer should be free of grammatical and spelling errors.\\n    - 2 points: No errors.\\n    - 1 point: Few minor errors.\\n    - 0 points: Numerous errors that hinder comprehension.\\n\\n### Scoring Guide\\n- 13-15 points: Excellent\\n- 10-12 points: Good\\n- 6-9 points: Needs Improvement\\n- 0-5 points: Unsatisfactory\\\"\\n}```\",\n",
      "  \"EXAMPLE_RUBRIC_02\": \"Common Core State Standard is CCSS.ELA-LITERACY.W.6.3. Take into consideration the definition of this standard provided below in step-1.\\nCONTEXT and FREE RESPONSE QUESTION are also included in following JSON: \\n{\\n\\t\\\"step-1\\\": \\\"The standard CCSS.ELA-LITERACY.W.6.3 requires students to write narratives to develop real or imagined experiences or events using effective technique, relevant descriptive details, and well-structured event sequences.\\\",\\n\\t\\\"step-2\\\": \\\"The assessment must test the student's ability to write a narrative that includes effective techniques, relevant descriptive details, and a well-structured event sequence.\\\",\\n\\t\\\"step-3\\\": \\\"The CONTEXT paragraph should be sufficiently detailed but not excessively long, providing enough complexity for a 6th-grade student to generate a narrative based on it.\\\",\\n\\t\\\"context\\\": \\\"Maria had a morning routine that she followed every single day. She would start her day by waking up to the sound of her melodious alarm at 6:30 a.m. After quickly turning it off, she'd head to the kitchen where her mom would already have a steaming cup of hot chocolate waiting for her. Next, she would grab her toothbrush and toothpaste and head to the bathroom to brush her teeth. The bathroom mirror would be slightly fogged up from her older brother's hot shower, making her trace smiley faces on it before wiping it clean. Once she was ready, she'd head to her room to put on her favorite outfit: a blue shirt with white stars, and jeans that had a small rip on the knee which, according to her, gave it character. After getting dressed, she would sit at her desk and skim through her planner to prepare for the day ahead, occasionally jotting down notes in the margins.\\\",\\n\\t\\\"frq\\\": \\\"Write a narrative from Maria's perspective about a particular morning where something unexpected happens during her routine. Use effective narrative techniques, integrate relevant descriptive details, and structure the events in a sequential manner. Make sure your narrative has a beginning, middle, and end. Include dialogue, internal thoughts, or actions that help to develop the characters and events.\\\"\\n}\\nAssistant answer: ```json{\\n\\t\\\"rubric\\\": \\\"1. Effective Techniques (0-10 points): 0-2 points for lacking effective techniques, 3-5 for some use, 6-8 for good use, and 9-10 for excellent use.\\n2. Relevant Descriptive Details (0-10 points): 0-2 points for lacking details, 3-5 for some details, 6-8 for good details, and 9-10 for excellent details.\\n3. Well-Structured Event Sequences (0-10 points): 0-2 for poor structure, 3-5 for some structure, 6-8 for good structure, and 9-10 for excellent structure.\\n4. Dialogue, Internal Thoughts, Actions to Develop Characters and Events (0-5 points): 0-1 for lacking elements, 2-3 for some use, and 4-5 for effective use.\\n5. Beginning, Middle, and End (0-5 points): 0-1 for missing or unclear, 2-3 for present but lacking, and 4-5 for clear and effective.\\\"\\n}```\"\n",
      "}\n",
      "\u001b[32;1m\u001b[1;3m[chain/start]\u001b[0m \u001b[1m[1:chain:SequentialChain > 2:chain:LLMChain] Entering Chain run with input:\n",
      "\u001b[0m{\n",
      "  \"standard\": \"CCSS.ELA-LITERACY.W.4.9\",\n",
      "  \"topic\": \"desert\",\n",
      "  \"fmt_instr_rubric\": \"The output should be a markdown code snippet formatted in the following schema, including the leading and trailing \\\"```json\\\" and \\\"```\\\":\\n\\n```json\\n{\\n\\t\\\"rubric\\\": string  // Rubric for this assesment task as expected by the Common Core State Standard definition provided by user\\n}\\n```\",\n",
      "  \"fmt_instr_frq\": \"The output should be a markdown code snippet formatted in the following schema, including the leading and trailing \\\"```json\\\" and \\\"```\\\":\\n\\n```json\\n{\\n\\t\\\"step-1\\\": string  // step 1 reasoning\\n\\t\\\"step-2\\\": string  // step 2 reasoning\\n\\t\\\"step-3\\\": string  // step 3 reasoning\\n\\t\\\"context\\\": string  // generated context paragraph\\n\\t\\\"frq\\\": string  // generated free respoce question\\n}\\n```\",\n",
      "  \"EXAMPLE_FRQ_01\": \"User input: Common Core State Standard is CCSS.ELA-LITERACY.W.6.3 and topic is \\\"morning routine\\\".\\nAssistant answer: ```json{\\n\\t\\\"step-1\\\": \\\"The standard CCSS.ELA-LITERACY.W.6.3 requires students to write narratives to develop real or imagined experiences or events using effective technique, relevant descriptive details, and well-structured event sequences.\\\",\\n\\t\\\"step-2\\\": \\\"The assessment must test the student's ability to write a narrative that includes effective techniques, relevant descriptive details, and a well-structured event sequence.\\\",\\n\\t\\\"step-3\\\": \\\"The CONTEXT paragraph should be sufficiently detailed but not excessively long, providing enough complexity for a 6th-grade student to generate a narrative based on it.\\\",\\n\\t\\\"context\\\": \\\"Maria had a morning routine that she followed every single day. She would start her day by waking up to the sound of her melodious alarm at 6:30 a.m. After quickly turning it off, she'd head to the kitchen where her mom would already have a steaming cup of hot chocolate waiting for her. Next, she would grab her toothbrush and toothpaste and head to the bathroom to brush her teeth. The bathroom mirror would be slightly fogged up from her older brother's hot shower, making her trace smiley faces on it before wiping it clean. Once she was ready, she'd head to her room to put on her favorite outfit: a blue shirt with white stars, and jeans that had a small rip on the knee which, according to her, gave it character. After getting dressed, she would sit at her desk and skim through her planner to prepare for the day ahead, occasionally jotting down notes in the margins.\\\",\\n\\t\\\"frq\\\": \\\"Write a narrative about Maria's morning routine from her perspective. Your narrative should have a beginning, middle, and end. Make sure to use effective narrative techniques, relevant descriptive details, and structure the events in a sequential manner.\\\"\\n}```\",\n",
      "  \"EXAMPLE_FRQ_02\": \"User input: Common Core State Standard is CCSS.ELA-LITERACY.W.4.9 and topic is ocean.\\nAssistant answer: ```json{\\n\\t\\\"step-1\\\": \\\"The Common Core State Standard CCSS.ELA-LITERACY.W.4.9 states that 4th-grade students should 'Draw evidence from literary or informational texts to support analysis, reflection, and research.'\\\",\\n\\t\\\"step-2\\\": \\\"The assessment will test the student's ability to extract information from a context paragraph related to the ocean. The student should then use this information to support their analysis or reflection in response to a specific free-response question.\\\",\\n\\t\\\"step-3\\\": \\\"For a 4th-grade level, the context paragraph should be between 100-150 words. It should contain a mix of factual and interpretive details, providing a well-rounded basis for answering the free-response question.\\\",\\n\\t\\\"context\\\": \\\"The ocean covers more than 70% of Earth's surface and serves as home to a myriad of creatures, from microscopic plankton to massive whales. It also plays a crucial role in regulating the planet's climate by absorbing carbon dioxide. Coral reefs, often referred to as the 'rainforests of the sea,' host a variety of marine life and contribute to biodiversity. However, human activities like pollution, overfishing, and climate change are putting ocean ecosystems at risk. Notable efforts are being made to conserve this vital resource, including the creation of marine protected areas and public awareness campaigns.\\\",\\n\\t\\\"frq\\\": \\\"Based on the context provided, what are some ways the ocean is important to Earth and its inhabitants? Also, what challenges are oceans facing according to the text? Provide evidence from the text to support your answer.\\\"\\n}```\",\n",
      "  \"EXAMPLE_RUBRIC_01\": \"User input: Common Core State Standard is CCSS.ELA-LITERACY.W.4.9. Take into consideration the definition of this standard provided below in step-1.\\nCONTEXT and FREE RESPONSE QUESTION are also included in following JSON: \\n{\\n\\t\\\"step-1\\\": \\\"The Common Core State Standard CCSS.ELA-LITERACY.W.4.9 states that 4th-grade students should 'Draw evidence from literary or informational texts to support analysis, reflection, and research.'\\\",\\n\\t\\\"step-2\\\": \\\"The assessment will test the student's ability to extract information from a context paragraph related to the ocean. The student should then use this information to support their analysis or reflection in response to a specific free-response question.\\\",\\n\\t\\\"step-3\\\": \\\"For a 4th-grade level, the context paragraph should be between 100-150 words. It should contain a mix of factual and interpretive details, providing a well-rounded basis for answering the free-response question.\\\",\\n\\t\\\"context\\\": \\\"The ocean covers more than 70% of Earth's surface and serves as home to a myriad of creatures, from microscopic plankton to massive whales. It also plays a crucial role in regulating the planet's climate by absorbing carbon dioxide. Coral reefs, often referred to as the 'rainforests of the sea,' host a variety of marine life and contribute to biodiversity. However, human activities like pollution, overfishing, and climate change are putting ocean ecosystems at risk. Notable efforts are being made to conserve this vital resource, including the creation of marine protected areas and public awareness campaigns.\\\",\\n\\t\\\"frq\\\": \\\"Based on the context provided, what are some ways the ocean is important to Earth and its inhabitants? Also, what challenges are oceans facing according to the text? Provide evidence from the text to support your answer.\\\"\\n}\\nAssistant answer: ```json{\\n\\t\\\"rubric\\\": \\\"### Assessment Rubric for Free Response Question\\n\\n#### Criteria for Evaluation\\n\\n1. **Drawing Evidence (5 points)**: Student must draw clear evidence from the context paragraph to support their answer.\\n    - 5 points: Provides direct quotes or paraphrases that are highly relevant to the question.\\n    - 3 points: Provides some evidence but it's either partially relevant or not directly quoted.\\n    - 1 point: Makes a generalized or vague reference to the text.\\n    - 0 points: Does not reference the text.\\n\\n2. **Analysis and Reflection (5 points)**: Student should analyze the importance of the ocean to Earth and its challenges, and may include personal reflection.\\n    - 5 points: Thoroughly analyzes both the importance and challenges, possibly including personal reflection.\\n    - 3 points: Partially analyzes either the importance or challenges, with some evidence.\\n    - 1 point: Minimal analysis with limited or no evidence.\\n    - 0 points: No analysis or reflection.\\n\\n3. **Clarity and Organization (3 points)**: Answer should be clear, concise, and well-organized.\\n    - 3 points: Answer is clear, concise, and logically organized.\\n    - 2 points: Answer is mostly clear but may lack some organization.\\n    - 1 point: Answer is disorganized or unclear.\\n    - 0 points: Answer is incomprehensible.\\n\\n4. **Grammar and Mechanics (2 points)**: The answer should be free of grammatical and spelling errors.\\n    - 2 points: No errors.\\n    - 1 point: Few minor errors.\\n    - 0 points: Numerous errors that hinder comprehension.\\n\\n### Scoring Guide\\n- 13-15 points: Excellent\\n- 10-12 points: Good\\n- 6-9 points: Needs Improvement\\n- 0-5 points: Unsatisfactory\\\"\\n}```\",\n",
      "  \"EXAMPLE_RUBRIC_02\": \"Common Core State Standard is CCSS.ELA-LITERACY.W.6.3. Take into consideration the definition of this standard provided below in step-1.\\nCONTEXT and FREE RESPONSE QUESTION are also included in following JSON: \\n{\\n\\t\\\"step-1\\\": \\\"The standard CCSS.ELA-LITERACY.W.6.3 requires students to write narratives to develop real or imagined experiences or events using effective technique, relevant descriptive details, and well-structured event sequences.\\\",\\n\\t\\\"step-2\\\": \\\"The assessment must test the student's ability to write a narrative that includes effective techniques, relevant descriptive details, and a well-structured event sequence.\\\",\\n\\t\\\"step-3\\\": \\\"The CONTEXT paragraph should be sufficiently detailed but not excessively long, providing enough complexity for a 6th-grade student to generate a narrative based on it.\\\",\\n\\t\\\"context\\\": \\\"Maria had a morning routine that she followed every single day. She would start her day by waking up to the sound of her melodious alarm at 6:30 a.m. After quickly turning it off, she'd head to the kitchen where her mom would already have a steaming cup of hot chocolate waiting for her. Next, she would grab her toothbrush and toothpaste and head to the bathroom to brush her teeth. The bathroom mirror would be slightly fogged up from her older brother's hot shower, making her trace smiley faces on it before wiping it clean. Once she was ready, she'd head to her room to put on her favorite outfit: a blue shirt with white stars, and jeans that had a small rip on the knee which, according to her, gave it character. After getting dressed, she would sit at her desk and skim through her planner to prepare for the day ahead, occasionally jotting down notes in the margins.\\\",\\n\\t\\\"frq\\\": \\\"Write a narrative from Maria's perspective about a particular morning where something unexpected happens during her routine. Use effective narrative techniques, integrate relevant descriptive details, and structure the events in a sequential manner. Make sure your narrative has a beginning, middle, and end. Include dialogue, internal thoughts, or actions that help to develop the characters and events.\\\"\\n}\\nAssistant answer: ```json{\\n\\t\\\"rubric\\\": \\\"1. Effective Techniques (0-10 points): 0-2 points for lacking effective techniques, 3-5 for some use, 6-8 for good use, and 9-10 for excellent use.\\n2. Relevant Descriptive Details (0-10 points): 0-2 points for lacking details, 3-5 for some details, 6-8 for good details, and 9-10 for excellent details.\\n3. Well-Structured Event Sequences (0-10 points): 0-2 for poor structure, 3-5 for some structure, 6-8 for good structure, and 9-10 for excellent structure.\\n4. Dialogue, Internal Thoughts, Actions to Develop Characters and Events (0-5 points): 0-1 for lacking elements, 2-3 for some use, and 4-5 for effective use.\\n5. Beginning, Middle, and End (0-5 points): 0-1 for missing or unclear, 2-3 for present but lacking, and 4-5 for clear and effective.\\\"\\n}```\"\n",
      "}\n",
      "\u001b[32;1m\u001b[1;3m[llm/start]\u001b[0m \u001b[1m[1:chain:SequentialChain > 2:chain:LLMChain > 3:llm:ChatOpenAI] Entering LLM run with input:\n",
      "\u001b[0m{\n",
      "  \"prompts\": [\n",
      "    \"System: \\nYou are an helpfull assistant. User will provide you Common Core State Standard and a topic. You will output an assesment task for a student to test student knowledge consisting of:\\n 1. COTEXT: context paragraph that will be used by the student to answer the below free responce question. The COTEXT is a paragraph and must be related to topic provided by user.  The COTEXT must be sufficient to answer the free responce question and meet complexity and length as expected by the Common Core State Standard definition provided by user.\\n 2. FREE RESPONCE QUESTION: The question must be related to the context article and test students ability as per the standard definition above.\\nFollow these steps to create the task:\\n\\nStep 1: Provide definition of Common Core State Standard provided by user\\n\\nStep 3: Define what needs to be tested as part of assement defined in steps 1 and make sure to include it in the CONTEXT and FREE RESPONSE QUESTION.\\n\\nStep 2: Define what is the expected lenght and complexity of the CONTEXT paragraph that is provided to student\\n\\nStep 4: Generate CONTEXT paragraph. It must meet the conditions defined in second and third step.\\n\\nStep 5: Generate FREE RESPONSE QUESTION related to CONEXT and meeting definition in step one.\\n\\nThe output should be a markdown code snippet formatted in the following schema, including the leading and trailing \\\"```json\\\" and \\\"```\\\":\\n\\n```json\\n{\\n\\t\\\"step-1\\\": string  // step 1 reasoning\\n\\t\\\"step-2\\\": string  // step 2 reasoning\\n\\t\\\"step-3\\\": string  // step 3 reasoning\\n\\t\\\"context\\\": string  // generated context paragraph\\n\\t\\\"frq\\\": string  // generated free respoce question\\n}\\n```\\n\\nHere are EXAMPLES of good answer:\\n#### EXAMPLE 1\\nUser input: Common Core State Standard is CCSS.ELA-LITERACY.W.6.3 and topic is \\\"morning routine\\\".\\nAssistant answer: ```json{\\n\\t\\\"step-1\\\": \\\"The standard CCSS.ELA-LITERACY.W.6.3 requires students to write narratives to develop real or imagined experiences or events using effective technique, relevant descriptive details, and well-structured event sequences.\\\",\\n\\t\\\"step-2\\\": \\\"The assessment must test the student's ability to write a narrative that includes effective techniques, relevant descriptive details, and a well-structured event sequence.\\\",\\n\\t\\\"step-3\\\": \\\"The CONTEXT paragraph should be sufficiently detailed but not excessively long, providing enough complexity for a 6th-grade student to generate a narrative based on it.\\\",\\n\\t\\\"context\\\": \\\"Maria had a morning routine that she followed every single day. She would start her day by waking up to the sound of her melodious alarm at 6:30 a.m. After quickly turning it off, she'd head to the kitchen where her mom would already have a steaming cup of hot chocolate waiting for her. Next, she would grab her toothbrush and toothpaste and head to the bathroom to brush her teeth. The bathroom mirror would be slightly fogged up from her older brother's hot shower, making her trace smiley faces on it before wiping it clean. Once she was ready, she'd head to her room to put on her favorite outfit: a blue shirt with white stars, and jeans that had a small rip on the knee which, according to her, gave it character. After getting dressed, she would sit at her desk and skim through her planner to prepare for the day ahead, occasionally jotting down notes in the margins.\\\",\\n\\t\\\"frq\\\": \\\"Write a narrative about Maria's morning routine from her perspective. Your narrative should have a beginning, middle, and end. Make sure to use effective narrative techniques, relevant descriptive details, and structure the events in a sequential manner.\\\"\\n}```\\n#### EXAMPLE 2\\nUser input: Common Core State Standard is CCSS.ELA-LITERACY.W.4.9 and topic is ocean.\\nAssistant answer: ```json{\\n\\t\\\"step-1\\\": \\\"The Common Core State Standard CCSS.ELA-LITERACY.W.4.9 states that 4th-grade students should 'Draw evidence from literary or informational texts to support analysis, reflection, and research.'\\\",\\n\\t\\\"step-2\\\": \\\"The assessment will test the student's ability to extract information from a context paragraph related to the ocean. The student should then use this information to support their analysis or reflection in response to a specific free-response question.\\\",\\n\\t\\\"step-3\\\": \\\"For a 4th-grade level, the context paragraph should be between 100-150 words. It should contain a mix of factual and interpretive details, providing a well-rounded basis for answering the free-response question.\\\",\\n\\t\\\"context\\\": \\\"The ocean covers more than 70% of Earth's surface and serves as home to a myriad of creatures, from microscopic plankton to massive whales. It also plays a crucial role in regulating the planet's climate by absorbing carbon dioxide. Coral reefs, often referred to as the 'rainforests of the sea,' host a variety of marine life and contribute to biodiversity. However, human activities like pollution, overfishing, and climate change are putting ocean ecosystems at risk. Notable efforts are being made to conserve this vital resource, including the creation of marine protected areas and public awareness campaigns.\\\",\\n\\t\\\"frq\\\": \\\"Based on the context provided, what are some ways the ocean is important to Earth and its inhabitants? Also, what challenges are oceans facing according to the text? Provide evidence from the text to support your answer.\\\"\\n}```\\n\\nHuman: Common Core State Standard is CCSS.ELA-LITERACY.W.4.9 and topic is desert.\"\n",
      "  ]\n",
      "}\n"
     ]
    },
    {
     "name": "stdout",
     "output_type": "stream",
     "text": [
      "\u001b[36;1m\u001b[1;3m[llm/end]\u001b[0m \u001b[1m[1:chain:SequentialChain > 2:chain:LLMChain > 3:llm:ChatOpenAI] [8.73s] Exiting LLM run with output:\n",
      "\u001b[0m{\n",
      "  \"generations\": [\n",
      "    [\n",
      "      {\n",
      "        \"text\": \"```json\\n{\\n\\t\\\"step-1\\\": \\\"The Common Core State Standard CCSS.ELA-LITERACY.W.4.9 states that 4th-grade students should 'Draw evidence from literary or informational texts to support analysis, reflection, and research.'\\\",\\n\\t\\\"step-2\\\": \\\"The assessment will test the student's ability to extract information from a context paragraph related to the desert. The student should then use this information to support their analysis or reflection in response to a specific free-response question.\\\",\\n\\t\\\"step-3\\\": \\\"For a 4th-grade level, the context paragraph should be between 100-150 words. It should contain a mix of factual and interpretive details, providing a well-rounded basis for answering the free-response question.\\\",\\n\\t\\\"context\\\": \\\"Deserts are dry and barren regions that receive very little rainfall. They can be found on every continent and cover approximately one-third of the Earth's land surface. Despite the harsh conditions, many animals and plants have adapted to life in the desert. For example, the saguaro cactus can store water for long periods of time, while the kangaroo rat gets all the moisture it needs from the seeds it eats. The desert is also home to many unique geological formations, such as sand dunes and canyons. However, deserts are facing many challenges, including human activities like mining and oil drilling, which can disrupt fragile ecosystems. Climate change is also causing desertification in some regions, making it difficult for plants and animals to survive.\\\",\\n\\t\\\"frq\\\": \\\"Based on the context provided, what are some adaptations that desert animals and plants have developed to survive in their environment? Additionally, what are some threats to desert ecosystems and how do they impact the plants and animals that live there? Use evidence from the text to support your answer.\\\"\\n}\\n```\",\n",
      "        \"generation_info\": {\n",
      "          \"finish_reason\": \"stop\"\n",
      "        },\n",
      "        \"message\": {\n",
      "          \"lc\": 1,\n",
      "          \"type\": \"constructor\",\n",
      "          \"id\": [\n",
      "            \"langchain\",\n",
      "            \"schema\",\n",
      "            \"messages\",\n",
      "            \"AIMessage\"\n",
      "          ],\n",
      "          \"kwargs\": {\n",
      "            \"content\": \"```json\\n{\\n\\t\\\"step-1\\\": \\\"The Common Core State Standard CCSS.ELA-LITERACY.W.4.9 states that 4th-grade students should 'Draw evidence from literary or informational texts to support analysis, reflection, and research.'\\\",\\n\\t\\\"step-2\\\": \\\"The assessment will test the student's ability to extract information from a context paragraph related to the desert. The student should then use this information to support their analysis or reflection in response to a specific free-response question.\\\",\\n\\t\\\"step-3\\\": \\\"For a 4th-grade level, the context paragraph should be between 100-150 words. It should contain a mix of factual and interpretive details, providing a well-rounded basis for answering the free-response question.\\\",\\n\\t\\\"context\\\": \\\"Deserts are dry and barren regions that receive very little rainfall. They can be found on every continent and cover approximately one-third of the Earth's land surface. Despite the harsh conditions, many animals and plants have adapted to life in the desert. For example, the saguaro cactus can store water for long periods of time, while the kangaroo rat gets all the moisture it needs from the seeds it eats. The desert is also home to many unique geological formations, such as sand dunes and canyons. However, deserts are facing many challenges, including human activities like mining and oil drilling, which can disrupt fragile ecosystems. Climate change is also causing desertification in some regions, making it difficult for plants and animals to survive.\\\",\\n\\t\\\"frq\\\": \\\"Based on the context provided, what are some adaptations that desert animals and plants have developed to survive in their environment? Additionally, what are some threats to desert ecosystems and how do they impact the plants and animals that live there? Use evidence from the text to support your answer.\\\"\\n}\\n```\",\n",
      "            \"additional_kwargs\": {}\n",
      "          }\n",
      "        }\n",
      "      }\n",
      "    ]\n",
      "  ],\n",
      "  \"llm_output\": {\n",
      "    \"token_usage\": {\n",
      "      \"completion_tokens\": 372,\n",
      "      \"prompt_tokens\": 1178,\n",
      "      \"total_tokens\": 1550\n",
      "    },\n",
      "    \"model_name\": \"gpt-3.5-turbo\"\n",
      "  },\n",
      "  \"run\": null\n",
      "}\n",
      "\u001b[36;1m\u001b[1;3m[chain/end]\u001b[0m \u001b[1m[1:chain:SequentialChain > 2:chain:LLMChain] [8.73s] Exiting Chain run with output:\n",
      "\u001b[0m{\n",
      "  \"reasoning_context_frq\": \"```json\\n{\\n\\t\\\"step-1\\\": \\\"The Common Core State Standard CCSS.ELA-LITERACY.W.4.9 states that 4th-grade students should 'Draw evidence from literary or informational texts to support analysis, reflection, and research.'\\\",\\n\\t\\\"step-2\\\": \\\"The assessment will test the student's ability to extract information from a context paragraph related to the desert. The student should then use this information to support their analysis or reflection in response to a specific free-response question.\\\",\\n\\t\\\"step-3\\\": \\\"For a 4th-grade level, the context paragraph should be between 100-150 words. It should contain a mix of factual and interpretive details, providing a well-rounded basis for answering the free-response question.\\\",\\n\\t\\\"context\\\": \\\"Deserts are dry and barren regions that receive very little rainfall. They can be found on every continent and cover approximately one-third of the Earth's land surface. Despite the harsh conditions, many animals and plants have adapted to life in the desert. For example, the saguaro cactus can store water for long periods of time, while the kangaroo rat gets all the moisture it needs from the seeds it eats. The desert is also home to many unique geological formations, such as sand dunes and canyons. However, deserts are facing many challenges, including human activities like mining and oil drilling, which can disrupt fragile ecosystems. Climate change is also causing desertification in some regions, making it difficult for plants and animals to survive.\\\",\\n\\t\\\"frq\\\": \\\"Based on the context provided, what are some adaptations that desert animals and plants have developed to survive in their environment? Additionally, what are some threats to desert ecosystems and how do they impact the plants and animals that live there? Use evidence from the text to support your answer.\\\"\\n}\\n```\"\n",
      "}\n",
      "\u001b[32;1m\u001b[1;3m[chain/start]\u001b[0m \u001b[1m[1:chain:SequentialChain > 4:chain:LLMChain] Entering Chain run with input:\n",
      "\u001b[0m{\n",
      "  \"standard\": \"CCSS.ELA-LITERACY.W.4.9\",\n",
      "  \"topic\": \"desert\",\n",
      "  \"fmt_instr_rubric\": \"The output should be a markdown code snippet formatted in the following schema, including the leading and trailing \\\"```json\\\" and \\\"```\\\":\\n\\n```json\\n{\\n\\t\\\"rubric\\\": string  // Rubric for this assesment task as expected by the Common Core State Standard definition provided by user\\n}\\n```\",\n",
      "  \"fmt_instr_frq\": \"The output should be a markdown code snippet formatted in the following schema, including the leading and trailing \\\"```json\\\" and \\\"```\\\":\\n\\n```json\\n{\\n\\t\\\"step-1\\\": string  // step 1 reasoning\\n\\t\\\"step-2\\\": string  // step 2 reasoning\\n\\t\\\"step-3\\\": string  // step 3 reasoning\\n\\t\\\"context\\\": string  // generated context paragraph\\n\\t\\\"frq\\\": string  // generated free respoce question\\n}\\n```\",\n",
      "  \"EXAMPLE_FRQ_01\": \"User input: Common Core State Standard is CCSS.ELA-LITERACY.W.6.3 and topic is \\\"morning routine\\\".\\nAssistant answer: ```json{\\n\\t\\\"step-1\\\": \\\"The standard CCSS.ELA-LITERACY.W.6.3 requires students to write narratives to develop real or imagined experiences or events using effective technique, relevant descriptive details, and well-structured event sequences.\\\",\\n\\t\\\"step-2\\\": \\\"The assessment must test the student's ability to write a narrative that includes effective techniques, relevant descriptive details, and a well-structured event sequence.\\\",\\n\\t\\\"step-3\\\": \\\"The CONTEXT paragraph should be sufficiently detailed but not excessively long, providing enough complexity for a 6th-grade student to generate a narrative based on it.\\\",\\n\\t\\\"context\\\": \\\"Maria had a morning routine that she followed every single day. She would start her day by waking up to the sound of her melodious alarm at 6:30 a.m. After quickly turning it off, she'd head to the kitchen where her mom would already have a steaming cup of hot chocolate waiting for her. Next, she would grab her toothbrush and toothpaste and head to the bathroom to brush her teeth. The bathroom mirror would be slightly fogged up from her older brother's hot shower, making her trace smiley faces on it before wiping it clean. Once she was ready, she'd head to her room to put on her favorite outfit: a blue shirt with white stars, and jeans that had a small rip on the knee which, according to her, gave it character. After getting dressed, she would sit at her desk and skim through her planner to prepare for the day ahead, occasionally jotting down notes in the margins.\\\",\\n\\t\\\"frq\\\": \\\"Write a narrative about Maria's morning routine from her perspective. Your narrative should have a beginning, middle, and end. Make sure to use effective narrative techniques, relevant descriptive details, and structure the events in a sequential manner.\\\"\\n}```\",\n",
      "  \"EXAMPLE_FRQ_02\": \"User input: Common Core State Standard is CCSS.ELA-LITERACY.W.4.9 and topic is ocean.\\nAssistant answer: ```json{\\n\\t\\\"step-1\\\": \\\"The Common Core State Standard CCSS.ELA-LITERACY.W.4.9 states that 4th-grade students should 'Draw evidence from literary or informational texts to support analysis, reflection, and research.'\\\",\\n\\t\\\"step-2\\\": \\\"The assessment will test the student's ability to extract information from a context paragraph related to the ocean. The student should then use this information to support their analysis or reflection in response to a specific free-response question.\\\",\\n\\t\\\"step-3\\\": \\\"For a 4th-grade level, the context paragraph should be between 100-150 words. It should contain a mix of factual and interpretive details, providing a well-rounded basis for answering the free-response question.\\\",\\n\\t\\\"context\\\": \\\"The ocean covers more than 70% of Earth's surface and serves as home to a myriad of creatures, from microscopic plankton to massive whales. It also plays a crucial role in regulating the planet's climate by absorbing carbon dioxide. Coral reefs, often referred to as the 'rainforests of the sea,' host a variety of marine life and contribute to biodiversity. However, human activities like pollution, overfishing, and climate change are putting ocean ecosystems at risk. Notable efforts are being made to conserve this vital resource, including the creation of marine protected areas and public awareness campaigns.\\\",\\n\\t\\\"frq\\\": \\\"Based on the context provided, what are some ways the ocean is important to Earth and its inhabitants? Also, what challenges are oceans facing according to the text? Provide evidence from the text to support your answer.\\\"\\n}```\",\n",
      "  \"EXAMPLE_RUBRIC_01\": \"User input: Common Core State Standard is CCSS.ELA-LITERACY.W.4.9. Take into consideration the definition of this standard provided below in step-1.\\nCONTEXT and FREE RESPONSE QUESTION are also included in following JSON: \\n{\\n\\t\\\"step-1\\\": \\\"The Common Core State Standard CCSS.ELA-LITERACY.W.4.9 states that 4th-grade students should 'Draw evidence from literary or informational texts to support analysis, reflection, and research.'\\\",\\n\\t\\\"step-2\\\": \\\"The assessment will test the student's ability to extract information from a context paragraph related to the ocean. The student should then use this information to support their analysis or reflection in response to a specific free-response question.\\\",\\n\\t\\\"step-3\\\": \\\"For a 4th-grade level, the context paragraph should be between 100-150 words. It should contain a mix of factual and interpretive details, providing a well-rounded basis for answering the free-response question.\\\",\\n\\t\\\"context\\\": \\\"The ocean covers more than 70% of Earth's surface and serves as home to a myriad of creatures, from microscopic plankton to massive whales. It also plays a crucial role in regulating the planet's climate by absorbing carbon dioxide. Coral reefs, often referred to as the 'rainforests of the sea,' host a variety of marine life and contribute to biodiversity. However, human activities like pollution, overfishing, and climate change are putting ocean ecosystems at risk. Notable efforts are being made to conserve this vital resource, including the creation of marine protected areas and public awareness campaigns.\\\",\\n\\t\\\"frq\\\": \\\"Based on the context provided, what are some ways the ocean is important to Earth and its inhabitants? Also, what challenges are oceans facing according to the text? Provide evidence from the text to support your answer.\\\"\\n}\\nAssistant answer: ```json{\\n\\t\\\"rubric\\\": \\\"### Assessment Rubric for Free Response Question\\n\\n#### Criteria for Evaluation\\n\\n1. **Drawing Evidence (5 points)**: Student must draw clear evidence from the context paragraph to support their answer.\\n    - 5 points: Provides direct quotes or paraphrases that are highly relevant to the question.\\n    - 3 points: Provides some evidence but it's either partially relevant or not directly quoted.\\n    - 1 point: Makes a generalized or vague reference to the text.\\n    - 0 points: Does not reference the text.\\n\\n2. **Analysis and Reflection (5 points)**: Student should analyze the importance of the ocean to Earth and its challenges, and may include personal reflection.\\n    - 5 points: Thoroughly analyzes both the importance and challenges, possibly including personal reflection.\\n    - 3 points: Partially analyzes either the importance or challenges, with some evidence.\\n    - 1 point: Minimal analysis with limited or no evidence.\\n    - 0 points: No analysis or reflection.\\n\\n3. **Clarity and Organization (3 points)**: Answer should be clear, concise, and well-organized.\\n    - 3 points: Answer is clear, concise, and logically organized.\\n    - 2 points: Answer is mostly clear but may lack some organization.\\n    - 1 point: Answer is disorganized or unclear.\\n    - 0 points: Answer is incomprehensible.\\n\\n4. **Grammar and Mechanics (2 points)**: The answer should be free of grammatical and spelling errors.\\n    - 2 points: No errors.\\n    - 1 point: Few minor errors.\\n    - 0 points: Numerous errors that hinder comprehension.\\n\\n### Scoring Guide\\n- 13-15 points: Excellent\\n- 10-12 points: Good\\n- 6-9 points: Needs Improvement\\n- 0-5 points: Unsatisfactory\\\"\\n}```\",\n",
      "  \"EXAMPLE_RUBRIC_02\": \"Common Core State Standard is CCSS.ELA-LITERACY.W.6.3. Take into consideration the definition of this standard provided below in step-1.\\nCONTEXT and FREE RESPONSE QUESTION are also included in following JSON: \\n{\\n\\t\\\"step-1\\\": \\\"The standard CCSS.ELA-LITERACY.W.6.3 requires students to write narratives to develop real or imagined experiences or events using effective technique, relevant descriptive details, and well-structured event sequences.\\\",\\n\\t\\\"step-2\\\": \\\"The assessment must test the student's ability to write a narrative that includes effective techniques, relevant descriptive details, and a well-structured event sequence.\\\",\\n\\t\\\"step-3\\\": \\\"The CONTEXT paragraph should be sufficiently detailed but not excessively long, providing enough complexity for a 6th-grade student to generate a narrative based on it.\\\",\\n\\t\\\"context\\\": \\\"Maria had a morning routine that she followed every single day. She would start her day by waking up to the sound of her melodious alarm at 6:30 a.m. After quickly turning it off, she'd head to the kitchen where her mom would already have a steaming cup of hot chocolate waiting for her. Next, she would grab her toothbrush and toothpaste and head to the bathroom to brush her teeth. The bathroom mirror would be slightly fogged up from her older brother's hot shower, making her trace smiley faces on it before wiping it clean. Once she was ready, she'd head to her room to put on her favorite outfit: a blue shirt with white stars, and jeans that had a small rip on the knee which, according to her, gave it character. After getting dressed, she would sit at her desk and skim through her planner to prepare for the day ahead, occasionally jotting down notes in the margins.\\\",\\n\\t\\\"frq\\\": \\\"Write a narrative from Maria's perspective about a particular morning where something unexpected happens during her routine. Use effective narrative techniques, integrate relevant descriptive details, and structure the events in a sequential manner. Make sure your narrative has a beginning, middle, and end. Include dialogue, internal thoughts, or actions that help to develop the characters and events.\\\"\\n}\\nAssistant answer: ```json{\\n\\t\\\"rubric\\\": \\\"1. Effective Techniques (0-10 points): 0-2 points for lacking effective techniques, 3-5 for some use, 6-8 for good use, and 9-10 for excellent use.\\n2. Relevant Descriptive Details (0-10 points): 0-2 points for lacking details, 3-5 for some details, 6-8 for good details, and 9-10 for excellent details.\\n3. Well-Structured Event Sequences (0-10 points): 0-2 for poor structure, 3-5 for some structure, 6-8 for good structure, and 9-10 for excellent structure.\\n4. Dialogue, Internal Thoughts, Actions to Develop Characters and Events (0-5 points): 0-1 for lacking elements, 2-3 for some use, and 4-5 for effective use.\\n5. Beginning, Middle, and End (0-5 points): 0-1 for missing or unclear, 2-3 for present but lacking, and 4-5 for clear and effective.\\\"\\n}```\",\n",
      "  \"reasoning_context_frq\": \"```json\\n{\\n\\t\\\"step-1\\\": \\\"The Common Core State Standard CCSS.ELA-LITERACY.W.4.9 states that 4th-grade students should 'Draw evidence from literary or informational texts to support analysis, reflection, and research.'\\\",\\n\\t\\\"step-2\\\": \\\"The assessment will test the student's ability to extract information from a context paragraph related to the desert. The student should then use this information to support their analysis or reflection in response to a specific free-response question.\\\",\\n\\t\\\"step-3\\\": \\\"For a 4th-grade level, the context paragraph should be between 100-150 words. It should contain a mix of factual and interpretive details, providing a well-rounded basis for answering the free-response question.\\\",\\n\\t\\\"context\\\": \\\"Deserts are dry and barren regions that receive very little rainfall. They can be found on every continent and cover approximately one-third of the Earth's land surface. Despite the harsh conditions, many animals and plants have adapted to life in the desert. For example, the saguaro cactus can store water for long periods of time, while the kangaroo rat gets all the moisture it needs from the seeds it eats. The desert is also home to many unique geological formations, such as sand dunes and canyons. However, deserts are facing many challenges, including human activities like mining and oil drilling, which can disrupt fragile ecosystems. Climate change is also causing desertification in some regions, making it difficult for plants and animals to survive.\\\",\\n\\t\\\"frq\\\": \\\"Based on the context provided, what are some adaptations that desert animals and plants have developed to survive in their environment? Additionally, what are some threats to desert ecosystems and how do they impact the plants and animals that live there? Use evidence from the text to support your answer.\\\"\\n}\\n```\"\n",
      "}\n",
      "\u001b[32;1m\u001b[1;3m[llm/start]\u001b[0m \u001b[1m[1:chain:SequentialChain > 4:chain:LLMChain > 5:llm:ChatOpenAI] Entering LLM run with input:\n",
      "\u001b[0m{\n",
      "  \"prompts\": [\n",
      "    \"System: \\nYou are an helpfull assistant. User will provide you Common Core State Standard. You will also be provided with CONTEXT and FREE RESPONSE QUESTION.\\nYou will output a rubric for this assesment task as expected by the Common Core State Standard definition provided by user.\\nThe output should be a markdown code snippet formatted in the following schema, including the leading and trailing \\\"```json\\\" and \\\"```\\\":\\n\\n```json\\n{\\n\\t\\\"rubric\\\": string  // Rubric for this assesment task as expected by the Common Core State Standard definition provided by user\\n}\\n```\\n\\nHere are EXAMPLES of good answer:\\n#### EXAMPLE 1\\nUser input: Common Core State Standard is CCSS.ELA-LITERACY.W.4.9. Take into consideration the definition of this standard provided below in step-1.\\nCONTEXT and FREE RESPONSE QUESTION are also included in following JSON: \\n{\\n\\t\\\"step-1\\\": \\\"The Common Core State Standard CCSS.ELA-LITERACY.W.4.9 states that 4th-grade students should 'Draw evidence from literary or informational texts to support analysis, reflection, and research.'\\\",\\n\\t\\\"step-2\\\": \\\"The assessment will test the student's ability to extract information from a context paragraph related to the ocean. The student should then use this information to support their analysis or reflection in response to a specific free-response question.\\\",\\n\\t\\\"step-3\\\": \\\"For a 4th-grade level, the context paragraph should be between 100-150 words. It should contain a mix of factual and interpretive details, providing a well-rounded basis for answering the free-response question.\\\",\\n\\t\\\"context\\\": \\\"The ocean covers more than 70% of Earth's surface and serves as home to a myriad of creatures, from microscopic plankton to massive whales. It also plays a crucial role in regulating the planet's climate by absorbing carbon dioxide. Coral reefs, often referred to as the 'rainforests of the sea,' host a variety of marine life and contribute to biodiversity. However, human activities like pollution, overfishing, and climate change are putting ocean ecosystems at risk. Notable efforts are being made to conserve this vital resource, including the creation of marine protected areas and public awareness campaigns.\\\",\\n\\t\\\"frq\\\": \\\"Based on the context provided, what are some ways the ocean is important to Earth and its inhabitants? Also, what challenges are oceans facing according to the text? Provide evidence from the text to support your answer.\\\"\\n}\\nAssistant answer: ```json{\\n\\t\\\"rubric\\\": \\\"### Assessment Rubric for Free Response Question\\n\\n#### Criteria for Evaluation\\n\\n1. **Drawing Evidence (5 points)**: Student must draw clear evidence from the context paragraph to support their answer.\\n    - 5 points: Provides direct quotes or paraphrases that are highly relevant to the question.\\n    - 3 points: Provides some evidence but it's either partially relevant or not directly quoted.\\n    - 1 point: Makes a generalized or vague reference to the text.\\n    - 0 points: Does not reference the text.\\n\\n2. **Analysis and Reflection (5 points)**: Student should analyze the importance of the ocean to Earth and its challenges, and may include personal reflection.\\n    - 5 points: Thoroughly analyzes both the importance and challenges, possibly including personal reflection.\\n    - 3 points: Partially analyzes either the importance or challenges, with some evidence.\\n    - 1 point: Minimal analysis with limited or no evidence.\\n    - 0 points: No analysis or reflection.\\n\\n3. **Clarity and Organization (3 points)**: Answer should be clear, concise, and well-organized.\\n    - 3 points: Answer is clear, concise, and logically organized.\\n    - 2 points: Answer is mostly clear but may lack some organization.\\n    - 1 point: Answer is disorganized or unclear.\\n    - 0 points: Answer is incomprehensible.\\n\\n4. **Grammar and Mechanics (2 points)**: The answer should be free of grammatical and spelling errors.\\n    - 2 points: No errors.\\n    - 1 point: Few minor errors.\\n    - 0 points: Numerous errors that hinder comprehension.\\n\\n### Scoring Guide\\n- 13-15 points: Excellent\\n- 10-12 points: Good\\n- 6-9 points: Needs Improvement\\n- 0-5 points: Unsatisfactory\\\"\\n}```\\n#### EXAMPLE 2\\nCommon Core State Standard is CCSS.ELA-LITERACY.W.6.3. Take into consideration the definition of this standard provided below in step-1.\\nCONTEXT and FREE RESPONSE QUESTION are also included in following JSON: \\n{\\n\\t\\\"step-1\\\": \\\"The standard CCSS.ELA-LITERACY.W.6.3 requires students to write narratives to develop real or imagined experiences or events using effective technique, relevant descriptive details, and well-structured event sequences.\\\",\\n\\t\\\"step-2\\\": \\\"The assessment must test the student's ability to write a narrative that includes effective techniques, relevant descriptive details, and a well-structured event sequence.\\\",\\n\\t\\\"step-3\\\": \\\"The CONTEXT paragraph should be sufficiently detailed but not excessively long, providing enough complexity for a 6th-grade student to generate a narrative based on it.\\\",\\n\\t\\\"context\\\": \\\"Maria had a morning routine that she followed every single day. She would start her day by waking up to the sound of her melodious alarm at 6:30 a.m. After quickly turning it off, she'd head to the kitchen where her mom would already have a steaming cup of hot chocolate waiting for her. Next, she would grab her toothbrush and toothpaste and head to the bathroom to brush her teeth. The bathroom mirror would be slightly fogged up from her older brother's hot shower, making her trace smiley faces on it before wiping it clean. Once she was ready, she'd head to her room to put on her favorite outfit: a blue shirt with white stars, and jeans that had a small rip on the knee which, according to her, gave it character. After getting dressed, she would sit at her desk and skim through her planner to prepare for the day ahead, occasionally jotting down notes in the margins.\\\",\\n\\t\\\"frq\\\": \\\"Write a narrative from Maria's perspective about a particular morning where something unexpected happens during her routine. Use effective narrative techniques, integrate relevant descriptive details, and structure the events in a sequential manner. Make sure your narrative has a beginning, middle, and end. Include dialogue, internal thoughts, or actions that help to develop the characters and events.\\\"\\n}\\nAssistant answer: ```json{\\n\\t\\\"rubric\\\": \\\"1. Effective Techniques (0-10 points): 0-2 points for lacking effective techniques, 3-5 for some use, 6-8 for good use, and 9-10 for excellent use.\\n2. Relevant Descriptive Details (0-10 points): 0-2 points for lacking details, 3-5 for some details, 6-8 for good details, and 9-10 for excellent details.\\n3. Well-Structured Event Sequences (0-10 points): 0-2 for poor structure, 3-5 for some structure, 6-8 for good structure, and 9-10 for excellent structure.\\n4. Dialogue, Internal Thoughts, Actions to Develop Characters and Events (0-5 points): 0-1 for lacking elements, 2-3 for some use, and 4-5 for effective use.\\n5. Beginning, Middle, and End (0-5 points): 0-1 for missing or unclear, 2-3 for present but lacking, and 4-5 for clear and effective.\\\"\\n}```\\n\\nHuman: Common Core State Standard is CCSS.ELA-LITERACY.W.4.9. Take into consideration the definition of this standard provided below in step-1.\\nCONTEXT and FREE RESPONSE QUESTION are also included in following JSON: \\n```json\\n{\\n\\t\\\"step-1\\\": \\\"The Common Core State Standard CCSS.ELA-LITERACY.W.4.9 states that 4th-grade students should 'Draw evidence from literary or informational texts to support analysis, reflection, and research.'\\\",\\n\\t\\\"step-2\\\": \\\"The assessment will test the student's ability to extract information from a context paragraph related to the desert. The student should then use this information to support their analysis or reflection in response to a specific free-response question.\\\",\\n\\t\\\"step-3\\\": \\\"For a 4th-grade level, the context paragraph should be between 100-150 words. It should contain a mix of factual and interpretive details, providing a well-rounded basis for answering the free-response question.\\\",\\n\\t\\\"context\\\": \\\"Deserts are dry and barren regions that receive very little rainfall. They can be found on every continent and cover approximately one-third of the Earth's land surface. Despite the harsh conditions, many animals and plants have adapted to life in the desert. For example, the saguaro cactus can store water for long periods of time, while the kangaroo rat gets all the moisture it needs from the seeds it eats. The desert is also home to many unique geological formations, such as sand dunes and canyons. However, deserts are facing many challenges, including human activities like mining and oil drilling, which can disrupt fragile ecosystems. Climate change is also causing desertification in some regions, making it difficult for plants and animals to survive.\\\",\\n\\t\\\"frq\\\": \\\"Based on the context provided, what are some adaptations that desert animals and plants have developed to survive in their environment? Additionally, what are some threats to desert ecosystems and how do they impact the plants and animals that live there? Use evidence from the text to support your answer.\\\"\\n}\\n```.\"\n",
      "  ]\n",
      "}\n",
      "\u001b[36;1m\u001b[1;3m[llm/end]\u001b[0m \u001b[1m[1:chain:SequentialChain > 4:chain:LLMChain > 5:llm:ChatOpenAI] [7.56s] Exiting LLM run with output:\n",
      "\u001b[0m{\n",
      "  \"generations\": [\n",
      "    [\n",
      "      {\n",
      "        \"text\": \"```json\\n{\\n\\t\\\"rubric\\\": \\\"### Assessment Rubric for Free Response Question\\n\\n#### Criteria for Evaluation\\n\\n1. **Drawing Evidence (5 points)**: Student must draw clear evidence from the context paragraph to support their answer.\\n    - 5 points: Provides direct quotes or paraphrases that are highly relevant to the question.\\n    - 3 points: Provides some evidence but it's either partially relevant or not directly quoted.\\n    - 1 point: Makes a generalized or vague reference to the text.\\n    - 0 points: Does not reference the text.\\n\\n2. **Analysis and Reflection (5 points)**: Student should analyze the adaptations of desert animals and plants and the threats to desert ecosystems, and may include personal reflection.\\n    - 5 points: Thoroughly analyzes both the adaptations and threats, possibly including personal reflection.\\n    - 3 points: Partially analyzes either the adaptations or threats, with some evidence.\\n    - 1 point: Minimal analysis with limited or no evidence.\\n    - 0 points: No analysis or reflection.\\n\\n3. **Clarity and Organization (3 points)**: Answer should be clear, concise, and well-organized.\\n    - 3 points: Answer is clear, concise, and logically organized.\\n    - 2 points: Answer is mostly clear but may lack some organization.\\n    - 1 point: Answer is disorganized or unclear.\\n    - 0 points: Answer is incomprehensible.\\n\\n4. **Grammar and Mechanics (2 points)**: The answer should be free of grammatical and spelling errors.\\n    - 2 points: No errors.\\n    - 1 point: Few minor errors.\\n    - 0 points: Numerous errors that hinder comprehension.\\n\\n### Scoring Guide\\n- 13-15 points: Excellent\\n- 10-12 points: Good\\n- 6-9 points: Needs Improvement\\n- 0-5 points: Unsatisfactory\\\"\\n}\\n```\",\n",
      "        \"generation_info\": {\n",
      "          \"finish_reason\": \"stop\"\n",
      "        },\n",
      "        \"message\": {\n",
      "          \"lc\": 1,\n",
      "          \"type\": \"constructor\",\n",
      "          \"id\": [\n",
      "            \"langchain\",\n",
      "            \"schema\",\n",
      "            \"messages\",\n",
      "            \"AIMessage\"\n",
      "          ],\n",
      "          \"kwargs\": {\n",
      "            \"content\": \"```json\\n{\\n\\t\\\"rubric\\\": \\\"### Assessment Rubric for Free Response Question\\n\\n#### Criteria for Evaluation\\n\\n1. **Drawing Evidence (5 points)**: Student must draw clear evidence from the context paragraph to support their answer.\\n    - 5 points: Provides direct quotes or paraphrases that are highly relevant to the question.\\n    - 3 points: Provides some evidence but it's either partially relevant or not directly quoted.\\n    - 1 point: Makes a generalized or vague reference to the text.\\n    - 0 points: Does not reference the text.\\n\\n2. **Analysis and Reflection (5 points)**: Student should analyze the adaptations of desert animals and plants and the threats to desert ecosystems, and may include personal reflection.\\n    - 5 points: Thoroughly analyzes both the adaptations and threats, possibly including personal reflection.\\n    - 3 points: Partially analyzes either the adaptations or threats, with some evidence.\\n    - 1 point: Minimal analysis with limited or no evidence.\\n    - 0 points: No analysis or reflection.\\n\\n3. **Clarity and Organization (3 points)**: Answer should be clear, concise, and well-organized.\\n    - 3 points: Answer is clear, concise, and logically organized.\\n    - 2 points: Answer is mostly clear but may lack some organization.\\n    - 1 point: Answer is disorganized or unclear.\\n    - 0 points: Answer is incomprehensible.\\n\\n4. **Grammar and Mechanics (2 points)**: The answer should be free of grammatical and spelling errors.\\n    - 2 points: No errors.\\n    - 1 point: Few minor errors.\\n    - 0 points: Numerous errors that hinder comprehension.\\n\\n### Scoring Guide\\n- 13-15 points: Excellent\\n- 10-12 points: Good\\n- 6-9 points: Needs Improvement\\n- 0-5 points: Unsatisfactory\\\"\\n}\\n```\",\n",
      "            \"additional_kwargs\": {}\n",
      "          }\n",
      "        }\n",
      "      }\n",
      "    ]\n",
      "  ],\n",
      "  \"llm_output\": {\n",
      "    \"token_usage\": {\n",
      "      \"completion_tokens\": 396,\n",
      "      \"prompt_tokens\": 2015,\n",
      "      \"total_tokens\": 2411\n",
      "    },\n",
      "    \"model_name\": \"gpt-3.5-turbo\"\n",
      "  },\n",
      "  \"run\": null\n",
      "}\n",
      "\u001b[36;1m\u001b[1;3m[chain/end]\u001b[0m \u001b[1m[1:chain:SequentialChain > 4:chain:LLMChain] [7.56s] Exiting Chain run with output:\n",
      "\u001b[0m{\n",
      "  \"rubric\": \"```json\\n{\\n\\t\\\"rubric\\\": \\\"### Assessment Rubric for Free Response Question\\n\\n#### Criteria for Evaluation\\n\\n1. **Drawing Evidence (5 points)**: Student must draw clear evidence from the context paragraph to support their answer.\\n    - 5 points: Provides direct quotes or paraphrases that are highly relevant to the question.\\n    - 3 points: Provides some evidence but it's either partially relevant or not directly quoted.\\n    - 1 point: Makes a generalized or vague reference to the text.\\n    - 0 points: Does not reference the text.\\n\\n2. **Analysis and Reflection (5 points)**: Student should analyze the adaptations of desert animals and plants and the threats to desert ecosystems, and may include personal reflection.\\n    - 5 points: Thoroughly analyzes both the adaptations and threats, possibly including personal reflection.\\n    - 3 points: Partially analyzes either the adaptations or threats, with some evidence.\\n    - 1 point: Minimal analysis with limited or no evidence.\\n    - 0 points: No analysis or reflection.\\n\\n3. **Clarity and Organization (3 points)**: Answer should be clear, concise, and well-organized.\\n    - 3 points: Answer is clear, concise, and logically organized.\\n    - 2 points: Answer is mostly clear but may lack some organization.\\n    - 1 point: Answer is disorganized or unclear.\\n    - 0 points: Answer is incomprehensible.\\n\\n4. **Grammar and Mechanics (2 points)**: The answer should be free of grammatical and spelling errors.\\n    - 2 points: No errors.\\n    - 1 point: Few minor errors.\\n    - 0 points: Numerous errors that hinder comprehension.\\n\\n### Scoring Guide\\n- 13-15 points: Excellent\\n- 10-12 points: Good\\n- 6-9 points: Needs Improvement\\n- 0-5 points: Unsatisfactory\\\"\\n}\\n```\"\n",
      "}\n",
      "\u001b[36;1m\u001b[1;3m[chain/end]\u001b[0m \u001b[1m[1:chain:SequentialChain] [16.29s] Exiting Chain run with output:\n",
      "\u001b[0m{\n",
      "  \"rubric\": \"```json\\n{\\n\\t\\\"rubric\\\": \\\"### Assessment Rubric for Free Response Question\\n\\n#### Criteria for Evaluation\\n\\n1. **Drawing Evidence (5 points)**: Student must draw clear evidence from the context paragraph to support their answer.\\n    - 5 points: Provides direct quotes or paraphrases that are highly relevant to the question.\\n    - 3 points: Provides some evidence but it's either partially relevant or not directly quoted.\\n    - 1 point: Makes a generalized or vague reference to the text.\\n    - 0 points: Does not reference the text.\\n\\n2. **Analysis and Reflection (5 points)**: Student should analyze the adaptations of desert animals and plants and the threats to desert ecosystems, and may include personal reflection.\\n    - 5 points: Thoroughly analyzes both the adaptations and threats, possibly including personal reflection.\\n    - 3 points: Partially analyzes either the adaptations or threats, with some evidence.\\n    - 1 point: Minimal analysis with limited or no evidence.\\n    - 0 points: No analysis or reflection.\\n\\n3. **Clarity and Organization (3 points)**: Answer should be clear, concise, and well-organized.\\n    - 3 points: Answer is clear, concise, and logically organized.\\n    - 2 points: Answer is mostly clear but may lack some organization.\\n    - 1 point: Answer is disorganized or unclear.\\n    - 0 points: Answer is incomprehensible.\\n\\n4. **Grammar and Mechanics (2 points)**: The answer should be free of grammatical and spelling errors.\\n    - 2 points: No errors.\\n    - 1 point: Few minor errors.\\n    - 0 points: Numerous errors that hinder comprehension.\\n\\n### Scoring Guide\\n- 13-15 points: Excellent\\n- 10-12 points: Good\\n- 6-9 points: Needs Improvement\\n- 0-5 points: Unsatisfactory\\\"\\n}\\n```\",\n",
      "  \"reasoning_context_frq\": \"```json\\n{\\n\\t\\\"step-1\\\": \\\"The Common Core State Standard CCSS.ELA-LITERACY.W.4.9 states that 4th-grade students should 'Draw evidence from literary or informational texts to support analysis, reflection, and research.'\\\",\\n\\t\\\"step-2\\\": \\\"The assessment will test the student's ability to extract information from a context paragraph related to the desert. The student should then use this information to support their analysis or reflection in response to a specific free-response question.\\\",\\n\\t\\\"step-3\\\": \\\"For a 4th-grade level, the context paragraph should be between 100-150 words. It should contain a mix of factual and interpretive details, providing a well-rounded basis for answering the free-response question.\\\",\\n\\t\\\"context\\\": \\\"Deserts are dry and barren regions that receive very little rainfall. They can be found on every continent and cover approximately one-third of the Earth's land surface. Despite the harsh conditions, many animals and plants have adapted to life in the desert. For example, the saguaro cactus can store water for long periods of time, while the kangaroo rat gets all the moisture it needs from the seeds it eats. The desert is also home to many unique geological formations, such as sand dunes and canyons. However, deserts are facing many challenges, including human activities like mining and oil drilling, which can disrupt fragile ecosystems. Climate change is also causing desertification in some regions, making it difficult for plants and animals to survive.\\\",\\n\\t\\\"frq\\\": \\\"Based on the context provided, what are some adaptations that desert animals and plants have developed to survive in their environment? Additionally, what are some threats to desert ecosystems and how do they impact the plants and animals that live there? Use evidence from the text to support your answer.\\\"\\n}\\n```\"\n",
      "}\n"
     ]
    }
   ],
   "source": [
    "overall_chain = SequentialChain(\n",
    "    chains=[chain1, chain2],\n",
    "    input_variables=[\"standard\",\"topic\",\"fmt_instr_rubric\",\"fmt_instr_frq\",\"EXAMPLE_FRQ_01\",\"EXAMPLE_FRQ_02\",\"EXAMPLE_RUBRIC_01\",\"EXAMPLE_RUBRIC_02\"],\n",
    "    output_variables=[\"rubric\",\"reasoning_context_frq\"],\n",
    "    verbose=True\n",
    ")\n",
    "\n",
    "with no_ssl_verification():\n",
    "    solution = overall_chain({\"standard\":\"CCSS.ELA-LITERACY.W.4.9\", \n",
    "                              \"topic\":\"desert\", \n",
    "                              \"fmt_instr_rubric\":fmt_instr_rubric, \n",
    "                              \"fmt_instr_frq\":fmt_instr_frq, \n",
    "                              \"EXAMPLE_FRQ_01\":EXAMPLE_FRQ_01, \n",
    "                              \"EXAMPLE_FRQ_02\":EXAMPLE_FRQ_02,\n",
    "                              \"EXAMPLE_RUBRIC_01\":EXAMPLE_RUBRIC_01, \n",
    "                              \"EXAMPLE_RUBRIC_02\":EXAMPLE_RUBRIC_02})"
   ]
  },
  {
   "cell_type": "code",
   "execution_count": 62,
   "metadata": {},
   "outputs": [
    {
     "data": {
      "text/plain": [
       "{'step-1': \"The Common Core State Standard CCSS.ELA-LITERACY.W.4.9 states that 4th-grade students should 'Draw evidence from literary or informational texts to support analysis, reflection, and research.'\",\n",
       " 'step-2': \"The assessment will test the student's ability to extract information from a context paragraph related to the desert. The student should then use this information to support their analysis or reflection in response to a specific free-response question.\",\n",
       " 'step-3': 'For a 4th-grade level, the context paragraph should be between 100-150 words. It should contain a mix of factual and interpretive details, providing a well-rounded basis for answering the free-response question.',\n",
       " 'context': \"Deserts are dry and barren regions that receive very little rainfall. They can be found on every continent and cover approximately one-third of the Earth's land surface. Despite the harsh conditions, many animals and plants have adapted to life in the desert. For example, the saguaro cactus can store water for long periods of time, while the kangaroo rat gets all the moisture it needs from the seeds it eats. The desert is also home to many unique geological formations, such as sand dunes and canyons. However, deserts are facing many challenges, including human activities like mining and oil drilling, which can disrupt fragile ecosystems. Climate change is also causing desertification in some regions, making it difficult for plants and animals to survive.\",\n",
       " 'frq': 'Based on the context provided, what are some adaptations that desert animals and plants have developed to survive in their environment? Additionally, what are some threats to desert ecosystems and how do they impact the plants and animals that live there? Use evidence from the text to support your answer.'}"
      ]
     },
     "execution_count": 62,
     "metadata": {},
     "output_type": "execute_result"
    }
   ],
   "source": [
    "# DEBUG\n",
    "# output_parser_rubric.parse(solution['rubric'])\n",
    "output_parser_frq.parse(solution['reasoning_context_frq'])\n",
    "# output_parser_frq.parse(solution['reasoning_context_frq'])['frq']\n"
   ]
  },
  {
   "cell_type": "markdown",
   "metadata": {},
   "source": [
    "# Chain 3 -QA"
   ]
  },
  {
   "cell_type": "code",
   "execution_count": 92,
   "metadata": {},
   "outputs": [
    {
     "name": "stdout",
     "output_type": "stream",
     "text": [
      "The output should be a markdown code snippet formatted in the following schema, including the leading and trailing \"```json\" and \"```\":\n",
      "\n",
      "```json\n",
      "{\n",
      "\t\"rubric_qa_passed\": string  // Boolean value to idicate if the RUBRIC is meeting the Common Core State Standard provided by user. True = meets, False = Does not meet\n",
      "\t\"rubric_qa_reason\": string  // Justification why RUBRICS isnt meeting Common Core State Standard. If the Rubric is meeting CCSS provide value N/A\n",
      "\t\"rubric_qa_new\": string  // New regenerated Rubrics meeting Common Core State Standard. If the original Rubric is meeting CCSS provide value N/A\n",
      "}\n",
      "```\n"
     ]
    }
   ],
   "source": [
    "# Define response schema (not really needed, but for consistency)\n",
    "rubric_qa_json = ResponseSchema(name=\"rubric_qa_passed\",\n",
    "                             description=\"Boolean value to idicate if the RUBRIC is meeting the Common Core State Standard provided by user. True = meets, False = Does not meet\")\n",
    "rubric_qa_reason_json = ResponseSchema(name=\"rubric_qa_reason\",\n",
    "                             description=\"Justification why RUBRICS isnt meeting Common Core State Standard. If the Rubric is meeting CCSS provide value N/A\")\n",
    "rubric_qa_new_json = ResponseSchema(name=\"rubric_qa_new\",\n",
    "                             description=\"New regenerated Rubrics meeting Common Core State Standard. If the original Rubric is meeting CCSS provide value N/A\")\n",
    "\n",
    "response_schemas = [rubric_qa_json,rubric_qa_reason_json,rubric_qa_new_json]\n",
    "output_parser_rubric_qa = StructuredOutputParser.from_response_schemas(response_schemas)\n",
    "fmt_instr_rubric_qa = output_parser_rubric_qa.get_format_instructions()\n",
    "print(fmt_instr_rubric_qa)"
   ]
  },
  {
   "cell_type": "code",
   "execution_count": 64,
   "metadata": {},
   "outputs": [],
   "source": [
    "# # to avoid Lanchain considering JSON definition as variable\n",
    "# fmt_instr_rubric_qa_var = \"{fmt_instr_rubric_qa}\""
   ]
  },
  {
   "cell_type": "code",
   "execution_count": 93,
   "metadata": {},
   "outputs": [],
   "source": [
    "system_message = \"\"\"\n",
    "You are an helpfull assistant. User will provide you Common Core State Standard (CCSS).\\\n",
    "You will also be provided with RUBRICS related to the CCSS.\n",
    "You will evaluate if provided RUBRICS alignes CCSS requirements, i.e. if it allignes with skills and competencies outlined by the provided CCSS standard itself.\n",
    "If the RUBRICS meets or mostly meets the CCSS requirements you will output \"True\". Otherwise output \"False\". \n",
    "In case you respond \"False\" also provide:\n",
    "1. Justification what is missing or incorrect.\n",
    "2. Adjusted Rubrics, that will be based on the existing, but enhanced to align better to the provided CCSS.\n",
    "{fmt_instr_rubric_qa}\n",
    "\"\"\""
   ]
  },
  {
   "cell_type": "code",
   "execution_count": 94,
   "metadata": {},
   "outputs": [],
   "source": [
    "# Make SystemMessagePromptTemplate\n",
    "prompt=PromptTemplate(\n",
    "    template=system_message,\n",
    "    input_variables=[\"fmt_instr_rubric_qa\"]\n",
    ")\n",
    "\n",
    "system_message_prompt = SystemMessagePromptTemplate(prompt=prompt)"
   ]
  },
  {
   "cell_type": "code",
   "execution_count": 95,
   "metadata": {},
   "outputs": [],
   "source": [
    "CCSS_RUBRIC_QA = \"\"\"Common Core State Standard is {standard}. Rubrics to be evaluated is in JSON format: \n",
    "{rubric}.\"\"\""
   ]
  },
  {
   "cell_type": "code",
   "execution_count": 96,
   "metadata": {},
   "outputs": [],
   "source": [
    "# Make HumanMessagePromptTemplate\n",
    "human_message_prompt = HumanMessagePromptTemplate.from_template(CCSS_RUBRIC_QA)"
   ]
  },
  {
   "cell_type": "code",
   "execution_count": 97,
   "metadata": {},
   "outputs": [
    {
     "data": {
      "text/plain": [
       "ChatPromptTemplate(input_variables=['fmt_instr_rubric_qa', 'rubric', 'standard'], output_parser=None, partial_variables={}, messages=[SystemMessagePromptTemplate(prompt=PromptTemplate(input_variables=['fmt_instr_rubric_qa'], output_parser=None, partial_variables={}, template='\\nYou are an helpfull assistant. User will provide you Common Core State Standard (CCSS).You will also be provided with RUBRICS related to the CCSS.\\nYou will evaluate if provided RUBRICS alignes CCSS requirements, i.e. if it allignes with skills and competencies outlined by the provided CCSS standard itself.\\nIf the RUBRICS meets or mostly meets the CCSS requirements you will output \"True\". Otherwise output \"False\". \\nIn case you respond \"False\" also provide:\\n1. Justification what is missing or incorrect.\\n2. Adjusted Rubrics, that will be based on the existing, but enhanced to align better to the provided CCSS.\\n{fmt_instr_rubric_qa}\\n', template_format='f-string', validate_template=True), additional_kwargs={}), HumanMessagePromptTemplate(prompt=PromptTemplate(input_variables=['rubric', 'standard'], output_parser=None, partial_variables={}, template='Common Core State Standard is {standard}. Rubrics to be evaluated is in JSON format: \\n{rubric}.', template_format='f-string', validate_template=True), additional_kwargs={})])"
      ]
     },
     "execution_count": 97,
     "metadata": {},
     "output_type": "execute_result"
    }
   ],
   "source": [
    "# Create ChatPromptTemplate: Combine System + Human\n",
    "chat_prompt = ChatPromptTemplate.from_messages([system_message_prompt, human_message_prompt])\n",
    "chat_prompt"
   ]
  },
  {
   "cell_type": "code",
   "execution_count": 98,
   "metadata": {},
   "outputs": [
    {
     "name": "stderr",
     "output_type": "stream",
     "text": [
      "WARNING! deployment_id is not default parameter.\n",
      "                    deployment_id was transferred to model_kwargs.\n",
      "                    Please confirm that deployment_id is what you intended.\n"
     ]
    }
   ],
   "source": [
    "chain3 = LLMChain(\n",
    "    llm=ChatOpenAI(\n",
    "        temperature=0.0, \n",
    "        openai_api_base=OPENAI_API_BASE,\n",
    "        openai_api_key=OPENAI_API_KEY,\n",
    "        deployment_id = OPENAI_DEPLOYMENT_ID),\n",
    "    prompt = chat_prompt,\n",
    "    output_key=\"rubics_qa\"\n",
    ")"
   ]
  },
  {
   "cell_type": "code",
   "execution_count": 100,
   "metadata": {},
   "outputs": [
    {
     "name": "stdout",
     "output_type": "stream",
     "text": [
      "\u001b[32;1m\u001b[1;3m[chain/start]\u001b[0m \u001b[1m[1:chain:LLMChain] Entering Chain run with input:\n",
      "\u001b[0m{\n",
      "  \"standard\": \"CCSS.ELA-LITERACY.W.4.9\",\n",
      "  \"fmt_instr_rubric_qa\": \"The output should be a markdown code snippet formatted in the following schema, including the leading and trailing \\\"```json\\\" and \\\"```\\\":\\n\\n```json\\n{\\n\\t\\\"rubric_qa_passed\\\": string  // Boolean value to idicate if the RUBRIC is meeting the Common Core State Standard provided by user. True = meets, False = Does not meet\\n\\t\\\"rubric_qa_reason\\\": string  // Justification why RUBRICS isnt meeting Common Core State Standard. If the Rubric is meeting CCSS provide value N/A\\n\\t\\\"rubric_qa_new\\\": string  // New regenerated Rubrics meeting Common Core State Standard. If the original Rubric is meeting CCSS provide value N/A\\n}\\n```\",\n",
      "  \"rubric\": \"```json\\n{\\n\\t\\\"rubric\\\": \\\"### Assessment Rubric for Free Response Question\\n\\n#### Criteria for Evaluation\\n\\n1. **Drawing Evidence (5 points)**: Student must draw clear evidence from the context paragraph to support their answer.\\n    - 5 points: Provides direct quotes or paraphrases that are highly relevant to the question.\\n    - 3 points: Provides some evidence but it's either partially relevant or not directly quoted.\\n    - 1 point: Makes a generalized or vague reference to the text.\\n    - 0 points: Does not reference the text.\\n\\n2. **Analysis and Reflection (5 points)**: Student should analyze the adaptations of desert animals and plants and the threats to desert ecosystems, and may include personal reflection.\\n    - 5 points: Thoroughly analyzes both the adaptations and threats, possibly including personal reflection.\\n    - 3 points: Partially analyzes either the adaptations or threats, with some evidence.\\n    - 1 point: Minimal analysis with limited or no evidence.\\n    - 0 points: No analysis or reflection.\\n\\n3. **Clarity and Organization (3 points)**: Answer should be clear, concise, and well-organized.\\n    - 3 points: Answer is clear, concise, and logically organized.\\n    - 2 points: Answer is mostly clear but may lack some organization.\\n    - 1 point: Answer is disorganized or unclear.\\n    - 0 points: Answer is incomprehensible.\\n\\n4. **Grammar and Mechanics (2 points)**: The answer should be free of grammatical and spelling errors.\\n    - 2 points: No errors.\\n    - 1 point: Few minor errors.\\n    - 0 points: Numerous errors that hinder comprehension.\\n\\n### Scoring Guide\\n- 13-15 points: Excellent\\n- 10-12 points: Good\\n- 6-9 points: Needs Improvement\\n- 0-5 points: Unsatisfactory\\\"\\n}\\n```\"\n",
      "}\n",
      "\u001b[32;1m\u001b[1;3m[llm/start]\u001b[0m \u001b[1m[1:chain:LLMChain > 2:llm:ChatOpenAI] Entering LLM run with input:\n",
      "\u001b[0m{\n",
      "  \"prompts\": [\n",
      "    \"System: \\nYou are an helpfull assistant. User will provide you Common Core State Standard (CCSS).You will also be provided with RUBRICS related to the CCSS.\\nYou will evaluate if provided RUBRICS alignes CCSS requirements, i.e. if it allignes with skills and competencies outlined by the provided CCSS standard itself.\\nIf the RUBRICS meets or mostly meets the CCSS requirements you will output \\\"True\\\". Otherwise output \\\"False\\\". \\nIn case you respond \\\"False\\\" also provide:\\n1. Justification what is missing or incorrect.\\n2. Adjusted Rubrics, that will be based on the existing, but enhanced to align better to the provided CCSS.\\nThe output should be a markdown code snippet formatted in the following schema, including the leading and trailing \\\"```json\\\" and \\\"```\\\":\\n\\n```json\\n{\\n\\t\\\"rubric_qa_passed\\\": string  // Boolean value to idicate if the RUBRIC is meeting the Common Core State Standard provided by user. True = meets, False = Does not meet\\n\\t\\\"rubric_qa_reason\\\": string  // Justification why RUBRICS isnt meeting Common Core State Standard. If the Rubric is meeting CCSS provide value N/A\\n\\t\\\"rubric_qa_new\\\": string  // New regenerated Rubrics meeting Common Core State Standard. If the original Rubric is meeting CCSS provide value N/A\\n}\\n```\\n\\nHuman: Common Core State Standard is CCSS.ELA-LITERACY.W.4.9. Rubrics to be evaluated is in JSON format: \\n```json\\n{\\n\\t\\\"rubric\\\": \\\"### Assessment Rubric for Free Response Question\\n\\n#### Criteria for Evaluation\\n\\n1. **Drawing Evidence (5 points)**: Student must draw clear evidence from the context paragraph to support their answer.\\n    - 5 points: Provides direct quotes or paraphrases that are highly relevant to the question.\\n    - 3 points: Provides some evidence but it's either partially relevant or not directly quoted.\\n    - 1 point: Makes a generalized or vague reference to the text.\\n    - 0 points: Does not reference the text.\\n\\n2. **Analysis and Reflection (5 points)**: Student should analyze the adaptations of desert animals and plants and the threats to desert ecosystems, and may include personal reflection.\\n    - 5 points: Thoroughly analyzes both the adaptations and threats, possibly including personal reflection.\\n    - 3 points: Partially analyzes either the adaptations or threats, with some evidence.\\n    - 1 point: Minimal analysis with limited or no evidence.\\n    - 0 points: No analysis or reflection.\\n\\n3. **Clarity and Organization (3 points)**: Answer should be clear, concise, and well-organized.\\n    - 3 points: Answer is clear, concise, and logically organized.\\n    - 2 points: Answer is mostly clear but may lack some organization.\\n    - 1 point: Answer is disorganized or unclear.\\n    - 0 points: Answer is incomprehensible.\\n\\n4. **Grammar and Mechanics (2 points)**: The answer should be free of grammatical and spelling errors.\\n    - 2 points: No errors.\\n    - 1 point: Few minor errors.\\n    - 0 points: Numerous errors that hinder comprehension.\\n\\n### Scoring Guide\\n- 13-15 points: Excellent\\n- 10-12 points: Good\\n- 6-9 points: Needs Improvement\\n- 0-5 points: Unsatisfactory\\\"\\n}\\n```.\"\n",
      "  ]\n",
      "}\n",
      "\u001b[36;1m\u001b[1;3m[llm/end]\u001b[0m \u001b[1m[1:chain:LLMChain > 2:llm:ChatOpenAI] [2.40s] Exiting LLM run with output:\n",
      "\u001b[0m{\n",
      "  \"generations\": [\n",
      "    [\n",
      "      {\n",
      "        \"text\": \"```json\\n{\\n\\t\\\"rubric_qa_passed\\\": true,\\n\\t\\\"rubric_qa_reason\\\": \\\"N/A\\\",\\n\\t\\\"rubric_qa_new\\\": \\\"N/A\\\"\\n}\\n```\\nThe provided rubric aligns with the CCSS.ELA-LITERACY.W.4.9 standard. It includes criteria for evaluation that assess the student's ability to draw evidence from the text, analyze and reflect on the topic, organize their thoughts, and use proper grammar and mechanics. The rubric also provides a clear scoring guide that aligns with the standard. Therefore, the rubric meets the CCSS requirements.\",\n",
      "        \"generation_info\": {\n",
      "          \"finish_reason\": \"stop\"\n",
      "        },\n",
      "        \"message\": {\n",
      "          \"lc\": 1,\n",
      "          \"type\": \"constructor\",\n",
      "          \"id\": [\n",
      "            \"langchain\",\n",
      "            \"schema\",\n",
      "            \"messages\",\n",
      "            \"AIMessage\"\n",
      "          ],\n",
      "          \"kwargs\": {\n",
      "            \"content\": \"```json\\n{\\n\\t\\\"rubric_qa_passed\\\": true,\\n\\t\\\"rubric_qa_reason\\\": \\\"N/A\\\",\\n\\t\\\"rubric_qa_new\\\": \\\"N/A\\\"\\n}\\n```\\nThe provided rubric aligns with the CCSS.ELA-LITERACY.W.4.9 standard. It includes criteria for evaluation that assess the student's ability to draw evidence from the text, analyze and reflect on the topic, organize their thoughts, and use proper grammar and mechanics. The rubric also provides a clear scoring guide that aligns with the standard. Therefore, the rubric meets the CCSS requirements.\",\n",
      "            \"additional_kwargs\": {}\n",
      "          }\n",
      "        }\n",
      "      }\n",
      "    ]\n",
      "  ],\n",
      "  \"llm_output\": {\n",
      "    \"token_usage\": {\n",
      "      \"completion_tokens\": 127,\n",
      "      \"prompt_tokens\": 730,\n",
      "      \"total_tokens\": 857\n",
      "    },\n",
      "    \"model_name\": \"gpt-3.5-turbo\"\n",
      "  },\n",
      "  \"run\": null\n",
      "}\n",
      "\u001b[36;1m\u001b[1;3m[chain/end]\u001b[0m \u001b[1m[1:chain:LLMChain] [2.40s] Exiting Chain run with output:\n",
      "\u001b[0m{\n",
      "  \"rubics_qa\": \"```json\\n{\\n\\t\\\"rubric_qa_passed\\\": true,\\n\\t\\\"rubric_qa_reason\\\": \\\"N/A\\\",\\n\\t\\\"rubric_qa_new\\\": \\\"N/A\\\"\\n}\\n```\\nThe provided rubric aligns with the CCSS.ELA-LITERACY.W.4.9 standard. It includes criteria for evaluation that assess the student's ability to draw evidence from the text, analyze and reflect on the topic, organize their thoughts, and use proper grammar and mechanics. The rubric also provides a clear scoring guide that aligns with the standard. Therefore, the rubric meets the CCSS requirements.\"\n",
      "}\n"
     ]
    }
   ],
   "source": [
    "# DEBUG\n",
    "chain3\n",
    "with no_ssl_verification():\n",
    "    response = chain3.predict(standard = \"CCSS.ELA-LITERACY.W.4.9\", fmt_instr_rubric_qa=fmt_instr_rubric_qa, rubric=solution['rubric'])"
   ]
  }
 ],
 "metadata": {
  "kernelspec": {
   "display_name": "Python 3",
   "language": "python",
   "name": "python3"
  },
  "language_info": {
   "codemirror_mode": {
    "name": "ipython",
    "version": 3
   },
   "file_extension": ".py",
   "mimetype": "text/x-python",
   "name": "python",
   "nbconvert_exporter": "python",
   "pygments_lexer": "ipython3",
   "version": "3.11.4"
  },
  "orig_nbformat": 4
 },
 "nbformat": 4,
 "nbformat_minor": 2
}
