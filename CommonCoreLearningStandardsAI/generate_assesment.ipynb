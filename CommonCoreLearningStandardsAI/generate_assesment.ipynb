{
 "cells": [
  {
   "cell_type": "markdown",
   "metadata": {},
   "source": [
    "# Generate assesment"
   ]
  },
  {
   "cell_type": "markdown",
   "metadata": {},
   "source": [
    "# Init"
   ]
  },
  {
   "cell_type": "code",
   "execution_count": 1,
   "metadata": {},
   "outputs": [],
   "source": [
    "# Imports \n",
    "import os\n",
    "from dotenv import load_dotenv, find_dotenv\n",
    "\n",
    "# to disable SSL verification that causes problem from my laptop\n",
    "from ssl_workaround import no_ssl_verification\n",
    "\n",
    "# LangChain imports\n",
    "from langchain.chat_models import ChatOpenAI\n",
    "from langchain.prompts import ChatPromptTemplate\n",
    "from langchain.chains import (LLMChain, SequentialChain)\n",
    "\n",
    "# from langchain import LLMChain\n",
    "# from langchain import PromptTemplate\n",
    "from langchain.prompts import PromptTemplate\n",
    "from langchain.prompts.chat import (\n",
    "    ChatPromptTemplate,\n",
    "    SystemMessagePromptTemplate,\n",
    "    AIMessagePromptTemplate,\n",
    "    HumanMessagePromptTemplate,\n",
    ")\n",
    "from langchain.schema import (\n",
    "    AIMessage,\n",
    "    HumanMessage,\n",
    "    SystemMessage\n",
    ")\n",
    "# formatters\n",
    "from langchain.output_parsers import ResponseSchema\n",
    "from langchain.output_parsers import StructuredOutputParser\n",
    "\n",
    "# DEBUG\n",
    "import langchain\n",
    "langchain.debug = True"
   ]
  },
  {
   "cell_type": "code",
   "execution_count": 2,
   "metadata": {},
   "outputs": [],
   "source": [
    "# load secrets from env var\n",
    "_ = load_dotenv(find_dotenv(),verbose=True) # read local .env file\n",
    "\n",
    "# for Azure OpenAI\n",
    "OPENAI_API_KEY = os.getenv(\"OPENAI_API_KEY\")\n",
    "OPENAI_API_BASE = os.getenv(\"OPENAI_API_BASE\")\n",
    "OPENAI_API_TYPE= os.getenv(\"OPENAI_API_TYPE\")\n",
    "OPENAI_API_VERSION = os.getenv(\"OPENAI_API_VERSION\")\n",
    "OPENAI_DEPLOYMENT_ID = os.getenv(\"OPENAI_DEPLOYMENT_ID\")"
   ]
  },
  {
   "cell_type": "markdown",
   "metadata": {},
   "source": [
    "# Chain 1 - Generate Assessment"
   ]
  },
  {
   "cell_type": "code",
   "execution_count": 3,
   "metadata": {},
   "outputs": [
    {
     "name": "stdout",
     "output_type": "stream",
     "text": [
      "The output should be a markdown code snippet formatted in the following schema, including the leading and trailing \"```json\" and \"```\":\n",
      "\n",
      "```json\n",
      "{\n",
      "\t\"step-1\": string  // step 1 reasoning\n",
      "\t\"step-2\": string  // step 2 reasoning\n",
      "\t\"step-3\": string  // step 3 reasoning\n",
      "\t\"context\": string  // generated context paragraph\n",
      "\t\"frq\": string  // generated free respoce question\n",
      "}\n",
      "```\n"
     ]
    }
   ],
   "source": [
    "# Define response schema\n",
    "step1_json = ResponseSchema(name=\"step-1\",\n",
    "                             description=\"step 1 reasoning\")\n",
    "step2_json = ResponseSchema(name=\"step-2\",\n",
    "                             description=\"step 2 reasoning\")\n",
    "step3_json = ResponseSchema(name=\"step-3\",\n",
    "                             description=\"step 3 reasoning\")\n",
    "context_json = ResponseSchema(name=\"context\",\n",
    "                             description=\"generated context paragraph\")\n",
    "frq_json = ResponseSchema(name=\"frq\",\n",
    "                             description=\"generated free respoce question\")\n",
    "\n",
    "\n",
    "response_schemas = [step1_json,step2_json,step3_json,context_json,frq_json]\n",
    "output_parser_frq = StructuredOutputParser.from_response_schemas(response_schemas)\n",
    "fmt_instr_frq = output_parser_frq.get_format_instructions()\n",
    "print(fmt_instr_frq)"
   ]
  },
  {
   "cell_type": "code",
   "execution_count": 4,
   "metadata": {},
   "outputs": [],
   "source": [
    "# to avoid Lanchain considering JSON definition as variable\n",
    "fmt_instr_frq_var = \"{fmt_instr_frq}\"\n",
    "EXAMPLE_FRQ_01_var = \"{EXAMPLE_FRQ_01}\"\n",
    "EXAMPLE_FRQ_02_var = \"{EXAMPLE_FRQ_02}\""
   ]
  },
  {
   "cell_type": "code",
   "execution_count": 5,
   "metadata": {},
   "outputs": [],
   "source": [
    "# Few-shot examples - FRQ & Context\n",
    "EXAMPLE_FRQ_01 = \"\"\"User input: Common Core State Standard is CCSS.ELA-LITERACY.W.6.3 and topic is \"morning routine\".\n",
    "Assistant answer: ```json{\n",
    "\t\"step-1\": \"The standard CCSS.ELA-LITERACY.W.6.3 requires students to write narratives to develop real or imagined experiences or events using effective technique, relevant descriptive details, and well-structured event sequences.\",\n",
    "\t\"step-2\": \"The assessment must test the student's ability to write a narrative that includes effective techniques, relevant descriptive details, and a well-structured event sequence.\",\n",
    "\t\"step-3\": \"The CONTEXT paragraph should be sufficiently detailed but not excessively long, providing enough complexity for a 6th-grade student to generate a narrative based on it.\",\n",
    "\t\"context\": \"Maria had a morning routine that she followed every single day. She would start her day by waking up to the sound of her melodious alarm at 6:30 a.m. After quickly turning it off, she'd head to the kitchen where her mom would already have a steaming cup of hot chocolate waiting for her. Next, she would grab her toothbrush and toothpaste and head to the bathroom to brush her teeth. The bathroom mirror would be slightly fogged up from her older brother's hot shower, making her trace smiley faces on it before wiping it clean. Once she was ready, she'd head to her room to put on her favorite outfit: a blue shirt with white stars, and jeans that had a small rip on the knee which, according to her, gave it character. After getting dressed, she would sit at her desk and skim through her planner to prepare for the day ahead, occasionally jotting down notes in the margins.\",\n",
    "\t\"frq\": \"Write a narrative about Maria's morning routine from her perspective. Your narrative should have a beginning, middle, and end. Make sure to use effective narrative techniques, relevant descriptive details, and structure the events in a sequential manner.\"\n",
    "}```\"\"\"\n",
    "\n",
    "EXAMPLE_FRQ_02 = \"\"\"User input: Common Core State Standard is CCSS.ELA-LITERACY.W.4.9 and topic is ocean.\n",
    "Assistant answer: ```json{\n",
    "\t\"step-1\": \"The Common Core State Standard CCSS.ELA-LITERACY.W.4.9 states that 4th-grade students should 'Draw evidence from literary or informational texts to support analysis, reflection, and research.'\",\n",
    "\t\"step-2\": \"The assessment will test the student's ability to extract information from a context paragraph related to the ocean. The student should then use this information to support their analysis or reflection in response to a specific free-response question.\",\n",
    "\t\"step-3\": \"For a 4th-grade level, the context paragraph should be between 100-150 words. It should contain a mix of factual and interpretive details, providing a well-rounded basis for answering the free-response question.\",\n",
    "\t\"context\": \"The ocean covers more than 70% of Earth's surface and serves as home to a myriad of creatures, from microscopic plankton to massive whales. It also plays a crucial role in regulating the planet's climate by absorbing carbon dioxide. Coral reefs, often referred to as the 'rainforests of the sea,' host a variety of marine life and contribute to biodiversity. However, human activities like pollution, overfishing, and climate change are putting ocean ecosystems at risk. Notable efforts are being made to conserve this vital resource, including the creation of marine protected areas and public awareness campaigns.\",\n",
    "\t\"frq\": \"Based on the context provided, what are some ways the ocean is important to Earth and its inhabitants? Also, what challenges are oceans facing according to the text? Provide evidence from the text to support your answer.\"\n",
    "}```\"\"\""
   ]
  },
  {
   "cell_type": "code",
   "execution_count": 6,
   "metadata": {},
   "outputs": [],
   "source": [
    "system_message = f\"\"\"\n",
    "You are an helpful assistant. User will provide you Common Core State Standard and a topic. \\\n",
    "You will output an assesment task for a student to test student knowledge consisting of:\n",
    " 1. COTEXT: context paragraph that will be used by the student to answer the below free responce question.\\\n",
    " The COTEXT is a paragraph and must be related to topic provided by user. \\\n",
    " The COTEXT must be sufficient to answer the free responce question and meet complexity and length as expected by the Common Core State Standard definition provided by user.\n",
    " 2. FREE RESPONCE QUESTION: The question must be related to the context article and test students ability as per the standard definition above.\\\n",
    "\n",
    "Follow these steps to create the task:\n",
    "\n",
    "Step 1: Provide definition of Common Core State Standard provided by user\n",
    "\n",
    "Step 3: Define what needs to be tested as part of assement defined in steps 1 and make sure to include it in the CONTEXT and FREE RESPONSE QUESTION.\n",
    "\n",
    "Step 2: Define what is the expected lenght and complexity of the CONTEXT paragraph that is provided to student\n",
    "\n",
    "Step 4: Generate CONTEXT paragraph. It must meet the conditions defined in second and third step.\n",
    "\n",
    "Step 5: Generate FREE RESPONSE QUESTION related to CONEXT and meeting definition in step one.\n",
    "\n",
    "{fmt_instr_frq_var}\n",
    "\n",
    "Here are EXAMPLES of good answer:\n",
    "#### EXAMPLE 1\n",
    "{EXAMPLE_FRQ_01_var}\n",
    "#### EXAMPLE 2\n",
    "{EXAMPLE_FRQ_02_var}\n",
    "\"\"\""
   ]
  },
  {
   "cell_type": "code",
   "execution_count": 7,
   "metadata": {},
   "outputs": [],
   "source": [
    "# Make SystemMessagePromptTemplate\n",
    "prompt=PromptTemplate(\n",
    "    template=system_message,\n",
    "    input_variables=[\"fmt_instr_frq\",\"EXAMPLE_FRQ_01\",\"EXAMPLE_FRQ_02\"]\n",
    ")\n",
    "\n",
    "system_message_prompt = SystemMessagePromptTemplate(prompt=prompt)"
   ]
  },
  {
   "cell_type": "code",
   "execution_count": 8,
   "metadata": {},
   "outputs": [
    {
     "data": {
      "text/plain": [
       "SystemMessagePromptTemplate(prompt=PromptTemplate(input_variables=['fmt_instr_frq', 'EXAMPLE_FRQ_01', 'EXAMPLE_FRQ_02'], output_parser=None, partial_variables={}, template='\\nYou are an helpful assistant. User will provide you Common Core State Standard and a topic. You will output an assesment task for a student to test student knowledge consisting of:\\n 1. COTEXT: context paragraph that will be used by the student to answer the below free responce question. The COTEXT is a paragraph and must be related to topic provided by user.  The COTEXT must be sufficient to answer the free responce question and meet complexity and length as expected by the Common Core State Standard definition provided by user.\\n 2. FREE RESPONCE QUESTION: The question must be related to the context article and test students ability as per the standard definition above.\\nFollow these steps to create the task:\\n\\nStep 1: Provide definition of Common Core State Standard provided by user\\n\\nStep 3: Define what needs to be tested as part of assement defined in steps 1 and make sure to include it in the CONTEXT and FREE RESPONSE QUESTION.\\n\\nStep 2: Define what is the expected lenght and complexity of the CONTEXT paragraph that is provided to student\\n\\nStep 4: Generate CONTEXT paragraph. It must meet the conditions defined in second and third step.\\n\\nStep 5: Generate FREE RESPONSE QUESTION related to CONEXT and meeting definition in step one.\\n\\n{fmt_instr_frq}\\n\\nHere are EXAMPLES of good answer:\\n#### EXAMPLE 1\\n{EXAMPLE_FRQ_01}\\n#### EXAMPLE 2\\n{EXAMPLE_FRQ_02}\\n', template_format='f-string', validate_template=True), additional_kwargs={})"
      ]
     },
     "execution_count": 8,
     "metadata": {},
     "output_type": "execute_result"
    }
   ],
   "source": [
    "system_message_prompt"
   ]
  },
  {
   "cell_type": "code",
   "execution_count": 9,
   "metadata": {},
   "outputs": [],
   "source": [
    "CCSS_TOPIC = \"\"\"Common Core State Standard is {standard} and topic is {topic}.\"\"\""
   ]
  },
  {
   "cell_type": "code",
   "execution_count": 10,
   "metadata": {},
   "outputs": [],
   "source": [
    "# Make HumanMessagePromptTemplate\n",
    "human_message_prompt = HumanMessagePromptTemplate.from_template(CCSS_TOPIC)"
   ]
  },
  {
   "cell_type": "code",
   "execution_count": 11,
   "metadata": {},
   "outputs": [
    {
     "data": {
      "text/plain": [
       "ChatPromptTemplate(input_variables=['EXAMPLE_FRQ_01', 'EXAMPLE_FRQ_02', 'fmt_instr_frq', 'standard', 'topic'], output_parser=None, partial_variables={}, messages=[SystemMessagePromptTemplate(prompt=PromptTemplate(input_variables=['fmt_instr_frq', 'EXAMPLE_FRQ_01', 'EXAMPLE_FRQ_02'], output_parser=None, partial_variables={}, template='\\nYou are an helpful assistant. User will provide you Common Core State Standard and a topic. You will output an assesment task for a student to test student knowledge consisting of:\\n 1. COTEXT: context paragraph that will be used by the student to answer the below free responce question. The COTEXT is a paragraph and must be related to topic provided by user.  The COTEXT must be sufficient to answer the free responce question and meet complexity and length as expected by the Common Core State Standard definition provided by user.\\n 2. FREE RESPONCE QUESTION: The question must be related to the context article and test students ability as per the standard definition above.\\nFollow these steps to create the task:\\n\\nStep 1: Provide definition of Common Core State Standard provided by user\\n\\nStep 3: Define what needs to be tested as part of assement defined in steps 1 and make sure to include it in the CONTEXT and FREE RESPONSE QUESTION.\\n\\nStep 2: Define what is the expected lenght and complexity of the CONTEXT paragraph that is provided to student\\n\\nStep 4: Generate CONTEXT paragraph. It must meet the conditions defined in second and third step.\\n\\nStep 5: Generate FREE RESPONSE QUESTION related to CONEXT and meeting definition in step one.\\n\\n{fmt_instr_frq}\\n\\nHere are EXAMPLES of good answer:\\n#### EXAMPLE 1\\n{EXAMPLE_FRQ_01}\\n#### EXAMPLE 2\\n{EXAMPLE_FRQ_02}\\n', template_format='f-string', validate_template=True), additional_kwargs={}), HumanMessagePromptTemplate(prompt=PromptTemplate(input_variables=['standard', 'topic'], output_parser=None, partial_variables={}, template='Common Core State Standard is {standard} and topic is {topic}.', template_format='f-string', validate_template=True), additional_kwargs={})])"
      ]
     },
     "execution_count": 11,
     "metadata": {},
     "output_type": "execute_result"
    }
   ],
   "source": [
    "# Create ChatPromptTemplate: Combine System + Human\n",
    "chat_prompt = ChatPromptTemplate.from_messages([system_message_prompt, human_message_prompt])\n",
    "chat_prompt"
   ]
  },
  {
   "cell_type": "code",
   "execution_count": 12,
   "metadata": {},
   "outputs": [
    {
     "name": "stderr",
     "output_type": "stream",
     "text": [
      "WARNING! deployment_id is not default parameter.\n",
      "                    deployment_id was transferred to model_kwargs.\n",
      "                    Please confirm that deployment_id is what you intended.\n"
     ]
    }
   ],
   "source": [
    "chain1 = LLMChain(\n",
    "    llm=ChatOpenAI(\n",
    "        temperature=0.7, \n",
    "        openai_api_base=OPENAI_API_BASE,\n",
    "        openai_api_key=OPENAI_API_KEY,\n",
    "        deployment_id = OPENAI_DEPLOYMENT_ID),\n",
    "    prompt = chat_prompt,\n",
    "    output_key=\"reasoning_context_frq\"\n",
    ")"
   ]
  },
  {
   "cell_type": "code",
   "execution_count": 13,
   "metadata": {},
   "outputs": [],
   "source": [
    "# # DEBUG\n",
    "# chain1\n",
    "# with no_ssl_verification():\n",
    "#     response = chain1.predict(standard = \"CCSS.ELA-LITERACY.W.4.9\", topic='ocean', fmt_instr_frq = fmt_instr_frq, EXAMPLE_FRQ_01=EXAMPLE_FRQ_01, EXAMPLE_FRQ_02=EXAMPLE_FRQ_02)"
   ]
  },
  {
   "cell_type": "markdown",
   "metadata": {},
   "source": [
    "# Chain 2 - Generate Rubric"
   ]
  },
  {
   "cell_type": "code",
   "execution_count": 14,
   "metadata": {},
   "outputs": [
    {
     "name": "stdout",
     "output_type": "stream",
     "text": [
      "The output should be a markdown code snippet formatted in the following schema, including the leading and trailing \"```json\" and \"```\":\n",
      "\n",
      "```json\n",
      "{\n",
      "\t\"rubric\": string  // Rubric for this assesment task as expected by the Common Core State Standard definition provided by user\n",
      "}\n",
      "```\n"
     ]
    }
   ],
   "source": [
    "# Define response schema (not really needed, but for consistency)\n",
    "rubric_json = ResponseSchema(name=\"rubric\",\n",
    "                             description=\"Rubric for this assesment task as expected by the Common Core State Standard definition provided by user\")\n",
    "\n",
    "response_schemas = [rubric_json]\n",
    "output_parser_rubric = StructuredOutputParser.from_response_schemas(response_schemas)\n",
    "fmt_instr_rubric = output_parser_rubric.get_format_instructions()\n",
    "print(fmt_instr_rubric)"
   ]
  },
  {
   "cell_type": "code",
   "execution_count": 15,
   "metadata": {},
   "outputs": [],
   "source": [
    "# Few-shot examples - RURBIC\n",
    "EXAMPLE_RUBRIC_01 = \"\"\"User input: Common Core State Standard is CCSS.ELA-LITERACY.W.4.9. Take into consideration the definition of this standard provided below in step-1.\n",
    "CONTEXT and FREE RESPONSE QUESTION are also included in following JSON: \n",
    "{\n",
    "\t\"step-1\": \"The Common Core State Standard CCSS.ELA-LITERACY.W.4.9 states that 4th-grade students should 'Draw evidence from literary or informational texts to support analysis, reflection, and research.'\",\n",
    "\t\"step-2\": \"The assessment will test the student's ability to extract information from a context paragraph related to the ocean. The student should then use this information to support their analysis or reflection in response to a specific free-response question.\",\n",
    "\t\"step-3\": \"For a 4th-grade level, the context paragraph should be between 100-150 words. It should contain a mix of factual and interpretive details, providing a well-rounded basis for answering the free-response question.\",\n",
    "\t\"context\": \"The ocean covers more than 70% of Earth's surface and serves as home to a myriad of creatures, from microscopic plankton to massive whales. It also plays a crucial role in regulating the planet's climate by absorbing carbon dioxide. Coral reefs, often referred to as the 'rainforests of the sea,' host a variety of marine life and contribute to biodiversity. However, human activities like pollution, overfishing, and climate change are putting ocean ecosystems at risk. Notable efforts are being made to conserve this vital resource, including the creation of marine protected areas and public awareness campaigns.\",\n",
    "\t\"frq\": \"Based on the context provided, what are some ways the ocean is important to Earth and its inhabitants? Also, what challenges are oceans facing according to the text? Provide evidence from the text to support your answer.\"\n",
    "}\n",
    "Assistant answer: ```json{\n",
    "\t\"rubric\": \"### Assessment Rubric for Free Response Question\\n\\n#### Criteria for Evaluation\\n\\n1. **Drawing Evidence (5 points)**: Student must draw clear evidence from the context paragraph to support their answer.\\n    - 5 points: Provides direct quotes or paraphrases that are highly relevant to the question.\\n    - 3 points: Provides some evidence but it's either partially relevant or not directly quoted.\\n    - 1 point: Makes a generalized or vague reference to the text.\\n    - 0 points: Does not reference the text.\\n\\n2. **Analysis and Reflection (5 points)**: Student should analyze the importance of the ocean to Earth and its challenges, and may include personal reflection.\\n    - 5 points: Thoroughly analyzes both the importance and challenges, possibly including personal reflection.\\n    - 3 points: Partially analyzes either the importance or challenges, with some evidence.\\n    - 1 point: Minimal analysis with limited or no evidence.\\n    - 0 points: No analysis or reflection.\\n\\n3. **Clarity and Organization (3 points)**: Answer should be clear, concise, and well-organized.\\n    - 3 points: Answer is clear, concise, and logically organized.\\n    - 2 points: Answer is mostly clear but may lack some organization.\\n    - 1 point: Answer is disorganized or unclear.\\n    - 0 points: Answer is incomprehensible.\\n\\n4. **Grammar and Mechanics (2 points)**: The answer should be free of grammatical and spelling errors.\\n    - 2 points: No errors.\\n    - 1 point: Few minor errors.\\n    - 0 points: Numerous errors that hinder comprehension.\\n\\n### Scoring Guide\\n- 13-15 points: Excellent\\n- 10-12 points: Good\\n- 6-9 points: Needs Improvement\\n- 0-5 points: Unsatisfactory\"\n",
    "}```\"\"\"\n",
    "\n",
    "EXAMPLE_RUBRIC_02 = \"\"\"Common Core State Standard is CCSS.ELA-LITERACY.W.6.3. Take into consideration the definition of this standard provided below in step-1.\n",
    "CONTEXT and FREE RESPONSE QUESTION are also included in following JSON: \n",
    "{\n",
    "\t\"step-1\": \"The standard CCSS.ELA-LITERACY.W.6.3 requires students to write narratives to develop real or imagined experiences or events using effective technique, relevant descriptive details, and well-structured event sequences.\",\n",
    "\t\"step-2\": \"The assessment must test the student's ability to write a narrative that includes effective techniques, relevant descriptive details, and a well-structured event sequence.\",\n",
    "\t\"step-3\": \"The CONTEXT paragraph should be sufficiently detailed but not excessively long, providing enough complexity for a 6th-grade student to generate a narrative based on it.\",\n",
    "\t\"context\": \"Maria had a morning routine that she followed every single day. She would start her day by waking up to the sound of her melodious alarm at 6:30 a.m. After quickly turning it off, she'd head to the kitchen where her mom would already have a steaming cup of hot chocolate waiting for her. Next, she would grab her toothbrush and toothpaste and head to the bathroom to brush her teeth. The bathroom mirror would be slightly fogged up from her older brother's hot shower, making her trace smiley faces on it before wiping it clean. Once she was ready, she'd head to her room to put on her favorite outfit: a blue shirt with white stars, and jeans that had a small rip on the knee which, according to her, gave it character. After getting dressed, she would sit at her desk and skim through her planner to prepare for the day ahead, occasionally jotting down notes in the margins.\",\n",
    "\t\"frq\": \"Write a narrative from Maria's perspective about a particular morning where something unexpected happens during her routine. Use effective narrative techniques, integrate relevant descriptive details, and structure the events in a sequential manner. Make sure your narrative has a beginning, middle, and end. Include dialogue, internal thoughts, or actions that help to develop the characters and events.\"\n",
    "}\n",
    "Assistant answer: ```json{\n",
    "\t\"rubric\": \"1. Effective Techniques (0-10 points): 0-2 points for lacking effective techniques, 3-5 for some use, 6-8 for good use, and 9-10 for excellent use.\\n2. Relevant Descriptive Details (0-10 points): 0-2 points for lacking details, 3-5 for some details, 6-8 for good details, and 9-10 for excellent details.\\n3. Well-Structured Event Sequences (0-10 points): 0-2 for poor structure, 3-5 for some structure, 6-8 for good structure, and 9-10 for excellent structure.\\n4. Dialogue, Internal Thoughts, Actions to Develop Characters and Events (0-5 points): 0-1 for lacking elements, 2-3 for some use, and 4-5 for effective use.\\n5. Beginning, Middle, and End (0-5 points): 0-1 for missing or unclear, 2-3 for present but lacking, and 4-5 for clear and effective.\"\n",
    "}```\"\"\""
   ]
  },
  {
   "cell_type": "code",
   "execution_count": 16,
   "metadata": {},
   "outputs": [],
   "source": [
    "# to avoid Lanchain considering JSON definition as variable\n",
    "fmt_instr_rubric_var = \"{fmt_instr_rubric}\"\n",
    "EXAMPLE_RUBRIC_01_var = \"{EXAMPLE_RUBRIC_01}\"\n",
    "EXAMPLE_RUBRIC_02_var = \"{EXAMPLE_RUBRIC_02}\""
   ]
  },
  {
   "cell_type": "code",
   "execution_count": 17,
   "metadata": {},
   "outputs": [],
   "source": [
    "system_message = f\"\"\"\n",
    "You are an helpful assistant. User will provide you Common Core State Standard. \\\n",
    "You will also be provided with CONTEXT and FREE RESPONSE QUESTION.\n",
    "You will output a RUBRIC for this assesment task as expected by the Common Core State Standard definition provided by user.\n",
    "{fmt_instr_rubric_var}\n",
    "Make sure the output is a valid JSON format. Avoid forbiddend characters in JSON.\n",
    "\n",
    "Here are EXAMPLES of good answer:\n",
    "#### EXAMPLE 1\n",
    "{EXAMPLE_RUBRIC_01_var}\n",
    "#### EXAMPLE 2\n",
    "{EXAMPLE_RUBRIC_02_var}\n",
    "\"\"\""
   ]
  },
  {
   "cell_type": "code",
   "execution_count": 18,
   "metadata": {},
   "outputs": [],
   "source": [
    "# Make SystemMessagePromptTemplate\n",
    "prompt=PromptTemplate(\n",
    "    template=system_message,\n",
    "    input_variables=[\"fmt_instr_rubric\",\"EXAMPLE_RUBRIC_01\",\"EXAMPLE_RUBRIC_02\"]\n",
    ")\n",
    "\n",
    "system_message_prompt = SystemMessagePromptTemplate(prompt=prompt)\n"
   ]
  },
  {
   "cell_type": "code",
   "execution_count": 19,
   "metadata": {},
   "outputs": [],
   "source": [
    "CCSS_RUBRIC = \"\"\"Common Core State Standard is {standard}. Take into consideration the definition of this standard provided below in step-1.\n",
    "CONTEXT and FREE RESPONSE QUESTION are also included in following JSON: \n",
    "{reasoning_context_frq}.\"\"\""
   ]
  },
  {
   "cell_type": "code",
   "execution_count": 20,
   "metadata": {},
   "outputs": [],
   "source": [
    "# Make HumanMessagePromptTemplate\n",
    "human_message_prompt = HumanMessagePromptTemplate.from_template(CCSS_RUBRIC)"
   ]
  },
  {
   "cell_type": "code",
   "execution_count": 21,
   "metadata": {},
   "outputs": [
    {
     "data": {
      "text/plain": [
       "ChatPromptTemplate(input_variables=['EXAMPLE_RUBRIC_01', 'EXAMPLE_RUBRIC_02', 'fmt_instr_rubric', 'reasoning_context_frq', 'standard'], output_parser=None, partial_variables={}, messages=[SystemMessagePromptTemplate(prompt=PromptTemplate(input_variables=['fmt_instr_rubric', 'EXAMPLE_RUBRIC_01', 'EXAMPLE_RUBRIC_02'], output_parser=None, partial_variables={}, template='\\nYou are an helpful assistant. User will provide you Common Core State Standard. You will also be provided with CONTEXT and FREE RESPONSE QUESTION.\\nYou will output a RUBRIC for this assesment task as expected by the Common Core State Standard definition provided by user.\\n{fmt_instr_rubric}\\nMake sure the output is a valid JSON format. Avoid forbiddend characters in JSON.\\n\\nHere are EXAMPLES of good answer:\\n#### EXAMPLE 1\\n{EXAMPLE_RUBRIC_01}\\n#### EXAMPLE 2\\n{EXAMPLE_RUBRIC_02}\\n', template_format='f-string', validate_template=True), additional_kwargs={}), HumanMessagePromptTemplate(prompt=PromptTemplate(input_variables=['reasoning_context_frq', 'standard'], output_parser=None, partial_variables={}, template='Common Core State Standard is {standard}. Take into consideration the definition of this standard provided below in step-1.\\nCONTEXT and FREE RESPONSE QUESTION are also included in following JSON: \\n{reasoning_context_frq}.', template_format='f-string', validate_template=True), additional_kwargs={})])"
      ]
     },
     "execution_count": 21,
     "metadata": {},
     "output_type": "execute_result"
    }
   ],
   "source": [
    "# Create ChatPromptTemplate: Combine System + Human\n",
    "chat_prompt = ChatPromptTemplate.from_messages([system_message_prompt, human_message_prompt])\n",
    "chat_prompt"
   ]
  },
  {
   "cell_type": "code",
   "execution_count": 22,
   "metadata": {},
   "outputs": [
    {
     "name": "stderr",
     "output_type": "stream",
     "text": [
      "WARNING! deployment_id is not default parameter.\n",
      "                    deployment_id was transferred to model_kwargs.\n",
      "                    Please confirm that deployment_id is what you intended.\n"
     ]
    }
   ],
   "source": [
    "chain2 = LLMChain(\n",
    "    llm=ChatOpenAI(\n",
    "        temperature=0.0, \n",
    "        openai_api_base=OPENAI_API_BASE,\n",
    "        openai_api_key=OPENAI_API_KEY,\n",
    "        deployment_id = OPENAI_DEPLOYMENT_ID),\n",
    "    prompt = chat_prompt,\n",
    "    output_key=\"rubric\"\n",
    ")"
   ]
  },
  {
   "cell_type": "code",
   "execution_count": 23,
   "metadata": {},
   "outputs": [],
   "source": [
    "# DEBUG\n",
    "# output_parser_rubric.parse(solution['rubric'])\n",
    "# output_parser_frq.parse(solution['reasoning_context_frq'])\n",
    "# output_parser_frq.parse(solution['reasoning_context_frq'])['frq']\n"
   ]
  },
  {
   "cell_type": "markdown",
   "metadata": {},
   "source": [
    "# Chain 3 - QA Assessment\n",
    "- this chain should be second in the final version"
   ]
  },
  {
   "cell_type": "code",
   "execution_count": 24,
   "metadata": {},
   "outputs": [
    {
     "name": "stdout",
     "output_type": "stream",
     "text": [
      "The output should be a markdown code snippet formatted in the following schema, including the leading and trailing \"```json\" and \"```\":\n",
      "\n",
      "```json\n",
      "{\n",
      "\t\"frq_qa_passed\": string  // Boolean value to idicate if the CONTEXT and FRQ is meeting the Common Core State Standard and topic provided by user. True = meets, False = Does not meet\n",
      "\t\"frq_qa_reason\": string  // Justification why the CONTEXT and/or the FRQ isnt meeting Common Core State Standard. If both the CONTEXT and the FRQ are meeting CCSS provide value N/A\n",
      "\t\"adjusted_context\": string  // Adjusted CONTEXT meeting the user provided Common Core State Standard using and the topic. If original CONTEXT is meeting CCSS provide value N/A\n",
      "\t\"adjusted_frq\": string  // Adjusted FRQ meeting the user provided Common Core State Standard and the topic. NEW FRQ must be related to the NEW CONTEXT. If original FRQ is meeting CCSS provide value N/A\n",
      "}\n",
      "```\n"
     ]
    }
   ],
   "source": [
    "# Define response schema\n",
    "frq_qa_json = ResponseSchema(name=\"frq_qa_passed\",\n",
    "                             description=\"Boolean value to idicate if the CONTEXT and FRQ is meeting the Common Core State Standard and topic provided by user. True = meets, False = Does not meet\")\n",
    "frq_qa_reason_json = ResponseSchema(name=\"frq_qa_reason\",\n",
    "                             description=\"Justification why the CONTEXT and/or the FRQ isnt meeting Common Core State Standard. If both the CONTEXT and the FRQ are meeting CCSS provide value N/A\")\n",
    "adjusted_context_json = ResponseSchema(name=\"adjusted_context\",\n",
    "                             description=\"Adjusted CONTEXT meeting the user provided Common Core State Standard using and the topic. If original CONTEXT is meeting CCSS provide value N/A\")\n",
    "adjusted_frq_json = ResponseSchema(name=\"adjusted_frq\",\n",
    "                             description=\"Adjusted FRQ meeting the user provided Common Core State Standard and the topic. NEW FRQ must be related to the NEW CONTEXT. If original FRQ is meeting CCSS provide value N/A\")\n",
    "\n",
    "\n",
    "response_schemas = [frq_qa_json,frq_qa_reason_json,adjusted_context_json,adjusted_frq_json]\n",
    "output_parser_frq_qa = StructuredOutputParser.from_response_schemas(response_schemas)\n",
    "fmt_instr_frq_qa = output_parser_frq_qa.get_format_instructions()\n",
    "print(fmt_instr_frq_qa)"
   ]
  },
  {
   "cell_type": "code",
   "execution_count": 25,
   "metadata": {},
   "outputs": [],
   "source": [
    "system_message = \"\"\"\n",
    "You are an helpful assistant. User will provide you Common Core State Standard (CCSS) and a topic. \\\n",
    "You will also be provided with CONTEXT paragraph and Free Response Question (FRQ).\n",
    "You will evaluate if provided CONTEXT and FRQ are meeting the CCSS requirements, i.e. if it allignes with skills and competencies outlined by the provided CCSS standard itself.\n",
    "\n",
    "Follow these steps to complete the task:\n",
    "1. Understand the provided CCSS definition, skills and competencies it should test\n",
    "2. Understand the expected CONTEXT complexity, lenght and topic\n",
    "3. Validate if CONTEXT broadly meets the requirements\n",
    "4. Validate if FRQ broadly meets the requirements and is relevant to the CONTEXT\n",
    "\n",
    "If the CONTEXT and FRQ meet or mostly meet the CCSS requirements you will output \"True\". Otherwise output \"False\". \n",
    "In case you respond \"False\" also provide:\n",
    "1. Justification what is missing or incorrect.\n",
    "2. Adjusted CONTEXT and FRQ, that will be based on the existing, but enhanced to align better to the provided CCSS and user topic.\n",
    "Remember: If the CONTEXT or FRQ doesnt meet the CCSS requirements, you must adjust both to keep the FRQ relevant to the CONTEXT.\n",
    "\n",
    "{fmt_instr_frq_qa}\n",
    "\"\"\""
   ]
  },
  {
   "cell_type": "code",
   "execution_count": 26,
   "metadata": {},
   "outputs": [],
   "source": [
    "# Make SystemMessagePromptTemplate\n",
    "prompt=PromptTemplate(\n",
    "    template=system_message,\n",
    "    input_variables=[\"fmt_instr_frq_qa\"]\n",
    ")\n",
    "\n",
    "system_message_prompt = SystemMessagePromptTemplate(prompt=prompt)"
   ]
  },
  {
   "cell_type": "code",
   "execution_count": 27,
   "metadata": {},
   "outputs": [],
   "source": [
    "CCSS_FRQ_QA = \"\"\"Common Core State Standard is {standard}. Topic is {topic}. \n",
    "CONTEXT paragraph to be evaluated and Free Response Question (FRQ) to be evaluated are in the below JSON: \n",
    "{reasoning_context_frq}\"\"\""
   ]
  },
  {
   "cell_type": "code",
   "execution_count": 28,
   "metadata": {},
   "outputs": [],
   "source": [
    "# Make HumanMessagePromptTemplate\n",
    "human_message_prompt = HumanMessagePromptTemplate.from_template(CCSS_FRQ_QA)"
   ]
  },
  {
   "cell_type": "code",
   "execution_count": 29,
   "metadata": {},
   "outputs": [
    {
     "data": {
      "text/plain": [
       "ChatPromptTemplate(input_variables=['fmt_instr_frq_qa', 'reasoning_context_frq', 'standard', 'topic'], output_parser=None, partial_variables={}, messages=[SystemMessagePromptTemplate(prompt=PromptTemplate(input_variables=['fmt_instr_frq_qa'], output_parser=None, partial_variables={}, template='\\nYou are an helpful assistant. User will provide you Common Core State Standard (CCSS) and a topic. You will also be provided with CONTEXT paragraph and Free Response Question (FRQ).\\nYou will evaluate if provided CONTEXT and FRQ are meeting the CCSS requirements, i.e. if it allignes with skills and competencies outlined by the provided CCSS standard itself.\\n\\nFollow these steps to complete the task:\\n1. Understand the provided CCSS definition, skills and competencies it should test\\n2. Understand the expected CONTEXT complexity, lenght and topic\\n3. Validate if CONTEXT broadly meets the requirements\\n4. Validate if FRQ broadly meets the requirements and is relevant to the CONTEXT\\n\\nIf the CONTEXT and FRQ meet or mostly meet the CCSS requirements you will output \"True\". Otherwise output \"False\". \\nIn case you respond \"False\" also provide:\\n1. Justification what is missing or incorrect.\\n2. Adjusted CONTEXT and FRQ, that will be based on the existing, but enhanced to align better to the provided CCSS and user topic.\\nRemember: If the CONTEXT or FRQ doesnt meet the CCSS requirements, you must adjust both to keep the FRQ relevant to the CONTEXT.\\n\\n{fmt_instr_frq_qa}\\n', template_format='f-string', validate_template=True), additional_kwargs={}), HumanMessagePromptTemplate(prompt=PromptTemplate(input_variables=['reasoning_context_frq', 'standard', 'topic'], output_parser=None, partial_variables={}, template='Common Core State Standard is {standard}. Topic is {topic}. \\nCONTEXT paragraph to be evaluated and Free Response Question (FRQ) to be evaluated are in the below JSON: \\n{reasoning_context_frq}', template_format='f-string', validate_template=True), additional_kwargs={})])"
      ]
     },
     "execution_count": 29,
     "metadata": {},
     "output_type": "execute_result"
    }
   ],
   "source": [
    "# Create ChatPromptTemplate: Combine System + Human\n",
    "chat_prompt = ChatPromptTemplate.from_messages([system_message_prompt, human_message_prompt])\n",
    "chat_prompt"
   ]
  },
  {
   "cell_type": "code",
   "execution_count": 30,
   "metadata": {},
   "outputs": [
    {
     "name": "stderr",
     "output_type": "stream",
     "text": [
      "WARNING! deployment_id is not default parameter.\n",
      "                    deployment_id was transferred to model_kwargs.\n",
      "                    Please confirm that deployment_id is what you intended.\n"
     ]
    }
   ],
   "source": [
    "chain3 = LLMChain(\n",
    "    llm=ChatOpenAI(\n",
    "        temperature=0.0, \n",
    "        openai_api_base=OPENAI_API_BASE,\n",
    "        openai_api_key=OPENAI_API_KEY,\n",
    "        deployment_id = OPENAI_DEPLOYMENT_ID),\n",
    "    prompt = chat_prompt,\n",
    "    output_key=\"frq_qa\"\n",
    ")"
   ]
  },
  {
   "cell_type": "code",
   "execution_count": 31,
   "metadata": {},
   "outputs": [],
   "source": [
    "# # DEBUG\n",
    "# chain3\n",
    "# with no_ssl_verification():\n",
    "#     response = chain3.predict(standard = \"CCSS.ELA-LITERACY.W.4.9\", \n",
    "#                               topic = \"desert\",\n",
    "#                               fmt_instr_frq_qa=fmt_instr_frq_qa,\n",
    "#                               frq=output_parser_frq.parse(solution['reasoning_context_frq'])['frq'],\n",
    "#                               context=output_parser_frq.parse(solution['reasoning_context_frq'])['context'])"
   ]
  },
  {
   "cell_type": "markdown",
   "metadata": {},
   "source": [
    "# Chain 4 - QA Rubrics"
   ]
  },
  {
   "cell_type": "code",
   "execution_count": 32,
   "metadata": {},
   "outputs": [
    {
     "name": "stdout",
     "output_type": "stream",
     "text": [
      "The output should be a markdown code snippet formatted in the following schema, including the leading and trailing \"```json\" and \"```\":\n",
      "\n",
      "```json\n",
      "{\n",
      "\t\"rubric_qa_passed\": string  // Boolean value to idicate if the RUBRIC is meeting the Common Core State Standard provided by user. True = meets, False = Does not meet\n",
      "\t\"rubric_qa_reason\": string  // Justification why RUBRICS isnt meeting Common Core State Standard. If the Rubric is meeting CCSS provide value N/A\n",
      "\t\"rubric_qa_new\": string  // New regenerated Rubrics meeting Common Core State Standard. If the original Rubric is meeting CCSS provide value N/A\n",
      "}\n",
      "```\n"
     ]
    }
   ],
   "source": [
    "# Define response schema\n",
    "rubric_qa_json = ResponseSchema(name=\"rubric_qa_passed\",\n",
    "                             description=\"Boolean value to idicate if the RUBRIC is meeting the Common Core State Standard provided by user. True = meets, False = Does not meet\")\n",
    "rubric_qa_reason_json = ResponseSchema(name=\"rubric_qa_reason\",\n",
    "                             description=\"Justification why RUBRICS isnt meeting Common Core State Standard. If the Rubric is meeting CCSS provide value N/A\")\n",
    "rubric_qa_new_json = ResponseSchema(name=\"rubric_qa_new\",\n",
    "                             description=\"New regenerated Rubrics meeting Common Core State Standard. If the original Rubric is meeting CCSS provide value N/A\")\n",
    "\n",
    "response_schemas = [rubric_qa_json,rubric_qa_reason_json,rubric_qa_new_json]\n",
    "output_parser_rubric_qa = StructuredOutputParser.from_response_schemas(response_schemas)\n",
    "fmt_instr_rubric_qa = output_parser_rubric_qa.get_format_instructions()\n",
    "print(fmt_instr_rubric_qa)"
   ]
  },
  {
   "cell_type": "code",
   "execution_count": 33,
   "metadata": {},
   "outputs": [],
   "source": [
    "# # to avoid Lanchain considering JSON definition as variable\n",
    "# fmt_instr_rubric_qa_var = \"{fmt_instr_rubric_qa}\""
   ]
  },
  {
   "cell_type": "code",
   "execution_count": 34,
   "metadata": {},
   "outputs": [],
   "source": [
    "system_message = \"\"\"\n",
    "You are an helpful assistant. User will provide you Common Core State Standard (CCSS).\\\n",
    "You will also be provided with RUBRICS related to the CCSS.\n",
    "You will evaluate if provided RUBRICS alignes CCSS requirements, i.e. if it allignes with skills and competencies outlined by the provided CCSS standard itself.\n",
    "If the RUBRICS meets or mostly meets the CCSS requirements you will output \"True\". Otherwise output \"False\". \n",
    "In case you respond \"False\" also provide:\n",
    "1. Justification what is missing or incorrect.\n",
    "2. Adjusted Rubrics, that will be based on the existing, but enhanced to align better to the provided CCSS.\n",
    "{fmt_instr_rubric_qa}\n",
    "\"\"\""
   ]
  },
  {
   "cell_type": "code",
   "execution_count": 35,
   "metadata": {},
   "outputs": [],
   "source": [
    "# Make SystemMessagePromptTemplate\n",
    "prompt=PromptTemplate(\n",
    "    template=system_message,\n",
    "    input_variables=[\"fmt_instr_rubric_qa\"]\n",
    ")\n",
    "\n",
    "system_message_prompt = SystemMessagePromptTemplate(prompt=prompt)"
   ]
  },
  {
   "cell_type": "code",
   "execution_count": 36,
   "metadata": {},
   "outputs": [],
   "source": [
    "CCSS_RUBRIC_QA = \"\"\"Common Core State Standard is {standard}. Rubrics to be evaluated is in JSON format: \n",
    "{rubric}.\"\"\""
   ]
  },
  {
   "cell_type": "code",
   "execution_count": 37,
   "metadata": {},
   "outputs": [],
   "source": [
    "# Make HumanMessagePromptTemplate\n",
    "human_message_prompt = HumanMessagePromptTemplate.from_template(CCSS_RUBRIC_QA)"
   ]
  },
  {
   "cell_type": "code",
   "execution_count": 38,
   "metadata": {},
   "outputs": [
    {
     "data": {
      "text/plain": [
       "ChatPromptTemplate(input_variables=['fmt_instr_rubric_qa', 'rubric', 'standard'], output_parser=None, partial_variables={}, messages=[SystemMessagePromptTemplate(prompt=PromptTemplate(input_variables=['fmt_instr_rubric_qa'], output_parser=None, partial_variables={}, template='\\nYou are an helpful assistant. User will provide you Common Core State Standard (CCSS).You will also be provided with RUBRICS related to the CCSS.\\nYou will evaluate if provided RUBRICS alignes CCSS requirements, i.e. if it allignes with skills and competencies outlined by the provided CCSS standard itself.\\nIf the RUBRICS meets or mostly meets the CCSS requirements you will output \"True\". Otherwise output \"False\". \\nIn case you respond \"False\" also provide:\\n1. Justification what is missing or incorrect.\\n2. Adjusted Rubrics, that will be based on the existing, but enhanced to align better to the provided CCSS.\\n{fmt_instr_rubric_qa}\\n', template_format='f-string', validate_template=True), additional_kwargs={}), HumanMessagePromptTemplate(prompt=PromptTemplate(input_variables=['rubric', 'standard'], output_parser=None, partial_variables={}, template='Common Core State Standard is {standard}. Rubrics to be evaluated is in JSON format: \\n{rubric}.', template_format='f-string', validate_template=True), additional_kwargs={})])"
      ]
     },
     "execution_count": 38,
     "metadata": {},
     "output_type": "execute_result"
    }
   ],
   "source": [
    "# Create ChatPromptTemplate: Combine System + Human\n",
    "chat_prompt = ChatPromptTemplate.from_messages([system_message_prompt, human_message_prompt])\n",
    "chat_prompt"
   ]
  },
  {
   "cell_type": "code",
   "execution_count": 39,
   "metadata": {},
   "outputs": [
    {
     "name": "stderr",
     "output_type": "stream",
     "text": [
      "WARNING! deployment_id is not default parameter.\n",
      "                    deployment_id was transferred to model_kwargs.\n",
      "                    Please confirm that deployment_id is what you intended.\n"
     ]
    }
   ],
   "source": [
    "chain4 = LLMChain(\n",
    "    llm=ChatOpenAI(\n",
    "        temperature=0.0, \n",
    "        openai_api_base=OPENAI_API_BASE,\n",
    "        openai_api_key=OPENAI_API_KEY,\n",
    "        deployment_id = OPENAI_DEPLOYMENT_ID),\n",
    "    prompt = chat_prompt,\n",
    "    output_key=\"rubics_qa\"\n",
    ")"
   ]
  },
  {
   "cell_type": "code",
   "execution_count": 40,
   "metadata": {},
   "outputs": [],
   "source": [
    "# # DEBUG\n",
    "# chain4\n",
    "# with no_ssl_verification():\n",
    "#     response = chain4.predict(standard = \"CCSS.ELA-LITERACY.W.4.9\", fmt_instr_rubric_qa=fmt_instr_rubric_qa, rubric=solution['rubric'])"
   ]
  },
  {
   "cell_type": "markdown",
   "metadata": {},
   "source": [
    "# Overall Chain"
   ]
  },
  {
   "cell_type": "code",
   "execution_count": 41,
   "metadata": {},
   "outputs": [
    {
     "name": "stdout",
     "output_type": "stream",
     "text": [
      "\u001b[32;1m\u001b[1;3m[chain/start]\u001b[0m \u001b[1m[1:chain:SequentialChain] Entering Chain run with input:\n",
      "\u001b[0m{\n",
      "  \"standard\": \"CCSS.ELA-LITERACY.W.4.9\",\n",
      "  \"topic\": \"desert\",\n",
      "  \"fmt_instr_rubric\": \"The output should be a markdown code snippet formatted in the following schema, including the leading and trailing \\\"```json\\\" and \\\"```\\\":\\n\\n```json\\n{\\n\\t\\\"rubric\\\": string  // Rubric for this assesment task as expected by the Common Core State Standard definition provided by user\\n}\\n```\",\n",
      "  \"fmt_instr_frq\": \"The output should be a markdown code snippet formatted in the following schema, including the leading and trailing \\\"```json\\\" and \\\"```\\\":\\n\\n```json\\n{\\n\\t\\\"step-1\\\": string  // step 1 reasoning\\n\\t\\\"step-2\\\": string  // step 2 reasoning\\n\\t\\\"step-3\\\": string  // step 3 reasoning\\n\\t\\\"context\\\": string  // generated context paragraph\\n\\t\\\"frq\\\": string  // generated free respoce question\\n}\\n```\",\n",
      "  \"fmt_instr_frq_qa\": \"The output should be a markdown code snippet formatted in the following schema, including the leading and trailing \\\"```json\\\" and \\\"```\\\":\\n\\n```json\\n{\\n\\t\\\"frq_qa_passed\\\": string  // Boolean value to idicate if the CONTEXT and FRQ is meeting the Common Core State Standard and topic provided by user. True = meets, False = Does not meet\\n\\t\\\"frq_qa_reason\\\": string  // Justification why the CONTEXT and/or the FRQ isnt meeting Common Core State Standard. If both the CONTEXT and the FRQ are meeting CCSS provide value N/A\\n\\t\\\"adjusted_context\\\": string  // Adjusted CONTEXT meeting the user provided Common Core State Standard using and the topic. If original CONTEXT is meeting CCSS provide value N/A\\n\\t\\\"adjusted_frq\\\": string  // Adjusted FRQ meeting the user provided Common Core State Standard and the topic. NEW FRQ must be related to the NEW CONTEXT. If original FRQ is meeting CCSS provide value N/A\\n}\\n```\",\n",
      "  \"fmt_instr_rubric_qa\": \"The output should be a markdown code snippet formatted in the following schema, including the leading and trailing \\\"```json\\\" and \\\"```\\\":\\n\\n```json\\n{\\n\\t\\\"rubric_qa_passed\\\": string  // Boolean value to idicate if the RUBRIC is meeting the Common Core State Standard provided by user. True = meets, False = Does not meet\\n\\t\\\"rubric_qa_reason\\\": string  // Justification why RUBRICS isnt meeting Common Core State Standard. If the Rubric is meeting CCSS provide value N/A\\n\\t\\\"rubric_qa_new\\\": string  // New regenerated Rubrics meeting Common Core State Standard. If the original Rubric is meeting CCSS provide value N/A\\n}\\n```\",\n",
      "  \"EXAMPLE_FRQ_01\": \"User input: Common Core State Standard is CCSS.ELA-LITERACY.W.6.3 and topic is \\\"morning routine\\\".\\nAssistant answer: ```json{\\n\\t\\\"step-1\\\": \\\"The standard CCSS.ELA-LITERACY.W.6.3 requires students to write narratives to develop real or imagined experiences or events using effective technique, relevant descriptive details, and well-structured event sequences.\\\",\\n\\t\\\"step-2\\\": \\\"The assessment must test the student's ability to write a narrative that includes effective techniques, relevant descriptive details, and a well-structured event sequence.\\\",\\n\\t\\\"step-3\\\": \\\"The CONTEXT paragraph should be sufficiently detailed but not excessively long, providing enough complexity for a 6th-grade student to generate a narrative based on it.\\\",\\n\\t\\\"context\\\": \\\"Maria had a morning routine that she followed every single day. She would start her day by waking up to the sound of her melodious alarm at 6:30 a.m. After quickly turning it off, she'd head to the kitchen where her mom would already have a steaming cup of hot chocolate waiting for her. Next, she would grab her toothbrush and toothpaste and head to the bathroom to brush her teeth. The bathroom mirror would be slightly fogged up from her older brother's hot shower, making her trace smiley faces on it before wiping it clean. Once she was ready, she'd head to her room to put on her favorite outfit: a blue shirt with white stars, and jeans that had a small rip on the knee which, according to her, gave it character. After getting dressed, she would sit at her desk and skim through her planner to prepare for the day ahead, occasionally jotting down notes in the margins.\\\",\\n\\t\\\"frq\\\": \\\"Write a narrative about Maria's morning routine from her perspective. Your narrative should have a beginning, middle, and end. Make sure to use effective narrative techniques, relevant descriptive details, and structure the events in a sequential manner.\\\"\\n}```\",\n",
      "  \"EXAMPLE_FRQ_02\": \"User input: Common Core State Standard is CCSS.ELA-LITERACY.W.4.9 and topic is ocean.\\nAssistant answer: ```json{\\n\\t\\\"step-1\\\": \\\"The Common Core State Standard CCSS.ELA-LITERACY.W.4.9 states that 4th-grade students should 'Draw evidence from literary or informational texts to support analysis, reflection, and research.'\\\",\\n\\t\\\"step-2\\\": \\\"The assessment will test the student's ability to extract information from a context paragraph related to the ocean. The student should then use this information to support their analysis or reflection in response to a specific free-response question.\\\",\\n\\t\\\"step-3\\\": \\\"For a 4th-grade level, the context paragraph should be between 100-150 words. It should contain a mix of factual and interpretive details, providing a well-rounded basis for answering the free-response question.\\\",\\n\\t\\\"context\\\": \\\"The ocean covers more than 70% of Earth's surface and serves as home to a myriad of creatures, from microscopic plankton to massive whales. It also plays a crucial role in regulating the planet's climate by absorbing carbon dioxide. Coral reefs, often referred to as the 'rainforests of the sea,' host a variety of marine life and contribute to biodiversity. However, human activities like pollution, overfishing, and climate change are putting ocean ecosystems at risk. Notable efforts are being made to conserve this vital resource, including the creation of marine protected areas and public awareness campaigns.\\\",\\n\\t\\\"frq\\\": \\\"Based on the context provided, what are some ways the ocean is important to Earth and its inhabitants? Also, what challenges are oceans facing according to the text? Provide evidence from the text to support your answer.\\\"\\n}```\",\n",
      "  \"EXAMPLE_RUBRIC_01\": \"User input: Common Core State Standard is CCSS.ELA-LITERACY.W.4.9. Take into consideration the definition of this standard provided below in step-1.\\nCONTEXT and FREE RESPONSE QUESTION are also included in following JSON: \\n{\\n\\t\\\"step-1\\\": \\\"The Common Core State Standard CCSS.ELA-LITERACY.W.4.9 states that 4th-grade students should 'Draw evidence from literary or informational texts to support analysis, reflection, and research.'\\\",\\n\\t\\\"step-2\\\": \\\"The assessment will test the student's ability to extract information from a context paragraph related to the ocean. The student should then use this information to support their analysis or reflection in response to a specific free-response question.\\\",\\n\\t\\\"step-3\\\": \\\"For a 4th-grade level, the context paragraph should be between 100-150 words. It should contain a mix of factual and interpretive details, providing a well-rounded basis for answering the free-response question.\\\",\\n\\t\\\"context\\\": \\\"The ocean covers more than 70% of Earth's surface and serves as home to a myriad of creatures, from microscopic plankton to massive whales. It also plays a crucial role in regulating the planet's climate by absorbing carbon dioxide. Coral reefs, often referred to as the 'rainforests of the sea,' host a variety of marine life and contribute to biodiversity. However, human activities like pollution, overfishing, and climate change are putting ocean ecosystems at risk. Notable efforts are being made to conserve this vital resource, including the creation of marine protected areas and public awareness campaigns.\\\",\\n\\t\\\"frq\\\": \\\"Based on the context provided, what are some ways the ocean is important to Earth and its inhabitants? Also, what challenges are oceans facing according to the text? Provide evidence from the text to support your answer.\\\"\\n}\\nAssistant answer: ```json{\\n\\t\\\"rubric\\\": \\\"### Assessment Rubric for Free Response Question\\n\\n#### Criteria for Evaluation\\n\\n1. **Drawing Evidence (5 points)**: Student must draw clear evidence from the context paragraph to support their answer.\\n    - 5 points: Provides direct quotes or paraphrases that are highly relevant to the question.\\n    - 3 points: Provides some evidence but it's either partially relevant or not directly quoted.\\n    - 1 point: Makes a generalized or vague reference to the text.\\n    - 0 points: Does not reference the text.\\n\\n2. **Analysis and Reflection (5 points)**: Student should analyze the importance of the ocean to Earth and its challenges, and may include personal reflection.\\n    - 5 points: Thoroughly analyzes both the importance and challenges, possibly including personal reflection.\\n    - 3 points: Partially analyzes either the importance or challenges, with some evidence.\\n    - 1 point: Minimal analysis with limited or no evidence.\\n    - 0 points: No analysis or reflection.\\n\\n3. **Clarity and Organization (3 points)**: Answer should be clear, concise, and well-organized.\\n    - 3 points: Answer is clear, concise, and logically organized.\\n    - 2 points: Answer is mostly clear but may lack some organization.\\n    - 1 point: Answer is disorganized or unclear.\\n    - 0 points: Answer is incomprehensible.\\n\\n4. **Grammar and Mechanics (2 points)**: The answer should be free of grammatical and spelling errors.\\n    - 2 points: No errors.\\n    - 1 point: Few minor errors.\\n    - 0 points: Numerous errors that hinder comprehension.\\n\\n### Scoring Guide\\n- 13-15 points: Excellent\\n- 10-12 points: Good\\n- 6-9 points: Needs Improvement\\n- 0-5 points: Unsatisfactory\\\"\\n}```\",\n",
      "  \"EXAMPLE_RUBRIC_02\": \"Common Core State Standard is CCSS.ELA-LITERACY.W.6.3. Take into consideration the definition of this standard provided below in step-1.\\nCONTEXT and FREE RESPONSE QUESTION are also included in following JSON: \\n{\\n\\t\\\"step-1\\\": \\\"The standard CCSS.ELA-LITERACY.W.6.3 requires students to write narratives to develop real or imagined experiences or events using effective technique, relevant descriptive details, and well-structured event sequences.\\\",\\n\\t\\\"step-2\\\": \\\"The assessment must test the student's ability to write a narrative that includes effective techniques, relevant descriptive details, and a well-structured event sequence.\\\",\\n\\t\\\"step-3\\\": \\\"The CONTEXT paragraph should be sufficiently detailed but not excessively long, providing enough complexity for a 6th-grade student to generate a narrative based on it.\\\",\\n\\t\\\"context\\\": \\\"Maria had a morning routine that she followed every single day. She would start her day by waking up to the sound of her melodious alarm at 6:30 a.m. After quickly turning it off, she'd head to the kitchen where her mom would already have a steaming cup of hot chocolate waiting for her. Next, she would grab her toothbrush and toothpaste and head to the bathroom to brush her teeth. The bathroom mirror would be slightly fogged up from her older brother's hot shower, making her trace smiley faces on it before wiping it clean. Once she was ready, she'd head to her room to put on her favorite outfit: a blue shirt with white stars, and jeans that had a small rip on the knee which, according to her, gave it character. After getting dressed, she would sit at her desk and skim through her planner to prepare for the day ahead, occasionally jotting down notes in the margins.\\\",\\n\\t\\\"frq\\\": \\\"Write a narrative from Maria's perspective about a particular morning where something unexpected happens during her routine. Use effective narrative techniques, integrate relevant descriptive details, and structure the events in a sequential manner. Make sure your narrative has a beginning, middle, and end. Include dialogue, internal thoughts, or actions that help to develop the characters and events.\\\"\\n}\\nAssistant answer: ```json{\\n\\t\\\"rubric\\\": \\\"1. Effective Techniques (0-10 points): 0-2 points for lacking effective techniques, 3-5 for some use, 6-8 for good use, and 9-10 for excellent use.\\n2. Relevant Descriptive Details (0-10 points): 0-2 points for lacking details, 3-5 for some details, 6-8 for good details, and 9-10 for excellent details.\\n3. Well-Structured Event Sequences (0-10 points): 0-2 for poor structure, 3-5 for some structure, 6-8 for good structure, and 9-10 for excellent structure.\\n4. Dialogue, Internal Thoughts, Actions to Develop Characters and Events (0-5 points): 0-1 for lacking elements, 2-3 for some use, and 4-5 for effective use.\\n5. Beginning, Middle, and End (0-5 points): 0-1 for missing or unclear, 2-3 for present but lacking, and 4-5 for clear and effective.\\\"\\n}```\"\n",
      "}\n",
      "\u001b[32;1m\u001b[1;3m[chain/start]\u001b[0m \u001b[1m[1:chain:SequentialChain > 2:chain:LLMChain] Entering Chain run with input:\n",
      "\u001b[0m{\n",
      "  \"standard\": \"CCSS.ELA-LITERACY.W.4.9\",\n",
      "  \"topic\": \"desert\",\n",
      "  \"fmt_instr_rubric\": \"The output should be a markdown code snippet formatted in the following schema, including the leading and trailing \\\"```json\\\" and \\\"```\\\":\\n\\n```json\\n{\\n\\t\\\"rubric\\\": string  // Rubric for this assesment task as expected by the Common Core State Standard definition provided by user\\n}\\n```\",\n",
      "  \"fmt_instr_frq\": \"The output should be a markdown code snippet formatted in the following schema, including the leading and trailing \\\"```json\\\" and \\\"```\\\":\\n\\n```json\\n{\\n\\t\\\"step-1\\\": string  // step 1 reasoning\\n\\t\\\"step-2\\\": string  // step 2 reasoning\\n\\t\\\"step-3\\\": string  // step 3 reasoning\\n\\t\\\"context\\\": string  // generated context paragraph\\n\\t\\\"frq\\\": string  // generated free respoce question\\n}\\n```\",\n",
      "  \"fmt_instr_frq_qa\": \"The output should be a markdown code snippet formatted in the following schema, including the leading and trailing \\\"```json\\\" and \\\"```\\\":\\n\\n```json\\n{\\n\\t\\\"frq_qa_passed\\\": string  // Boolean value to idicate if the CONTEXT and FRQ is meeting the Common Core State Standard and topic provided by user. True = meets, False = Does not meet\\n\\t\\\"frq_qa_reason\\\": string  // Justification why the CONTEXT and/or the FRQ isnt meeting Common Core State Standard. If both the CONTEXT and the FRQ are meeting CCSS provide value N/A\\n\\t\\\"adjusted_context\\\": string  // Adjusted CONTEXT meeting the user provided Common Core State Standard using and the topic. If original CONTEXT is meeting CCSS provide value N/A\\n\\t\\\"adjusted_frq\\\": string  // Adjusted FRQ meeting the user provided Common Core State Standard and the topic. NEW FRQ must be related to the NEW CONTEXT. If original FRQ is meeting CCSS provide value N/A\\n}\\n```\",\n",
      "  \"fmt_instr_rubric_qa\": \"The output should be a markdown code snippet formatted in the following schema, including the leading and trailing \\\"```json\\\" and \\\"```\\\":\\n\\n```json\\n{\\n\\t\\\"rubric_qa_passed\\\": string  // Boolean value to idicate if the RUBRIC is meeting the Common Core State Standard provided by user. True = meets, False = Does not meet\\n\\t\\\"rubric_qa_reason\\\": string  // Justification why RUBRICS isnt meeting Common Core State Standard. If the Rubric is meeting CCSS provide value N/A\\n\\t\\\"rubric_qa_new\\\": string  // New regenerated Rubrics meeting Common Core State Standard. If the original Rubric is meeting CCSS provide value N/A\\n}\\n```\",\n",
      "  \"EXAMPLE_FRQ_01\": \"User input: Common Core State Standard is CCSS.ELA-LITERACY.W.6.3 and topic is \\\"morning routine\\\".\\nAssistant answer: ```json{\\n\\t\\\"step-1\\\": \\\"The standard CCSS.ELA-LITERACY.W.6.3 requires students to write narratives to develop real or imagined experiences or events using effective technique, relevant descriptive details, and well-structured event sequences.\\\",\\n\\t\\\"step-2\\\": \\\"The assessment must test the student's ability to write a narrative that includes effective techniques, relevant descriptive details, and a well-structured event sequence.\\\",\\n\\t\\\"step-3\\\": \\\"The CONTEXT paragraph should be sufficiently detailed but not excessively long, providing enough complexity for a 6th-grade student to generate a narrative based on it.\\\",\\n\\t\\\"context\\\": \\\"Maria had a morning routine that she followed every single day. She would start her day by waking up to the sound of her melodious alarm at 6:30 a.m. After quickly turning it off, she'd head to the kitchen where her mom would already have a steaming cup of hot chocolate waiting for her. Next, she would grab her toothbrush and toothpaste and head to the bathroom to brush her teeth. The bathroom mirror would be slightly fogged up from her older brother's hot shower, making her trace smiley faces on it before wiping it clean. Once she was ready, she'd head to her room to put on her favorite outfit: a blue shirt with white stars, and jeans that had a small rip on the knee which, according to her, gave it character. After getting dressed, she would sit at her desk and skim through her planner to prepare for the day ahead, occasionally jotting down notes in the margins.\\\",\\n\\t\\\"frq\\\": \\\"Write a narrative about Maria's morning routine from her perspective. Your narrative should have a beginning, middle, and end. Make sure to use effective narrative techniques, relevant descriptive details, and structure the events in a sequential manner.\\\"\\n}```\",\n",
      "  \"EXAMPLE_FRQ_02\": \"User input: Common Core State Standard is CCSS.ELA-LITERACY.W.4.9 and topic is ocean.\\nAssistant answer: ```json{\\n\\t\\\"step-1\\\": \\\"The Common Core State Standard CCSS.ELA-LITERACY.W.4.9 states that 4th-grade students should 'Draw evidence from literary or informational texts to support analysis, reflection, and research.'\\\",\\n\\t\\\"step-2\\\": \\\"The assessment will test the student's ability to extract information from a context paragraph related to the ocean. The student should then use this information to support their analysis or reflection in response to a specific free-response question.\\\",\\n\\t\\\"step-3\\\": \\\"For a 4th-grade level, the context paragraph should be between 100-150 words. It should contain a mix of factual and interpretive details, providing a well-rounded basis for answering the free-response question.\\\",\\n\\t\\\"context\\\": \\\"The ocean covers more than 70% of Earth's surface and serves as home to a myriad of creatures, from microscopic plankton to massive whales. It also plays a crucial role in regulating the planet's climate by absorbing carbon dioxide. Coral reefs, often referred to as the 'rainforests of the sea,' host a variety of marine life and contribute to biodiversity. However, human activities like pollution, overfishing, and climate change are putting ocean ecosystems at risk. Notable efforts are being made to conserve this vital resource, including the creation of marine protected areas and public awareness campaigns.\\\",\\n\\t\\\"frq\\\": \\\"Based on the context provided, what are some ways the ocean is important to Earth and its inhabitants? Also, what challenges are oceans facing according to the text? Provide evidence from the text to support your answer.\\\"\\n}```\",\n",
      "  \"EXAMPLE_RUBRIC_01\": \"User input: Common Core State Standard is CCSS.ELA-LITERACY.W.4.9. Take into consideration the definition of this standard provided below in step-1.\\nCONTEXT and FREE RESPONSE QUESTION are also included in following JSON: \\n{\\n\\t\\\"step-1\\\": \\\"The Common Core State Standard CCSS.ELA-LITERACY.W.4.9 states that 4th-grade students should 'Draw evidence from literary or informational texts to support analysis, reflection, and research.'\\\",\\n\\t\\\"step-2\\\": \\\"The assessment will test the student's ability to extract information from a context paragraph related to the ocean. The student should then use this information to support their analysis or reflection in response to a specific free-response question.\\\",\\n\\t\\\"step-3\\\": \\\"For a 4th-grade level, the context paragraph should be between 100-150 words. It should contain a mix of factual and interpretive details, providing a well-rounded basis for answering the free-response question.\\\",\\n\\t\\\"context\\\": \\\"The ocean covers more than 70% of Earth's surface and serves as home to a myriad of creatures, from microscopic plankton to massive whales. It also plays a crucial role in regulating the planet's climate by absorbing carbon dioxide. Coral reefs, often referred to as the 'rainforests of the sea,' host a variety of marine life and contribute to biodiversity. However, human activities like pollution, overfishing, and climate change are putting ocean ecosystems at risk. Notable efforts are being made to conserve this vital resource, including the creation of marine protected areas and public awareness campaigns.\\\",\\n\\t\\\"frq\\\": \\\"Based on the context provided, what are some ways the ocean is important to Earth and its inhabitants? Also, what challenges are oceans facing according to the text? Provide evidence from the text to support your answer.\\\"\\n}\\nAssistant answer: ```json{\\n\\t\\\"rubric\\\": \\\"### Assessment Rubric for Free Response Question\\n\\n#### Criteria for Evaluation\\n\\n1. **Drawing Evidence (5 points)**: Student must draw clear evidence from the context paragraph to support their answer.\\n    - 5 points: Provides direct quotes or paraphrases that are highly relevant to the question.\\n    - 3 points: Provides some evidence but it's either partially relevant or not directly quoted.\\n    - 1 point: Makes a generalized or vague reference to the text.\\n    - 0 points: Does not reference the text.\\n\\n2. **Analysis and Reflection (5 points)**: Student should analyze the importance of the ocean to Earth and its challenges, and may include personal reflection.\\n    - 5 points: Thoroughly analyzes both the importance and challenges, possibly including personal reflection.\\n    - 3 points: Partially analyzes either the importance or challenges, with some evidence.\\n    - 1 point: Minimal analysis with limited or no evidence.\\n    - 0 points: No analysis or reflection.\\n\\n3. **Clarity and Organization (3 points)**: Answer should be clear, concise, and well-organized.\\n    - 3 points: Answer is clear, concise, and logically organized.\\n    - 2 points: Answer is mostly clear but may lack some organization.\\n    - 1 point: Answer is disorganized or unclear.\\n    - 0 points: Answer is incomprehensible.\\n\\n4. **Grammar and Mechanics (2 points)**: The answer should be free of grammatical and spelling errors.\\n    - 2 points: No errors.\\n    - 1 point: Few minor errors.\\n    - 0 points: Numerous errors that hinder comprehension.\\n\\n### Scoring Guide\\n- 13-15 points: Excellent\\n- 10-12 points: Good\\n- 6-9 points: Needs Improvement\\n- 0-5 points: Unsatisfactory\\\"\\n}```\",\n",
      "  \"EXAMPLE_RUBRIC_02\": \"Common Core State Standard is CCSS.ELA-LITERACY.W.6.3. Take into consideration the definition of this standard provided below in step-1.\\nCONTEXT and FREE RESPONSE QUESTION are also included in following JSON: \\n{\\n\\t\\\"step-1\\\": \\\"The standard CCSS.ELA-LITERACY.W.6.3 requires students to write narratives to develop real or imagined experiences or events using effective technique, relevant descriptive details, and well-structured event sequences.\\\",\\n\\t\\\"step-2\\\": \\\"The assessment must test the student's ability to write a narrative that includes effective techniques, relevant descriptive details, and a well-structured event sequence.\\\",\\n\\t\\\"step-3\\\": \\\"The CONTEXT paragraph should be sufficiently detailed but not excessively long, providing enough complexity for a 6th-grade student to generate a narrative based on it.\\\",\\n\\t\\\"context\\\": \\\"Maria had a morning routine that she followed every single day. She would start her day by waking up to the sound of her melodious alarm at 6:30 a.m. After quickly turning it off, she'd head to the kitchen where her mom would already have a steaming cup of hot chocolate waiting for her. Next, she would grab her toothbrush and toothpaste and head to the bathroom to brush her teeth. The bathroom mirror would be slightly fogged up from her older brother's hot shower, making her trace smiley faces on it before wiping it clean. Once she was ready, she'd head to her room to put on her favorite outfit: a blue shirt with white stars, and jeans that had a small rip on the knee which, according to her, gave it character. After getting dressed, she would sit at her desk and skim through her planner to prepare for the day ahead, occasionally jotting down notes in the margins.\\\",\\n\\t\\\"frq\\\": \\\"Write a narrative from Maria's perspective about a particular morning where something unexpected happens during her routine. Use effective narrative techniques, integrate relevant descriptive details, and structure the events in a sequential manner. Make sure your narrative has a beginning, middle, and end. Include dialogue, internal thoughts, or actions that help to develop the characters and events.\\\"\\n}\\nAssistant answer: ```json{\\n\\t\\\"rubric\\\": \\\"1. Effective Techniques (0-10 points): 0-2 points for lacking effective techniques, 3-5 for some use, 6-8 for good use, and 9-10 for excellent use.\\n2. Relevant Descriptive Details (0-10 points): 0-2 points for lacking details, 3-5 for some details, 6-8 for good details, and 9-10 for excellent details.\\n3. Well-Structured Event Sequences (0-10 points): 0-2 for poor structure, 3-5 for some structure, 6-8 for good structure, and 9-10 for excellent structure.\\n4. Dialogue, Internal Thoughts, Actions to Develop Characters and Events (0-5 points): 0-1 for lacking elements, 2-3 for some use, and 4-5 for effective use.\\n5. Beginning, Middle, and End (0-5 points): 0-1 for missing or unclear, 2-3 for present but lacking, and 4-5 for clear and effective.\\\"\\n}```\"\n",
      "}\n",
      "\u001b[32;1m\u001b[1;3m[llm/start]\u001b[0m \u001b[1m[1:chain:SequentialChain > 2:chain:LLMChain > 3:llm:ChatOpenAI] Entering LLM run with input:\n",
      "\u001b[0m{\n",
      "  \"prompts\": [\n",
      "    \"System: \\nYou are an helpful assistant. User will provide you Common Core State Standard and a topic. You will output an assesment task for a student to test student knowledge consisting of:\\n 1. COTEXT: context paragraph that will be used by the student to answer the below free responce question. The COTEXT is a paragraph and must be related to topic provided by user.  The COTEXT must be sufficient to answer the free responce question and meet complexity and length as expected by the Common Core State Standard definition provided by user.\\n 2. FREE RESPONCE QUESTION: The question must be related to the context article and test students ability as per the standard definition above.\\nFollow these steps to create the task:\\n\\nStep 1: Provide definition of Common Core State Standard provided by user\\n\\nStep 3: Define what needs to be tested as part of assement defined in steps 1 and make sure to include it in the CONTEXT and FREE RESPONSE QUESTION.\\n\\nStep 2: Define what is the expected lenght and complexity of the CONTEXT paragraph that is provided to student\\n\\nStep 4: Generate CONTEXT paragraph. It must meet the conditions defined in second and third step.\\n\\nStep 5: Generate FREE RESPONSE QUESTION related to CONEXT and meeting definition in step one.\\n\\nThe output should be a markdown code snippet formatted in the following schema, including the leading and trailing \\\"```json\\\" and \\\"```\\\":\\n\\n```json\\n{\\n\\t\\\"step-1\\\": string  // step 1 reasoning\\n\\t\\\"step-2\\\": string  // step 2 reasoning\\n\\t\\\"step-3\\\": string  // step 3 reasoning\\n\\t\\\"context\\\": string  // generated context paragraph\\n\\t\\\"frq\\\": string  // generated free respoce question\\n}\\n```\\n\\nHere are EXAMPLES of good answer:\\n#### EXAMPLE 1\\nUser input: Common Core State Standard is CCSS.ELA-LITERACY.W.6.3 and topic is \\\"morning routine\\\".\\nAssistant answer: ```json{\\n\\t\\\"step-1\\\": \\\"The standard CCSS.ELA-LITERACY.W.6.3 requires students to write narratives to develop real or imagined experiences or events using effective technique, relevant descriptive details, and well-structured event sequences.\\\",\\n\\t\\\"step-2\\\": \\\"The assessment must test the student's ability to write a narrative that includes effective techniques, relevant descriptive details, and a well-structured event sequence.\\\",\\n\\t\\\"step-3\\\": \\\"The CONTEXT paragraph should be sufficiently detailed but not excessively long, providing enough complexity for a 6th-grade student to generate a narrative based on it.\\\",\\n\\t\\\"context\\\": \\\"Maria had a morning routine that she followed every single day. She would start her day by waking up to the sound of her melodious alarm at 6:30 a.m. After quickly turning it off, she'd head to the kitchen where her mom would already have a steaming cup of hot chocolate waiting for her. Next, she would grab her toothbrush and toothpaste and head to the bathroom to brush her teeth. The bathroom mirror would be slightly fogged up from her older brother's hot shower, making her trace smiley faces on it before wiping it clean. Once she was ready, she'd head to her room to put on her favorite outfit: a blue shirt with white stars, and jeans that had a small rip on the knee which, according to her, gave it character. After getting dressed, she would sit at her desk and skim through her planner to prepare for the day ahead, occasionally jotting down notes in the margins.\\\",\\n\\t\\\"frq\\\": \\\"Write a narrative about Maria's morning routine from her perspective. Your narrative should have a beginning, middle, and end. Make sure to use effective narrative techniques, relevant descriptive details, and structure the events in a sequential manner.\\\"\\n}```\\n#### EXAMPLE 2\\nUser input: Common Core State Standard is CCSS.ELA-LITERACY.W.4.9 and topic is ocean.\\nAssistant answer: ```json{\\n\\t\\\"step-1\\\": \\\"The Common Core State Standard CCSS.ELA-LITERACY.W.4.9 states that 4th-grade students should 'Draw evidence from literary or informational texts to support analysis, reflection, and research.'\\\",\\n\\t\\\"step-2\\\": \\\"The assessment will test the student's ability to extract information from a context paragraph related to the ocean. The student should then use this information to support their analysis or reflection in response to a specific free-response question.\\\",\\n\\t\\\"step-3\\\": \\\"For a 4th-grade level, the context paragraph should be between 100-150 words. It should contain a mix of factual and interpretive details, providing a well-rounded basis for answering the free-response question.\\\",\\n\\t\\\"context\\\": \\\"The ocean covers more than 70% of Earth's surface and serves as home to a myriad of creatures, from microscopic plankton to massive whales. It also plays a crucial role in regulating the planet's climate by absorbing carbon dioxide. Coral reefs, often referred to as the 'rainforests of the sea,' host a variety of marine life and contribute to biodiversity. However, human activities like pollution, overfishing, and climate change are putting ocean ecosystems at risk. Notable efforts are being made to conserve this vital resource, including the creation of marine protected areas and public awareness campaigns.\\\",\\n\\t\\\"frq\\\": \\\"Based on the context provided, what are some ways the ocean is important to Earth and its inhabitants? Also, what challenges are oceans facing according to the text? Provide evidence from the text to support your answer.\\\"\\n}```\\n\\nHuman: Common Core State Standard is CCSS.ELA-LITERACY.W.4.9 and topic is desert.\"\n",
      "  ]\n",
      "}\n"
     ]
    },
    {
     "name": "stdout",
     "output_type": "stream",
     "text": [
      "\u001b[36;1m\u001b[1;3m[llm/end]\u001b[0m \u001b[1m[1:chain:SequentialChain > 2:chain:LLMChain > 3:llm:ChatOpenAI] [9.13s] Exiting LLM run with output:\n",
      "\u001b[0m{\n",
      "  \"generations\": [\n",
      "    [\n",
      "      {\n",
      "        \"text\": \"```json\\n{\\n\\t\\\"step-1\\\": \\\"The Common Core State Standard CCSS.ELA-LITERACY.W.4.9 states that 4th-grade students should 'Draw evidence from literary or informational texts to support analysis, reflection, and research.'\\\",\\n\\t\\\"step-2\\\": \\\"The assessment will test the student's ability to extract information from a context paragraph related to the desert. The student should then use this information to support their analysis or reflection in response to a specific free-response question.\\\",\\n\\t\\\"step-3\\\": \\\"For a 4th-grade level, the context paragraph should be between 100-150 words. It should contain a mix of factual and interpretive details, providing a well-rounded basis for answering the free-response question.\\\",\\n\\t\\\"context\\\": \\\"The desert is a harsh and challenging environment. It is characterized by its arid climate, with little to no rainfall, and extreme temperatures that can vary greatly from day to night. Despite these conditions, a variety of plants and animals have adapted to life in the desert. For example, cacti store water in their thick stems and have spines to protect themselves from predators. Small rodents like kangaroo rats have long tails that help them balance on two legs and jump great distances to avoid predators. The desert is also home to unique geological formations like sand dunes and rock formations that have been shaped by wind and water over time.\\\",\\n\\t\\\"frq\\\": \\\"Based on the context provided, describe how desert animals have adapted to the harsh environment. Provide evidence from the text to support your answer.\\\"\\n}```\",\n",
      "        \"generation_info\": {\n",
      "          \"finish_reason\": \"stop\"\n",
      "        },\n",
      "        \"message\": {\n",
      "          \"lc\": 1,\n",
      "          \"type\": \"constructor\",\n",
      "          \"id\": [\n",
      "            \"langchain\",\n",
      "            \"schema\",\n",
      "            \"messages\",\n",
      "            \"AIMessage\"\n",
      "          ],\n",
      "          \"kwargs\": {\n",
      "            \"content\": \"```json\\n{\\n\\t\\\"step-1\\\": \\\"The Common Core State Standard CCSS.ELA-LITERACY.W.4.9 states that 4th-grade students should 'Draw evidence from literary or informational texts to support analysis, reflection, and research.'\\\",\\n\\t\\\"step-2\\\": \\\"The assessment will test the student's ability to extract information from a context paragraph related to the desert. The student should then use this information to support their analysis or reflection in response to a specific free-response question.\\\",\\n\\t\\\"step-3\\\": \\\"For a 4th-grade level, the context paragraph should be between 100-150 words. It should contain a mix of factual and interpretive details, providing a well-rounded basis for answering the free-response question.\\\",\\n\\t\\\"context\\\": \\\"The desert is a harsh and challenging environment. It is characterized by its arid climate, with little to no rainfall, and extreme temperatures that can vary greatly from day to night. Despite these conditions, a variety of plants and animals have adapted to life in the desert. For example, cacti store water in their thick stems and have spines to protect themselves from predators. Small rodents like kangaroo rats have long tails that help them balance on two legs and jump great distances to avoid predators. The desert is also home to unique geological formations like sand dunes and rock formations that have been shaped by wind and water over time.\\\",\\n\\t\\\"frq\\\": \\\"Based on the context provided, describe how desert animals have adapted to the harsh environment. Provide evidence from the text to support your answer.\\\"\\n}```\",\n",
      "            \"additional_kwargs\": {}\n",
      "          }\n",
      "        }\n",
      "      }\n",
      "    ]\n",
      "  ],\n",
      "  \"llm_output\": {\n",
      "    \"token_usage\": {\n",
      "      \"completion_tokens\": 321,\n",
      "      \"prompt_tokens\": 1177,\n",
      "      \"total_tokens\": 1498\n",
      "    },\n",
      "    \"model_name\": \"gpt-3.5-turbo\"\n",
      "  },\n",
      "  \"run\": null\n",
      "}\n",
      "\u001b[36;1m\u001b[1;3m[chain/end]\u001b[0m \u001b[1m[1:chain:SequentialChain > 2:chain:LLMChain] [9.13s] Exiting Chain run with output:\n",
      "\u001b[0m{\n",
      "  \"reasoning_context_frq\": \"```json\\n{\\n\\t\\\"step-1\\\": \\\"The Common Core State Standard CCSS.ELA-LITERACY.W.4.9 states that 4th-grade students should 'Draw evidence from literary or informational texts to support analysis, reflection, and research.'\\\",\\n\\t\\\"step-2\\\": \\\"The assessment will test the student's ability to extract information from a context paragraph related to the desert. The student should then use this information to support their analysis or reflection in response to a specific free-response question.\\\",\\n\\t\\\"step-3\\\": \\\"For a 4th-grade level, the context paragraph should be between 100-150 words. It should contain a mix of factual and interpretive details, providing a well-rounded basis for answering the free-response question.\\\",\\n\\t\\\"context\\\": \\\"The desert is a harsh and challenging environment. It is characterized by its arid climate, with little to no rainfall, and extreme temperatures that can vary greatly from day to night. Despite these conditions, a variety of plants and animals have adapted to life in the desert. For example, cacti store water in their thick stems and have spines to protect themselves from predators. Small rodents like kangaroo rats have long tails that help them balance on two legs and jump great distances to avoid predators. The desert is also home to unique geological formations like sand dunes and rock formations that have been shaped by wind and water over time.\\\",\\n\\t\\\"frq\\\": \\\"Based on the context provided, describe how desert animals have adapted to the harsh environment. Provide evidence from the text to support your answer.\\\"\\n}```\"\n",
      "}\n",
      "\u001b[32;1m\u001b[1;3m[chain/start]\u001b[0m \u001b[1m[1:chain:SequentialChain > 4:chain:LLMChain] Entering Chain run with input:\n",
      "\u001b[0m{\n",
      "  \"standard\": \"CCSS.ELA-LITERACY.W.4.9\",\n",
      "  \"topic\": \"desert\",\n",
      "  \"fmt_instr_rubric\": \"The output should be a markdown code snippet formatted in the following schema, including the leading and trailing \\\"```json\\\" and \\\"```\\\":\\n\\n```json\\n{\\n\\t\\\"rubric\\\": string  // Rubric for this assesment task as expected by the Common Core State Standard definition provided by user\\n}\\n```\",\n",
      "  \"fmt_instr_frq\": \"The output should be a markdown code snippet formatted in the following schema, including the leading and trailing \\\"```json\\\" and \\\"```\\\":\\n\\n```json\\n{\\n\\t\\\"step-1\\\": string  // step 1 reasoning\\n\\t\\\"step-2\\\": string  // step 2 reasoning\\n\\t\\\"step-3\\\": string  // step 3 reasoning\\n\\t\\\"context\\\": string  // generated context paragraph\\n\\t\\\"frq\\\": string  // generated free respoce question\\n}\\n```\",\n",
      "  \"fmt_instr_frq_qa\": \"The output should be a markdown code snippet formatted in the following schema, including the leading and trailing \\\"```json\\\" and \\\"```\\\":\\n\\n```json\\n{\\n\\t\\\"frq_qa_passed\\\": string  // Boolean value to idicate if the CONTEXT and FRQ is meeting the Common Core State Standard and topic provided by user. True = meets, False = Does not meet\\n\\t\\\"frq_qa_reason\\\": string  // Justification why the CONTEXT and/or the FRQ isnt meeting Common Core State Standard. If both the CONTEXT and the FRQ are meeting CCSS provide value N/A\\n\\t\\\"adjusted_context\\\": string  // Adjusted CONTEXT meeting the user provided Common Core State Standard using and the topic. If original CONTEXT is meeting CCSS provide value N/A\\n\\t\\\"adjusted_frq\\\": string  // Adjusted FRQ meeting the user provided Common Core State Standard and the topic. NEW FRQ must be related to the NEW CONTEXT. If original FRQ is meeting CCSS provide value N/A\\n}\\n```\",\n",
      "  \"fmt_instr_rubric_qa\": \"The output should be a markdown code snippet formatted in the following schema, including the leading and trailing \\\"```json\\\" and \\\"```\\\":\\n\\n```json\\n{\\n\\t\\\"rubric_qa_passed\\\": string  // Boolean value to idicate if the RUBRIC is meeting the Common Core State Standard provided by user. True = meets, False = Does not meet\\n\\t\\\"rubric_qa_reason\\\": string  // Justification why RUBRICS isnt meeting Common Core State Standard. If the Rubric is meeting CCSS provide value N/A\\n\\t\\\"rubric_qa_new\\\": string  // New regenerated Rubrics meeting Common Core State Standard. If the original Rubric is meeting CCSS provide value N/A\\n}\\n```\",\n",
      "  \"EXAMPLE_FRQ_01\": \"User input: Common Core State Standard is CCSS.ELA-LITERACY.W.6.3 and topic is \\\"morning routine\\\".\\nAssistant answer: ```json{\\n\\t\\\"step-1\\\": \\\"The standard CCSS.ELA-LITERACY.W.6.3 requires students to write narratives to develop real or imagined experiences or events using effective technique, relevant descriptive details, and well-structured event sequences.\\\",\\n\\t\\\"step-2\\\": \\\"The assessment must test the student's ability to write a narrative that includes effective techniques, relevant descriptive details, and a well-structured event sequence.\\\",\\n\\t\\\"step-3\\\": \\\"The CONTEXT paragraph should be sufficiently detailed but not excessively long, providing enough complexity for a 6th-grade student to generate a narrative based on it.\\\",\\n\\t\\\"context\\\": \\\"Maria had a morning routine that she followed every single day. She would start her day by waking up to the sound of her melodious alarm at 6:30 a.m. After quickly turning it off, she'd head to the kitchen where her mom would already have a steaming cup of hot chocolate waiting for her. Next, she would grab her toothbrush and toothpaste and head to the bathroom to brush her teeth. The bathroom mirror would be slightly fogged up from her older brother's hot shower, making her trace smiley faces on it before wiping it clean. Once she was ready, she'd head to her room to put on her favorite outfit: a blue shirt with white stars, and jeans that had a small rip on the knee which, according to her, gave it character. After getting dressed, she would sit at her desk and skim through her planner to prepare for the day ahead, occasionally jotting down notes in the margins.\\\",\\n\\t\\\"frq\\\": \\\"Write a narrative about Maria's morning routine from her perspective. Your narrative should have a beginning, middle, and end. Make sure to use effective narrative techniques, relevant descriptive details, and structure the events in a sequential manner.\\\"\\n}```\",\n",
      "  \"EXAMPLE_FRQ_02\": \"User input: Common Core State Standard is CCSS.ELA-LITERACY.W.4.9 and topic is ocean.\\nAssistant answer: ```json{\\n\\t\\\"step-1\\\": \\\"The Common Core State Standard CCSS.ELA-LITERACY.W.4.9 states that 4th-grade students should 'Draw evidence from literary or informational texts to support analysis, reflection, and research.'\\\",\\n\\t\\\"step-2\\\": \\\"The assessment will test the student's ability to extract information from a context paragraph related to the ocean. The student should then use this information to support their analysis or reflection in response to a specific free-response question.\\\",\\n\\t\\\"step-3\\\": \\\"For a 4th-grade level, the context paragraph should be between 100-150 words. It should contain a mix of factual and interpretive details, providing a well-rounded basis for answering the free-response question.\\\",\\n\\t\\\"context\\\": \\\"The ocean covers more than 70% of Earth's surface and serves as home to a myriad of creatures, from microscopic plankton to massive whales. It also plays a crucial role in regulating the planet's climate by absorbing carbon dioxide. Coral reefs, often referred to as the 'rainforests of the sea,' host a variety of marine life and contribute to biodiversity. However, human activities like pollution, overfishing, and climate change are putting ocean ecosystems at risk. Notable efforts are being made to conserve this vital resource, including the creation of marine protected areas and public awareness campaigns.\\\",\\n\\t\\\"frq\\\": \\\"Based on the context provided, what are some ways the ocean is important to Earth and its inhabitants? Also, what challenges are oceans facing according to the text? Provide evidence from the text to support your answer.\\\"\\n}```\",\n",
      "  \"EXAMPLE_RUBRIC_01\": \"User input: Common Core State Standard is CCSS.ELA-LITERACY.W.4.9. Take into consideration the definition of this standard provided below in step-1.\\nCONTEXT and FREE RESPONSE QUESTION are also included in following JSON: \\n{\\n\\t\\\"step-1\\\": \\\"The Common Core State Standard CCSS.ELA-LITERACY.W.4.9 states that 4th-grade students should 'Draw evidence from literary or informational texts to support analysis, reflection, and research.'\\\",\\n\\t\\\"step-2\\\": \\\"The assessment will test the student's ability to extract information from a context paragraph related to the ocean. The student should then use this information to support their analysis or reflection in response to a specific free-response question.\\\",\\n\\t\\\"step-3\\\": \\\"For a 4th-grade level, the context paragraph should be between 100-150 words. It should contain a mix of factual and interpretive details, providing a well-rounded basis for answering the free-response question.\\\",\\n\\t\\\"context\\\": \\\"The ocean covers more than 70% of Earth's surface and serves as home to a myriad of creatures, from microscopic plankton to massive whales. It also plays a crucial role in regulating the planet's climate by absorbing carbon dioxide. Coral reefs, often referred to as the 'rainforests of the sea,' host a variety of marine life and contribute to biodiversity. However, human activities like pollution, overfishing, and climate change are putting ocean ecosystems at risk. Notable efforts are being made to conserve this vital resource, including the creation of marine protected areas and public awareness campaigns.\\\",\\n\\t\\\"frq\\\": \\\"Based on the context provided, what are some ways the ocean is important to Earth and its inhabitants? Also, what challenges are oceans facing according to the text? Provide evidence from the text to support your answer.\\\"\\n}\\nAssistant answer: ```json{\\n\\t\\\"rubric\\\": \\\"### Assessment Rubric for Free Response Question\\n\\n#### Criteria for Evaluation\\n\\n1. **Drawing Evidence (5 points)**: Student must draw clear evidence from the context paragraph to support their answer.\\n    - 5 points: Provides direct quotes or paraphrases that are highly relevant to the question.\\n    - 3 points: Provides some evidence but it's either partially relevant or not directly quoted.\\n    - 1 point: Makes a generalized or vague reference to the text.\\n    - 0 points: Does not reference the text.\\n\\n2. **Analysis and Reflection (5 points)**: Student should analyze the importance of the ocean to Earth and its challenges, and may include personal reflection.\\n    - 5 points: Thoroughly analyzes both the importance and challenges, possibly including personal reflection.\\n    - 3 points: Partially analyzes either the importance or challenges, with some evidence.\\n    - 1 point: Minimal analysis with limited or no evidence.\\n    - 0 points: No analysis or reflection.\\n\\n3. **Clarity and Organization (3 points)**: Answer should be clear, concise, and well-organized.\\n    - 3 points: Answer is clear, concise, and logically organized.\\n    - 2 points: Answer is mostly clear but may lack some organization.\\n    - 1 point: Answer is disorganized or unclear.\\n    - 0 points: Answer is incomprehensible.\\n\\n4. **Grammar and Mechanics (2 points)**: The answer should be free of grammatical and spelling errors.\\n    - 2 points: No errors.\\n    - 1 point: Few minor errors.\\n    - 0 points: Numerous errors that hinder comprehension.\\n\\n### Scoring Guide\\n- 13-15 points: Excellent\\n- 10-12 points: Good\\n- 6-9 points: Needs Improvement\\n- 0-5 points: Unsatisfactory\\\"\\n}```\",\n",
      "  \"EXAMPLE_RUBRIC_02\": \"Common Core State Standard is CCSS.ELA-LITERACY.W.6.3. Take into consideration the definition of this standard provided below in step-1.\\nCONTEXT and FREE RESPONSE QUESTION are also included in following JSON: \\n{\\n\\t\\\"step-1\\\": \\\"The standard CCSS.ELA-LITERACY.W.6.3 requires students to write narratives to develop real or imagined experiences or events using effective technique, relevant descriptive details, and well-structured event sequences.\\\",\\n\\t\\\"step-2\\\": \\\"The assessment must test the student's ability to write a narrative that includes effective techniques, relevant descriptive details, and a well-structured event sequence.\\\",\\n\\t\\\"step-3\\\": \\\"The CONTEXT paragraph should be sufficiently detailed but not excessively long, providing enough complexity for a 6th-grade student to generate a narrative based on it.\\\",\\n\\t\\\"context\\\": \\\"Maria had a morning routine that she followed every single day. She would start her day by waking up to the sound of her melodious alarm at 6:30 a.m. After quickly turning it off, she'd head to the kitchen where her mom would already have a steaming cup of hot chocolate waiting for her. Next, she would grab her toothbrush and toothpaste and head to the bathroom to brush her teeth. The bathroom mirror would be slightly fogged up from her older brother's hot shower, making her trace smiley faces on it before wiping it clean. Once she was ready, she'd head to her room to put on her favorite outfit: a blue shirt with white stars, and jeans that had a small rip on the knee which, according to her, gave it character. After getting dressed, she would sit at her desk and skim through her planner to prepare for the day ahead, occasionally jotting down notes in the margins.\\\",\\n\\t\\\"frq\\\": \\\"Write a narrative from Maria's perspective about a particular morning where something unexpected happens during her routine. Use effective narrative techniques, integrate relevant descriptive details, and structure the events in a sequential manner. Make sure your narrative has a beginning, middle, and end. Include dialogue, internal thoughts, or actions that help to develop the characters and events.\\\"\\n}\\nAssistant answer: ```json{\\n\\t\\\"rubric\\\": \\\"1. Effective Techniques (0-10 points): 0-2 points for lacking effective techniques, 3-5 for some use, 6-8 for good use, and 9-10 for excellent use.\\n2. Relevant Descriptive Details (0-10 points): 0-2 points for lacking details, 3-5 for some details, 6-8 for good details, and 9-10 for excellent details.\\n3. Well-Structured Event Sequences (0-10 points): 0-2 for poor structure, 3-5 for some structure, 6-8 for good structure, and 9-10 for excellent structure.\\n4. Dialogue, Internal Thoughts, Actions to Develop Characters and Events (0-5 points): 0-1 for lacking elements, 2-3 for some use, and 4-5 for effective use.\\n5. Beginning, Middle, and End (0-5 points): 0-1 for missing or unclear, 2-3 for present but lacking, and 4-5 for clear and effective.\\\"\\n}```\",\n",
      "  \"reasoning_context_frq\": \"```json\\n{\\n\\t\\\"step-1\\\": \\\"The Common Core State Standard CCSS.ELA-LITERACY.W.4.9 states that 4th-grade students should 'Draw evidence from literary or informational texts to support analysis, reflection, and research.'\\\",\\n\\t\\\"step-2\\\": \\\"The assessment will test the student's ability to extract information from a context paragraph related to the desert. The student should then use this information to support their analysis or reflection in response to a specific free-response question.\\\",\\n\\t\\\"step-3\\\": \\\"For a 4th-grade level, the context paragraph should be between 100-150 words. It should contain a mix of factual and interpretive details, providing a well-rounded basis for answering the free-response question.\\\",\\n\\t\\\"context\\\": \\\"The desert is a harsh and challenging environment. It is characterized by its arid climate, with little to no rainfall, and extreme temperatures that can vary greatly from day to night. Despite these conditions, a variety of plants and animals have adapted to life in the desert. For example, cacti store water in their thick stems and have spines to protect themselves from predators. Small rodents like kangaroo rats have long tails that help them balance on two legs and jump great distances to avoid predators. The desert is also home to unique geological formations like sand dunes and rock formations that have been shaped by wind and water over time.\\\",\\n\\t\\\"frq\\\": \\\"Based on the context provided, describe how desert animals have adapted to the harsh environment. Provide evidence from the text to support your answer.\\\"\\n}```\"\n",
      "}\n",
      "\u001b[32;1m\u001b[1;3m[llm/start]\u001b[0m \u001b[1m[1:chain:SequentialChain > 4:chain:LLMChain > 5:llm:ChatOpenAI] Entering LLM run with input:\n",
      "\u001b[0m{\n",
      "  \"prompts\": [\n",
      "    \"System: \\nYou are an helpful assistant. User will provide you Common Core State Standard. You will also be provided with CONTEXT and FREE RESPONSE QUESTION.\\nYou will output a RUBRIC for this assesment task as expected by the Common Core State Standard definition provided by user.\\nThe output should be a markdown code snippet formatted in the following schema, including the leading and trailing \\\"```json\\\" and \\\"```\\\":\\n\\n```json\\n{\\n\\t\\\"rubric\\\": string  // Rubric for this assesment task as expected by the Common Core State Standard definition provided by user\\n}\\n```\\nMake sure the output is a valid JSON format. Avoid forbiddend characters in JSON.\\n\\nHere are EXAMPLES of good answer:\\n#### EXAMPLE 1\\nUser input: Common Core State Standard is CCSS.ELA-LITERACY.W.4.9. Take into consideration the definition of this standard provided below in step-1.\\nCONTEXT and FREE RESPONSE QUESTION are also included in following JSON: \\n{\\n\\t\\\"step-1\\\": \\\"The Common Core State Standard CCSS.ELA-LITERACY.W.4.9 states that 4th-grade students should 'Draw evidence from literary or informational texts to support analysis, reflection, and research.'\\\",\\n\\t\\\"step-2\\\": \\\"The assessment will test the student's ability to extract information from a context paragraph related to the ocean. The student should then use this information to support their analysis or reflection in response to a specific free-response question.\\\",\\n\\t\\\"step-3\\\": \\\"For a 4th-grade level, the context paragraph should be between 100-150 words. It should contain a mix of factual and interpretive details, providing a well-rounded basis for answering the free-response question.\\\",\\n\\t\\\"context\\\": \\\"The ocean covers more than 70% of Earth's surface and serves as home to a myriad of creatures, from microscopic plankton to massive whales. It also plays a crucial role in regulating the planet's climate by absorbing carbon dioxide. Coral reefs, often referred to as the 'rainforests of the sea,' host a variety of marine life and contribute to biodiversity. However, human activities like pollution, overfishing, and climate change are putting ocean ecosystems at risk. Notable efforts are being made to conserve this vital resource, including the creation of marine protected areas and public awareness campaigns.\\\",\\n\\t\\\"frq\\\": \\\"Based on the context provided, what are some ways the ocean is important to Earth and its inhabitants? Also, what challenges are oceans facing according to the text? Provide evidence from the text to support your answer.\\\"\\n}\\nAssistant answer: ```json{\\n\\t\\\"rubric\\\": \\\"### Assessment Rubric for Free Response Question\\n\\n#### Criteria for Evaluation\\n\\n1. **Drawing Evidence (5 points)**: Student must draw clear evidence from the context paragraph to support their answer.\\n    - 5 points: Provides direct quotes or paraphrases that are highly relevant to the question.\\n    - 3 points: Provides some evidence but it's either partially relevant or not directly quoted.\\n    - 1 point: Makes a generalized or vague reference to the text.\\n    - 0 points: Does not reference the text.\\n\\n2. **Analysis and Reflection (5 points)**: Student should analyze the importance of the ocean to Earth and its challenges, and may include personal reflection.\\n    - 5 points: Thoroughly analyzes both the importance and challenges, possibly including personal reflection.\\n    - 3 points: Partially analyzes either the importance or challenges, with some evidence.\\n    - 1 point: Minimal analysis with limited or no evidence.\\n    - 0 points: No analysis or reflection.\\n\\n3. **Clarity and Organization (3 points)**: Answer should be clear, concise, and well-organized.\\n    - 3 points: Answer is clear, concise, and logically organized.\\n    - 2 points: Answer is mostly clear but may lack some organization.\\n    - 1 point: Answer is disorganized or unclear.\\n    - 0 points: Answer is incomprehensible.\\n\\n4. **Grammar and Mechanics (2 points)**: The answer should be free of grammatical and spelling errors.\\n    - 2 points: No errors.\\n    - 1 point: Few minor errors.\\n    - 0 points: Numerous errors that hinder comprehension.\\n\\n### Scoring Guide\\n- 13-15 points: Excellent\\n- 10-12 points: Good\\n- 6-9 points: Needs Improvement\\n- 0-5 points: Unsatisfactory\\\"\\n}```\\n#### EXAMPLE 2\\nCommon Core State Standard is CCSS.ELA-LITERACY.W.6.3. Take into consideration the definition of this standard provided below in step-1.\\nCONTEXT and FREE RESPONSE QUESTION are also included in following JSON: \\n{\\n\\t\\\"step-1\\\": \\\"The standard CCSS.ELA-LITERACY.W.6.3 requires students to write narratives to develop real or imagined experiences or events using effective technique, relevant descriptive details, and well-structured event sequences.\\\",\\n\\t\\\"step-2\\\": \\\"The assessment must test the student's ability to write a narrative that includes effective techniques, relevant descriptive details, and a well-structured event sequence.\\\",\\n\\t\\\"step-3\\\": \\\"The CONTEXT paragraph should be sufficiently detailed but not excessively long, providing enough complexity for a 6th-grade student to generate a narrative based on it.\\\",\\n\\t\\\"context\\\": \\\"Maria had a morning routine that she followed every single day. She would start her day by waking up to the sound of her melodious alarm at 6:30 a.m. After quickly turning it off, she'd head to the kitchen where her mom would already have a steaming cup of hot chocolate waiting for her. Next, she would grab her toothbrush and toothpaste and head to the bathroom to brush her teeth. The bathroom mirror would be slightly fogged up from her older brother's hot shower, making her trace smiley faces on it before wiping it clean. Once she was ready, she'd head to her room to put on her favorite outfit: a blue shirt with white stars, and jeans that had a small rip on the knee which, according to her, gave it character. After getting dressed, she would sit at her desk and skim through her planner to prepare for the day ahead, occasionally jotting down notes in the margins.\\\",\\n\\t\\\"frq\\\": \\\"Write a narrative from Maria's perspective about a particular morning where something unexpected happens during her routine. Use effective narrative techniques, integrate relevant descriptive details, and structure the events in a sequential manner. Make sure your narrative has a beginning, middle, and end. Include dialogue, internal thoughts, or actions that help to develop the characters and events.\\\"\\n}\\nAssistant answer: ```json{\\n\\t\\\"rubric\\\": \\\"1. Effective Techniques (0-10 points): 0-2 points for lacking effective techniques, 3-5 for some use, 6-8 for good use, and 9-10 for excellent use.\\n2. Relevant Descriptive Details (0-10 points): 0-2 points for lacking details, 3-5 for some details, 6-8 for good details, and 9-10 for excellent details.\\n3. Well-Structured Event Sequences (0-10 points): 0-2 for poor structure, 3-5 for some structure, 6-8 for good structure, and 9-10 for excellent structure.\\n4. Dialogue, Internal Thoughts, Actions to Develop Characters and Events (0-5 points): 0-1 for lacking elements, 2-3 for some use, and 4-5 for effective use.\\n5. Beginning, Middle, and End (0-5 points): 0-1 for missing or unclear, 2-3 for present but lacking, and 4-5 for clear and effective.\\\"\\n}```\\n\\nHuman: Common Core State Standard is CCSS.ELA-LITERACY.W.4.9. Take into consideration the definition of this standard provided below in step-1.\\nCONTEXT and FREE RESPONSE QUESTION are also included in following JSON: \\n```json\\n{\\n\\t\\\"step-1\\\": \\\"The Common Core State Standard CCSS.ELA-LITERACY.W.4.9 states that 4th-grade students should 'Draw evidence from literary or informational texts to support analysis, reflection, and research.'\\\",\\n\\t\\\"step-2\\\": \\\"The assessment will test the student's ability to extract information from a context paragraph related to the desert. The student should then use this information to support their analysis or reflection in response to a specific free-response question.\\\",\\n\\t\\\"step-3\\\": \\\"For a 4th-grade level, the context paragraph should be between 100-150 words. It should contain a mix of factual and interpretive details, providing a well-rounded basis for answering the free-response question.\\\",\\n\\t\\\"context\\\": \\\"The desert is a harsh and challenging environment. It is characterized by its arid climate, with little to no rainfall, and extreme temperatures that can vary greatly from day to night. Despite these conditions, a variety of plants and animals have adapted to life in the desert. For example, cacti store water in their thick stems and have spines to protect themselves from predators. Small rodents like kangaroo rats have long tails that help them balance on two legs and jump great distances to avoid predators. The desert is also home to unique geological formations like sand dunes and rock formations that have been shaped by wind and water over time.\\\",\\n\\t\\\"frq\\\": \\\"Based on the context provided, describe how desert animals have adapted to the harsh environment. Provide evidence from the text to support your answer.\\\"\\n}```.\"\n",
      "  ]\n",
      "}\n",
      "\u001b[36;1m\u001b[1;3m[llm/end]\u001b[0m \u001b[1m[1:chain:SequentialChain > 4:chain:LLMChain > 5:llm:ChatOpenAI] [15.00s] Exiting LLM run with output:\n",
      "\u001b[0m{\n",
      "  \"generations\": [\n",
      "    [\n",
      "      {\n",
      "        \"text\": \"```json\\n{\\n\\t\\\"rubric\\\": \\\"### Assessment Rubric for Free Response Question\\n\\n#### Criteria for Evaluation\\n\\n1. **Drawing Evidence (5 points)**: Student must draw clear evidence from the context paragraph to support their answer.\\n    - 5 points: Provides direct quotes or paraphrases that are highly relevant to the question.\\n    - 3 points: Provides some evidence but it's either partially relevant or not directly quoted.\\n    - 1 point: Makes a generalized or vague reference to the text.\\n    - 0 points: Does not reference the text.\\n\\n2. **Description of Adaptations (5 points)**: Student should describe how desert animals have adapted to the harsh environment.\\n    - 5 points: Provides a detailed and accurate description of multiple adaptations with specific examples from the text.\\n    - 3 points: Provides a general description of one or two adaptations with some examples from the text.\\n    - 1 point: Provides a vague or incomplete description of adaptations with limited or no examples from the text.\\n    - 0 points: Does not describe adaptations.\\n\\n3. **Clarity and Organization (3 points)**: Answer should be clear, concise, and well-organized.\\n    - 3 points: Answer is clear, concise, and logically organized.\\n    - 2 points: Answer is mostly clear but may lack some organization.\\n    - 1 point: Answer is disorganized or unclear.\\n    - 0 points: Answer is incomprehensible.\\n\\n4. **Grammar and Mechanics (2 points)**: The answer should be free of grammatical and spelling errors.\\n    - 2 points: No errors.\\n    - 1 point: Few minor errors.\\n    - 0 points: Numerous errors that hinder comprehension.\\n\\n### Scoring Guide\\n- 13-15 points: Excellent\\n- 10-12 points: Good\\n- 6-9 points: Needs Improvement\\n- 0-5 points: Unsatisfactory\\\"\\n}\\n```\",\n",
      "        \"generation_info\": {\n",
      "          \"finish_reason\": \"stop\"\n",
      "        },\n",
      "        \"message\": {\n",
      "          \"lc\": 1,\n",
      "          \"type\": \"constructor\",\n",
      "          \"id\": [\n",
      "            \"langchain\",\n",
      "            \"schema\",\n",
      "            \"messages\",\n",
      "            \"AIMessage\"\n",
      "          ],\n",
      "          \"kwargs\": {\n",
      "            \"content\": \"```json\\n{\\n\\t\\\"rubric\\\": \\\"### Assessment Rubric for Free Response Question\\n\\n#### Criteria for Evaluation\\n\\n1. **Drawing Evidence (5 points)**: Student must draw clear evidence from the context paragraph to support their answer.\\n    - 5 points: Provides direct quotes or paraphrases that are highly relevant to the question.\\n    - 3 points: Provides some evidence but it's either partially relevant or not directly quoted.\\n    - 1 point: Makes a generalized or vague reference to the text.\\n    - 0 points: Does not reference the text.\\n\\n2. **Description of Adaptations (5 points)**: Student should describe how desert animals have adapted to the harsh environment.\\n    - 5 points: Provides a detailed and accurate description of multiple adaptations with specific examples from the text.\\n    - 3 points: Provides a general description of one or two adaptations with some examples from the text.\\n    - 1 point: Provides a vague or incomplete description of adaptations with limited or no examples from the text.\\n    - 0 points: Does not describe adaptations.\\n\\n3. **Clarity and Organization (3 points)**: Answer should be clear, concise, and well-organized.\\n    - 3 points: Answer is clear, concise, and logically organized.\\n    - 2 points: Answer is mostly clear but may lack some organization.\\n    - 1 point: Answer is disorganized or unclear.\\n    - 0 points: Answer is incomprehensible.\\n\\n4. **Grammar and Mechanics (2 points)**: The answer should be free of grammatical and spelling errors.\\n    - 2 points: No errors.\\n    - 1 point: Few minor errors.\\n    - 0 points: Numerous errors that hinder comprehension.\\n\\n### Scoring Guide\\n- 13-15 points: Excellent\\n- 10-12 points: Good\\n- 6-9 points: Needs Improvement\\n- 0-5 points: Unsatisfactory\\\"\\n}\\n```\",\n",
      "            \"additional_kwargs\": {}\n",
      "          }\n",
      "        }\n",
      "      }\n",
      "    ]\n",
      "  ],\n",
      "  \"llm_output\": {\n",
      "    \"token_usage\": {\n",
      "      \"completion_tokens\": 400,\n",
      "      \"prompt_tokens\": 1982,\n",
      "      \"total_tokens\": 2382\n",
      "    },\n",
      "    \"model_name\": \"gpt-3.5-turbo\"\n",
      "  },\n",
      "  \"run\": null\n",
      "}\n",
      "\u001b[36;1m\u001b[1;3m[chain/end]\u001b[0m \u001b[1m[1:chain:SequentialChain > 4:chain:LLMChain] [15.00s] Exiting Chain run with output:\n",
      "\u001b[0m{\n",
      "  \"rubric\": \"```json\\n{\\n\\t\\\"rubric\\\": \\\"### Assessment Rubric for Free Response Question\\n\\n#### Criteria for Evaluation\\n\\n1. **Drawing Evidence (5 points)**: Student must draw clear evidence from the context paragraph to support their answer.\\n    - 5 points: Provides direct quotes or paraphrases that are highly relevant to the question.\\n    - 3 points: Provides some evidence but it's either partially relevant or not directly quoted.\\n    - 1 point: Makes a generalized or vague reference to the text.\\n    - 0 points: Does not reference the text.\\n\\n2. **Description of Adaptations (5 points)**: Student should describe how desert animals have adapted to the harsh environment.\\n    - 5 points: Provides a detailed and accurate description of multiple adaptations with specific examples from the text.\\n    - 3 points: Provides a general description of one or two adaptations with some examples from the text.\\n    - 1 point: Provides a vague or incomplete description of adaptations with limited or no examples from the text.\\n    - 0 points: Does not describe adaptations.\\n\\n3. **Clarity and Organization (3 points)**: Answer should be clear, concise, and well-organized.\\n    - 3 points: Answer is clear, concise, and logically organized.\\n    - 2 points: Answer is mostly clear but may lack some organization.\\n    - 1 point: Answer is disorganized or unclear.\\n    - 0 points: Answer is incomprehensible.\\n\\n4. **Grammar and Mechanics (2 points)**: The answer should be free of grammatical and spelling errors.\\n    - 2 points: No errors.\\n    - 1 point: Few minor errors.\\n    - 0 points: Numerous errors that hinder comprehension.\\n\\n### Scoring Guide\\n- 13-15 points: Excellent\\n- 10-12 points: Good\\n- 6-9 points: Needs Improvement\\n- 0-5 points: Unsatisfactory\\\"\\n}\\n```\"\n",
      "}\n",
      "\u001b[32;1m\u001b[1;3m[chain/start]\u001b[0m \u001b[1m[1:chain:SequentialChain > 6:chain:LLMChain] Entering Chain run with input:\n",
      "\u001b[0m{\n",
      "  \"standard\": \"CCSS.ELA-LITERACY.W.4.9\",\n",
      "  \"topic\": \"desert\",\n",
      "  \"fmt_instr_rubric\": \"The output should be a markdown code snippet formatted in the following schema, including the leading and trailing \\\"```json\\\" and \\\"```\\\":\\n\\n```json\\n{\\n\\t\\\"rubric\\\": string  // Rubric for this assesment task as expected by the Common Core State Standard definition provided by user\\n}\\n```\",\n",
      "  \"fmt_instr_frq\": \"The output should be a markdown code snippet formatted in the following schema, including the leading and trailing \\\"```json\\\" and \\\"```\\\":\\n\\n```json\\n{\\n\\t\\\"step-1\\\": string  // step 1 reasoning\\n\\t\\\"step-2\\\": string  // step 2 reasoning\\n\\t\\\"step-3\\\": string  // step 3 reasoning\\n\\t\\\"context\\\": string  // generated context paragraph\\n\\t\\\"frq\\\": string  // generated free respoce question\\n}\\n```\",\n",
      "  \"fmt_instr_frq_qa\": \"The output should be a markdown code snippet formatted in the following schema, including the leading and trailing \\\"```json\\\" and \\\"```\\\":\\n\\n```json\\n{\\n\\t\\\"frq_qa_passed\\\": string  // Boolean value to idicate if the CONTEXT and FRQ is meeting the Common Core State Standard and topic provided by user. True = meets, False = Does not meet\\n\\t\\\"frq_qa_reason\\\": string  // Justification why the CONTEXT and/or the FRQ isnt meeting Common Core State Standard. If both the CONTEXT and the FRQ are meeting CCSS provide value N/A\\n\\t\\\"adjusted_context\\\": string  // Adjusted CONTEXT meeting the user provided Common Core State Standard using and the topic. If original CONTEXT is meeting CCSS provide value N/A\\n\\t\\\"adjusted_frq\\\": string  // Adjusted FRQ meeting the user provided Common Core State Standard and the topic. NEW FRQ must be related to the NEW CONTEXT. If original FRQ is meeting CCSS provide value N/A\\n}\\n```\",\n",
      "  \"fmt_instr_rubric_qa\": \"The output should be a markdown code snippet formatted in the following schema, including the leading and trailing \\\"```json\\\" and \\\"```\\\":\\n\\n```json\\n{\\n\\t\\\"rubric_qa_passed\\\": string  // Boolean value to idicate if the RUBRIC is meeting the Common Core State Standard provided by user. True = meets, False = Does not meet\\n\\t\\\"rubric_qa_reason\\\": string  // Justification why RUBRICS isnt meeting Common Core State Standard. If the Rubric is meeting CCSS provide value N/A\\n\\t\\\"rubric_qa_new\\\": string  // New regenerated Rubrics meeting Common Core State Standard. If the original Rubric is meeting CCSS provide value N/A\\n}\\n```\",\n",
      "  \"EXAMPLE_FRQ_01\": \"User input: Common Core State Standard is CCSS.ELA-LITERACY.W.6.3 and topic is \\\"morning routine\\\".\\nAssistant answer: ```json{\\n\\t\\\"step-1\\\": \\\"The standard CCSS.ELA-LITERACY.W.6.3 requires students to write narratives to develop real or imagined experiences or events using effective technique, relevant descriptive details, and well-structured event sequences.\\\",\\n\\t\\\"step-2\\\": \\\"The assessment must test the student's ability to write a narrative that includes effective techniques, relevant descriptive details, and a well-structured event sequence.\\\",\\n\\t\\\"step-3\\\": \\\"The CONTEXT paragraph should be sufficiently detailed but not excessively long, providing enough complexity for a 6th-grade student to generate a narrative based on it.\\\",\\n\\t\\\"context\\\": \\\"Maria had a morning routine that she followed every single day. She would start her day by waking up to the sound of her melodious alarm at 6:30 a.m. After quickly turning it off, she'd head to the kitchen where her mom would already have a steaming cup of hot chocolate waiting for her. Next, she would grab her toothbrush and toothpaste and head to the bathroom to brush her teeth. The bathroom mirror would be slightly fogged up from her older brother's hot shower, making her trace smiley faces on it before wiping it clean. Once she was ready, she'd head to her room to put on her favorite outfit: a blue shirt with white stars, and jeans that had a small rip on the knee which, according to her, gave it character. After getting dressed, she would sit at her desk and skim through her planner to prepare for the day ahead, occasionally jotting down notes in the margins.\\\",\\n\\t\\\"frq\\\": \\\"Write a narrative about Maria's morning routine from her perspective. Your narrative should have a beginning, middle, and end. Make sure to use effective narrative techniques, relevant descriptive details, and structure the events in a sequential manner.\\\"\\n}```\",\n",
      "  \"EXAMPLE_FRQ_02\": \"User input: Common Core State Standard is CCSS.ELA-LITERACY.W.4.9 and topic is ocean.\\nAssistant answer: ```json{\\n\\t\\\"step-1\\\": \\\"The Common Core State Standard CCSS.ELA-LITERACY.W.4.9 states that 4th-grade students should 'Draw evidence from literary or informational texts to support analysis, reflection, and research.'\\\",\\n\\t\\\"step-2\\\": \\\"The assessment will test the student's ability to extract information from a context paragraph related to the ocean. The student should then use this information to support their analysis or reflection in response to a specific free-response question.\\\",\\n\\t\\\"step-3\\\": \\\"For a 4th-grade level, the context paragraph should be between 100-150 words. It should contain a mix of factual and interpretive details, providing a well-rounded basis for answering the free-response question.\\\",\\n\\t\\\"context\\\": \\\"The ocean covers more than 70% of Earth's surface and serves as home to a myriad of creatures, from microscopic plankton to massive whales. It also plays a crucial role in regulating the planet's climate by absorbing carbon dioxide. Coral reefs, often referred to as the 'rainforests of the sea,' host a variety of marine life and contribute to biodiversity. However, human activities like pollution, overfishing, and climate change are putting ocean ecosystems at risk. Notable efforts are being made to conserve this vital resource, including the creation of marine protected areas and public awareness campaigns.\\\",\\n\\t\\\"frq\\\": \\\"Based on the context provided, what are some ways the ocean is important to Earth and its inhabitants? Also, what challenges are oceans facing according to the text? Provide evidence from the text to support your answer.\\\"\\n}```\",\n",
      "  \"EXAMPLE_RUBRIC_01\": \"User input: Common Core State Standard is CCSS.ELA-LITERACY.W.4.9. Take into consideration the definition of this standard provided below in step-1.\\nCONTEXT and FREE RESPONSE QUESTION are also included in following JSON: \\n{\\n\\t\\\"step-1\\\": \\\"The Common Core State Standard CCSS.ELA-LITERACY.W.4.9 states that 4th-grade students should 'Draw evidence from literary or informational texts to support analysis, reflection, and research.'\\\",\\n\\t\\\"step-2\\\": \\\"The assessment will test the student's ability to extract information from a context paragraph related to the ocean. The student should then use this information to support their analysis or reflection in response to a specific free-response question.\\\",\\n\\t\\\"step-3\\\": \\\"For a 4th-grade level, the context paragraph should be between 100-150 words. It should contain a mix of factual and interpretive details, providing a well-rounded basis for answering the free-response question.\\\",\\n\\t\\\"context\\\": \\\"The ocean covers more than 70% of Earth's surface and serves as home to a myriad of creatures, from microscopic plankton to massive whales. It also plays a crucial role in regulating the planet's climate by absorbing carbon dioxide. Coral reefs, often referred to as the 'rainforests of the sea,' host a variety of marine life and contribute to biodiversity. However, human activities like pollution, overfishing, and climate change are putting ocean ecosystems at risk. Notable efforts are being made to conserve this vital resource, including the creation of marine protected areas and public awareness campaigns.\\\",\\n\\t\\\"frq\\\": \\\"Based on the context provided, what are some ways the ocean is important to Earth and its inhabitants? Also, what challenges are oceans facing according to the text? Provide evidence from the text to support your answer.\\\"\\n}\\nAssistant answer: ```json{\\n\\t\\\"rubric\\\": \\\"### Assessment Rubric for Free Response Question\\n\\n#### Criteria for Evaluation\\n\\n1. **Drawing Evidence (5 points)**: Student must draw clear evidence from the context paragraph to support their answer.\\n    - 5 points: Provides direct quotes or paraphrases that are highly relevant to the question.\\n    - 3 points: Provides some evidence but it's either partially relevant or not directly quoted.\\n    - 1 point: Makes a generalized or vague reference to the text.\\n    - 0 points: Does not reference the text.\\n\\n2. **Analysis and Reflection (5 points)**: Student should analyze the importance of the ocean to Earth and its challenges, and may include personal reflection.\\n    - 5 points: Thoroughly analyzes both the importance and challenges, possibly including personal reflection.\\n    - 3 points: Partially analyzes either the importance or challenges, with some evidence.\\n    - 1 point: Minimal analysis with limited or no evidence.\\n    - 0 points: No analysis or reflection.\\n\\n3. **Clarity and Organization (3 points)**: Answer should be clear, concise, and well-organized.\\n    - 3 points: Answer is clear, concise, and logically organized.\\n    - 2 points: Answer is mostly clear but may lack some organization.\\n    - 1 point: Answer is disorganized or unclear.\\n    - 0 points: Answer is incomprehensible.\\n\\n4. **Grammar and Mechanics (2 points)**: The answer should be free of grammatical and spelling errors.\\n    - 2 points: No errors.\\n    - 1 point: Few minor errors.\\n    - 0 points: Numerous errors that hinder comprehension.\\n\\n### Scoring Guide\\n- 13-15 points: Excellent\\n- 10-12 points: Good\\n- 6-9 points: Needs Improvement\\n- 0-5 points: Unsatisfactory\\\"\\n}```\",\n",
      "  \"EXAMPLE_RUBRIC_02\": \"Common Core State Standard is CCSS.ELA-LITERACY.W.6.3. Take into consideration the definition of this standard provided below in step-1.\\nCONTEXT and FREE RESPONSE QUESTION are also included in following JSON: \\n{\\n\\t\\\"step-1\\\": \\\"The standard CCSS.ELA-LITERACY.W.6.3 requires students to write narratives to develop real or imagined experiences or events using effective technique, relevant descriptive details, and well-structured event sequences.\\\",\\n\\t\\\"step-2\\\": \\\"The assessment must test the student's ability to write a narrative that includes effective techniques, relevant descriptive details, and a well-structured event sequence.\\\",\\n\\t\\\"step-3\\\": \\\"The CONTEXT paragraph should be sufficiently detailed but not excessively long, providing enough complexity for a 6th-grade student to generate a narrative based on it.\\\",\\n\\t\\\"context\\\": \\\"Maria had a morning routine that she followed every single day. She would start her day by waking up to the sound of her melodious alarm at 6:30 a.m. After quickly turning it off, she'd head to the kitchen where her mom would already have a steaming cup of hot chocolate waiting for her. Next, she would grab her toothbrush and toothpaste and head to the bathroom to brush her teeth. The bathroom mirror would be slightly fogged up from her older brother's hot shower, making her trace smiley faces on it before wiping it clean. Once she was ready, she'd head to her room to put on her favorite outfit: a blue shirt with white stars, and jeans that had a small rip on the knee which, according to her, gave it character. After getting dressed, she would sit at her desk and skim through her planner to prepare for the day ahead, occasionally jotting down notes in the margins.\\\",\\n\\t\\\"frq\\\": \\\"Write a narrative from Maria's perspective about a particular morning where something unexpected happens during her routine. Use effective narrative techniques, integrate relevant descriptive details, and structure the events in a sequential manner. Make sure your narrative has a beginning, middle, and end. Include dialogue, internal thoughts, or actions that help to develop the characters and events.\\\"\\n}\\nAssistant answer: ```json{\\n\\t\\\"rubric\\\": \\\"1. Effective Techniques (0-10 points): 0-2 points for lacking effective techniques, 3-5 for some use, 6-8 for good use, and 9-10 for excellent use.\\n2. Relevant Descriptive Details (0-10 points): 0-2 points for lacking details, 3-5 for some details, 6-8 for good details, and 9-10 for excellent details.\\n3. Well-Structured Event Sequences (0-10 points): 0-2 for poor structure, 3-5 for some structure, 6-8 for good structure, and 9-10 for excellent structure.\\n4. Dialogue, Internal Thoughts, Actions to Develop Characters and Events (0-5 points): 0-1 for lacking elements, 2-3 for some use, and 4-5 for effective use.\\n5. Beginning, Middle, and End (0-5 points): 0-1 for missing or unclear, 2-3 for present but lacking, and 4-5 for clear and effective.\\\"\\n}```\",\n",
      "  \"reasoning_context_frq\": \"```json\\n{\\n\\t\\\"step-1\\\": \\\"The Common Core State Standard CCSS.ELA-LITERACY.W.4.9 states that 4th-grade students should 'Draw evidence from literary or informational texts to support analysis, reflection, and research.'\\\",\\n\\t\\\"step-2\\\": \\\"The assessment will test the student's ability to extract information from a context paragraph related to the desert. The student should then use this information to support their analysis or reflection in response to a specific free-response question.\\\",\\n\\t\\\"step-3\\\": \\\"For a 4th-grade level, the context paragraph should be between 100-150 words. It should contain a mix of factual and interpretive details, providing a well-rounded basis for answering the free-response question.\\\",\\n\\t\\\"context\\\": \\\"The desert is a harsh and challenging environment. It is characterized by its arid climate, with little to no rainfall, and extreme temperatures that can vary greatly from day to night. Despite these conditions, a variety of plants and animals have adapted to life in the desert. For example, cacti store water in their thick stems and have spines to protect themselves from predators. Small rodents like kangaroo rats have long tails that help them balance on two legs and jump great distances to avoid predators. The desert is also home to unique geological formations like sand dunes and rock formations that have been shaped by wind and water over time.\\\",\\n\\t\\\"frq\\\": \\\"Based on the context provided, describe how desert animals have adapted to the harsh environment. Provide evidence from the text to support your answer.\\\"\\n}```\",\n",
      "  \"rubric\": \"```json\\n{\\n\\t\\\"rubric\\\": \\\"### Assessment Rubric for Free Response Question\\n\\n#### Criteria for Evaluation\\n\\n1. **Drawing Evidence (5 points)**: Student must draw clear evidence from the context paragraph to support their answer.\\n    - 5 points: Provides direct quotes or paraphrases that are highly relevant to the question.\\n    - 3 points: Provides some evidence but it's either partially relevant or not directly quoted.\\n    - 1 point: Makes a generalized or vague reference to the text.\\n    - 0 points: Does not reference the text.\\n\\n2. **Description of Adaptations (5 points)**: Student should describe how desert animals have adapted to the harsh environment.\\n    - 5 points: Provides a detailed and accurate description of multiple adaptations with specific examples from the text.\\n    - 3 points: Provides a general description of one or two adaptations with some examples from the text.\\n    - 1 point: Provides a vague or incomplete description of adaptations with limited or no examples from the text.\\n    - 0 points: Does not describe adaptations.\\n\\n3. **Clarity and Organization (3 points)**: Answer should be clear, concise, and well-organized.\\n    - 3 points: Answer is clear, concise, and logically organized.\\n    - 2 points: Answer is mostly clear but may lack some organization.\\n    - 1 point: Answer is disorganized or unclear.\\n    - 0 points: Answer is incomprehensible.\\n\\n4. **Grammar and Mechanics (2 points)**: The answer should be free of grammatical and spelling errors.\\n    - 2 points: No errors.\\n    - 1 point: Few minor errors.\\n    - 0 points: Numerous errors that hinder comprehension.\\n\\n### Scoring Guide\\n- 13-15 points: Excellent\\n- 10-12 points: Good\\n- 6-9 points: Needs Improvement\\n- 0-5 points: Unsatisfactory\\\"\\n}\\n```\"\n",
      "}\n",
      "\u001b[32;1m\u001b[1;3m[llm/start]\u001b[0m \u001b[1m[1:chain:SequentialChain > 6:chain:LLMChain > 7:llm:ChatOpenAI] Entering LLM run with input:\n",
      "\u001b[0m{\n",
      "  \"prompts\": [\n",
      "    \"System: \\nYou are an helpful assistant. User will provide you Common Core State Standard (CCSS) and a topic. You will also be provided with CONTEXT paragraph and Free Response Question (FRQ).\\nYou will evaluate if provided CONTEXT and FRQ are meeting the CCSS requirements, i.e. if it allignes with skills and competencies outlined by the provided CCSS standard itself.\\n\\nFollow these steps to complete the task:\\n1. Understand the provided CCSS definition, skills and competencies it should test\\n2. Understand the expected CONTEXT complexity, lenght and topic\\n3. Validate if CONTEXT broadly meets the requirements\\n4. Validate if FRQ broadly meets the requirements and is relevant to the CONTEXT\\n\\nIf the CONTEXT and FRQ meet or mostly meet the CCSS requirements you will output \\\"True\\\". Otherwise output \\\"False\\\". \\nIn case you respond \\\"False\\\" also provide:\\n1. Justification what is missing or incorrect.\\n2. Adjusted CONTEXT and FRQ, that will be based on the existing, but enhanced to align better to the provided CCSS and user topic.\\nRemember: If the CONTEXT or FRQ doesnt meet the CCSS requirements, you must adjust both to keep the FRQ relevant to the CONTEXT.\\n\\nThe output should be a markdown code snippet formatted in the following schema, including the leading and trailing \\\"```json\\\" and \\\"```\\\":\\n\\n```json\\n{\\n\\t\\\"frq_qa_passed\\\": string  // Boolean value to idicate if the CONTEXT and FRQ is meeting the Common Core State Standard and topic provided by user. True = meets, False = Does not meet\\n\\t\\\"frq_qa_reason\\\": string  // Justification why the CONTEXT and/or the FRQ isnt meeting Common Core State Standard. If both the CONTEXT and the FRQ are meeting CCSS provide value N/A\\n\\t\\\"adjusted_context\\\": string  // Adjusted CONTEXT meeting the user provided Common Core State Standard using and the topic. If original CONTEXT is meeting CCSS provide value N/A\\n\\t\\\"adjusted_frq\\\": string  // Adjusted FRQ meeting the user provided Common Core State Standard and the topic. NEW FRQ must be related to the NEW CONTEXT. If original FRQ is meeting CCSS provide value N/A\\n}\\n```\\n\\nHuman: Common Core State Standard is CCSS.ELA-LITERACY.W.4.9. Topic is desert. \\nCONTEXT paragraph to be evaluated and Free Response Question (FRQ) to be evaluated are in the below JSON: \\n```json\\n{\\n\\t\\\"step-1\\\": \\\"The Common Core State Standard CCSS.ELA-LITERACY.W.4.9 states that 4th-grade students should 'Draw evidence from literary or informational texts to support analysis, reflection, and research.'\\\",\\n\\t\\\"step-2\\\": \\\"The assessment will test the student's ability to extract information from a context paragraph related to the desert. The student should then use this information to support their analysis or reflection in response to a specific free-response question.\\\",\\n\\t\\\"step-3\\\": \\\"For a 4th-grade level, the context paragraph should be between 100-150 words. It should contain a mix of factual and interpretive details, providing a well-rounded basis for answering the free-response question.\\\",\\n\\t\\\"context\\\": \\\"The desert is a harsh and challenging environment. It is characterized by its arid climate, with little to no rainfall, and extreme temperatures that can vary greatly from day to night. Despite these conditions, a variety of plants and animals have adapted to life in the desert. For example, cacti store water in their thick stems and have spines to protect themselves from predators. Small rodents like kangaroo rats have long tails that help them balance on two legs and jump great distances to avoid predators. The desert is also home to unique geological formations like sand dunes and rock formations that have been shaped by wind and water over time.\\\",\\n\\t\\\"frq\\\": \\\"Based on the context provided, describe how desert animals have adapted to the harsh environment. Provide evidence from the text to support your answer.\\\"\\n}```\"\n",
      "  ]\n",
      "}\n",
      "\u001b[36;1m\u001b[1;3m[llm/end]\u001b[0m \u001b[1m[1:chain:SequentialChain > 6:chain:LLMChain > 7:llm:ChatOpenAI] [13.89s] Exiting LLM run with output:\n",
      "\u001b[0m{\n",
      "  \"generations\": [\n",
      "    [\n",
      "      {\n",
      "        \"text\": \"```json\\n{\\n\\t\\\"frq_qa_passed\\\": true,\\n\\t\\\"frq_qa_reason\\\": \\\"N/A\\\",\\n\\t\\\"adjusted_context\\\": \\\"The Common Core State Standard CCSS.ELA-LITERACY.W.4.9 states that 4th-grade students should 'Draw evidence from literary or informational texts to support analysis, reflection, and research.' The assessment will test the student's ability to extract information from a context paragraph related to the desert. The student should then use this information to support their analysis or reflection in response to a specific free-response question. For a 4th-grade level, the context paragraph should be between 100-150 words. It should contain a mix of factual and interpretive details, providing a well-rounded basis for answering the free-response question. The given context paragraph is well within the word limit and contains a mix of factual and interpretive details, providing a good basis for answering the free-response question.\\\",\\n\\t\\\"adjusted_frq\\\": \\\"Describe how desert animals have adapted to the harsh environment. Use evidence from the text to support your answer. How do these adaptations help the animals survive in the desert? Explain with examples from the text.\\\"\\n}\\n``` \\nThe given CONTEXT and FRQ meet the requirements of the CCSS. The context paragraph is well within the word limit and contains a mix of factual and interpretive details, providing a good basis for answering the free-response question. The FRQ is relevant to the context and requires the student to draw evidence from the text to support their answer, which aligns with the CCSS standard. However, the adjusted FRQ has been modified to include an additional prompt that requires the student to explain how the adaptations help the animals survive in the desert. This modification enhances the FRQ to better align with the CCSS standard.\",\n",
      "        \"generation_info\": {\n",
      "          \"finish_reason\": \"stop\"\n",
      "        },\n",
      "        \"message\": {\n",
      "          \"lc\": 1,\n",
      "          \"type\": \"constructor\",\n",
      "          \"id\": [\n",
      "            \"langchain\",\n",
      "            \"schema\",\n",
      "            \"messages\",\n",
      "            \"AIMessage\"\n",
      "          ],\n",
      "          \"kwargs\": {\n",
      "            \"content\": \"```json\\n{\\n\\t\\\"frq_qa_passed\\\": true,\\n\\t\\\"frq_qa_reason\\\": \\\"N/A\\\",\\n\\t\\\"adjusted_context\\\": \\\"The Common Core State Standard CCSS.ELA-LITERACY.W.4.9 states that 4th-grade students should 'Draw evidence from literary or informational texts to support analysis, reflection, and research.' The assessment will test the student's ability to extract information from a context paragraph related to the desert. The student should then use this information to support their analysis or reflection in response to a specific free-response question. For a 4th-grade level, the context paragraph should be between 100-150 words. It should contain a mix of factual and interpretive details, providing a well-rounded basis for answering the free-response question. The given context paragraph is well within the word limit and contains a mix of factual and interpretive details, providing a good basis for answering the free-response question.\\\",\\n\\t\\\"adjusted_frq\\\": \\\"Describe how desert animals have adapted to the harsh environment. Use evidence from the text to support your answer. How do these adaptations help the animals survive in the desert? Explain with examples from the text.\\\"\\n}\\n``` \\nThe given CONTEXT and FRQ meet the requirements of the CCSS. The context paragraph is well within the word limit and contains a mix of factual and interpretive details, providing a good basis for answering the free-response question. The FRQ is relevant to the context and requires the student to draw evidence from the text to support their answer, which aligns with the CCSS standard. However, the adjusted FRQ has been modified to include an additional prompt that requires the student to explain how the adaptations help the animals survive in the desert. This modification enhances the FRQ to better align with the CCSS standard.\",\n",
      "            \"additional_kwargs\": {}\n",
      "          }\n",
      "        }\n",
      "      }\n",
      "    ]\n",
      "  ],\n",
      "  \"llm_output\": {\n",
      "    \"token_usage\": {\n",
      "      \"completion_tokens\": 366,\n",
      "      \"prompt_tokens\": 837,\n",
      "      \"total_tokens\": 1203\n",
      "    },\n",
      "    \"model_name\": \"gpt-3.5-turbo\"\n",
      "  },\n",
      "  \"run\": null\n",
      "}\n",
      "\u001b[36;1m\u001b[1;3m[chain/end]\u001b[0m \u001b[1m[1:chain:SequentialChain > 6:chain:LLMChain] [13.89s] Exiting Chain run with output:\n",
      "\u001b[0m{\n",
      "  \"frq_qa\": \"```json\\n{\\n\\t\\\"frq_qa_passed\\\": true,\\n\\t\\\"frq_qa_reason\\\": \\\"N/A\\\",\\n\\t\\\"adjusted_context\\\": \\\"The Common Core State Standard CCSS.ELA-LITERACY.W.4.9 states that 4th-grade students should 'Draw evidence from literary or informational texts to support analysis, reflection, and research.' The assessment will test the student's ability to extract information from a context paragraph related to the desert. The student should then use this information to support their analysis or reflection in response to a specific free-response question. For a 4th-grade level, the context paragraph should be between 100-150 words. It should contain a mix of factual and interpretive details, providing a well-rounded basis for answering the free-response question. The given context paragraph is well within the word limit and contains a mix of factual and interpretive details, providing a good basis for answering the free-response question.\\\",\\n\\t\\\"adjusted_frq\\\": \\\"Describe how desert animals have adapted to the harsh environment. Use evidence from the text to support your answer. How do these adaptations help the animals survive in the desert? Explain with examples from the text.\\\"\\n}\\n``` \\nThe given CONTEXT and FRQ meet the requirements of the CCSS. The context paragraph is well within the word limit and contains a mix of factual and interpretive details, providing a good basis for answering the free-response question. The FRQ is relevant to the context and requires the student to draw evidence from the text to support their answer, which aligns with the CCSS standard. However, the adjusted FRQ has been modified to include an additional prompt that requires the student to explain how the adaptations help the animals survive in the desert. This modification enhances the FRQ to better align with the CCSS standard.\"\n",
      "}\n",
      "\u001b[32;1m\u001b[1;3m[chain/start]\u001b[0m \u001b[1m[1:chain:SequentialChain > 8:chain:LLMChain] Entering Chain run with input:\n",
      "\u001b[0m{\n",
      "  \"standard\": \"CCSS.ELA-LITERACY.W.4.9\",\n",
      "  \"topic\": \"desert\",\n",
      "  \"fmt_instr_rubric\": \"The output should be a markdown code snippet formatted in the following schema, including the leading and trailing \\\"```json\\\" and \\\"```\\\":\\n\\n```json\\n{\\n\\t\\\"rubric\\\": string  // Rubric for this assesment task as expected by the Common Core State Standard definition provided by user\\n}\\n```\",\n",
      "  \"fmt_instr_frq\": \"The output should be a markdown code snippet formatted in the following schema, including the leading and trailing \\\"```json\\\" and \\\"```\\\":\\n\\n```json\\n{\\n\\t\\\"step-1\\\": string  // step 1 reasoning\\n\\t\\\"step-2\\\": string  // step 2 reasoning\\n\\t\\\"step-3\\\": string  // step 3 reasoning\\n\\t\\\"context\\\": string  // generated context paragraph\\n\\t\\\"frq\\\": string  // generated free respoce question\\n}\\n```\",\n",
      "  \"fmt_instr_frq_qa\": \"The output should be a markdown code snippet formatted in the following schema, including the leading and trailing \\\"```json\\\" and \\\"```\\\":\\n\\n```json\\n{\\n\\t\\\"frq_qa_passed\\\": string  // Boolean value to idicate if the CONTEXT and FRQ is meeting the Common Core State Standard and topic provided by user. True = meets, False = Does not meet\\n\\t\\\"frq_qa_reason\\\": string  // Justification why the CONTEXT and/or the FRQ isnt meeting Common Core State Standard. If both the CONTEXT and the FRQ are meeting CCSS provide value N/A\\n\\t\\\"adjusted_context\\\": string  // Adjusted CONTEXT meeting the user provided Common Core State Standard using and the topic. If original CONTEXT is meeting CCSS provide value N/A\\n\\t\\\"adjusted_frq\\\": string  // Adjusted FRQ meeting the user provided Common Core State Standard and the topic. NEW FRQ must be related to the NEW CONTEXT. If original FRQ is meeting CCSS provide value N/A\\n}\\n```\",\n",
      "  \"fmt_instr_rubric_qa\": \"The output should be a markdown code snippet formatted in the following schema, including the leading and trailing \\\"```json\\\" and \\\"```\\\":\\n\\n```json\\n{\\n\\t\\\"rubric_qa_passed\\\": string  // Boolean value to idicate if the RUBRIC is meeting the Common Core State Standard provided by user. True = meets, False = Does not meet\\n\\t\\\"rubric_qa_reason\\\": string  // Justification why RUBRICS isnt meeting Common Core State Standard. If the Rubric is meeting CCSS provide value N/A\\n\\t\\\"rubric_qa_new\\\": string  // New regenerated Rubrics meeting Common Core State Standard. If the original Rubric is meeting CCSS provide value N/A\\n}\\n```\",\n",
      "  \"EXAMPLE_FRQ_01\": \"User input: Common Core State Standard is CCSS.ELA-LITERACY.W.6.3 and topic is \\\"morning routine\\\".\\nAssistant answer: ```json{\\n\\t\\\"step-1\\\": \\\"The standard CCSS.ELA-LITERACY.W.6.3 requires students to write narratives to develop real or imagined experiences or events using effective technique, relevant descriptive details, and well-structured event sequences.\\\",\\n\\t\\\"step-2\\\": \\\"The assessment must test the student's ability to write a narrative that includes effective techniques, relevant descriptive details, and a well-structured event sequence.\\\",\\n\\t\\\"step-3\\\": \\\"The CONTEXT paragraph should be sufficiently detailed but not excessively long, providing enough complexity for a 6th-grade student to generate a narrative based on it.\\\",\\n\\t\\\"context\\\": \\\"Maria had a morning routine that she followed every single day. She would start her day by waking up to the sound of her melodious alarm at 6:30 a.m. After quickly turning it off, she'd head to the kitchen where her mom would already have a steaming cup of hot chocolate waiting for her. Next, she would grab her toothbrush and toothpaste and head to the bathroom to brush her teeth. The bathroom mirror would be slightly fogged up from her older brother's hot shower, making her trace smiley faces on it before wiping it clean. Once she was ready, she'd head to her room to put on her favorite outfit: a blue shirt with white stars, and jeans that had a small rip on the knee which, according to her, gave it character. After getting dressed, she would sit at her desk and skim through her planner to prepare for the day ahead, occasionally jotting down notes in the margins.\\\",\\n\\t\\\"frq\\\": \\\"Write a narrative about Maria's morning routine from her perspective. Your narrative should have a beginning, middle, and end. Make sure to use effective narrative techniques, relevant descriptive details, and structure the events in a sequential manner.\\\"\\n}```\",\n",
      "  \"EXAMPLE_FRQ_02\": \"User input: Common Core State Standard is CCSS.ELA-LITERACY.W.4.9 and topic is ocean.\\nAssistant answer: ```json{\\n\\t\\\"step-1\\\": \\\"The Common Core State Standard CCSS.ELA-LITERACY.W.4.9 states that 4th-grade students should 'Draw evidence from literary or informational texts to support analysis, reflection, and research.'\\\",\\n\\t\\\"step-2\\\": \\\"The assessment will test the student's ability to extract information from a context paragraph related to the ocean. The student should then use this information to support their analysis or reflection in response to a specific free-response question.\\\",\\n\\t\\\"step-3\\\": \\\"For a 4th-grade level, the context paragraph should be between 100-150 words. It should contain a mix of factual and interpretive details, providing a well-rounded basis for answering the free-response question.\\\",\\n\\t\\\"context\\\": \\\"The ocean covers more than 70% of Earth's surface and serves as home to a myriad of creatures, from microscopic plankton to massive whales. It also plays a crucial role in regulating the planet's climate by absorbing carbon dioxide. Coral reefs, often referred to as the 'rainforests of the sea,' host a variety of marine life and contribute to biodiversity. However, human activities like pollution, overfishing, and climate change are putting ocean ecosystems at risk. Notable efforts are being made to conserve this vital resource, including the creation of marine protected areas and public awareness campaigns.\\\",\\n\\t\\\"frq\\\": \\\"Based on the context provided, what are some ways the ocean is important to Earth and its inhabitants? Also, what challenges are oceans facing according to the text? Provide evidence from the text to support your answer.\\\"\\n}```\",\n",
      "  \"EXAMPLE_RUBRIC_01\": \"User input: Common Core State Standard is CCSS.ELA-LITERACY.W.4.9. Take into consideration the definition of this standard provided below in step-1.\\nCONTEXT and FREE RESPONSE QUESTION are also included in following JSON: \\n{\\n\\t\\\"step-1\\\": \\\"The Common Core State Standard CCSS.ELA-LITERACY.W.4.9 states that 4th-grade students should 'Draw evidence from literary or informational texts to support analysis, reflection, and research.'\\\",\\n\\t\\\"step-2\\\": \\\"The assessment will test the student's ability to extract information from a context paragraph related to the ocean. The student should then use this information to support their analysis or reflection in response to a specific free-response question.\\\",\\n\\t\\\"step-3\\\": \\\"For a 4th-grade level, the context paragraph should be between 100-150 words. It should contain a mix of factual and interpretive details, providing a well-rounded basis for answering the free-response question.\\\",\\n\\t\\\"context\\\": \\\"The ocean covers more than 70% of Earth's surface and serves as home to a myriad of creatures, from microscopic plankton to massive whales. It also plays a crucial role in regulating the planet's climate by absorbing carbon dioxide. Coral reefs, often referred to as the 'rainforests of the sea,' host a variety of marine life and contribute to biodiversity. However, human activities like pollution, overfishing, and climate change are putting ocean ecosystems at risk. Notable efforts are being made to conserve this vital resource, including the creation of marine protected areas and public awareness campaigns.\\\",\\n\\t\\\"frq\\\": \\\"Based on the context provided, what are some ways the ocean is important to Earth and its inhabitants? Also, what challenges are oceans facing according to the text? Provide evidence from the text to support your answer.\\\"\\n}\\nAssistant answer: ```json{\\n\\t\\\"rubric\\\": \\\"### Assessment Rubric for Free Response Question\\n\\n#### Criteria for Evaluation\\n\\n1. **Drawing Evidence (5 points)**: Student must draw clear evidence from the context paragraph to support their answer.\\n    - 5 points: Provides direct quotes or paraphrases that are highly relevant to the question.\\n    - 3 points: Provides some evidence but it's either partially relevant or not directly quoted.\\n    - 1 point: Makes a generalized or vague reference to the text.\\n    - 0 points: Does not reference the text.\\n\\n2. **Analysis and Reflection (5 points)**: Student should analyze the importance of the ocean to Earth and its challenges, and may include personal reflection.\\n    - 5 points: Thoroughly analyzes both the importance and challenges, possibly including personal reflection.\\n    - 3 points: Partially analyzes either the importance or challenges, with some evidence.\\n    - 1 point: Minimal analysis with limited or no evidence.\\n    - 0 points: No analysis or reflection.\\n\\n3. **Clarity and Organization (3 points)**: Answer should be clear, concise, and well-organized.\\n    - 3 points: Answer is clear, concise, and logically organized.\\n    - 2 points: Answer is mostly clear but may lack some organization.\\n    - 1 point: Answer is disorganized or unclear.\\n    - 0 points: Answer is incomprehensible.\\n\\n4. **Grammar and Mechanics (2 points)**: The answer should be free of grammatical and spelling errors.\\n    - 2 points: No errors.\\n    - 1 point: Few minor errors.\\n    - 0 points: Numerous errors that hinder comprehension.\\n\\n### Scoring Guide\\n- 13-15 points: Excellent\\n- 10-12 points: Good\\n- 6-9 points: Needs Improvement\\n- 0-5 points: Unsatisfactory\\\"\\n}```\",\n",
      "  \"EXAMPLE_RUBRIC_02\": \"Common Core State Standard is CCSS.ELA-LITERACY.W.6.3. Take into consideration the definition of this standard provided below in step-1.\\nCONTEXT and FREE RESPONSE QUESTION are also included in following JSON: \\n{\\n\\t\\\"step-1\\\": \\\"The standard CCSS.ELA-LITERACY.W.6.3 requires students to write narratives to develop real or imagined experiences or events using effective technique, relevant descriptive details, and well-structured event sequences.\\\",\\n\\t\\\"step-2\\\": \\\"The assessment must test the student's ability to write a narrative that includes effective techniques, relevant descriptive details, and a well-structured event sequence.\\\",\\n\\t\\\"step-3\\\": \\\"The CONTEXT paragraph should be sufficiently detailed but not excessively long, providing enough complexity for a 6th-grade student to generate a narrative based on it.\\\",\\n\\t\\\"context\\\": \\\"Maria had a morning routine that she followed every single day. She would start her day by waking up to the sound of her melodious alarm at 6:30 a.m. After quickly turning it off, she'd head to the kitchen where her mom would already have a steaming cup of hot chocolate waiting for her. Next, she would grab her toothbrush and toothpaste and head to the bathroom to brush her teeth. The bathroom mirror would be slightly fogged up from her older brother's hot shower, making her trace smiley faces on it before wiping it clean. Once she was ready, she'd head to her room to put on her favorite outfit: a blue shirt with white stars, and jeans that had a small rip on the knee which, according to her, gave it character. After getting dressed, she would sit at her desk and skim through her planner to prepare for the day ahead, occasionally jotting down notes in the margins.\\\",\\n\\t\\\"frq\\\": \\\"Write a narrative from Maria's perspective about a particular morning where something unexpected happens during her routine. Use effective narrative techniques, integrate relevant descriptive details, and structure the events in a sequential manner. Make sure your narrative has a beginning, middle, and end. Include dialogue, internal thoughts, or actions that help to develop the characters and events.\\\"\\n}\\nAssistant answer: ```json{\\n\\t\\\"rubric\\\": \\\"1. Effective Techniques (0-10 points): 0-2 points for lacking effective techniques, 3-5 for some use, 6-8 for good use, and 9-10 for excellent use.\\n2. Relevant Descriptive Details (0-10 points): 0-2 points for lacking details, 3-5 for some details, 6-8 for good details, and 9-10 for excellent details.\\n3. Well-Structured Event Sequences (0-10 points): 0-2 for poor structure, 3-5 for some structure, 6-8 for good structure, and 9-10 for excellent structure.\\n4. Dialogue, Internal Thoughts, Actions to Develop Characters and Events (0-5 points): 0-1 for lacking elements, 2-3 for some use, and 4-5 for effective use.\\n5. Beginning, Middle, and End (0-5 points): 0-1 for missing or unclear, 2-3 for present but lacking, and 4-5 for clear and effective.\\\"\\n}```\",\n",
      "  \"reasoning_context_frq\": \"```json\\n{\\n\\t\\\"step-1\\\": \\\"The Common Core State Standard CCSS.ELA-LITERACY.W.4.9 states that 4th-grade students should 'Draw evidence from literary or informational texts to support analysis, reflection, and research.'\\\",\\n\\t\\\"step-2\\\": \\\"The assessment will test the student's ability to extract information from a context paragraph related to the desert. The student should then use this information to support their analysis or reflection in response to a specific free-response question.\\\",\\n\\t\\\"step-3\\\": \\\"For a 4th-grade level, the context paragraph should be between 100-150 words. It should contain a mix of factual and interpretive details, providing a well-rounded basis for answering the free-response question.\\\",\\n\\t\\\"context\\\": \\\"The desert is a harsh and challenging environment. It is characterized by its arid climate, with little to no rainfall, and extreme temperatures that can vary greatly from day to night. Despite these conditions, a variety of plants and animals have adapted to life in the desert. For example, cacti store water in their thick stems and have spines to protect themselves from predators. Small rodents like kangaroo rats have long tails that help them balance on two legs and jump great distances to avoid predators. The desert is also home to unique geological formations like sand dunes and rock formations that have been shaped by wind and water over time.\\\",\\n\\t\\\"frq\\\": \\\"Based on the context provided, describe how desert animals have adapted to the harsh environment. Provide evidence from the text to support your answer.\\\"\\n}```\",\n",
      "  \"rubric\": \"```json\\n{\\n\\t\\\"rubric\\\": \\\"### Assessment Rubric for Free Response Question\\n\\n#### Criteria for Evaluation\\n\\n1. **Drawing Evidence (5 points)**: Student must draw clear evidence from the context paragraph to support their answer.\\n    - 5 points: Provides direct quotes or paraphrases that are highly relevant to the question.\\n    - 3 points: Provides some evidence but it's either partially relevant or not directly quoted.\\n    - 1 point: Makes a generalized or vague reference to the text.\\n    - 0 points: Does not reference the text.\\n\\n2. **Description of Adaptations (5 points)**: Student should describe how desert animals have adapted to the harsh environment.\\n    - 5 points: Provides a detailed and accurate description of multiple adaptations with specific examples from the text.\\n    - 3 points: Provides a general description of one or two adaptations with some examples from the text.\\n    - 1 point: Provides a vague or incomplete description of adaptations with limited or no examples from the text.\\n    - 0 points: Does not describe adaptations.\\n\\n3. **Clarity and Organization (3 points)**: Answer should be clear, concise, and well-organized.\\n    - 3 points: Answer is clear, concise, and logically organized.\\n    - 2 points: Answer is mostly clear but may lack some organization.\\n    - 1 point: Answer is disorganized or unclear.\\n    - 0 points: Answer is incomprehensible.\\n\\n4. **Grammar and Mechanics (2 points)**: The answer should be free of grammatical and spelling errors.\\n    - 2 points: No errors.\\n    - 1 point: Few minor errors.\\n    - 0 points: Numerous errors that hinder comprehension.\\n\\n### Scoring Guide\\n- 13-15 points: Excellent\\n- 10-12 points: Good\\n- 6-9 points: Needs Improvement\\n- 0-5 points: Unsatisfactory\\\"\\n}\\n```\",\n",
      "  \"frq_qa\": \"```json\\n{\\n\\t\\\"frq_qa_passed\\\": true,\\n\\t\\\"frq_qa_reason\\\": \\\"N/A\\\",\\n\\t\\\"adjusted_context\\\": \\\"The Common Core State Standard CCSS.ELA-LITERACY.W.4.9 states that 4th-grade students should 'Draw evidence from literary or informational texts to support analysis, reflection, and research.' The assessment will test the student's ability to extract information from a context paragraph related to the desert. The student should then use this information to support their analysis or reflection in response to a specific free-response question. For a 4th-grade level, the context paragraph should be between 100-150 words. It should contain a mix of factual and interpretive details, providing a well-rounded basis for answering the free-response question. The given context paragraph is well within the word limit and contains a mix of factual and interpretive details, providing a good basis for answering the free-response question.\\\",\\n\\t\\\"adjusted_frq\\\": \\\"Describe how desert animals have adapted to the harsh environment. Use evidence from the text to support your answer. How do these adaptations help the animals survive in the desert? Explain with examples from the text.\\\"\\n}\\n``` \\nThe given CONTEXT and FRQ meet the requirements of the CCSS. The context paragraph is well within the word limit and contains a mix of factual and interpretive details, providing a good basis for answering the free-response question. The FRQ is relevant to the context and requires the student to draw evidence from the text to support their answer, which aligns with the CCSS standard. However, the adjusted FRQ has been modified to include an additional prompt that requires the student to explain how the adaptations help the animals survive in the desert. This modification enhances the FRQ to better align with the CCSS standard.\"\n",
      "}\n",
      "\u001b[32;1m\u001b[1;3m[llm/start]\u001b[0m \u001b[1m[1:chain:SequentialChain > 8:chain:LLMChain > 9:llm:ChatOpenAI] Entering LLM run with input:\n",
      "\u001b[0m{\n",
      "  \"prompts\": [\n",
      "    \"System: \\nYou are an helpful assistant. User will provide you Common Core State Standard (CCSS).You will also be provided with RUBRICS related to the CCSS.\\nYou will evaluate if provided RUBRICS alignes CCSS requirements, i.e. if it allignes with skills and competencies outlined by the provided CCSS standard itself.\\nIf the RUBRICS meets or mostly meets the CCSS requirements you will output \\\"True\\\". Otherwise output \\\"False\\\". \\nIn case you respond \\\"False\\\" also provide:\\n1. Justification what is missing or incorrect.\\n2. Adjusted Rubrics, that will be based on the existing, but enhanced to align better to the provided CCSS.\\nThe output should be a markdown code snippet formatted in the following schema, including the leading and trailing \\\"```json\\\" and \\\"```\\\":\\n\\n```json\\n{\\n\\t\\\"rubric_qa_passed\\\": string  // Boolean value to idicate if the RUBRIC is meeting the Common Core State Standard provided by user. True = meets, False = Does not meet\\n\\t\\\"rubric_qa_reason\\\": string  // Justification why RUBRICS isnt meeting Common Core State Standard. If the Rubric is meeting CCSS provide value N/A\\n\\t\\\"rubric_qa_new\\\": string  // New regenerated Rubrics meeting Common Core State Standard. If the original Rubric is meeting CCSS provide value N/A\\n}\\n```\\n\\nHuman: Common Core State Standard is CCSS.ELA-LITERACY.W.4.9. Rubrics to be evaluated is in JSON format: \\n```json\\n{\\n\\t\\\"rubric\\\": \\\"### Assessment Rubric for Free Response Question\\n\\n#### Criteria for Evaluation\\n\\n1. **Drawing Evidence (5 points)**: Student must draw clear evidence from the context paragraph to support their answer.\\n    - 5 points: Provides direct quotes or paraphrases that are highly relevant to the question.\\n    - 3 points: Provides some evidence but it's either partially relevant or not directly quoted.\\n    - 1 point: Makes a generalized or vague reference to the text.\\n    - 0 points: Does not reference the text.\\n\\n2. **Description of Adaptations (5 points)**: Student should describe how desert animals have adapted to the harsh environment.\\n    - 5 points: Provides a detailed and accurate description of multiple adaptations with specific examples from the text.\\n    - 3 points: Provides a general description of one or two adaptations with some examples from the text.\\n    - 1 point: Provides a vague or incomplete description of adaptations with limited or no examples from the text.\\n    - 0 points: Does not describe adaptations.\\n\\n3. **Clarity and Organization (3 points)**: Answer should be clear, concise, and well-organized.\\n    - 3 points: Answer is clear, concise, and logically organized.\\n    - 2 points: Answer is mostly clear but may lack some organization.\\n    - 1 point: Answer is disorganized or unclear.\\n    - 0 points: Answer is incomprehensible.\\n\\n4. **Grammar and Mechanics (2 points)**: The answer should be free of grammatical and spelling errors.\\n    - 2 points: No errors.\\n    - 1 point: Few minor errors.\\n    - 0 points: Numerous errors that hinder comprehension.\\n\\n### Scoring Guide\\n- 13-15 points: Excellent\\n- 10-12 points: Good\\n- 6-9 points: Needs Improvement\\n- 0-5 points: Unsatisfactory\\\"\\n}\\n```.\"\n",
      "  ]\n",
      "}\n",
      "\u001b[36;1m\u001b[1;3m[llm/end]\u001b[0m \u001b[1m[1:chain:SequentialChain > 8:chain:LLMChain > 9:llm:ChatOpenAI] [5.26s] Exiting LLM run with output:\n",
      "\u001b[0m{\n",
      "  \"generations\": [\n",
      "    [\n",
      "      {\n",
      "        \"text\": \"```json\\n{\\n\\t\\\"rubric_qa_passed\\\": true,\\n\\t\\\"rubric_qa_reason\\\": \\\"N/A\\\",\\n\\t\\\"rubric_qa_new\\\": \\\"N/A\\\"\\n}\\n```\\nThe provided rubric aligns with the CCSS.ELA-LITERACY.W.4.9 standard. It includes criteria for evaluation that assess the student's ability to draw evidence from the text, describe adaptations, organize their answer, and use proper grammar and mechanics. The rubric also includes a scoring guide that aligns with the standard. Therefore, the rubric passes the QA evaluation.\",\n",
      "        \"generation_info\": {\n",
      "          \"finish_reason\": \"stop\"\n",
      "        },\n",
      "        \"message\": {\n",
      "          \"lc\": 1,\n",
      "          \"type\": \"constructor\",\n",
      "          \"id\": [\n",
      "            \"langchain\",\n",
      "            \"schema\",\n",
      "            \"messages\",\n",
      "            \"AIMessage\"\n",
      "          ],\n",
      "          \"kwargs\": {\n",
      "            \"content\": \"```json\\n{\\n\\t\\\"rubric_qa_passed\\\": true,\\n\\t\\\"rubric_qa_reason\\\": \\\"N/A\\\",\\n\\t\\\"rubric_qa_new\\\": \\\"N/A\\\"\\n}\\n```\\nThe provided rubric aligns with the CCSS.ELA-LITERACY.W.4.9 standard. It includes criteria for evaluation that assess the student's ability to draw evidence from the text, describe adaptations, organize their answer, and use proper grammar and mechanics. The rubric also includes a scoring guide that aligns with the standard. Therefore, the rubric passes the QA evaluation.\",\n",
      "            \"additional_kwargs\": {}\n",
      "          }\n",
      "        }\n",
      "      }\n",
      "    ]\n",
      "  ],\n",
      "  \"llm_output\": {\n",
      "    \"token_usage\": {\n",
      "      \"completion_tokens\": 121,\n",
      "      \"prompt_tokens\": 733,\n",
      "      \"total_tokens\": 854\n",
      "    },\n",
      "    \"model_name\": \"gpt-3.5-turbo\"\n",
      "  },\n",
      "  \"run\": null\n",
      "}\n",
      "\u001b[36;1m\u001b[1;3m[chain/end]\u001b[0m \u001b[1m[1:chain:SequentialChain > 8:chain:LLMChain] [5.26s] Exiting Chain run with output:\n",
      "\u001b[0m{\n",
      "  \"rubics_qa\": \"```json\\n{\\n\\t\\\"rubric_qa_passed\\\": true,\\n\\t\\\"rubric_qa_reason\\\": \\\"N/A\\\",\\n\\t\\\"rubric_qa_new\\\": \\\"N/A\\\"\\n}\\n```\\nThe provided rubric aligns with the CCSS.ELA-LITERACY.W.4.9 standard. It includes criteria for evaluation that assess the student's ability to draw evidence from the text, describe adaptations, organize their answer, and use proper grammar and mechanics. The rubric also includes a scoring guide that aligns with the standard. Therefore, the rubric passes the QA evaluation.\"\n",
      "}\n",
      "\u001b[36;1m\u001b[1;3m[chain/end]\u001b[0m \u001b[1m[1:chain:SequentialChain] [43.28s] Exiting Chain run with output:\n",
      "\u001b[0m{\n",
      "  \"rubric\": \"```json\\n{\\n\\t\\\"rubric\\\": \\\"### Assessment Rubric for Free Response Question\\n\\n#### Criteria for Evaluation\\n\\n1. **Drawing Evidence (5 points)**: Student must draw clear evidence from the context paragraph to support their answer.\\n    - 5 points: Provides direct quotes or paraphrases that are highly relevant to the question.\\n    - 3 points: Provides some evidence but it's either partially relevant or not directly quoted.\\n    - 1 point: Makes a generalized or vague reference to the text.\\n    - 0 points: Does not reference the text.\\n\\n2. **Description of Adaptations (5 points)**: Student should describe how desert animals have adapted to the harsh environment.\\n    - 5 points: Provides a detailed and accurate description of multiple adaptations with specific examples from the text.\\n    - 3 points: Provides a general description of one or two adaptations with some examples from the text.\\n    - 1 point: Provides a vague or incomplete description of adaptations with limited or no examples from the text.\\n    - 0 points: Does not describe adaptations.\\n\\n3. **Clarity and Organization (3 points)**: Answer should be clear, concise, and well-organized.\\n    - 3 points: Answer is clear, concise, and logically organized.\\n    - 2 points: Answer is mostly clear but may lack some organization.\\n    - 1 point: Answer is disorganized or unclear.\\n    - 0 points: Answer is incomprehensible.\\n\\n4. **Grammar and Mechanics (2 points)**: The answer should be free of grammatical and spelling errors.\\n    - 2 points: No errors.\\n    - 1 point: Few minor errors.\\n    - 0 points: Numerous errors that hinder comprehension.\\n\\n### Scoring Guide\\n- 13-15 points: Excellent\\n- 10-12 points: Good\\n- 6-9 points: Needs Improvement\\n- 0-5 points: Unsatisfactory\\\"\\n}\\n```\",\n",
      "  \"reasoning_context_frq\": \"```json\\n{\\n\\t\\\"step-1\\\": \\\"The Common Core State Standard CCSS.ELA-LITERACY.W.4.9 states that 4th-grade students should 'Draw evidence from literary or informational texts to support analysis, reflection, and research.'\\\",\\n\\t\\\"step-2\\\": \\\"The assessment will test the student's ability to extract information from a context paragraph related to the desert. The student should then use this information to support their analysis or reflection in response to a specific free-response question.\\\",\\n\\t\\\"step-3\\\": \\\"For a 4th-grade level, the context paragraph should be between 100-150 words. It should contain a mix of factual and interpretive details, providing a well-rounded basis for answering the free-response question.\\\",\\n\\t\\\"context\\\": \\\"The desert is a harsh and challenging environment. It is characterized by its arid climate, with little to no rainfall, and extreme temperatures that can vary greatly from day to night. Despite these conditions, a variety of plants and animals have adapted to life in the desert. For example, cacti store water in their thick stems and have spines to protect themselves from predators. Small rodents like kangaroo rats have long tails that help them balance on two legs and jump great distances to avoid predators. The desert is also home to unique geological formations like sand dunes and rock formations that have been shaped by wind and water over time.\\\",\\n\\t\\\"frq\\\": \\\"Based on the context provided, describe how desert animals have adapted to the harsh environment. Provide evidence from the text to support your answer.\\\"\\n}```\",\n",
      "  \"frq_qa\": \"```json\\n{\\n\\t\\\"frq_qa_passed\\\": true,\\n\\t\\\"frq_qa_reason\\\": \\\"N/A\\\",\\n\\t\\\"adjusted_context\\\": \\\"The Common Core State Standard CCSS.ELA-LITERACY.W.4.9 states that 4th-grade students should 'Draw evidence from literary or informational texts to support analysis, reflection, and research.' The assessment will test the student's ability to extract information from a context paragraph related to the desert. The student should then use this information to support their analysis or reflection in response to a specific free-response question. For a 4th-grade level, the context paragraph should be between 100-150 words. It should contain a mix of factual and interpretive details, providing a well-rounded basis for answering the free-response question. The given context paragraph is well within the word limit and contains a mix of factual and interpretive details, providing a good basis for answering the free-response question.\\\",\\n\\t\\\"adjusted_frq\\\": \\\"Describe how desert animals have adapted to the harsh environment. Use evidence from the text to support your answer. How do these adaptations help the animals survive in the desert? Explain with examples from the text.\\\"\\n}\\n``` \\nThe given CONTEXT and FRQ meet the requirements of the CCSS. The context paragraph is well within the word limit and contains a mix of factual and interpretive details, providing a good basis for answering the free-response question. The FRQ is relevant to the context and requires the student to draw evidence from the text to support their answer, which aligns with the CCSS standard. However, the adjusted FRQ has been modified to include an additional prompt that requires the student to explain how the adaptations help the animals survive in the desert. This modification enhances the FRQ to better align with the CCSS standard.\",\n",
      "  \"rubics_qa\": \"```json\\n{\\n\\t\\\"rubric_qa_passed\\\": true,\\n\\t\\\"rubric_qa_reason\\\": \\\"N/A\\\",\\n\\t\\\"rubric_qa_new\\\": \\\"N/A\\\"\\n}\\n```\\nThe provided rubric aligns with the CCSS.ELA-LITERACY.W.4.9 standard. It includes criteria for evaluation that assess the student's ability to draw evidence from the text, describe adaptations, organize their answer, and use proper grammar and mechanics. The rubric also includes a scoring guide that aligns with the standard. Therefore, the rubric passes the QA evaluation.\"\n",
      "}\n"
     ]
    }
   ],
   "source": [
    "overall_chain = SequentialChain(\n",
    "    chains=[chain1, chain2, chain3, chain4],\n",
    "    input_variables=[\"standard\",\"topic\",\"fmt_instr_rubric\",\"fmt_instr_frq\",\"fmt_instr_frq_qa\",\"fmt_instr_rubric_qa\",\"EXAMPLE_FRQ_01\",\"EXAMPLE_FRQ_02\",\"EXAMPLE_RUBRIC_01\",\"EXAMPLE_RUBRIC_02\"],\n",
    "    output_variables=[\"rubric\",\"reasoning_context_frq\",\"frq_qa\",\"rubics_qa\"],\n",
    "    verbose=True\n",
    ")\n",
    "\n",
    "with no_ssl_verification():\n",
    "    solution = overall_chain({\"standard\":\"CCSS.ELA-LITERACY.W.4.9\", \n",
    "                              \"topic\":\"desert\", \n",
    "                              \"fmt_instr_rubric\":fmt_instr_rubric, \n",
    "                              \"fmt_instr_frq\":fmt_instr_frq,\n",
    "                              \"fmt_instr_frq_qa\":fmt_instr_frq_qa,\n",
    "                              \"fmt_instr_rubric_qa\":fmt_instr_rubric_qa, \n",
    "                              \"EXAMPLE_FRQ_01\":EXAMPLE_FRQ_01, \n",
    "                              \"EXAMPLE_FRQ_02\":EXAMPLE_FRQ_02,\n",
    "                              \"EXAMPLE_RUBRIC_01\":EXAMPLE_RUBRIC_01, \n",
    "                              \"EXAMPLE_RUBRIC_02\":EXAMPLE_RUBRIC_02})"
   ]
  },
  {
   "cell_type": "code",
   "execution_count": 42,
   "metadata": {},
   "outputs": [
    {
     "data": {
      "text/plain": [
       "{'standard': 'CCSS.ELA-LITERACY.W.4.9',\n",
       " 'topic': 'desert',\n",
       " 'fmt_instr_rubric': 'The output should be a markdown code snippet formatted in the following schema, including the leading and trailing \"```json\" and \"```\":\\n\\n```json\\n{\\n\\t\"rubric\": string  // Rubric for this assesment task as expected by the Common Core State Standard definition provided by user\\n}\\n```',\n",
       " 'fmt_instr_frq': 'The output should be a markdown code snippet formatted in the following schema, including the leading and trailing \"```json\" and \"```\":\\n\\n```json\\n{\\n\\t\"step-1\": string  // step 1 reasoning\\n\\t\"step-2\": string  // step 2 reasoning\\n\\t\"step-3\": string  // step 3 reasoning\\n\\t\"context\": string  // generated context paragraph\\n\\t\"frq\": string  // generated free respoce question\\n}\\n```',\n",
       " 'fmt_instr_frq_qa': 'The output should be a markdown code snippet formatted in the following schema, including the leading and trailing \"```json\" and \"```\":\\n\\n```json\\n{\\n\\t\"frq_qa_passed\": string  // Boolean value to idicate if the CONTEXT and FRQ is meeting the Common Core State Standard and topic provided by user. True = meets, False = Does not meet\\n\\t\"frq_qa_reason\": string  // Justification why the CONTEXT and/or the FRQ isnt meeting Common Core State Standard. If both the CONTEXT and the FRQ are meeting CCSS provide value N/A\\n\\t\"adjusted_context\": string  // Adjusted CONTEXT meeting the user provided Common Core State Standard using and the topic. If original CONTEXT is meeting CCSS provide value N/A\\n\\t\"adjusted_frq\": string  // Adjusted FRQ meeting the user provided Common Core State Standard and the topic. NEW FRQ must be related to the NEW CONTEXT. If original FRQ is meeting CCSS provide value N/A\\n}\\n```',\n",
       " 'fmt_instr_rubric_qa': 'The output should be a markdown code snippet formatted in the following schema, including the leading and trailing \"```json\" and \"```\":\\n\\n```json\\n{\\n\\t\"rubric_qa_passed\": string  // Boolean value to idicate if the RUBRIC is meeting the Common Core State Standard provided by user. True = meets, False = Does not meet\\n\\t\"rubric_qa_reason\": string  // Justification why RUBRICS isnt meeting Common Core State Standard. If the Rubric is meeting CCSS provide value N/A\\n\\t\"rubric_qa_new\": string  // New regenerated Rubrics meeting Common Core State Standard. If the original Rubric is meeting CCSS provide value N/A\\n}\\n```',\n",
       " 'EXAMPLE_FRQ_01': 'User input: Common Core State Standard is CCSS.ELA-LITERACY.W.6.3 and topic is \"morning routine\".\\nAssistant answer: ```json{\\n\\t\"step-1\": \"The standard CCSS.ELA-LITERACY.W.6.3 requires students to write narratives to develop real or imagined experiences or events using effective technique, relevant descriptive details, and well-structured event sequences.\",\\n\\t\"step-2\": \"The assessment must test the student\\'s ability to write a narrative that includes effective techniques, relevant descriptive details, and a well-structured event sequence.\",\\n\\t\"step-3\": \"The CONTEXT paragraph should be sufficiently detailed but not excessively long, providing enough complexity for a 6th-grade student to generate a narrative based on it.\",\\n\\t\"context\": \"Maria had a morning routine that she followed every single day. She would start her day by waking up to the sound of her melodious alarm at 6:30 a.m. After quickly turning it off, she\\'d head to the kitchen where her mom would already have a steaming cup of hot chocolate waiting for her. Next, she would grab her toothbrush and toothpaste and head to the bathroom to brush her teeth. The bathroom mirror would be slightly fogged up from her older brother\\'s hot shower, making her trace smiley faces on it before wiping it clean. Once she was ready, she\\'d head to her room to put on her favorite outfit: a blue shirt with white stars, and jeans that had a small rip on the knee which, according to her, gave it character. After getting dressed, she would sit at her desk and skim through her planner to prepare for the day ahead, occasionally jotting down notes in the margins.\",\\n\\t\"frq\": \"Write a narrative about Maria\\'s morning routine from her perspective. Your narrative should have a beginning, middle, and end. Make sure to use effective narrative techniques, relevant descriptive details, and structure the events in a sequential manner.\"\\n}```',\n",
       " 'EXAMPLE_FRQ_02': 'User input: Common Core State Standard is CCSS.ELA-LITERACY.W.4.9 and topic is ocean.\\nAssistant answer: ```json{\\n\\t\"step-1\": \"The Common Core State Standard CCSS.ELA-LITERACY.W.4.9 states that 4th-grade students should \\'Draw evidence from literary or informational texts to support analysis, reflection, and research.\\'\",\\n\\t\"step-2\": \"The assessment will test the student\\'s ability to extract information from a context paragraph related to the ocean. The student should then use this information to support their analysis or reflection in response to a specific free-response question.\",\\n\\t\"step-3\": \"For a 4th-grade level, the context paragraph should be between 100-150 words. It should contain a mix of factual and interpretive details, providing a well-rounded basis for answering the free-response question.\",\\n\\t\"context\": \"The ocean covers more than 70% of Earth\\'s surface and serves as home to a myriad of creatures, from microscopic plankton to massive whales. It also plays a crucial role in regulating the planet\\'s climate by absorbing carbon dioxide. Coral reefs, often referred to as the \\'rainforests of the sea,\\' host a variety of marine life and contribute to biodiversity. However, human activities like pollution, overfishing, and climate change are putting ocean ecosystems at risk. Notable efforts are being made to conserve this vital resource, including the creation of marine protected areas and public awareness campaigns.\",\\n\\t\"frq\": \"Based on the context provided, what are some ways the ocean is important to Earth and its inhabitants? Also, what challenges are oceans facing according to the text? Provide evidence from the text to support your answer.\"\\n}```',\n",
       " 'EXAMPLE_RUBRIC_01': 'User input: Common Core State Standard is CCSS.ELA-LITERACY.W.4.9. Take into consideration the definition of this standard provided below in step-1.\\nCONTEXT and FREE RESPONSE QUESTION are also included in following JSON: \\n{\\n\\t\"step-1\": \"The Common Core State Standard CCSS.ELA-LITERACY.W.4.9 states that 4th-grade students should \\'Draw evidence from literary or informational texts to support analysis, reflection, and research.\\'\",\\n\\t\"step-2\": \"The assessment will test the student\\'s ability to extract information from a context paragraph related to the ocean. The student should then use this information to support their analysis or reflection in response to a specific free-response question.\",\\n\\t\"step-3\": \"For a 4th-grade level, the context paragraph should be between 100-150 words. It should contain a mix of factual and interpretive details, providing a well-rounded basis for answering the free-response question.\",\\n\\t\"context\": \"The ocean covers more than 70% of Earth\\'s surface and serves as home to a myriad of creatures, from microscopic plankton to massive whales. It also plays a crucial role in regulating the planet\\'s climate by absorbing carbon dioxide. Coral reefs, often referred to as the \\'rainforests of the sea,\\' host a variety of marine life and contribute to biodiversity. However, human activities like pollution, overfishing, and climate change are putting ocean ecosystems at risk. Notable efforts are being made to conserve this vital resource, including the creation of marine protected areas and public awareness campaigns.\",\\n\\t\"frq\": \"Based on the context provided, what are some ways the ocean is important to Earth and its inhabitants? Also, what challenges are oceans facing according to the text? Provide evidence from the text to support your answer.\"\\n}\\nAssistant answer: ```json{\\n\\t\"rubric\": \"### Assessment Rubric for Free Response Question\\n\\n#### Criteria for Evaluation\\n\\n1. **Drawing Evidence (5 points)**: Student must draw clear evidence from the context paragraph to support their answer.\\n    - 5 points: Provides direct quotes or paraphrases that are highly relevant to the question.\\n    - 3 points: Provides some evidence but it\\'s either partially relevant or not directly quoted.\\n    - 1 point: Makes a generalized or vague reference to the text.\\n    - 0 points: Does not reference the text.\\n\\n2. **Analysis and Reflection (5 points)**: Student should analyze the importance of the ocean to Earth and its challenges, and may include personal reflection.\\n    - 5 points: Thoroughly analyzes both the importance and challenges, possibly including personal reflection.\\n    - 3 points: Partially analyzes either the importance or challenges, with some evidence.\\n    - 1 point: Minimal analysis with limited or no evidence.\\n    - 0 points: No analysis or reflection.\\n\\n3. **Clarity and Organization (3 points)**: Answer should be clear, concise, and well-organized.\\n    - 3 points: Answer is clear, concise, and logically organized.\\n    - 2 points: Answer is mostly clear but may lack some organization.\\n    - 1 point: Answer is disorganized or unclear.\\n    - 0 points: Answer is incomprehensible.\\n\\n4. **Grammar and Mechanics (2 points)**: The answer should be free of grammatical and spelling errors.\\n    - 2 points: No errors.\\n    - 1 point: Few minor errors.\\n    - 0 points: Numerous errors that hinder comprehension.\\n\\n### Scoring Guide\\n- 13-15 points: Excellent\\n- 10-12 points: Good\\n- 6-9 points: Needs Improvement\\n- 0-5 points: Unsatisfactory\"\\n}```',\n",
       " 'EXAMPLE_RUBRIC_02': 'Common Core State Standard is CCSS.ELA-LITERACY.W.6.3. Take into consideration the definition of this standard provided below in step-1.\\nCONTEXT and FREE RESPONSE QUESTION are also included in following JSON: \\n{\\n\\t\"step-1\": \"The standard CCSS.ELA-LITERACY.W.6.3 requires students to write narratives to develop real or imagined experiences or events using effective technique, relevant descriptive details, and well-structured event sequences.\",\\n\\t\"step-2\": \"The assessment must test the student\\'s ability to write a narrative that includes effective techniques, relevant descriptive details, and a well-structured event sequence.\",\\n\\t\"step-3\": \"The CONTEXT paragraph should be sufficiently detailed but not excessively long, providing enough complexity for a 6th-grade student to generate a narrative based on it.\",\\n\\t\"context\": \"Maria had a morning routine that she followed every single day. She would start her day by waking up to the sound of her melodious alarm at 6:30 a.m. After quickly turning it off, she\\'d head to the kitchen where her mom would already have a steaming cup of hot chocolate waiting for her. Next, she would grab her toothbrush and toothpaste and head to the bathroom to brush her teeth. The bathroom mirror would be slightly fogged up from her older brother\\'s hot shower, making her trace smiley faces on it before wiping it clean. Once she was ready, she\\'d head to her room to put on her favorite outfit: a blue shirt with white stars, and jeans that had a small rip on the knee which, according to her, gave it character. After getting dressed, she would sit at her desk and skim through her planner to prepare for the day ahead, occasionally jotting down notes in the margins.\",\\n\\t\"frq\": \"Write a narrative from Maria\\'s perspective about a particular morning where something unexpected happens during her routine. Use effective narrative techniques, integrate relevant descriptive details, and structure the events in a sequential manner. Make sure your narrative has a beginning, middle, and end. Include dialogue, internal thoughts, or actions that help to develop the characters and events.\"\\n}\\nAssistant answer: ```json{\\n\\t\"rubric\": \"1. Effective Techniques (0-10 points): 0-2 points for lacking effective techniques, 3-5 for some use, 6-8 for good use, and 9-10 for excellent use.\\n2. Relevant Descriptive Details (0-10 points): 0-2 points for lacking details, 3-5 for some details, 6-8 for good details, and 9-10 for excellent details.\\n3. Well-Structured Event Sequences (0-10 points): 0-2 for poor structure, 3-5 for some structure, 6-8 for good structure, and 9-10 for excellent structure.\\n4. Dialogue, Internal Thoughts, Actions to Develop Characters and Events (0-5 points): 0-1 for lacking elements, 2-3 for some use, and 4-5 for effective use.\\n5. Beginning, Middle, and End (0-5 points): 0-1 for missing or unclear, 2-3 for present but lacking, and 4-5 for clear and effective.\"\\n}```',\n",
       " 'rubric': '```json\\n{\\n\\t\"rubric\": \"### Assessment Rubric for Free Response Question\\n\\n#### Criteria for Evaluation\\n\\n1. **Drawing Evidence (5 points)**: Student must draw clear evidence from the context paragraph to support their answer.\\n    - 5 points: Provides direct quotes or paraphrases that are highly relevant to the question.\\n    - 3 points: Provides some evidence but it\\'s either partially relevant or not directly quoted.\\n    - 1 point: Makes a generalized or vague reference to the text.\\n    - 0 points: Does not reference the text.\\n\\n2. **Description of Adaptations (5 points)**: Student should describe how desert animals have adapted to the harsh environment.\\n    - 5 points: Provides a detailed and accurate description of multiple adaptations with specific examples from the text.\\n    - 3 points: Provides a general description of one or two adaptations with some examples from the text.\\n    - 1 point: Provides a vague or incomplete description of adaptations with limited or no examples from the text.\\n    - 0 points: Does not describe adaptations.\\n\\n3. **Clarity and Organization (3 points)**: Answer should be clear, concise, and well-organized.\\n    - 3 points: Answer is clear, concise, and logically organized.\\n    - 2 points: Answer is mostly clear but may lack some organization.\\n    - 1 point: Answer is disorganized or unclear.\\n    - 0 points: Answer is incomprehensible.\\n\\n4. **Grammar and Mechanics (2 points)**: The answer should be free of grammatical and spelling errors.\\n    - 2 points: No errors.\\n    - 1 point: Few minor errors.\\n    - 0 points: Numerous errors that hinder comprehension.\\n\\n### Scoring Guide\\n- 13-15 points: Excellent\\n- 10-12 points: Good\\n- 6-9 points: Needs Improvement\\n- 0-5 points: Unsatisfactory\"\\n}\\n```',\n",
       " 'reasoning_context_frq': '```json\\n{\\n\\t\"step-1\": \"The Common Core State Standard CCSS.ELA-LITERACY.W.4.9 states that 4th-grade students should \\'Draw evidence from literary or informational texts to support analysis, reflection, and research.\\'\",\\n\\t\"step-2\": \"The assessment will test the student\\'s ability to extract information from a context paragraph related to the desert. The student should then use this information to support their analysis or reflection in response to a specific free-response question.\",\\n\\t\"step-3\": \"For a 4th-grade level, the context paragraph should be between 100-150 words. It should contain a mix of factual and interpretive details, providing a well-rounded basis for answering the free-response question.\",\\n\\t\"context\": \"The desert is a harsh and challenging environment. It is characterized by its arid climate, with little to no rainfall, and extreme temperatures that can vary greatly from day to night. Despite these conditions, a variety of plants and animals have adapted to life in the desert. For example, cacti store water in their thick stems and have spines to protect themselves from predators. Small rodents like kangaroo rats have long tails that help them balance on two legs and jump great distances to avoid predators. The desert is also home to unique geological formations like sand dunes and rock formations that have been shaped by wind and water over time.\",\\n\\t\"frq\": \"Based on the context provided, describe how desert animals have adapted to the harsh environment. Provide evidence from the text to support your answer.\"\\n}```',\n",
       " 'frq_qa': '```json\\n{\\n\\t\"frq_qa_passed\": true,\\n\\t\"frq_qa_reason\": \"N/A\",\\n\\t\"adjusted_context\": \"The Common Core State Standard CCSS.ELA-LITERACY.W.4.9 states that 4th-grade students should \\'Draw evidence from literary or informational texts to support analysis, reflection, and research.\\' The assessment will test the student\\'s ability to extract information from a context paragraph related to the desert. The student should then use this information to support their analysis or reflection in response to a specific free-response question. For a 4th-grade level, the context paragraph should be between 100-150 words. It should contain a mix of factual and interpretive details, providing a well-rounded basis for answering the free-response question. The given context paragraph is well within the word limit and contains a mix of factual and interpretive details, providing a good basis for answering the free-response question.\",\\n\\t\"adjusted_frq\": \"Describe how desert animals have adapted to the harsh environment. Use evidence from the text to support your answer. How do these adaptations help the animals survive in the desert? Explain with examples from the text.\"\\n}\\n``` \\nThe given CONTEXT and FRQ meet the requirements of the CCSS. The context paragraph is well within the word limit and contains a mix of factual and interpretive details, providing a good basis for answering the free-response question. The FRQ is relevant to the context and requires the student to draw evidence from the text to support their answer, which aligns with the CCSS standard. However, the adjusted FRQ has been modified to include an additional prompt that requires the student to explain how the adaptations help the animals survive in the desert. This modification enhances the FRQ to better align with the CCSS standard.',\n",
       " 'rubics_qa': '```json\\n{\\n\\t\"rubric_qa_passed\": true,\\n\\t\"rubric_qa_reason\": \"N/A\",\\n\\t\"rubric_qa_new\": \"N/A\"\\n}\\n```\\nThe provided rubric aligns with the CCSS.ELA-LITERACY.W.4.9 standard. It includes criteria for evaluation that assess the student\\'s ability to draw evidence from the text, describe adaptations, organize their answer, and use proper grammar and mechanics. The rubric also includes a scoring guide that aligns with the standard. Therefore, the rubric passes the QA evaluation.'}"
      ]
     },
     "execution_count": 42,
     "metadata": {},
     "output_type": "execute_result"
    }
   ],
   "source": [
    "solution"
   ]
  },
  {
   "cell_type": "markdown",
   "metadata": {},
   "source": [
    "# Export output samples"
   ]
  },
  {
   "cell_type": "code",
   "execution_count": 43,
   "metadata": {},
   "outputs": [
    {
     "data": {
      "text/plain": [
       "'c:\\\\Github_Projects\\\\Experiments\\\\CommonCoreLearningStandardsAI'"
      ]
     },
     "execution_count": 43,
     "metadata": {},
     "output_type": "execute_result"
    }
   ],
   "source": [
    "os.getcwd()"
   ]
  },
  {
   "cell_type": "code",
   "execution_count": 44,
   "metadata": {},
   "outputs": [],
   "source": [
    "import json\n",
    "import datetime\n",
    "\n",
    "now = datetime.datetime.now().strftime('%Y-%m-%d-%H-%M-%S')\n",
    "\n",
    "file_name = f\".\\\\transcripts\\\\sample_CCSS.ELA-LITERACY.W.4.9_{now}.json\"\n",
    "with open(file_name, \"w\") as file:\n",
    "    json.dump(solution, file)"
   ]
  },
  {
   "cell_type": "code",
   "execution_count": 78,
   "metadata": {},
   "outputs": [],
   "source": [
    "def parse_rubric(rubric_json):\n",
    "    return rubric_json[22:-7]"
   ]
  },
  {
   "cell_type": "code",
   "execution_count": 87,
   "metadata": {},
   "outputs": [],
   "source": [
    "def parse_output(solution:dict):\n",
    "    \"\"\"\n",
    "        returns subset of fields provided by LangChain\n",
    "    \"\"\"\n",
    "    context = output_parser_frq.parse(solution['reasoning_context_frq'])['context']\n",
    "    frq = output_parser_frq.parse(solution['reasoning_context_frq'])['frq']\n",
    "    # rubrics_json = output_parser_rubric.parse(solution['rubric'])['rubrics']\n",
    "    rubrics = parse_rubric(solution['rubric'])\n",
    "    frq_qa = output_parser_frq_qa.parse(solution['frq_qa'])\n",
    "    rubric_qa = output_parser_rubric_qa.parse(solution['rubics_qa'])\n",
    "    return context, frq, rubrics, frq_qa, rubric_qa"
   ]
  },
  {
   "cell_type": "code",
   "execution_count": 88,
   "metadata": {},
   "outputs": [],
   "source": [
    "context, frq, rubrics, frq_qa, rubric_qa = parse_output(solution)"
   ]
  },
  {
   "cell_type": "code",
   "execution_count": null,
   "metadata": {},
   "outputs": [],
   "source": []
  }
 ],
 "metadata": {
  "kernelspec": {
   "display_name": "Python 3",
   "language": "python",
   "name": "python3"
  },
  "language_info": {
   "codemirror_mode": {
    "name": "ipython",
    "version": 3
   },
   "file_extension": ".py",
   "mimetype": "text/x-python",
   "name": "python",
   "nbconvert_exporter": "python",
   "pygments_lexer": "ipython3",
   "version": "3.11.4"
  },
  "orig_nbformat": 4
 },
 "nbformat": 4,
 "nbformat_minor": 2
}
