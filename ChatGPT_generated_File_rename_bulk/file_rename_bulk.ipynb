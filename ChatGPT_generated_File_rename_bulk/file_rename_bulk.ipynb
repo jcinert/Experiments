{
 "cells": [
  {
   "attachments": {},
   "cell_type": "markdown",
   "metadata": {},
   "source": [
    "# Chat GPT3 generated: File name changer - Columbo\n",
    "Generated from Chat GPT given these 2 promts:\n",
    "1. can you write a function in python that will go through all files in a folder grab each file name, compare it to fixed list of filenames and rename the file to the closest matching file name from the list?\n",
    "2. perfect, can you update the code so that it can run in a simulation mode as well, that means not changing the name in the end, just identify the best match and print it. Also respect the original file extension, comparing and changing only the file name and keeping the original file extension\n",
    "3. for above renaming function, I'm getting this error: [WinError 183] Cannot create a file when that file already exists: 'B:/Filmy/Columbo/columbo dvd 03 vrazda podle knihy.mkv' -> 'B:/Filmy/Columbo/Columbo - S01E01 - Vrazda podle knihy.mkv'\n",
    "4. great, can you also add a try-catch in case no matching name is found?"
   ]
  },
  {
   "cell_type": "code",
   "execution_count": 38,
   "metadata": {},
   "outputs": [],
   "source": [
    "import os\n",
    "from difflib import get_close_matches\n",
    "\n",
    "def rename_files(folder_path, target_filenames, simulation=False):\n",
    "    for root, dirs, files in os.walk(folder_path):\n",
    "        for file in files:\n",
    "            current_file_path = os.path.join(root, file)\n",
    "            file_name, file_extension = os.path.splitext(file)\n",
    "            try:\n",
    "                closest_match = get_close_matches(file_name, target_filenames)[0]\n",
    "            except IndexError:\n",
    "                print(f\"No matching name found for {current_file_path}\")\n",
    "                continue\n",
    "            new_file_path = os.path.join(root, closest_match + file_extension)\n",
    "            if os.path.exists(new_file_path):\n",
    "                print(f\"{new_file_path} already exists, skipping\")\n",
    "                continue\n",
    "            if simulation:\n",
    "                print(\"Original file: {} \\nBest match: {}\".format(current_file_path, new_file_path))\n",
    "            else:\n",
    "                os.rename(current_file_path, new_file_path)\n"
   ]
  },
  {
   "attachments": {},
   "cell_type": "markdown",
   "metadata": {},
   "source": [
    "5. can you write python code to open csv file and load into a list"
   ]
  },
  {
   "cell_type": "code",
   "execution_count": 19,
   "metadata": {},
   "outputs": [],
   "source": [
    "import csv\n",
    "\n",
    "def load_csv_to_list(file_path):\n",
    "    with open(file_path, newline='', encoding='utf-8') as csvfile:\n",
    "        reader = csv.reader(csvfile)\n",
    "        csv_list = list(reader)\n",
    "    return csv_list\n"
   ]
  },
  {
   "attachments": {},
   "cell_type": "markdown",
   "metadata": {},
   "source": [
    "6. how can I best replace letters wit diacritics for an english character in a CSV file?"
   ]
  },
  {
   "cell_type": "code",
   "execution_count": 5,
   "metadata": {},
   "outputs": [],
   "source": [
    "import csv\n",
    "import unicodedata\n",
    "\n",
    "def remove_diacritics(file_path):\n",
    "    with open(file_path, 'r', newline='', encoding='utf-8') as f_input, open(file_path + '_new', 'w', newline='', encoding='utf-8') as f_output:\n",
    "        csv_reader = csv.reader(f_input)\n",
    "        csv_writer = csv.writer(f_output)\n",
    "        for row in csv_reader:\n",
    "            new_row = [unicodedata.normalize('NFKD', cell).encode('ascii','ignore').decode() for cell in row]\n",
    "            csv_writer.writerow(new_row)"
   ]
  },
  {
   "cell_type": "code",
   "execution_count": 45,
   "metadata": {},
   "outputs": [],
   "source": [
    "def missing_files(folder_path, target_filenames):\n",
    "    all_files = set([os.path.splitext(file)[0] for file in os.listdir(folder_path)])\n",
    "    target_files = set(target_filenames)\n",
    "    missing_files = target_files.difference(all_files)\n",
    "    return missing_files"
   ]
  },
  {
   "attachments": {},
   "cell_type": "markdown",
   "metadata": {},
   "source": [
    "# call provided functions"
   ]
  },
  {
   "cell_type": "code",
   "execution_count": 6,
   "metadata": {},
   "outputs": [],
   "source": [
    "remove_diacritics('Columbo - episodes.csv')"
   ]
  },
  {
   "cell_type": "code",
   "execution_count": 20,
   "metadata": {},
   "outputs": [
    {
     "data": {
      "text/plain": [
       "['Ep. num.', 'ser. num.', 'ep. num. in ser.', 'EN name', 'CZ name', 'Filename']"
      ]
     },
     "execution_count": 20,
     "metadata": {},
     "output_type": "execute_result"
    }
   ],
   "source": [
    "ep_list = load_csv_to_list('Columbo - episodes.csv_new')\n",
    "ep_list[0]"
   ]
  },
  {
   "cell_type": "code",
   "execution_count": 22,
   "metadata": {},
   "outputs": [
    {
     "data": {
      "text/plain": [
       "['Columbo - S00E01 - Vrazda na predpis',\n",
       " 'Columbo - S00E02 - Vykupne za mrtveho',\n",
       " 'Columbo - S01E01 - Vrazda podle knihy',\n",
       " 'Columbo - S01E02 - Smrt nabizi pomocnou ruku',\n",
       " 'Columbo - S01E03 - Seminko pochyb',\n",
       " 'Columbo - S01E04 - Prazdny ram',\n",
       " 'Columbo - S01E05 - Jeji prilezitost',\n",
       " 'Columbo - S01E06 - Past',\n",
       " 'Columbo - S01E07 - Vrazda podle planu',\n",
       " 'Columbo - S02E01 - Etuda v cernem',\n",
       " 'Columbo - S02E02 - Dzungle ve skleniku',\n",
       " 'Columbo - S02E03 - Rozhodujici zapas',\n",
       " 'Columbo - S02E04 - S dykou v mysli',\n",
       " 'Columbo - S02E05 - Rekviem pro padajici hvezdu',\n",
       " 'Columbo - S02E06 - Zlocinny steh',\n",
       " 'Columbo - S02E07 - Nebezpecna hra',\n",
       " 'Columbo - S02E08 - Dvojity sok',\n",
       " 'Columbo - S03E01 - Sladka lec smrtici',\n",
       " 'Columbo - S03E02 - To je vrazda reklo portske',\n",
       " 'Columbo - S03E03 - Kandidat zlocinu',\n",
       " 'Columbo - S03E04 - Dvojexpozice',\n",
       " 'Columbo - S03E05 - Vydat nebo zemrit',\n",
       " 'Columbo - S03E06 - Dobra povest nadevse',\n",
       " 'Columbo - S03E07 - Labuti pisen',\n",
       " 'Columbo - S03E08 - V nouzi poznas pritele',\n",
       " 'Columbo - S04E01 - Osudne cviceni',\n",
       " 'Columbo - S04E02 - Obraceny negativ',\n",
       " 'Columbo - S04E03 - Za usvitu',\n",
       " 'Columbo - S04E04 - Rozbourene vody',\n",
       " 'Columbo - S04E05 - Vrazda na videu',\n",
       " 'Columbo - S04E06 - Vrah zavola v deset',\n",
       " 'Columbo - S05E01 - Zapomenuta dama',\n",
       " 'Columbo - S05E02 - Pripad diplomaticke imunity',\n",
       " 'Columbo - S05E03 - Krize identity',\n",
       " 'Columbo - S05E04 - Smrt v arene',\n",
       " 'Columbo - S05E05 - Kouzelne alibi',\n",
       " 'Columbo - S05E06 - Posledni pocta komodorovi',\n",
       " 'Columbo - S06E01 - Posvitit si na vrazdu',\n",
       " 'Columbo - S06E02 - Staromodni vrazda',\n",
       " 'Columbo - S06E03 - Pripad vysokeho IQ',\n",
       " 'Columbo - S07E01 - Zkus me chytit',\n",
       " 'Columbo - S07E02 - Smrt ve sklence vina',\n",
       " 'Columbo - S07E03 - Predved dokonalou vrazdu',\n",
       " 'Columbo - S07E04 - Jak vytocit vrazdu',\n",
       " 'Columbo - S07E05 - Spiklenci',\n",
       " 'Columbo - S08E01 - Columbo jde pod gilotinu',\n",
       " 'Columbo - S08E02 - Vrazda kour a stiny',\n",
       " 'Columbo - S08E03 - Sex a zenaty detektiv',\n",
       " 'Columbo - S08E04 - Velke podvody',\n",
       " 'Columbo - S09E01 - Vrazda jako autoportret',\n",
       " 'Columbo - S09E02 - Plany poplach',\n",
       " 'Columbo - S09E03 - Na programu vrazda',\n",
       " 'Columbo - S09E04 - Odpocivejte v pokoji pani Columbova',\n",
       " 'Columbo - S09E05 - Smrtici korunka',\n",
       " 'Columbo - S09E06 - Zongler  Vrazda v Malibu',\n",
       " 'Columbo - S10E01 - Columbo na univerzite',\n",
       " 'Columbo - S10E02 - Vrazda skodi zdravi',\n",
       " 'Columbo - S10E03 - Columbo a vrazda rockove hvezdy',\n",
       " 'Columbo - S10E04 - Smrt bere jackpot',\n",
       " 'Columbo - S10E05 - Neni cas na umirani',\n",
       " 'Columbo - S10E06 - Vrabec v hrsti',\n",
       " 'Columbo - S10E07 - Ve hre je vsechno',\n",
       " 'Columbo - S10E08 - Motyl v sedych stinech',\n",
       " 'Columbo - S10E09 - Columbo v prestrojeni',\n",
       " 'Columbo - S10E10 - Podivni spojenci',\n",
       " 'Columbo - S10E11 - Vrazedne stopy',\n",
       " 'Columbo - S10E12 - Popel popelu',\n",
       " 'Columbo - S10E13 - Vrazda s prilis mnoha notami',\n",
       " 'Columbo - S10E14 - Columbo ma rad nocni zivot']"
      ]
     },
     "execution_count": 22,
     "metadata": {},
     "output_type": "execute_result"
    }
   ],
   "source": [
    "ep_name_col = 5\n",
    "ep_list_names = [row[ep_name_col] for row in ep_list]\n",
    "ep_list_names = ep_list_names[1:]\n",
    "ep_list_names"
   ]
  },
  {
   "cell_type": "code",
   "execution_count": 40,
   "metadata": {},
   "outputs": [
    {
     "name": "stdout",
     "output_type": "stream",
     "text": [
      "B:/Filmy/Columbo/Columbo - S00E01 - Vrazda na predpis.mkv already exists, skipping\n",
      "B:/Filmy/Columbo/Columbo - S00E02 - Vykupne za mrtveho.mkv already exists, skipping\n",
      "B:/Filmy/Columbo/Columbo - S01E02 - Smrt nabizi pomocnou ruku.mkv already exists, skipping\n",
      "B:/Filmy/Columbo/Columbo - S01E03 - Seminko pochyb.MP4 already exists, skipping\n",
      "B:/Filmy/Columbo/Columbo - S01E04 - Prazdny ram.mkv already exists, skipping\n",
      "B:/Filmy/Columbo/Columbo - S01E05 - Jeji prilezitost.mkv already exists, skipping\n",
      "B:/Filmy/Columbo/Columbo - S01E07 - Vrazda podle planu.avi already exists, skipping\n",
      "B:/Filmy/Columbo/Columbo - S02E01 - Etuda v cernem.mkv already exists, skipping\n",
      "B:/Filmy/Columbo/Columbo - S02E02 - Dzungle ve skleniku.mkv already exists, skipping\n",
      "B:/Filmy/Columbo/Columbo - S02E03 - Rozhodujici zapas.avi already exists, skipping\n",
      "B:/Filmy/Columbo/Columbo - S02E04 - S dykou v mysli.mkv already exists, skipping\n",
      "B:/Filmy/Columbo/Columbo - S02E05 - Rekviem pro padajici hvezdu.avi already exists, skipping\n",
      "B:/Filmy/Columbo/Columbo - S02E05 - Rekviem pro padajici hvezdu.mp4 already exists, skipping\n",
      "B:/Filmy/Columbo/Columbo - S02E07 - Nebezpecna hra.avi already exists, skipping\n",
      "B:/Filmy/Columbo/Columbo - S03E01 - Sladka lec smrtici.mkv already exists, skipping\n",
      "B:/Filmy/Columbo/Columbo - S03E02 - To je vrazda reklo portske.mkv already exists, skipping\n",
      "B:/Filmy/Columbo/Columbo - S03E03 - Kandidat zlocinu.mkv already exists, skipping\n",
      "B:/Filmy/Columbo/Columbo - S03E04 - Dvojexpozice.avi already exists, skipping\n",
      "B:/Filmy/Columbo/Columbo - S03E05 - Vydat nebo zemrit.avi already exists, skipping\n",
      "B:/Filmy/Columbo/Columbo - S03E06 - Dobra povest nadevse.mp4 already exists, skipping\n",
      "B:/Filmy/Columbo/Columbo - S03E07 - Labuti pisen.mkv already exists, skipping\n",
      "B:/Filmy/Columbo/Columbo - S03E08 - V nouzi poznas pritele.mkv already exists, skipping\n",
      "B:/Filmy/Columbo/Columbo - S04E01 - Osudne cviceni.avi already exists, skipping\n",
      "B:/Filmy/Columbo/Columbo - S04E02 - Obraceny negativ.avi already exists, skipping\n",
      "B:/Filmy/Columbo/Columbo - S04E03 - Za usvitu.mkv already exists, skipping\n",
      "B:/Filmy/Columbo/Columbo - S04E04 - Rozbourene vody.mkv already exists, skipping\n",
      "B:/Filmy/Columbo/Columbo - S04E05 - Vrazda na videu.mkv already exists, skipping\n",
      "B:/Filmy/Columbo/Columbo - S04E06 - Vrah zavola v deset.mkv already exists, skipping\n",
      "B:/Filmy/Columbo/Columbo - S05E01 - Zapomenuta dama.mkv already exists, skipping\n",
      "B:/Filmy/Columbo/Columbo - S05E02 - Pripad diplomaticke imunity.mkv already exists, skipping\n",
      "B:/Filmy/Columbo/Columbo - S05E03 - Krize identity.mkv already exists, skipping\n",
      "B:/Filmy/Columbo/Columbo - S05E04 - Smrt v arene.mkv already exists, skipping\n",
      "B:/Filmy/Columbo/Columbo - S05E05 - Kouzelne alibi.mkv already exists, skipping\n",
      "B:/Filmy/Columbo/Columbo - S05E06 - Posledni pocta komodorovi.mkv already exists, skipping\n",
      "B:/Filmy/Columbo/Columbo - S06E02 - Staromodni vrazda.mkv already exists, skipping\n",
      "B:/Filmy/Columbo/Columbo - S07E01 - Zkus me chytit.mkv already exists, skipping\n",
      "B:/Filmy/Columbo/Columbo - S07E03 - Predved dokonalou vrazdu.mkv already exists, skipping\n",
      "B:/Filmy/Columbo/Columbo - S07E04 - Jak vytocit vrazdu.mkv already exists, skipping\n",
      "B:/Filmy/Columbo/Columbo - S07E05 - Spiklenci.mkv already exists, skipping\n",
      "B:/Filmy/Columbo/Columbo - S08E02 - Vrazda kour a stiny.mkv already exists, skipping\n",
      "B:/Filmy/Columbo/Columbo - S08E03 - Sex a zenaty detektiv.mkv already exists, skipping\n",
      "B:/Filmy/Columbo/Columbo - S08E04 - Velke podvody.mkv already exists, skipping\n",
      "B:/Filmy/Columbo/Columbo - S09E02 - Plany poplach.mkv already exists, skipping\n",
      "B:/Filmy/Columbo/Columbo - S09E03 - Na programu vrazda.mkv already exists, skipping\n",
      "B:/Filmy/Columbo/Columbo - S09E04 - Odpocivejte v pokoji pani Columbova.mkv already exists, skipping\n",
      "B:/Filmy/Columbo/Columbo - S09E05 - Smrtici korunka.mkv already exists, skipping\n",
      "B:/Filmy/Columbo/Columbo - S09E06 - Zongler  Vrazda v Malibu.mkv already exists, skipping\n",
      "B:/Filmy/Columbo/Columbo - S10E01 - Columbo na univerzite.mkv already exists, skipping\n",
      "B:/Filmy/Columbo/Columbo - S10E02 - Vrazda skodi zdravi.mkv already exists, skipping\n",
      "B:/Filmy/Columbo/Columbo - S10E04 - Smrt bere jackpot.mkv already exists, skipping\n",
      "B:/Filmy/Columbo/Columbo - S10E05 - Neni cas na umirani.avi already exists, skipping\n",
      "B:/Filmy/Columbo/Columbo - S10E06 - Vrabec v hrsti.MP4 already exists, skipping\n",
      "B:/Filmy/Columbo/Columbo - S10E07 - Ve hre je vsechno.MP4 already exists, skipping\n",
      "B:/Filmy/Columbo/Columbo - S10E08 - Motyl v sedych stinech.mkv already exists, skipping\n",
      "B:/Filmy/Columbo/Columbo - S10E09 - Columbo v prestrojeni.mkv already exists, skipping\n",
      "B:/Filmy/Columbo/Columbo - S10E10 - Podivni spojenci.mkv already exists, skipping\n",
      "B:/Filmy/Columbo/Columbo - S10E11 - Vrazedne stopy.mkv already exists, skipping\n",
      "B:/Filmy/Columbo/Columbo - S10E12 - Popel popelu.mkv already exists, skipping\n",
      "B:/Filmy/Columbo/Columbo - S10E13 - Vrazda s prilis mnoha notami.mkv already exists, skipping\n",
      "B:/Filmy/Columbo/Columbo - S10E14 - Columbo ma rad nocni zivot.mkv already exists, skipping\n"
     ]
    }
   ],
   "source": [
    "path = 'B:/Filmy/Columbo/'\n",
    "rename_files(path,ep_list_names,simulation=False)"
   ]
  },
  {
   "cell_type": "code",
   "execution_count": 46,
   "metadata": {},
   "outputs": [
    {
     "data": {
      "text/plain": [
       "{'Columbo - S01E06 - Past',\n",
       " 'Columbo - S02E06 - Zlocinny steh',\n",
       " 'Columbo - S02E08 - Dvojity sok',\n",
       " 'Columbo - S06E01 - Posvitit si na vrazdu',\n",
       " 'Columbo - S06E03 - Pripad vysokeho IQ',\n",
       " 'Columbo - S07E02 - Smrt ve sklence vina',\n",
       " 'Columbo - S08E01 - Columbo jde pod gilotinu',\n",
       " 'Columbo - S09E01 - Vrazda jako autoportret',\n",
       " 'Columbo - S10E03 - Columbo a vrazda rockove hvezdy'}"
      ]
     },
     "execution_count": 46,
     "metadata": {},
     "output_type": "execute_result"
    }
   ],
   "source": [
    "missing_ep = missing_files(path,ep_list_names)\n",
    "missing_ep"
   ]
  }
 ],
 "metadata": {
  "kernelspec": {
   "display_name": "base",
   "language": "python",
   "name": "python3"
  },
  "language_info": {
   "codemirror_mode": {
    "name": "ipython",
    "version": 3
   },
   "file_extension": ".py",
   "mimetype": "text/x-python",
   "name": "python",
   "nbconvert_exporter": "python",
   "pygments_lexer": "ipython3",
   "version": "3.7.15"
  },
  "orig_nbformat": 4,
  "vscode": {
   "interpreter": {
    "hash": "c585f91d3623973be3accc48b0d5e967ce904a396a0f0c8bda7b100d8b60333f"
   }
  }
 },
 "nbformat": 4,
 "nbformat_minor": 2
}
