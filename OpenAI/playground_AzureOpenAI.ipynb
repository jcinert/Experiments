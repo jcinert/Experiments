{
 "cells": [
  {
   "cell_type": "markdown",
   "metadata": {},
   "source": [
    "# Init"
   ]
  },
  {
   "cell_type": "code",
   "execution_count": 2,
   "metadata": {},
   "outputs": [],
   "source": [
    "import os\n",
    "import openai\n",
    "from tqdm import tqdm\n",
    "\n",
    "from dotenv import load_dotenv, find_dotenv\n",
    "_ = load_dotenv(find_dotenv()) # read local .env file\n",
    "\n",
    "openai.api_key = os.environ['OPENAI_API_KEY']\n",
    "openai.api_base = os.environ['OPENAI_API_BASE']\n",
    "openai.api_type= os.environ[\"OPENAI_API_TYPE\"]\n",
    "openai.api_version = os.environ[\"OPENAI_API_VERSION\"]\n",
    "OPENAI_DEPLOYMENT_ID = os.environ[\"OPENAI_DEPLOYMENT_ID\"]"
   ]
  },
  {
   "cell_type": "code",
   "execution_count": 1,
   "metadata": {},
   "outputs": [],
   "source": [
    "# to disable SSL verification that causes problem from my laptop\n",
    "from ssl_workaround import no_ssl_verification"
   ]
  },
  {
   "cell_type": "code",
   "execution_count": 3,
   "metadata": {},
   "outputs": [],
   "source": [
    "def get_completion(prompt, deployment_id):\n",
    "    with no_ssl_verification():\n",
    "        messages = [{\"role\": \"user\", \"content\": prompt}]\n",
    "        response = openai.ChatCompletion.create(\n",
    "            deployment_id=deployment_id,\n",
    "            messages=messages,\n",
    "            temperature=0, \n",
    "        )\n",
    "    return response.choices[0].message[\"content\"]"
   ]
  },
  {
   "cell_type": "markdown",
   "metadata": {},
   "source": [
    "# Play!"
   ]
  },
  {
   "cell_type": "code",
   "execution_count": 4,
   "metadata": {},
   "outputs": [],
   "source": [
    "prompt = f\"When I was 6 my sister was half my age. Now\\\n",
    "I’m 70 how old is my sister?\""
   ]
  },
  {
   "cell_type": "code",
   "execution_count": 9,
   "metadata": {},
   "outputs": [
    {
     "data": {
      "text/plain": [
       "'Your sister is 67 years old.'"
      ]
     },
     "execution_count": 9,
     "metadata": {},
     "output_type": "execute_result"
    }
   ],
   "source": [
    "get_completion(prompt,OPENAI_DEPLOYMENT_ID)\n"
   ]
  },
  {
   "cell_type": "markdown",
   "metadata": {},
   "source": [
    "CCSS.ELA-LITERACY.W.4.9"
   ]
  },
  {
   "cell_type": "code",
   "execution_count": 4,
   "metadata": {},
   "outputs": [],
   "source": [
    "prompt = f\"You are a teacher and you are tasked to test a student as per this standard: CCSS.ELA-LITERACY.W.4.9. \\\n",
    "You must follow these steps: 1. Generate context about basketball topic. \\\n",
    "2. Generate a free response question to test the CCSS.ELA-LITERACY.W.4.9 standard.\""
   ]
  },
  {
   "cell_type": "code",
   "execution_count": 5,
   "metadata": {},
   "outputs": [
    {
     "data": {
      "text/plain": [
       "'Context: Basketball is a popular sport played all over the world. It involves two teams of five players each, who try to score points by shooting a ball through a hoop that is 10 feet high. The game is fast-paced and requires a combination of physical skill, strategy, and teamwork.\\n\\nFree response question: Imagine you are a basketball player and you have just won the championship game. Write a narrative describing your experience, including details about the game, your team, and your emotions. Use descriptive language and sensory details to make your story come alive. Be sure to include a clear beginning, middle, and end, and use transitions to connect your ideas.'"
      ]
     },
     "execution_count": 5,
     "metadata": {},
     "output_type": "execute_result"
    }
   ],
   "source": [
    "get_completion(prompt,OPENAI_DEPLOYMENT_ID)"
   ]
  },
  {
   "cell_type": "code",
   "execution_count": 6,
   "metadata": {},
   "outputs": [],
   "source": [
    "prompt = f\"You are a teacher creating an assessment for a student on the CCSS.ELA-LITERACY.W.4.9 standard. Generate a context about a basketball game and provide a free-response question along with a rubric\""
   ]
  },
  {
   "cell_type": "code",
   "execution_count": 7,
   "metadata": {},
   "outputs": [
    {
     "data": {
      "text/plain": [
       "\"Context: \\n\\nYou are a sports journalist covering a basketball game between two rival teams. The game is intense, with both teams playing their best to win. As you watch the game, you notice that one player stands out from the rest. This player seems to have a natural talent for the game and is making impressive moves on the court. You decide to write an article about this player and their performance in the game.\\n\\nFree-Response Question: \\n\\nWrite an article about the standout player in the basketball game, highlighting their skills and contributions to the team's success. Use specific examples from the game to support your claims.\\n\\nRubric:\\n\\nCriteria | Points\\n--- | ---\\nContent | 4 points\\n- The article provides a clear and detailed description of the standout player's skills and contributions to the team's success. Specific examples from the game are used to support claims. | 4 points\\n- The article provides a description of the standout player's skills and contributions to the team's success, but lacks detail or specificity. Some examples from the game are used to support claims. | 3 points\\n- The article provides a vague or incomplete description of the standout player's skills and contributions to the team's success. Few or no examples from the game are used to support claims. | 2 points\\n- The article does not address the prompt or is completely off-topic. | 1 point\\nOrganization | 4 points\\n- The article has a clear introduction, body, and conclusion. Ideas are presented in a logical and coherent manner. | 4 points\\n- The article has an introduction, body, and conclusion, but may lack clarity or coherence. | 3 points\\n- The article lacks a clear introduction, body, or conclusion. Ideas are presented in a confusing or disorganized manner. | 2 points\\n- The article is poorly organized and difficult to follow. | 1 point\\nLanguage | 4 points\\n- The article demonstrates a strong command of language, with few errors in grammar, spelling, or punctuation. Vocabulary is varied and appropriate for the audience. | 4 points\\n- The article demonstrates a basic command of language, with some errors in grammar, spelling, or punctuation. Vocabulary is somewhat limited or inappropriate for the audience. | 3 points\\n- The article demonstrates a weak command of language, with frequent errors in grammar, spelling, or punctuation. Vocabulary is limited or inappropriate for the audience. | 2 points\\n- The article is difficult to understand due to numerous errors in grammar, spelling, or punctuation. Vocabulary is inappropriate for the audience. | 1 point\""
      ]
     },
     "execution_count": 7,
     "metadata": {},
     "output_type": "execute_result"
    }
   ],
   "source": [
    "get_completion(prompt,OPENAI_DEPLOYMENT_ID)"
   ]
  }
 ],
 "metadata": {
  "kernelspec": {
   "display_name": "Python 3",
   "language": "python",
   "name": "python3"
  },
  "language_info": {
   "codemirror_mode": {
    "name": "ipython",
    "version": 3
   },
   "file_extension": ".py",
   "mimetype": "text/x-python",
   "name": "python",
   "nbconvert_exporter": "python",
   "pygments_lexer": "ipython3",
   "version": "3.11.4"
  },
  "orig_nbformat": 4
 },
 "nbformat": 4,
 "nbformat_minor": 2
}
