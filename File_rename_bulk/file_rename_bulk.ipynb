{
 "cells": [
  {
   "attachments": {},
   "cell_type": "markdown",
   "metadata": {},
   "source": [
    "# Info\n",
    "generated from Chat GPT given these 2 promts:\n",
    "- can you write a function in python that will go through all files in a folder grab each file name, compare it to fixed list of filenames and rename the file to the closest matching file name from the list?\n",
    "- perfect, can you update the code so that it can run in a simulation mode as well, that means not changing the name in the end, just identify the best match and print it"
   ]
  },
  {
   "cell_type": "code",
   "execution_count": null,
   "metadata": {},
   "outputs": [],
   "source": [
    "import os\n",
    "from difflib import get_close_matches\n",
    "\n",
    "def rename_files(folder_path, target_filenames, simulation=False):\n",
    "    for root, dirs, files in os.walk(folder_path):\n",
    "        for file in files:\n",
    "            current_file_path = os.path.join(root, file)\n",
    "            closest_match = get_close_matches(file, target_filenames)[0]\n",
    "            new_file_path = os.path.join(root, closest_match)\n",
    "            if simulation:\n",
    "                print(f'{current_file_path} would be renamed to {new_file_path}')\n",
    "            else:\n",
    "                os.rename(current_file_path, new_file_path)\n"
   ]
  }
 ],
 "metadata": {
  "kernelspec": {
   "display_name": "base",
   "language": "python",
   "name": "python3"
  },
  "language_info": {
   "name": "python",
   "version": "3.7.15 (default, Nov 24 2022, 18:44:54) [MSC v.1916 64 bit (AMD64)]"
  },
  "orig_nbformat": 4,
  "vscode": {
   "interpreter": {
    "hash": "c585f91d3623973be3accc48b0d5e967ce904a396a0f0c8bda7b100d8b60333f"
   }
  }
 },
 "nbformat": 4,
 "nbformat_minor": 2
}
